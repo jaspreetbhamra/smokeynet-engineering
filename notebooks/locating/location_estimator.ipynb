{
 "cells": [
  {
   "cell_type": "code",
   "execution_count": 82,
   "metadata": {},
   "outputs": [],
   "source": [
    "import joblib\n",
    "import numpy as np\n",
    "import pandas as pd\n",
    "\n",
    "from haversine import haversine, Unit, inverse_haversine\n",
    "from shapely.geometry import Point, LineString"
   ]
  },
  {
   "cell_type": "markdown",
   "metadata": {},
   "source": [
    "# Load Pickled Model and Scaler"
   ]
  },
  {
   "cell_type": "code",
   "execution_count": 83,
   "metadata": {},
   "outputs": [],
   "source": [
    "cam_meta = pd.read_csv(\"data/cam_meta_05302022.csv\")\n",
    "model = joblib.load('locating_angle_model.gz')\n",
    "scaler = joblib.load('locating_scaler.gz')"
   ]
  },
  {
   "cell_type": "code",
   "execution_count": 84,
   "metadata": {},
   "outputs": [],
   "source": [
    "def find_slope(angle, cl_angle, direction, xpix, xres):\n",
    "    if direction == 'n':\n",
    "        if xpix < (xres/2):\n",
    "            return np.tan((np.pi/2)+angle+cl_angle)\n",
    "        else:\n",
    "            return np.tan((np.pi/2)-angle+cl_angle)\n",
    "    if direction == 'e':\n",
    "        if xpix < (xres/2):\n",
    "            return np.tan(angle+cl_angle)\n",
    "        else:\n",
    "            return np.tan(-angle+cl_angle)\n",
    "    if direction == 's':\n",
    "        if xpix < (xres/2):\n",
    "            return np.tan((3*np.pi/2)+angle+cl_angle)\n",
    "        else:\n",
    "            return np.tan((3*np.pi/2)-angle+cl_angle)\n",
    "    if direction == 'w':\n",
    "        if xpix < (xres/2):\n",
    "            return np.tan(np.pi+angle+cl_angle)\n",
    "        else:\n",
    "            return np.tan(np.pi-angle+cl_angle)"
   ]
  },
  {
   "cell_type": "code",
   "execution_count": 85,
   "metadata": {},
   "outputs": [],
   "source": [
    "class camera_view:\n",
    "    def __init__(self, station, direction, tile_num, processed_xres=1856, processed_yres = 1040, precrop_yres = 1392, overlap_size=20, tile_size = [224,224]):\n",
    "        self.station = station\n",
    "        self.direction = direction\n",
    "        self.tile_num = tile_num\n",
    "        self.processed_xres = processed_xres\n",
    "        self.processed_yres = processed_yres\n",
    "        self.precrop_yres = precrop_yres\n",
    "        self.overlap_size = overlap_size\n",
    "        self.tile_size = tile_size\n",
    "        self.full_xres = cam_meta['x_resolution'].loc[(cam_meta['station'] == station) & (cam_meta['dir'] == direction)].iloc[0]#get from metadata\n",
    "        self.full_yres = cam_meta['y_resolution'].loc[(cam_meta['station'] == station) & (cam_meta['dir'] == direction)].iloc[0]#get from metadata\n",
    "        self.elevation = cam_meta['elevation'].loc[(cam_meta['station'] == station) & (cam_meta['dir'] == direction)].iloc[0]\n",
    "        self.cl_angle = cam_meta['center_angle'].loc[(cam_meta['station'] == station) & (cam_meta['dir'] == direction)].iloc[0]\n",
    "        self.cam_lat = cam_meta['cam_lat'].loc[(cam_meta['station'] == station) & (cam_meta['dir'] == direction)].iloc[0]\n",
    "        self.cam_long = cam_meta['cam_long'].loc[(cam_meta['station'] == station) & (cam_meta['dir'] == direction)].iloc[0]\n",
    "        self.pix_centers = self.find_tile_centers()\n",
    "        self.angle = self.find_angle()\n",
    "        self.converted_angle = self.convert_angle()\n",
    "                \n",
    "    def find_tile_centers(self):\n",
    "        num_tiles_x = int((self.processed_xres - self.overlap_size)/(self.tile_size[0] - self.overlap_size))\n",
    "        num_tiles_y = int((self.processed_yres - self.overlap_size)/(self.tile_size[0] - self.overlap_size))\n",
    "        full_y_crop = (self.precrop_yres / self.processed_yres)\n",
    "        xres_ratio = self.full_xres/self.processed_xres\n",
    "        yres_ratio = (self.full_yres*(self.processed_yres/self.precrop_yres))/self.processed_yres\n",
    "        stepsize_x = (self.tile_size[0]*xres_ratio) - (self.overlap_size * xres_ratio)\n",
    "        stepsize_y = (self.tile_size[1]*yres_ratio) - (self.overlap_size * yres_ratio)\n",
    "        x_pix = [round(((self.tile_size[0]*xres_ratio)/2) + (i*stepsize_x)) for i in range(num_tiles_x)]\n",
    "        y_pix = [round(((self.tile_size[1]*yres_ratio)/2) + (i*stepsize_y) + (((self.precrop_yres-self.processed_yres) / self.precrop_yres)*self.full_yres)) for i in range(num_tiles_y)]\n",
    "        \n",
    "        return [[x_pix[j],y_pix[i]] for i in range(len(y_pix)) for j in range(len(x_pix))]\n",
    "    \n",
    "    def find_angle(self):\n",
    "        x_ratio = self.pix_centers[self.tile_num][0] / self.full_xres\n",
    "        y_ratio = self.pix_centers[self.tile_num][1] / self.full_yres\n",
    "        ang1 = model.predict(scaler.transform([[x_ratio, y_ratio, self.elevation]]))\n",
    "        return ang1\n",
    "    \n",
    "    def convert_angle(self):\n",
    "        dir_dict = {'n': np.pi/2, 'w': np.pi, 's': 3*np.pi/2, 'e': 0}\n",
    "        if (self.pix_centers[self.tile_num][0]) <= (self.full_xres/2):\n",
    "            return  self.cl_angle + dir_dict[self.direction] + self.angle\n",
    "        else:\n",
    "            return  self.cl_angle + dir_dict[self.direction] - self.angle\n",
    "        \n",
    "    def single_camera(self):\n",
    "        cam_coord = (self.cam_lat, self.cam_long)\n",
    "        cam_end = inverse_haversine(cam_coord, 30, self.angle)\n",
    "        left_start = inverse_haversine(cam_coord, 3, self.angle+(np.pi/2))\n",
    "        left_end = inverse_haversine(left_start, 30, self.angle)\n",
    "        right_start = inverse_haversine(cam_coord, 3, self.angle-(np.pi/2))\n",
    "        right_end = inverse_haversine(right_start, 30, self.angle)\n",
    "\n",
    "        line_left = LineString([cam_coord, cam_end])\n",
    "        line_center = LineString([left_start, left_end])\n",
    "        line_right = LineString([right_start, right_end])\n",
    "\n",
    "        return gpd.GeoDataFrame([line_left, line_center, line_right],  columns=['LineString_obj'],  geometry='LineString_obj')"
   ]
  },
  {
   "cell_type": "markdown",
   "metadata": {},
   "source": [
    "# Create Camera View Objects"
   ]
  },
  {
   "cell_type": "code",
   "execution_count": 86,
   "metadata": {},
   "outputs": [],
   "source": [
    "cv1 = camera_view(station='bh', direction='e', tile_num=11)\n",
    "cv2 = camera_view(station='hp', direction='w', tile_num=8)\n",
    "\n",
    "cv_list = [cv1, cv2]"
   ]
  },
  {
   "cell_type": "markdown",
   "metadata": {},
   "source": [
    "# Check for Intersections"
   ]
  },
  {
   "cell_type": "code",
   "execution_count": 91,
   "metadata": {},
   "outputs": [],
   "source": [
    "df_intersections = pd.read_csv(\"data/intersections.csv\")"
   ]
  },
  {
   "cell_type": "code",
   "execution_count": 92,
   "metadata": {},
   "outputs": [],
   "source": [
    "df_filt = df_intersections[df_intersections[['station', 'dir']].apply(tuple, axis=1).isin([(cv.station, cv.direction) for cv in cv_list])]\n",
    "pairs = []\n",
    "for i, base_cv in enumerate(cv_list):\n",
    "    for cv in cv_list:\n",
    "        compare_cam = str((cv.station, cv.direction))\n",
    "        if compare_cam in df_filt['intersections'].iloc[i]:\n",
    "            pairs.append({base_cv, cv})\n",
    "            \n",
    "tri_pairs = [i for n, i in enumerate(pairs) if i not in pairs[:n]]"
   ]
  },
  {
   "cell_type": "markdown",
   "metadata": {},
   "source": [
    "# Perform Triangulation"
   ]
  },
  {
   "cell_type": "code",
   "execution_count": 94,
   "metadata": {},
   "outputs": [
    {
     "name": "stdout",
     "output_type": "stream",
     "text": [
      "Fire Estimate between bh and hp Stations: (-116.82708655818011, 33.35306545842778)\n"
     ]
    }
   ],
   "source": [
    "for pair in tri_pairs:\n",
    "    lpair = list(pair)\n",
    "    lc1= lpair[0]\n",
    "    lc2 = lpair[1]\n",
    "    \n",
    "    m1 = find_slope(lc1.angle, lc1.cl_angle, lc1.direction, lc1.pix_centers[lc1.tile_num][0], lc1.full_xres)\n",
    "    b1 = lc1.cam_lat - (m1 * lc1.cam_long)\n",
    "    m2 = find_slope(lc2.angle, lc2.cl_angle, lc2.direction, lc2.pix_centers[lc2.tile_num][0], lc2.full_xres)\n",
    "    b2 = lc2.cam_lat - (m2 * lc2.cam_long)\n",
    "\n",
    "    x_coord = (b2 - b1)/(m1-m2)\n",
    "    y_coord = (m1 * x_coord) + b1\n",
    "\n",
    "    print(\"Fire Estimate between {} and {} Stations: {}\".format(lc1.station, lc2.station, (x_coord[0], y_coord[0])))"
   ]
  },
  {
   "cell_type": "code",
   "execution_count": null,
   "metadata": {},
   "outputs": [],
   "source": []
  }
 ],
 "metadata": {
  "kernelspec": {
   "display_name": "Python 3",
   "language": "python",
   "name": "python3"
  },
  "language_info": {
   "codemirror_mode": {
    "name": "ipython",
    "version": 3
   },
   "file_extension": ".py",
   "mimetype": "text/x-python",
   "name": "python",
   "nbconvert_exporter": "python",
   "pygments_lexer": "ipython3",
   "version": "3.8.5"
  }
 },
 "nbformat": 4,
 "nbformat_minor": 4
}
