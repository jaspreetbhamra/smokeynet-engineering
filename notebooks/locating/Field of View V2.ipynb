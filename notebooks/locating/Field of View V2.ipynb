{
 "cells": [
  {
   "cell_type": "code",
   "execution_count": 3,
   "metadata": {},
   "outputs": [],
   "source": [
    "import plotly as ply\n",
    "import pandas as pd\n",
    "import plotly.express as px\n",
    "import plotly.graph_objects as go\n",
    "import matplotlib.pyplot as plt\n",
    "from matplotlib.patches import Arc\n",
    "import numpy as np\n",
    "\n",
    "from haversine import haversine"
   ]
  },
  {
   "cell_type": "markdown",
   "metadata": {},
   "source": [
    "# Load Camera/Fire Dataset & Count\n",
    "Load Camera and Fire dataset and find all fires which more than 1 camera saw"
   ]
  },
  {
   "cell_type": "code",
   "execution_count": 4,
   "metadata": {},
   "outputs": [],
   "source": [
    "df = pd.read_csv(\"Camera_Fire_Distances2.csv\")\n",
    "df['type'] = ['fire' for i in range(len(df))]"
   ]
  },
  {
   "cell_type": "code",
   "execution_count": 5,
   "metadata": {},
   "outputs": [
    {
     "data": {
      "text/html": [
       "<div>\n",
       "<style scoped>\n",
       "    .dataframe tbody tr th:only-of-type {\n",
       "        vertical-align: middle;\n",
       "    }\n",
       "\n",
       "    .dataframe tbody tr th {\n",
       "        vertical-align: top;\n",
       "    }\n",
       "\n",
       "    .dataframe thead th {\n",
       "        text-align: right;\n",
       "    }\n",
       "</style>\n",
       "<table border=\"1\" class=\"dataframe\">\n",
       "  <thead>\n",
       "    <tr style=\"text-align: right;\">\n",
       "      <th></th>\n",
       "      <th>name</th>\n",
       "      <th>cam_lat</th>\n",
       "      <th>cam_long</th>\n",
       "      <th>elev</th>\n",
       "      <th>code</th>\n",
       "      <th>dir</th>\n",
       "      <th>fov_center</th>\n",
       "      <th>fov_lft</th>\n",
       "      <th>fov_rt</th>\n",
       "      <th>num_events</th>\n",
       "      <th>event_dates</th>\n",
       "      <th>x_pixel</th>\n",
       "      <th>y_pixel</th>\n",
       "      <th>incident</th>\n",
       "      <th>incident_dist</th>\n",
       "      <th>incident_latitude</th>\n",
       "      <th>incident_longitude</th>\n",
       "      <th>check</th>\n",
       "      <th>type</th>\n",
       "    </tr>\n",
       "  </thead>\n",
       "  <tbody>\n",
       "    <tr>\n",
       "      <th>0</th>\n",
       "      <td>Black Mountain</td>\n",
       "      <td>32.981668</td>\n",
       "      <td>-117.116407</td>\n",
       "      <td>1600</td>\n",
       "      <td>bl</td>\n",
       "      <td>s</td>\n",
       "      <td>[-117.12, 32.52914378468391]</td>\n",
       "      <td>[-116.74311609844423, 32.660630738922485]</td>\n",
       "      <td>[-117.49688390155578, 32.660630738922485]</td>\n",
       "      <td>4</td>\n",
       "      <td>20180603</td>\n",
       "      <td>1229</td>\n",
       "      <td>685</td>\n",
       "      <td>Adobe Fire</td>\n",
       "      <td>14.195302</td>\n",
       "      <td>32.78031</td>\n",
       "      <td>-117.067820</td>\n",
       "      <td>1</td>\n",
       "      <td>fire</td>\n",
       "    </tr>\n",
       "    <tr>\n",
       "      <th>1</th>\n",
       "      <td>Red Mountain</td>\n",
       "      <td>33.400800</td>\n",
       "      <td>-117.190500</td>\n",
       "      <td>1600</td>\n",
       "      <td>rm</td>\n",
       "      <td>e</td>\n",
       "      <td>[-116.65303446254079, 33.4008]</td>\n",
       "      <td>[-116.80905606186775, 33.71897645296838]</td>\n",
       "      <td>[-116.81183156739415, 33.081443131239055]</td>\n",
       "      <td>5</td>\n",
       "      <td>20180522</td>\n",
       "      <td>1329</td>\n",
       "      <td>780</td>\n",
       "      <td>Agua Fire</td>\n",
       "      <td>9.711898</td>\n",
       "      <td>33.35505</td>\n",
       "      <td>-117.031340</td>\n",
       "      <td>1</td>\n",
       "      <td>fire</td>\n",
       "    </tr>\n",
       "    <tr>\n",
       "      <th>2</th>\n",
       "      <td>High Point</td>\n",
       "      <td>33.363018</td>\n",
       "      <td>-116.836220</td>\n",
       "      <td>6180</td>\n",
       "      <td>hp</td>\n",
       "      <td>n</td>\n",
       "      <td>[-116.84, 33.81079597072698]</td>\n",
       "      <td>[-117.22126369140182, 33.6781794593324]</td>\n",
       "      <td>[-116.4587363085982, 33.678179459332405]</td>\n",
       "      <td>9</td>\n",
       "      <td>20180704</td>\n",
       "      <td>1552</td>\n",
       "      <td>761</td>\n",
       "      <td>Benton Fire</td>\n",
       "      <td>15.097142</td>\n",
       "      <td>33.56349</td>\n",
       "      <td>-116.732032</td>\n",
       "      <td>1</td>\n",
       "      <td>fire</td>\n",
       "    </tr>\n",
       "    <tr>\n",
       "      <th>3</th>\n",
       "      <td>Big Black Mountain</td>\n",
       "      <td>33.159900</td>\n",
       "      <td>-116.808100</td>\n",
       "      <td>4055</td>\n",
       "      <td>bm</td>\n",
       "      <td>n</td>\n",
       "      <td>[-116.8081, 33.61071054911843]</td>\n",
       "      <td>[-117.18848493961107, 33.478094173241445]</td>\n",
       "      <td>[-116.42771506038892, 33.478094173241445]</td>\n",
       "      <td>3</td>\n",
       "      <td>20170625</td>\n",
       "      <td>1613</td>\n",
       "      <td>784</td>\n",
       "      <td>Black Fire</td>\n",
       "      <td>2.088121</td>\n",
       "      <td>33.16830</td>\n",
       "      <td>-116.773420</td>\n",
       "      <td>1</td>\n",
       "      <td>fire</td>\n",
       "    </tr>\n",
       "    <tr>\n",
       "      <th>4</th>\n",
       "      <td>Mesa Grande</td>\n",
       "      <td>33.188869</td>\n",
       "      <td>-116.760651</td>\n",
       "      <td>4280</td>\n",
       "      <td>mg</td>\n",
       "      <td>s</td>\n",
       "      <td>[-116.761, 32.73715879567527]</td>\n",
       "      <td>[-116.38323866782441, 32.86863685756763]</td>\n",
       "      <td>[-117.13876133217558, 32.86863685756762]</td>\n",
       "      <td>4</td>\n",
       "      <td>20170625</td>\n",
       "      <td>1429</td>\n",
       "      <td>629</td>\n",
       "      <td>Black Fire</td>\n",
       "      <td>1.601569</td>\n",
       "      <td>33.16830</td>\n",
       "      <td>-116.773420</td>\n",
       "      <td>1</td>\n",
       "      <td>fire</td>\n",
       "    </tr>\n",
       "  </tbody>\n",
       "</table>\n",
       "</div>"
      ],
      "text/plain": [
       "                 name    cam_lat    cam_long  elev code dir  \\\n",
       "0      Black Mountain  32.981668 -117.116407  1600   bl   s   \n",
       "1        Red Mountain  33.400800 -117.190500  1600   rm   e   \n",
       "2          High Point  33.363018 -116.836220  6180   hp   n   \n",
       "3  Big Black Mountain  33.159900 -116.808100  4055   bm   n   \n",
       "4         Mesa Grande  33.188869 -116.760651  4280   mg   s   \n",
       "\n",
       "                       fov_center                                    fov_lft  \\\n",
       "0    [-117.12, 32.52914378468391]  [-116.74311609844423, 32.660630738922485]   \n",
       "1  [-116.65303446254079, 33.4008]   [-116.80905606186775, 33.71897645296838]   \n",
       "2    [-116.84, 33.81079597072698]    [-117.22126369140182, 33.6781794593324]   \n",
       "3  [-116.8081, 33.61071054911843]  [-117.18848493961107, 33.478094173241445]   \n",
       "4   [-116.761, 32.73715879567527]   [-116.38323866782441, 32.86863685756763]   \n",
       "\n",
       "                                      fov_rt  num_events  event_dates  \\\n",
       "0  [-117.49688390155578, 32.660630738922485]           4     20180603   \n",
       "1  [-116.81183156739415, 33.081443131239055]           5     20180522   \n",
       "2   [-116.4587363085982, 33.678179459332405]           9     20180704   \n",
       "3  [-116.42771506038892, 33.478094173241445]           3     20170625   \n",
       "4   [-117.13876133217558, 32.86863685756762]           4     20170625   \n",
       "\n",
       "   x_pixel  y_pixel     incident  incident_dist  incident_latitude  \\\n",
       "0     1229      685   Adobe Fire      14.195302           32.78031   \n",
       "1     1329      780    Agua Fire       9.711898           33.35505   \n",
       "2     1552      761  Benton Fire      15.097142           33.56349   \n",
       "3     1613      784   Black Fire       2.088121           33.16830   \n",
       "4     1429      629   Black Fire       1.601569           33.16830   \n",
       "\n",
       "   incident_longitude  check  type  \n",
       "0         -117.067820      1  fire  \n",
       "1         -117.031340      1  fire  \n",
       "2         -116.732032      1  fire  \n",
       "3         -116.773420      1  fire  \n",
       "4         -116.773420      1  fire  "
      ]
     },
     "execution_count": 5,
     "metadata": {},
     "output_type": "execute_result"
    }
   ],
   "source": [
    "df.head()"
   ]
  },
  {
   "cell_type": "code",
   "execution_count": 6,
   "metadata": {},
   "outputs": [
    {
     "data": {
      "text/plain": [
       "incident         event_dates\n",
       "Black Fire       20170625       2\n",
       "Border 11 Fire   20200727       2\n",
       "Border 9 Fire    20190814       2\n",
       "Border Fire      20160619       3\n",
       "Bridle Fire      20180614       2\n",
       "Casner Fire      20180806       2\n",
       "Cloverdale Fire  20180813       3\n",
       "Dehesa Fire      20190728       2\n",
       "Dehesa Fire      20190924       5\n",
       "Feather Fire     20160718       3\n",
       "Gate Fire        20170520       3\n",
       "Gopher Fire      20161113       3\n",
       "Jennings Fire    20170711       5\n",
       "Lilac Fire       20171207       2\n",
       "Lost Fire        20170722       4\n",
       "Meadow Fire      20190716       3\n",
       "Pasqual Fire     20180727       4\n",
       "Pauma Fire       20190610       2\n",
       "Portola Fire     20171010       3\n",
       "Ranch 2 Fire     20200813       4\n",
       "Rangeland Fire   20180809       3\n",
       "Recycle Fire     20180606       3\n",
       "Rock Fire        20160722       2\n",
       "Valley Fire      20200905       3\n",
       "Vista Fire       20190717       2\n",
       "West Fire        20190813       2\n",
       "Willow Fire      20190924       4\n",
       "                 20190925       2\n",
       "                 20201202       3\n",
       "Name: check, dtype: int64"
      ]
     },
     "execution_count": 6,
     "metadata": {},
     "output_type": "execute_result"
    }
   ],
   "source": [
    "df = df.loc[df['check'] == 1]\n",
    "fire_counts_filtered = df.groupby(['incident', 'event_dates'])['check'].sum()\n",
    "fire_counts_filtered = fire_counts_filtered[fire_counts_filtered > 1]\n",
    "fire_counts_filtered"
   ]
  },
  {
   "cell_type": "code",
   "execution_count": 7,
   "metadata": {},
   "outputs": [
    {
     "name": "stdout",
     "output_type": "stream",
     "text": [
      "Black Fire\t Fires: 7\t Landmark: 4\n",
      "Border 11 Fire\t Fires: 6\t Landmark: 2\n",
      "Border 9 Fire\t Fires: 6\t Landmark: 2\n",
      "Border Fire\t Fires: 6\t Landmark: 3\n",
      "Bridle Fire\t Fires: 17\t Landmark: 3\n",
      "Casner Fire\t Fires: 5\t Landmark: 3\n",
      "Cloverdale Fire\t Fires: 8\t Landmark: 4\n",
      "Dehesa Fire\t Fires: 8\t Landmark: 4\n",
      "Dehesa Fire \t Fires: 16\t Landmark: 5\n",
      "Feather Fire\t Fires: 19\t Landmark: 6\n",
      "Gate Fire\t Fires: 9\t Landmark: 3\n",
      "Gopher Fire\t Fires: 6\t Landmark: 3\n",
      "Jennings Fire\t Fires: 13\t Landmark: 6\n",
      "Lilac Fire\t Fires: 4\t Landmark: 3\n",
      "Lost Fire\t Fires: 7\t Landmark: 4\n",
      "Meadow Fire\t Fires: 12\t Landmark: 3\n",
      "Pasqual Fire\t Fires: 10\t Landmark: 7\n",
      "Pauma Fire\t Fires: 6\t Landmark: 2\n",
      "Portola Fire\t Fires: 11\t Landmark: 4\n",
      "Ranch 2 Fire\t Fires: 6\t Landmark: 4\n",
      "Rangeland Fire\t Fires: 9\t Landmark: 4\n",
      "Recycle Fire\t Fires: 5\t Landmark: 2\n",
      "Rock Fire\t Fires: 13\t Landmark: 5\n",
      "Valley Fire\t Fires: 12\t Landmark: 3\n",
      "Vista Fire\t Fires: 10\t Landmark: 2\n",
      "West Fire \t Fires: 2\t Landmark: 6\n",
      "Willow Fire\t Fires: 16\t Landmark: 5\n",
      "Willow Fire\t Fires: 11\t Landmark: 2\n",
      "Willow Fire\t Fires: 7\t Landmark: 7\n"
     ]
    }
   ],
   "source": [
    "landmark_df = pd.read_csv(\"landmarks_processed.csv\")\n",
    "landmark_df['type'] = ['landmark' for i in range(len(landmark_df))]\n",
    "\n",
    "for fire in fire_counts_filtered.keys():\n",
    "    fire_name = fire[0]\n",
    "    date = fire[1]\n",
    "    code_list = df[['code','dir']].loc[(df['incident'] == fire_name) & (df['event_dates'] == date)].reset_index(drop=True)\n",
    "    fires_len = len(df.merge(code_list, left_on = ['code','dir'], right_on=['code', 'dir'], how=\"inner\"))\n",
    "    merge_len = len(landmark_df.merge(code_list, left_on = ['station','dir'], right_on=['code', 'dir'], how=\"inner\"))\n",
    "    print(\"{}\\t Fires: {}\\t Landmark: {}\".format(fire_name, fires_len, merge_len))"
   ]
  },
  {
   "cell_type": "code",
   "execution_count": 8,
   "metadata": {},
   "outputs": [
    {
     "data": {
      "text/html": [
       "<div>\n",
       "<style scoped>\n",
       "    .dataframe tbody tr th:only-of-type {\n",
       "        vertical-align: middle;\n",
       "    }\n",
       "\n",
       "    .dataframe tbody tr th {\n",
       "        vertical-align: top;\n",
       "    }\n",
       "\n",
       "    .dataframe thead th {\n",
       "        text-align: right;\n",
       "    }\n",
       "</style>\n",
       "<table border=\"1\" class=\"dataframe\">\n",
       "  <thead>\n",
       "    <tr style=\"text-align: right;\">\n",
       "      <th></th>\n",
       "      <th>name</th>\n",
       "      <th>cam_lat</th>\n",
       "      <th>cam_long</th>\n",
       "      <th>elev</th>\n",
       "      <th>code</th>\n",
       "      <th>dir</th>\n",
       "      <th>fov_center</th>\n",
       "      <th>fov_lft</th>\n",
       "      <th>fov_rt</th>\n",
       "      <th>num_events</th>\n",
       "      <th>event_dates</th>\n",
       "      <th>x_pixel</th>\n",
       "      <th>y_pixel</th>\n",
       "      <th>incident</th>\n",
       "      <th>incident_dist</th>\n",
       "      <th>incident_latitude</th>\n",
       "      <th>incident_longitude</th>\n",
       "      <th>check</th>\n",
       "      <th>type</th>\n",
       "    </tr>\n",
       "  </thead>\n",
       "  <tbody>\n",
       "    <tr>\n",
       "      <th>0</th>\n",
       "      <td>Black Mountain</td>\n",
       "      <td>32.981668</td>\n",
       "      <td>-117.116407</td>\n",
       "      <td>1600</td>\n",
       "      <td>bl</td>\n",
       "      <td>s</td>\n",
       "      <td>[-117.12, 32.52914378468391]</td>\n",
       "      <td>[-116.74311609844423, 32.660630738922485]</td>\n",
       "      <td>[-117.49688390155578, 32.660630738922485]</td>\n",
       "      <td>4</td>\n",
       "      <td>20180603</td>\n",
       "      <td>1229</td>\n",
       "      <td>685</td>\n",
       "      <td>Adobe Fire</td>\n",
       "      <td>14.195302</td>\n",
       "      <td>32.780310</td>\n",
       "      <td>-117.067820</td>\n",
       "      <td>1</td>\n",
       "      <td>fire</td>\n",
       "    </tr>\n",
       "    <tr>\n",
       "      <th>1</th>\n",
       "      <td>Red Mountain</td>\n",
       "      <td>33.400800</td>\n",
       "      <td>-117.190500</td>\n",
       "      <td>1600</td>\n",
       "      <td>rm</td>\n",
       "      <td>e</td>\n",
       "      <td>[-116.65303446254079, 33.4008]</td>\n",
       "      <td>[-116.80905606186775, 33.71897645296838]</td>\n",
       "      <td>[-116.81183156739415, 33.081443131239055]</td>\n",
       "      <td>5</td>\n",
       "      <td>20180522</td>\n",
       "      <td>1329</td>\n",
       "      <td>780</td>\n",
       "      <td>Agua Fire</td>\n",
       "      <td>9.711898</td>\n",
       "      <td>33.355050</td>\n",
       "      <td>-117.031340</td>\n",
       "      <td>1</td>\n",
       "      <td>fire</td>\n",
       "    </tr>\n",
       "    <tr>\n",
       "      <th>2</th>\n",
       "      <td>High Point</td>\n",
       "      <td>33.363018</td>\n",
       "      <td>-116.836220</td>\n",
       "      <td>6180</td>\n",
       "      <td>hp</td>\n",
       "      <td>n</td>\n",
       "      <td>[-116.84, 33.81079597072698]</td>\n",
       "      <td>[-117.22126369140182, 33.6781794593324]</td>\n",
       "      <td>[-116.4587363085982, 33.678179459332405]</td>\n",
       "      <td>9</td>\n",
       "      <td>20180704</td>\n",
       "      <td>1552</td>\n",
       "      <td>761</td>\n",
       "      <td>Benton Fire</td>\n",
       "      <td>15.097142</td>\n",
       "      <td>33.563490</td>\n",
       "      <td>-116.732032</td>\n",
       "      <td>1</td>\n",
       "      <td>fire</td>\n",
       "    </tr>\n",
       "    <tr>\n",
       "      <th>3</th>\n",
       "      <td>Big Black Mountain</td>\n",
       "      <td>33.159900</td>\n",
       "      <td>-116.808100</td>\n",
       "      <td>4055</td>\n",
       "      <td>bm</td>\n",
       "      <td>n</td>\n",
       "      <td>[-116.8081, 33.61071054911843]</td>\n",
       "      <td>[-117.18848493961107, 33.478094173241445]</td>\n",
       "      <td>[-116.42771506038892, 33.478094173241445]</td>\n",
       "      <td>3</td>\n",
       "      <td>20170625</td>\n",
       "      <td>1613</td>\n",
       "      <td>784</td>\n",
       "      <td>Black Fire</td>\n",
       "      <td>2.088121</td>\n",
       "      <td>33.168300</td>\n",
       "      <td>-116.773420</td>\n",
       "      <td>1</td>\n",
       "      <td>fire</td>\n",
       "    </tr>\n",
       "    <tr>\n",
       "      <th>4</th>\n",
       "      <td>Mesa Grande</td>\n",
       "      <td>33.188869</td>\n",
       "      <td>-116.760651</td>\n",
       "      <td>4280</td>\n",
       "      <td>mg</td>\n",
       "      <td>s</td>\n",
       "      <td>[-116.761, 32.73715879567527]</td>\n",
       "      <td>[-116.38323866782441, 32.86863685756763]</td>\n",
       "      <td>[-117.13876133217558, 32.86863685756762]</td>\n",
       "      <td>4</td>\n",
       "      <td>20170625</td>\n",
       "      <td>1429</td>\n",
       "      <td>629</td>\n",
       "      <td>Black Fire</td>\n",
       "      <td>1.601569</td>\n",
       "      <td>33.168300</td>\n",
       "      <td>-116.773420</td>\n",
       "      <td>1</td>\n",
       "      <td>fire</td>\n",
       "    </tr>\n",
       "    <tr>\n",
       "      <th>...</th>\n",
       "      <td>...</td>\n",
       "      <td>...</td>\n",
       "      <td>...</td>\n",
       "      <td>...</td>\n",
       "      <td>...</td>\n",
       "      <td>...</td>\n",
       "      <td>...</td>\n",
       "      <td>...</td>\n",
       "      <td>...</td>\n",
       "      <td>...</td>\n",
       "      <td>...</td>\n",
       "      <td>...</td>\n",
       "      <td>...</td>\n",
       "      <td>...</td>\n",
       "      <td>...</td>\n",
       "      <td>...</td>\n",
       "      <td>...</td>\n",
       "      <td>...</td>\n",
       "      <td>...</td>\n",
       "    </tr>\n",
       "    <tr>\n",
       "      <th>251</th>\n",
       "      <td>Mt. Woodson</td>\n",
       "      <td>33.008700</td>\n",
       "      <td>-116.970900</td>\n",
       "      <td>2800</td>\n",
       "      <td>wc</td>\n",
       "      <td>s</td>\n",
       "      <td>[-116.9709, 32.55784585299181]</td>\n",
       "      <td>[-116.59389556804973, 32.68933158235236]</td>\n",
       "      <td>[-117.34790443195027, 32.68933158235236]</td>\n",
       "      <td>2</td>\n",
       "      <td>20190925</td>\n",
       "      <td>83</td>\n",
       "      <td>1014</td>\n",
       "      <td>Willow Fire</td>\n",
       "      <td>10.436240</td>\n",
       "      <td>32.878333</td>\n",
       "      <td>-116.880000</td>\n",
       "      <td>1</td>\n",
       "      <td>fire</td>\n",
       "    </tr>\n",
       "    <tr>\n",
       "      <th>252</th>\n",
       "      <td>Otay Mountain</td>\n",
       "      <td>32.594800</td>\n",
       "      <td>-116.844700</td>\n",
       "      <td>3565</td>\n",
       "      <td>om</td>\n",
       "      <td>n</td>\n",
       "      <td>[-116.8447, 33.04565148266326]</td>\n",
       "      <td>[-117.22264979421115, 32.9130354508156]</td>\n",
       "      <td>[-116.46675020578886, 32.913035450815606]</td>\n",
       "      <td>10</td>\n",
       "      <td>20201202</td>\n",
       "      <td>1030</td>\n",
       "      <td>1101</td>\n",
       "      <td>Willow Fire</td>\n",
       "      <td>11.510103</td>\n",
       "      <td>32.752778</td>\n",
       "      <td>-116.907500</td>\n",
       "      <td>1</td>\n",
       "      <td>fire</td>\n",
       "    </tr>\n",
       "    <tr>\n",
       "      <th>253</th>\n",
       "      <td>Santiago Peak</td>\n",
       "      <td>33.711172</td>\n",
       "      <td>-117.534115</td>\n",
       "      <td>5700</td>\n",
       "      <td>stgo</td>\n",
       "      <td>e</td>\n",
       "      <td>[0, 0]</td>\n",
       "      <td>[0, 0]</td>\n",
       "      <td>[0, 0]</td>\n",
       "      <td>3</td>\n",
       "      <td>20180827</td>\n",
       "      <td>1025</td>\n",
       "      <td>1189</td>\n",
       "      <td>Winchester Fire</td>\n",
       "      <td>26.266977</td>\n",
       "      <td>33.640051</td>\n",
       "      <td>-117.085354</td>\n",
       "      <td>1</td>\n",
       "      <td>fire</td>\n",
       "    </tr>\n",
       "    <tr>\n",
       "      <th>254</th>\n",
       "      <td>High Point</td>\n",
       "      <td>33.363018</td>\n",
       "      <td>-116.836220</td>\n",
       "      <td>6180</td>\n",
       "      <td>hp</td>\n",
       "      <td>n</td>\n",
       "      <td>[-116.84, 33.81079597072698]</td>\n",
       "      <td>[-117.22126369140182, 33.6781794593324]</td>\n",
       "      <td>[-116.4587363085982, 33.678179459332405]</td>\n",
       "      <td>9</td>\n",
       "      <td>20190629</td>\n",
       "      <td>561</td>\n",
       "      <td>775</td>\n",
       "      <td>Wolf Fire</td>\n",
       "      <td>38.761284</td>\n",
       "      <td>33.911000</td>\n",
       "      <td>-116.980528</td>\n",
       "      <td>1</td>\n",
       "      <td>fire</td>\n",
       "    </tr>\n",
       "    <tr>\n",
       "      <th>255</th>\n",
       "      <td>Boucher Hill</td>\n",
       "      <td>33.334600</td>\n",
       "      <td>-116.919800</td>\n",
       "      <td>5500</td>\n",
       "      <td>bh</td>\n",
       "      <td>n</td>\n",
       "      <td>[-116.9198, 33.785397823642114]</td>\n",
       "      <td>[-117.30095166269716, 33.6527813298777]</td>\n",
       "      <td>[-116.53864833730283, 33.652781329877705]</td>\n",
       "      <td>4</td>\n",
       "      <td>20180504</td>\n",
       "      <td>77</td>\n",
       "      <td>864</td>\n",
       "      <td>Woodchuck Fire</td>\n",
       "      <td>10.413725</td>\n",
       "      <td>33.467999</td>\n",
       "      <td>-117.003829</td>\n",
       "      <td>1</td>\n",
       "      <td>fire</td>\n",
       "    </tr>\n",
       "  </tbody>\n",
       "</table>\n",
       "<p>131 rows × 19 columns</p>\n",
       "</div>"
      ],
      "text/plain": [
       "                   name    cam_lat    cam_long  elev  code dir  \\\n",
       "0        Black Mountain  32.981668 -117.116407  1600    bl   s   \n",
       "1          Red Mountain  33.400800 -117.190500  1600    rm   e   \n",
       "2            High Point  33.363018 -116.836220  6180    hp   n   \n",
       "3    Big Black Mountain  33.159900 -116.808100  4055    bm   n   \n",
       "4           Mesa Grande  33.188869 -116.760651  4280    mg   s   \n",
       "..                  ...        ...         ...   ...   ...  ..   \n",
       "251         Mt. Woodson  33.008700 -116.970900  2800    wc   s   \n",
       "252       Otay Mountain  32.594800 -116.844700  3565    om   n   \n",
       "253       Santiago Peak  33.711172 -117.534115  5700  stgo   e   \n",
       "254          High Point  33.363018 -116.836220  6180    hp   n   \n",
       "255        Boucher Hill  33.334600 -116.919800  5500    bh   n   \n",
       "\n",
       "                          fov_center  \\\n",
       "0       [-117.12, 32.52914378468391]   \n",
       "1     [-116.65303446254079, 33.4008]   \n",
       "2       [-116.84, 33.81079597072698]   \n",
       "3     [-116.8081, 33.61071054911843]   \n",
       "4      [-116.761, 32.73715879567527]   \n",
       "..                               ...   \n",
       "251   [-116.9709, 32.55784585299181]   \n",
       "252   [-116.8447, 33.04565148266326]   \n",
       "253                           [0, 0]   \n",
       "254     [-116.84, 33.81079597072698]   \n",
       "255  [-116.9198, 33.785397823642114]   \n",
       "\n",
       "                                       fov_lft  \\\n",
       "0    [-116.74311609844423, 32.660630738922485]   \n",
       "1     [-116.80905606186775, 33.71897645296838]   \n",
       "2      [-117.22126369140182, 33.6781794593324]   \n",
       "3    [-117.18848493961107, 33.478094173241445]   \n",
       "4     [-116.38323866782441, 32.86863685756763]   \n",
       "..                                         ...   \n",
       "251   [-116.59389556804973, 32.68933158235236]   \n",
       "252    [-117.22264979421115, 32.9130354508156]   \n",
       "253                                     [0, 0]   \n",
       "254    [-117.22126369140182, 33.6781794593324]   \n",
       "255    [-117.30095166269716, 33.6527813298777]   \n",
       "\n",
       "                                        fov_rt  num_events  event_dates  \\\n",
       "0    [-117.49688390155578, 32.660630738922485]           4     20180603   \n",
       "1    [-116.81183156739415, 33.081443131239055]           5     20180522   \n",
       "2     [-116.4587363085982, 33.678179459332405]           9     20180704   \n",
       "3    [-116.42771506038892, 33.478094173241445]           3     20170625   \n",
       "4     [-117.13876133217558, 32.86863685756762]           4     20170625   \n",
       "..                                         ...         ...          ...   \n",
       "251   [-117.34790443195027, 32.68933158235236]           2     20190925   \n",
       "252  [-116.46675020578886, 32.913035450815606]          10     20201202   \n",
       "253                                     [0, 0]           3     20180827   \n",
       "254   [-116.4587363085982, 33.678179459332405]           9     20190629   \n",
       "255  [-116.53864833730283, 33.652781329877705]           4     20180504   \n",
       "\n",
       "     x_pixel  y_pixel         incident  incident_dist  incident_latitude  \\\n",
       "0       1229      685       Adobe Fire      14.195302          32.780310   \n",
       "1       1329      780        Agua Fire       9.711898          33.355050   \n",
       "2       1552      761      Benton Fire      15.097142          33.563490   \n",
       "3       1613      784       Black Fire       2.088121          33.168300   \n",
       "4       1429      629       Black Fire       1.601569          33.168300   \n",
       "..       ...      ...              ...            ...                ...   \n",
       "251       83     1014      Willow Fire      10.436240          32.878333   \n",
       "252     1030     1101      Willow Fire      11.510103          32.752778   \n",
       "253     1025     1189  Winchester Fire      26.266977          33.640051   \n",
       "254      561      775       Wolf Fire       38.761284          33.911000   \n",
       "255       77      864   Woodchuck Fire      10.413725          33.467999   \n",
       "\n",
       "     incident_longitude  check  type  \n",
       "0           -117.067820      1  fire  \n",
       "1           -117.031340      1  fire  \n",
       "2           -116.732032      1  fire  \n",
       "3           -116.773420      1  fire  \n",
       "4           -116.773420      1  fire  \n",
       "..                  ...    ...   ...  \n",
       "251         -116.880000      1  fire  \n",
       "252         -116.907500      1  fire  \n",
       "253         -117.085354      1  fire  \n",
       "254         -116.980528      1  fire  \n",
       "255         -117.003829      1  fire  \n",
       "\n",
       "[131 rows x 19 columns]"
      ]
     },
     "execution_count": 8,
     "metadata": {},
     "output_type": "execute_result"
    }
   ],
   "source": [
    "df"
   ]
  },
  {
   "cell_type": "code",
   "execution_count": 14,
   "metadata": {},
   "outputs": [
    {
     "data": {
      "text/plain": [
       "20200727"
      ]
     },
     "execution_count": 14,
     "metadata": {},
     "output_type": "execute_result"
    }
   ],
   "source": [
    "fire_counts_filtered.keys()[1][1]"
   ]
  },
  {
   "cell_type": "code",
   "execution_count": 32,
   "metadata": {},
   "outputs": [
    {
     "name": "stdout",
     "output_type": "stream",
     "text": [
      "Meadow Fire\n",
      "20190716\n"
     ]
    }
   ],
   "source": [
    "fire_name = fire_counts_filtered.keys()[15][0]\n",
    "print(fire_name)\n",
    "fire_date = fire_counts_filtered.keys()[15][1]\n",
    "print(fire_date)\n",
    "code_list = df[['code','dir']].loc[(df['incident'] == fire_name) & (df['event_dates'] == fire_date)].reset_index(drop=True)\n",
    "\n",
    "\n",
    "cols = ['station', 'dir', 'lat', 'long', 'x_pixel', 'y_pixel', 'distance', 'landmark', 'type']\n",
    "df_plot = pd.DataFrame(columns=cols)\n",
    "filt_df = df.merge(code_list, left_on = ['code','dir'], right_on=['code', 'dir'], how=\"inner\").rename(columns={'incident': 'landmark',\n",
    "                                                                                            'code':'station',\n",
    "                                                                                            'incident_latitude': 'lat',\n",
    "                                                                                            'incident_longitude': 'long',\n",
    "                                                                                            'incident_dist': 'distance',\n",
    "                                                                                            'incident': 'landmark',\n",
    "                                                                                            'event_dates': 'date'})\n",
    "df_plot = pd.concat([df_plot, filt_df[cols], landmark_df[cols].merge(code_list, left_on = ['station','dir'], right_on=['code', 'dir'], how=\"inner\")])\n",
    "df_plot = pd.concat([df_plot, df.loc[(df['incident'] == fire_name) & (df['event_dates'] == fire_date)].reset_index(drop=True).rename(columns={'cam_lat': 'lat', 'cam_long': 'long', 'code':'station'})[['lat', 'long', 'station', 'dir']]])\n",
    "df_plot['code'] = df_plot['station']\n",
    "df_plot['type'] = df_plot['type'].fillna('station')\n",
    "df_plot['landmark'] = df_plot['landmark'].fillna(df_plot['code'] + \" Station\")\n",
    "df_plot = df_plot.reset_index(drop=True)"
   ]
  },
  {
   "cell_type": "code",
   "execution_count": 33,
   "metadata": {},
   "outputs": [
    {
     "data": {
      "text/html": [
       "<div>\n",
       "<style scoped>\n",
       "    .dataframe tbody tr th:only-of-type {\n",
       "        vertical-align: middle;\n",
       "    }\n",
       "\n",
       "    .dataframe tbody tr th {\n",
       "        vertical-align: top;\n",
       "    }\n",
       "\n",
       "    .dataframe thead th {\n",
       "        text-align: right;\n",
       "    }\n",
       "</style>\n",
       "<table border=\"1\" class=\"dataframe\">\n",
       "  <thead>\n",
       "    <tr style=\"text-align: right;\">\n",
       "      <th></th>\n",
       "      <th>station</th>\n",
       "      <th>dir</th>\n",
       "      <th>lat</th>\n",
       "      <th>long</th>\n",
       "      <th>x_pixel</th>\n",
       "      <th>y_pixel</th>\n",
       "      <th>distance</th>\n",
       "      <th>landmark</th>\n",
       "      <th>type</th>\n",
       "      <th>code</th>\n",
       "    </tr>\n",
       "  </thead>\n",
       "  <tbody>\n",
       "    <tr>\n",
       "      <th>0</th>\n",
       "      <td>hp</td>\n",
       "      <td>n</td>\n",
       "      <td>33.563490</td>\n",
       "      <td>-116.732032</td>\n",
       "      <td>1552</td>\n",
       "      <td>761</td>\n",
       "      <td>15.097142</td>\n",
       "      <td>Benton Fire</td>\n",
       "      <td>fire</td>\n",
       "      <td>hp</td>\n",
       "    </tr>\n",
       "    <tr>\n",
       "      <th>1</th>\n",
       "      <td>hp</td>\n",
       "      <td>n</td>\n",
       "      <td>33.524412</td>\n",
       "      <td>-116.821724</td>\n",
       "      <td>1062</td>\n",
       "      <td>792</td>\n",
       "      <td>11.182537</td>\n",
       "      <td>Bridle Fire</td>\n",
       "      <td>fire</td>\n",
       "      <td>hp</td>\n",
       "    </tr>\n",
       "    <tr>\n",
       "      <th>2</th>\n",
       "      <td>hp</td>\n",
       "      <td>n</td>\n",
       "      <td>33.514658</td>\n",
       "      <td>-116.788400</td>\n",
       "      <td>1265</td>\n",
       "      <td>784</td>\n",
       "      <td>10.834029</td>\n",
       "      <td>Meadow Fire</td>\n",
       "      <td>fire</td>\n",
       "      <td>hp</td>\n",
       "    </tr>\n",
       "    <tr>\n",
       "      <th>3</th>\n",
       "      <td>hp</td>\n",
       "      <td>n</td>\n",
       "      <td>33.504880</td>\n",
       "      <td>-117.021320</td>\n",
       "      <td>42</td>\n",
       "      <td>852</td>\n",
       "      <td>14.490812</td>\n",
       "      <td>Portola Fire</td>\n",
       "      <td>fire</td>\n",
       "      <td>hp</td>\n",
       "    </tr>\n",
       "    <tr>\n",
       "      <th>4</th>\n",
       "      <td>hp</td>\n",
       "      <td>n</td>\n",
       "      <td>33.525840</td>\n",
       "      <td>-116.852260</td>\n",
       "      <td>434</td>\n",
       "      <td>769</td>\n",
       "      <td>11.287872</td>\n",
       "      <td>Reed Fire</td>\n",
       "      <td>fire</td>\n",
       "      <td>hp</td>\n",
       "    </tr>\n",
       "    <tr>\n",
       "      <th>5</th>\n",
       "      <td>hp</td>\n",
       "      <td>n</td>\n",
       "      <td>33.571763</td>\n",
       "      <td>-116.500058</td>\n",
       "      <td>780</td>\n",
       "      <td>741</td>\n",
       "      <td>24.154362</td>\n",
       "      <td>Ribbon Fire</td>\n",
       "      <td>fire</td>\n",
       "      <td>hp</td>\n",
       "    </tr>\n",
       "    <tr>\n",
       "      <th>6</th>\n",
       "      <td>hp</td>\n",
       "      <td>n</td>\n",
       "      <td>33.551838</td>\n",
       "      <td>-116.746417</td>\n",
       "      <td>1358</td>\n",
       "      <td>767</td>\n",
       "      <td>14.035721</td>\n",
       "      <td>Tripp Fire</td>\n",
       "      <td>fire</td>\n",
       "      <td>hp</td>\n",
       "    </tr>\n",
       "    <tr>\n",
       "      <th>7</th>\n",
       "      <td>hp</td>\n",
       "      <td>n</td>\n",
       "      <td>33.911000</td>\n",
       "      <td>-116.980528</td>\n",
       "      <td>561</td>\n",
       "      <td>775</td>\n",
       "      <td>38.761284</td>\n",
       "      <td>Wolf Fire</td>\n",
       "      <td>fire</td>\n",
       "      <td>hp</td>\n",
       "    </tr>\n",
       "    <tr>\n",
       "      <th>8</th>\n",
       "      <td>mg</td>\n",
       "      <td>n</td>\n",
       "      <td>33.346590</td>\n",
       "      <td>-116.661070</td>\n",
       "      <td>1438</td>\n",
       "      <td>957</td>\n",
       "      <td>12.322739</td>\n",
       "      <td>Lost Fire</td>\n",
       "      <td>fire</td>\n",
       "      <td>mg</td>\n",
       "    </tr>\n",
       "    <tr>\n",
       "      <th>9</th>\n",
       "      <td>mg</td>\n",
       "      <td>n</td>\n",
       "      <td>33.514658</td>\n",
       "      <td>-116.788400</td>\n",
       "      <td>1564</td>\n",
       "      <td>951</td>\n",
       "      <td>22.566776</td>\n",
       "      <td>Meadow Fire</td>\n",
       "      <td>fire</td>\n",
       "      <td>mg</td>\n",
       "    </tr>\n",
       "    <tr>\n",
       "      <th>10</th>\n",
       "      <td>sojr</td>\n",
       "      <td>w</td>\n",
       "      <td>33.514658</td>\n",
       "      <td>-116.788400</td>\n",
       "      <td>1258</td>\n",
       "      <td>669</td>\n",
       "      <td>13.414228</td>\n",
       "      <td>Meadow Fire</td>\n",
       "      <td>fire</td>\n",
       "      <td>sojr</td>\n",
       "    </tr>\n",
       "    <tr>\n",
       "      <th>11</th>\n",
       "      <td>sojr</td>\n",
       "      <td>w</td>\n",
       "      <td>33.463991</td>\n",
       "      <td>-116.914799</td>\n",
       "      <td>698</td>\n",
       "      <td>733</td>\n",
       "      <td>17.867698</td>\n",
       "      <td>Sage Fire</td>\n",
       "      <td>fire</td>\n",
       "      <td>sojr</td>\n",
       "    </tr>\n",
       "    <tr>\n",
       "      <th>12</th>\n",
       "      <td>mg</td>\n",
       "      <td>n</td>\n",
       "      <td>33.300662</td>\n",
       "      <td>-116.760773</td>\n",
       "      <td>1690</td>\n",
       "      <td>1080</td>\n",
       "      <td>12.430841</td>\n",
       "      <td>love valley clearing</td>\n",
       "      <td>landmark</td>\n",
       "      <td>mg</td>\n",
       "    </tr>\n",
       "    <tr>\n",
       "      <th>13</th>\n",
       "      <td>hp</td>\n",
       "      <td>n</td>\n",
       "      <td>33.363018</td>\n",
       "      <td>-116.836220</td>\n",
       "      <td>NaN</td>\n",
       "      <td>NaN</td>\n",
       "      <td>NaN</td>\n",
       "      <td>hp Station</td>\n",
       "      <td>station</td>\n",
       "      <td>hp</td>\n",
       "    </tr>\n",
       "    <tr>\n",
       "      <th>14</th>\n",
       "      <td>mg</td>\n",
       "      <td>n</td>\n",
       "      <td>33.188869</td>\n",
       "      <td>-116.760651</td>\n",
       "      <td>NaN</td>\n",
       "      <td>NaN</td>\n",
       "      <td>NaN</td>\n",
       "      <td>mg Station</td>\n",
       "      <td>station</td>\n",
       "      <td>mg</td>\n",
       "    </tr>\n",
       "    <tr>\n",
       "      <th>15</th>\n",
       "      <td>sojr</td>\n",
       "      <td>w</td>\n",
       "      <td>33.378700</td>\n",
       "      <td>-116.622300</td>\n",
       "      <td>NaN</td>\n",
       "      <td>NaN</td>\n",
       "      <td>NaN</td>\n",
       "      <td>sojr Station</td>\n",
       "      <td>station</td>\n",
       "      <td>sojr</td>\n",
       "    </tr>\n",
       "  </tbody>\n",
       "</table>\n",
       "</div>"
      ],
      "text/plain": [
       "   station dir        lat        long x_pixel y_pixel   distance  \\\n",
       "0       hp   n  33.563490 -116.732032    1552     761  15.097142   \n",
       "1       hp   n  33.524412 -116.821724    1062     792  11.182537   \n",
       "2       hp   n  33.514658 -116.788400    1265     784  10.834029   \n",
       "3       hp   n  33.504880 -117.021320      42     852  14.490812   \n",
       "4       hp   n  33.525840 -116.852260     434     769  11.287872   \n",
       "5       hp   n  33.571763 -116.500058     780     741  24.154362   \n",
       "6       hp   n  33.551838 -116.746417    1358     767  14.035721   \n",
       "7       hp   n  33.911000 -116.980528     561     775  38.761284   \n",
       "8       mg   n  33.346590 -116.661070    1438     957  12.322739   \n",
       "9       mg   n  33.514658 -116.788400    1564     951  22.566776   \n",
       "10    sojr   w  33.514658 -116.788400    1258     669  13.414228   \n",
       "11    sojr   w  33.463991 -116.914799     698     733  17.867698   \n",
       "12      mg   n  33.300662 -116.760773    1690    1080  12.430841   \n",
       "13      hp   n  33.363018 -116.836220     NaN     NaN        NaN   \n",
       "14      mg   n  33.188869 -116.760651     NaN     NaN        NaN   \n",
       "15    sojr   w  33.378700 -116.622300     NaN     NaN        NaN   \n",
       "\n",
       "                landmark      type  code  \n",
       "0            Benton Fire      fire    hp  \n",
       "1            Bridle Fire      fire    hp  \n",
       "2            Meadow Fire      fire    hp  \n",
       "3           Portola Fire      fire    hp  \n",
       "4              Reed Fire      fire    hp  \n",
       "5            Ribbon Fire      fire    hp  \n",
       "6            Tripp Fire       fire    hp  \n",
       "7             Wolf Fire       fire    hp  \n",
       "8              Lost Fire      fire    mg  \n",
       "9            Meadow Fire      fire    mg  \n",
       "10           Meadow Fire      fire  sojr  \n",
       "11             Sage Fire      fire  sojr  \n",
       "12  love valley clearing  landmark    mg  \n",
       "13            hp Station   station    hp  \n",
       "14            mg Station   station    mg  \n",
       "15          sojr Station   station  sojr  "
      ]
     },
     "execution_count": 33,
     "metadata": {},
     "output_type": "execute_result"
    }
   ],
   "source": [
    "df_plot"
   ]
  },
  {
   "cell_type": "code",
   "execution_count": 17,
   "metadata": {},
   "outputs": [],
   "source": [
    "def find_dist(x1, x2, y1, y2):\n",
    "    return np.sqrt((y2 - y1)**2 + (x2-x1)**2)\n",
    "\n",
    "def find_angle(a1, a2, b1, b2, rad):\n",
    "    cont = np.sqrt(((a2-a1)**2) + ((b2-b1)**2))/(2*rad)\n",
    "    #print(cont)\n",
    "    return 2 * np.arcsin(cont)\n",
    "    #return np.arctan2( b2 - b1, a2 - a1 )\n",
    "\n",
    "def find_fov_old(cx, cy, px, py, d, pix):\n",
    "    R = find_dist(cx, px, cy, py)\n",
    "    print(\"Dist: \", R)\n",
    "    if (d == \"n\") | (d == \"s\"):\n",
    "        priority = 1\n",
    "    else:\n",
    "        priority = 0\n",
    "    \n",
    "    if d == \"n\":\n",
    "        fx = cx\n",
    "        fy = cy + R\n",
    "        #ang_ref = find_angle(cx, px, cy, fy, R)\n",
    "    if d == \"s\":\n",
    "        fx = cx\n",
    "        fy = cy - R\n",
    "        #ang_ref = find_angle(cx, px, cy, fy, R)\n",
    "    if d == \"e\":\n",
    "        fy = cy\n",
    "        fx = cx + R\n",
    "        #ang_ref = find_angle(cx, fx, cy, py, R)\n",
    "    if d == \"w\":\n",
    "        fy = cy\n",
    "        fx = cx - R\n",
    "        #ang_ref = find_angle(cx, fx, cy, py, R)\n",
    "    \n",
    "    fx2 = fx# - cx\n",
    "    fy2 = fy# - cy\n",
    "    px2 = px# - cx\n",
    "    py2 = py# - cy\n",
    "    print(\"{}, {}, {}, {}, {}\".format(fx2, px2, fy2, py2, R))\n",
    "    ang_ref = find_angle(fx2, px2, fy2, py2, R)\n",
    "    print(\"Angle: \", ang_ref)\n",
    "    arclen = R*ang_ref\n",
    "    print(\"Arc Length: \", arclen)\n",
    "    ang_ref2 = (arclen*(1024/abs(1024-pix))) / R\n",
    "    print(\"Extended Arc Length: \", R*ang_ref2)\n",
    "    return ang_ref, ang_ref2\n",
    "    \n",
    "def find_fov_new(cx, cy, px, py, d, pix):\n",
    "    R = find_dist(cx, px, cy, py)\n",
    "    print(\"Dist: \", R)\n",
    "    if (d == \"n\") | (d == \"s\"):\n",
    "        priority = 1\n",
    "    else:\n",
    "        priority = 0\n",
    "    \n",
    "    if d == \"n\":\n",
    "        fx = cx\n",
    "        fy = cy + R\n",
    "        #ang_ref = find_angle(cx, px, cy, fy, R)\n",
    "    if d == \"s\":\n",
    "        fx = cx\n",
    "        fy = cy - R\n",
    "        #ang_ref = find_angle(cx, px, cy, fy, R)\n",
    "    if d == \"e\":\n",
    "        fy = cy\n",
    "        fx = cx + R\n",
    "        #ang_ref = find_angle(cx, fx, cy, py, R)\n",
    "    if d == \"w\":\n",
    "        fy = cy\n",
    "        fx = cx - R\n",
    "        #ang_ref = find_angle(cx, fx, cy, py, R)\n",
    "    \n",
    "    fx2 = fx# - cx\n",
    "    fy2 = fy# - cy\n",
    "    px2 = px# - cx\n",
    "    py2 = py# - cy\n",
    "    print(\"{}, {}, {}, {}, {}\".format(fx2, px2, fy2, py2, R))\n",
    "    ang_ref = find_angle(fx2, px2, fy2, py2, R)\n",
    "    print(\"Angle: \", ang_ref)\n",
    "    arclen = R*ang_ref/2\n",
    "    print(\"Arc Length: \", arclen)\n",
    "    ang_ref2 = (arclen*(1536/abs(1536-pix))) / R\n",
    "    print(\"Extended Arc Length: \", R*ang_ref2)\n",
    "    return ang_ref, ang_ref2\n",
    "    "
   ]
  },
  {
   "cell_type": "code",
   "execution_count": 18,
   "metadata": {},
   "outputs": [
    {
     "data": {
      "text/html": [
       "<div>\n",
       "<style scoped>\n",
       "    .dataframe tbody tr th:only-of-type {\n",
       "        vertical-align: middle;\n",
       "    }\n",
       "\n",
       "    .dataframe tbody tr th {\n",
       "        vertical-align: top;\n",
       "    }\n",
       "\n",
       "    .dataframe thead th {\n",
       "        text-align: right;\n",
       "    }\n",
       "</style>\n",
       "<table border=\"1\" class=\"dataframe\">\n",
       "  <thead>\n",
       "    <tr style=\"text-align: right;\">\n",
       "      <th></th>\n",
       "      <th>station</th>\n",
       "      <th>dir</th>\n",
       "      <th>lat</th>\n",
       "      <th>long</th>\n",
       "      <th>x_pixel</th>\n",
       "      <th>y_pixel</th>\n",
       "      <th>distance</th>\n",
       "      <th>landmark</th>\n",
       "      <th>type</th>\n",
       "      <th>code</th>\n",
       "    </tr>\n",
       "  </thead>\n",
       "  <tbody>\n",
       "    <tr>\n",
       "      <th>0</th>\n",
       "      <td>hp</td>\n",
       "      <td>n</td>\n",
       "      <td>33.563490</td>\n",
       "      <td>-116.732032</td>\n",
       "      <td>1552</td>\n",
       "      <td>761</td>\n",
       "      <td>15.097142</td>\n",
       "      <td>Benton Fire</td>\n",
       "      <td>fire</td>\n",
       "      <td>hp</td>\n",
       "    </tr>\n",
       "    <tr>\n",
       "      <th>1</th>\n",
       "      <td>hp</td>\n",
       "      <td>n</td>\n",
       "      <td>33.524412</td>\n",
       "      <td>-116.821724</td>\n",
       "      <td>1062</td>\n",
       "      <td>792</td>\n",
       "      <td>11.182537</td>\n",
       "      <td>Bridle Fire</td>\n",
       "      <td>fire</td>\n",
       "      <td>hp</td>\n",
       "    </tr>\n",
       "    <tr>\n",
       "      <th>2</th>\n",
       "      <td>hp</td>\n",
       "      <td>n</td>\n",
       "      <td>33.514658</td>\n",
       "      <td>-116.788400</td>\n",
       "      <td>1265</td>\n",
       "      <td>784</td>\n",
       "      <td>10.834029</td>\n",
       "      <td>Meadow Fire</td>\n",
       "      <td>fire</td>\n",
       "      <td>hp</td>\n",
       "    </tr>\n",
       "    <tr>\n",
       "      <th>3</th>\n",
       "      <td>hp</td>\n",
       "      <td>n</td>\n",
       "      <td>33.504880</td>\n",
       "      <td>-117.021320</td>\n",
       "      <td>42</td>\n",
       "      <td>852</td>\n",
       "      <td>14.490812</td>\n",
       "      <td>Portola Fire</td>\n",
       "      <td>fire</td>\n",
       "      <td>hp</td>\n",
       "    </tr>\n",
       "    <tr>\n",
       "      <th>4</th>\n",
       "      <td>hp</td>\n",
       "      <td>n</td>\n",
       "      <td>33.525840</td>\n",
       "      <td>-116.852260</td>\n",
       "      <td>434</td>\n",
       "      <td>769</td>\n",
       "      <td>11.287872</td>\n",
       "      <td>Reed Fire</td>\n",
       "      <td>fire</td>\n",
       "      <td>hp</td>\n",
       "    </tr>\n",
       "    <tr>\n",
       "      <th>5</th>\n",
       "      <td>hp</td>\n",
       "      <td>n</td>\n",
       "      <td>33.571763</td>\n",
       "      <td>-116.500058</td>\n",
       "      <td>780</td>\n",
       "      <td>741</td>\n",
       "      <td>24.154362</td>\n",
       "      <td>Ribbon Fire</td>\n",
       "      <td>fire</td>\n",
       "      <td>hp</td>\n",
       "    </tr>\n",
       "    <tr>\n",
       "      <th>6</th>\n",
       "      <td>hp</td>\n",
       "      <td>n</td>\n",
       "      <td>33.551838</td>\n",
       "      <td>-116.746417</td>\n",
       "      <td>1358</td>\n",
       "      <td>767</td>\n",
       "      <td>14.035721</td>\n",
       "      <td>Tripp Fire</td>\n",
       "      <td>fire</td>\n",
       "      <td>hp</td>\n",
       "    </tr>\n",
       "    <tr>\n",
       "      <th>7</th>\n",
       "      <td>hp</td>\n",
       "      <td>n</td>\n",
       "      <td>33.911000</td>\n",
       "      <td>-116.980528</td>\n",
       "      <td>561</td>\n",
       "      <td>775</td>\n",
       "      <td>38.761284</td>\n",
       "      <td>Wolf Fire</td>\n",
       "      <td>fire</td>\n",
       "      <td>hp</td>\n",
       "    </tr>\n",
       "    <tr>\n",
       "      <th>8</th>\n",
       "      <td>mg</td>\n",
       "      <td>n</td>\n",
       "      <td>33.346590</td>\n",
       "      <td>-116.661070</td>\n",
       "      <td>1438</td>\n",
       "      <td>957</td>\n",
       "      <td>12.322739</td>\n",
       "      <td>Lost Fire</td>\n",
       "      <td>fire</td>\n",
       "      <td>mg</td>\n",
       "    </tr>\n",
       "    <tr>\n",
       "      <th>9</th>\n",
       "      <td>mg</td>\n",
       "      <td>n</td>\n",
       "      <td>33.514658</td>\n",
       "      <td>-116.788400</td>\n",
       "      <td>1564</td>\n",
       "      <td>951</td>\n",
       "      <td>22.566776</td>\n",
       "      <td>Meadow Fire</td>\n",
       "      <td>fire</td>\n",
       "      <td>mg</td>\n",
       "    </tr>\n",
       "    <tr>\n",
       "      <th>10</th>\n",
       "      <td>sojr</td>\n",
       "      <td>w</td>\n",
       "      <td>33.514658</td>\n",
       "      <td>-116.788400</td>\n",
       "      <td>1258</td>\n",
       "      <td>669</td>\n",
       "      <td>13.414228</td>\n",
       "      <td>Meadow Fire</td>\n",
       "      <td>fire</td>\n",
       "      <td>sojr</td>\n",
       "    </tr>\n",
       "    <tr>\n",
       "      <th>11</th>\n",
       "      <td>sojr</td>\n",
       "      <td>w</td>\n",
       "      <td>33.463991</td>\n",
       "      <td>-116.914799</td>\n",
       "      <td>698</td>\n",
       "      <td>733</td>\n",
       "      <td>17.867698</td>\n",
       "      <td>Sage Fire</td>\n",
       "      <td>fire</td>\n",
       "      <td>sojr</td>\n",
       "    </tr>\n",
       "    <tr>\n",
       "      <th>12</th>\n",
       "      <td>mg</td>\n",
       "      <td>n</td>\n",
       "      <td>33.300662</td>\n",
       "      <td>-116.760773</td>\n",
       "      <td>1690</td>\n",
       "      <td>1080</td>\n",
       "      <td>12.430841</td>\n",
       "      <td>love valley clearing</td>\n",
       "      <td>landmark</td>\n",
       "      <td>mg</td>\n",
       "    </tr>\n",
       "    <tr>\n",
       "      <th>13</th>\n",
       "      <td>hp</td>\n",
       "      <td>n</td>\n",
       "      <td>33.363018</td>\n",
       "      <td>-116.836220</td>\n",
       "      <td>NaN</td>\n",
       "      <td>NaN</td>\n",
       "      <td>NaN</td>\n",
       "      <td>NaN</td>\n",
       "      <td>station</td>\n",
       "      <td>hp</td>\n",
       "    </tr>\n",
       "    <tr>\n",
       "      <th>14</th>\n",
       "      <td>mg</td>\n",
       "      <td>n</td>\n",
       "      <td>33.188869</td>\n",
       "      <td>-116.760651</td>\n",
       "      <td>NaN</td>\n",
       "      <td>NaN</td>\n",
       "      <td>NaN</td>\n",
       "      <td>NaN</td>\n",
       "      <td>station</td>\n",
       "      <td>mg</td>\n",
       "    </tr>\n",
       "    <tr>\n",
       "      <th>15</th>\n",
       "      <td>sojr</td>\n",
       "      <td>w</td>\n",
       "      <td>33.378700</td>\n",
       "      <td>-116.622300</td>\n",
       "      <td>NaN</td>\n",
       "      <td>NaN</td>\n",
       "      <td>NaN</td>\n",
       "      <td>NaN</td>\n",
       "      <td>station</td>\n",
       "      <td>sojr</td>\n",
       "    </tr>\n",
       "  </tbody>\n",
       "</table>\n",
       "</div>"
      ],
      "text/plain": [
       "   station dir        lat        long x_pixel y_pixel   distance  \\\n",
       "0       hp   n  33.563490 -116.732032    1552     761  15.097142   \n",
       "1       hp   n  33.524412 -116.821724    1062     792  11.182537   \n",
       "2       hp   n  33.514658 -116.788400    1265     784  10.834029   \n",
       "3       hp   n  33.504880 -117.021320      42     852  14.490812   \n",
       "4       hp   n  33.525840 -116.852260     434     769  11.287872   \n",
       "5       hp   n  33.571763 -116.500058     780     741  24.154362   \n",
       "6       hp   n  33.551838 -116.746417    1358     767  14.035721   \n",
       "7       hp   n  33.911000 -116.980528     561     775  38.761284   \n",
       "8       mg   n  33.346590 -116.661070    1438     957  12.322739   \n",
       "9       mg   n  33.514658 -116.788400    1564     951  22.566776   \n",
       "10    sojr   w  33.514658 -116.788400    1258     669  13.414228   \n",
       "11    sojr   w  33.463991 -116.914799     698     733  17.867698   \n",
       "12      mg   n  33.300662 -116.760773    1690    1080  12.430841   \n",
       "13      hp   n  33.363018 -116.836220     NaN     NaN        NaN   \n",
       "14      mg   n  33.188869 -116.760651     NaN     NaN        NaN   \n",
       "15    sojr   w  33.378700 -116.622300     NaN     NaN        NaN   \n",
       "\n",
       "                landmark      type  code  \n",
       "0            Benton Fire      fire    hp  \n",
       "1            Bridle Fire      fire    hp  \n",
       "2            Meadow Fire      fire    hp  \n",
       "3           Portola Fire      fire    hp  \n",
       "4              Reed Fire      fire    hp  \n",
       "5            Ribbon Fire      fire    hp  \n",
       "6            Tripp Fire       fire    hp  \n",
       "7             Wolf Fire       fire    hp  \n",
       "8              Lost Fire      fire    mg  \n",
       "9            Meadow Fire      fire    mg  \n",
       "10           Meadow Fire      fire  sojr  \n",
       "11             Sage Fire      fire  sojr  \n",
       "12  love valley clearing  landmark    mg  \n",
       "13                   NaN   station    hp  \n",
       "14                   NaN   station    mg  \n",
       "15                   NaN   station  sojr  "
      ]
     },
     "execution_count": 18,
     "metadata": {},
     "output_type": "execute_result"
    }
   ],
   "source": [
    "df_plot"
   ]
  },
  {
   "cell_type": "code",
   "execution_count": 563,
   "metadata": {},
   "outputs": [
    {
     "name": "stdout",
     "output_type": "stream",
     "text": [
      "Dist:  0.16361016253277771\n",
      "-116.83622, -116.85226, 33.526628162532774, 33.52584, 0.16361016253277771\n",
      "Angle:  0.09819565050347874\n",
      "Arc Length:  0.016065806338885994\n",
      "Extended Arc Length:  0.8658624047904872\n"
     ]
    }
   ],
   "source": [
    "#Find FoV Center Reference - hp\n",
    "center_x1, center_y1 = df_plot.iloc[-3]['long'], df_plot.iloc[-3]['lat']\n",
    "point_x1, point_y1 = -116.852260, 33.525840\n",
    "pix1 = 434\n",
    "direction = \"n\"\n",
    "\n",
    "ang_a, angle_a = find_fov_old(center_x1, center_y1, point_x1, point_y1, direction, pix)"
   ]
  },
  {
   "cell_type": "code",
   "execution_count": 553,
   "metadata": {},
   "outputs": [
    {
     "name": "stdout",
     "output_type": "stream",
     "text": [
      "Dist:  0.18652691334496696\n",
      "-116.760651, -116.66107, 33.37539591334497, 33.34659, 0.18652691334496696\n",
      "Angle:  0.5631700190994652\n",
      "Arc Length:  0.052523182675524666\n",
      "Extended Arc Length:  0.16364220809250687\n"
     ]
    }
   ],
   "source": [
    "#Find FoV Center Reference - mg\n",
    "center_x2, center_y2 = df_plot.iloc[-2]['long'], df_plot.iloc[-2]['lat']\n",
    "point_x2, point_y2 = -116.661070, 33.346590\n",
    "pix2 = 1438\n",
    "direction = \"n\"\n",
    "\n",
    "ang_b, angle_b = find_fov_new(center_x2, center_y2, point_x2, point_y2, direction, pix)"
   ]
  },
  {
   "cell_type": "code",
   "execution_count": 40,
   "metadata": {},
   "outputs": [
    {
     "data": {
      "application/vnd.plotly.v1+json": {
       "config": {
        "plotlyServerURL": "https://plot.ly"
       },
       "data": [
        {
         "hovertemplate": "type=fire<br>long=%{x}<br>lat=%{y}<br>landmark=%{text}<extra></extra>",
         "legendgroup": "fire",
         "marker": {
          "color": "#636efa",
          "symbol": "circle"
         },
         "mode": "markers+text",
         "name": "fire",
         "orientation": "v",
         "showlegend": true,
         "text": [
          "Benton Fire",
          "Bridle Fire",
          "Meadow Fire",
          "Portola Fire",
          "Reed Fire",
          "Ribbon Fire",
          "Tripp Fire ",
          "Wolf Fire ",
          "Lost Fire",
          "Meadow Fire",
          "Meadow Fire",
          "Sage Fire"
         ],
         "textposition": "top center",
         "type": "scatter",
         "x": [
          -116.732032,
          -116.821724,
          -116.7884,
          -117.02132,
          -116.85226,
          -116.500058,
          -116.7464168,
          -116.980528,
          -116.66107,
          -116.7884,
          -116.7884,
          -116.914799
         ],
         "xaxis": "x",
         "y": [
          33.56349,
          33.524412,
          33.514658,
          33.50488,
          33.52584,
          33.571763,
          33.551838,
          33.911,
          33.34659,
          33.514658,
          33.514658,
          33.463991
         ],
         "yaxis": "y"
        },
        {
         "hovertemplate": "type=landmark<br>long=%{x}<br>lat=%{y}<br>landmark=%{text}<extra></extra>",
         "legendgroup": "landmark",
         "marker": {
          "color": "#EF553B",
          "symbol": "circle"
         },
         "mode": "markers+text",
         "name": "landmark",
         "orientation": "v",
         "showlegend": true,
         "text": [
          "love valley clearing"
         ],
         "textposition": "top center",
         "type": "scatter",
         "x": [
          -116.760773
         ],
         "xaxis": "x",
         "y": [
          33.30066204
         ],
         "yaxis": "y"
        },
        {
         "hovertemplate": "type=station<br>long=%{x}<br>lat=%{y}<br>landmark=%{text}<extra></extra>",
         "legendgroup": "station",
         "marker": {
          "color": "#00cc96",
          "symbol": "circle"
         },
         "mode": "markers+text",
         "name": "station",
         "orientation": "v",
         "showlegend": true,
         "text": [
          "hp Station",
          "mg Station",
          "sojr Station"
         ],
         "textposition": "top center",
         "type": "scatter",
         "x": [
          -116.83622,
          -116.760651,
          -116.6223
         ],
         "xaxis": "x",
         "y": [
          33.363018,
          33.188869,
          33.3787
         ],
         "yaxis": "y"
        }
       ],
       "layout": {
        "height": 600,
        "legend": {
         "title": {
          "text": "type"
         },
         "tracegroupgap": 0
        },
        "template": {
         "data": {
          "bar": [
           {
            "error_x": {
             "color": "#2a3f5f"
            },
            "error_y": {
             "color": "#2a3f5f"
            },
            "marker": {
             "line": {
              "color": "#E5ECF6",
              "width": 0.5
             },
             "pattern": {
              "fillmode": "overlay",
              "size": 10,
              "solidity": 0.2
             }
            },
            "type": "bar"
           }
          ],
          "barpolar": [
           {
            "marker": {
             "line": {
              "color": "#E5ECF6",
              "width": 0.5
             },
             "pattern": {
              "fillmode": "overlay",
              "size": 10,
              "solidity": 0.2
             }
            },
            "type": "barpolar"
           }
          ],
          "carpet": [
           {
            "aaxis": {
             "endlinecolor": "#2a3f5f",
             "gridcolor": "white",
             "linecolor": "white",
             "minorgridcolor": "white",
             "startlinecolor": "#2a3f5f"
            },
            "baxis": {
             "endlinecolor": "#2a3f5f",
             "gridcolor": "white",
             "linecolor": "white",
             "minorgridcolor": "white",
             "startlinecolor": "#2a3f5f"
            },
            "type": "carpet"
           }
          ],
          "choropleth": [
           {
            "colorbar": {
             "outlinewidth": 0,
             "ticks": ""
            },
            "type": "choropleth"
           }
          ],
          "contour": [
           {
            "colorbar": {
             "outlinewidth": 0,
             "ticks": ""
            },
            "colorscale": [
             [
              0,
              "#0d0887"
             ],
             [
              0.1111111111111111,
              "#46039f"
             ],
             [
              0.2222222222222222,
              "#7201a8"
             ],
             [
              0.3333333333333333,
              "#9c179e"
             ],
             [
              0.4444444444444444,
              "#bd3786"
             ],
             [
              0.5555555555555556,
              "#d8576b"
             ],
             [
              0.6666666666666666,
              "#ed7953"
             ],
             [
              0.7777777777777778,
              "#fb9f3a"
             ],
             [
              0.8888888888888888,
              "#fdca26"
             ],
             [
              1,
              "#f0f921"
             ]
            ],
            "type": "contour"
           }
          ],
          "contourcarpet": [
           {
            "colorbar": {
             "outlinewidth": 0,
             "ticks": ""
            },
            "type": "contourcarpet"
           }
          ],
          "heatmap": [
           {
            "colorbar": {
             "outlinewidth": 0,
             "ticks": ""
            },
            "colorscale": [
             [
              0,
              "#0d0887"
             ],
             [
              0.1111111111111111,
              "#46039f"
             ],
             [
              0.2222222222222222,
              "#7201a8"
             ],
             [
              0.3333333333333333,
              "#9c179e"
             ],
             [
              0.4444444444444444,
              "#bd3786"
             ],
             [
              0.5555555555555556,
              "#d8576b"
             ],
             [
              0.6666666666666666,
              "#ed7953"
             ],
             [
              0.7777777777777778,
              "#fb9f3a"
             ],
             [
              0.8888888888888888,
              "#fdca26"
             ],
             [
              1,
              "#f0f921"
             ]
            ],
            "type": "heatmap"
           }
          ],
          "heatmapgl": [
           {
            "colorbar": {
             "outlinewidth": 0,
             "ticks": ""
            },
            "colorscale": [
             [
              0,
              "#0d0887"
             ],
             [
              0.1111111111111111,
              "#46039f"
             ],
             [
              0.2222222222222222,
              "#7201a8"
             ],
             [
              0.3333333333333333,
              "#9c179e"
             ],
             [
              0.4444444444444444,
              "#bd3786"
             ],
             [
              0.5555555555555556,
              "#d8576b"
             ],
             [
              0.6666666666666666,
              "#ed7953"
             ],
             [
              0.7777777777777778,
              "#fb9f3a"
             ],
             [
              0.8888888888888888,
              "#fdca26"
             ],
             [
              1,
              "#f0f921"
             ]
            ],
            "type": "heatmapgl"
           }
          ],
          "histogram": [
           {
            "marker": {
             "pattern": {
              "fillmode": "overlay",
              "size": 10,
              "solidity": 0.2
             }
            },
            "type": "histogram"
           }
          ],
          "histogram2d": [
           {
            "colorbar": {
             "outlinewidth": 0,
             "ticks": ""
            },
            "colorscale": [
             [
              0,
              "#0d0887"
             ],
             [
              0.1111111111111111,
              "#46039f"
             ],
             [
              0.2222222222222222,
              "#7201a8"
             ],
             [
              0.3333333333333333,
              "#9c179e"
             ],
             [
              0.4444444444444444,
              "#bd3786"
             ],
             [
              0.5555555555555556,
              "#d8576b"
             ],
             [
              0.6666666666666666,
              "#ed7953"
             ],
             [
              0.7777777777777778,
              "#fb9f3a"
             ],
             [
              0.8888888888888888,
              "#fdca26"
             ],
             [
              1,
              "#f0f921"
             ]
            ],
            "type": "histogram2d"
           }
          ],
          "histogram2dcontour": [
           {
            "colorbar": {
             "outlinewidth": 0,
             "ticks": ""
            },
            "colorscale": [
             [
              0,
              "#0d0887"
             ],
             [
              0.1111111111111111,
              "#46039f"
             ],
             [
              0.2222222222222222,
              "#7201a8"
             ],
             [
              0.3333333333333333,
              "#9c179e"
             ],
             [
              0.4444444444444444,
              "#bd3786"
             ],
             [
              0.5555555555555556,
              "#d8576b"
             ],
             [
              0.6666666666666666,
              "#ed7953"
             ],
             [
              0.7777777777777778,
              "#fb9f3a"
             ],
             [
              0.8888888888888888,
              "#fdca26"
             ],
             [
              1,
              "#f0f921"
             ]
            ],
            "type": "histogram2dcontour"
           }
          ],
          "mesh3d": [
           {
            "colorbar": {
             "outlinewidth": 0,
             "ticks": ""
            },
            "type": "mesh3d"
           }
          ],
          "parcoords": [
           {
            "line": {
             "colorbar": {
              "outlinewidth": 0,
              "ticks": ""
             }
            },
            "type": "parcoords"
           }
          ],
          "pie": [
           {
            "automargin": true,
            "type": "pie"
           }
          ],
          "scatter": [
           {
            "marker": {
             "colorbar": {
              "outlinewidth": 0,
              "ticks": ""
             }
            },
            "type": "scatter"
           }
          ],
          "scatter3d": [
           {
            "line": {
             "colorbar": {
              "outlinewidth": 0,
              "ticks": ""
             }
            },
            "marker": {
             "colorbar": {
              "outlinewidth": 0,
              "ticks": ""
             }
            },
            "type": "scatter3d"
           }
          ],
          "scattercarpet": [
           {
            "marker": {
             "colorbar": {
              "outlinewidth": 0,
              "ticks": ""
             }
            },
            "type": "scattercarpet"
           }
          ],
          "scattergeo": [
           {
            "marker": {
             "colorbar": {
              "outlinewidth": 0,
              "ticks": ""
             }
            },
            "type": "scattergeo"
           }
          ],
          "scattergl": [
           {
            "marker": {
             "colorbar": {
              "outlinewidth": 0,
              "ticks": ""
             }
            },
            "type": "scattergl"
           }
          ],
          "scattermapbox": [
           {
            "marker": {
             "colorbar": {
              "outlinewidth": 0,
              "ticks": ""
             }
            },
            "type": "scattermapbox"
           }
          ],
          "scatterpolar": [
           {
            "marker": {
             "colorbar": {
              "outlinewidth": 0,
              "ticks": ""
             }
            },
            "type": "scatterpolar"
           }
          ],
          "scatterpolargl": [
           {
            "marker": {
             "colorbar": {
              "outlinewidth": 0,
              "ticks": ""
             }
            },
            "type": "scatterpolargl"
           }
          ],
          "scatterternary": [
           {
            "marker": {
             "colorbar": {
              "outlinewidth": 0,
              "ticks": ""
             }
            },
            "type": "scatterternary"
           }
          ],
          "surface": [
           {
            "colorbar": {
             "outlinewidth": 0,
             "ticks": ""
            },
            "colorscale": [
             [
              0,
              "#0d0887"
             ],
             [
              0.1111111111111111,
              "#46039f"
             ],
             [
              0.2222222222222222,
              "#7201a8"
             ],
             [
              0.3333333333333333,
              "#9c179e"
             ],
             [
              0.4444444444444444,
              "#bd3786"
             ],
             [
              0.5555555555555556,
              "#d8576b"
             ],
             [
              0.6666666666666666,
              "#ed7953"
             ],
             [
              0.7777777777777778,
              "#fb9f3a"
             ],
             [
              0.8888888888888888,
              "#fdca26"
             ],
             [
              1,
              "#f0f921"
             ]
            ],
            "type": "surface"
           }
          ],
          "table": [
           {
            "cells": {
             "fill": {
              "color": "#EBF0F8"
             },
             "line": {
              "color": "white"
             }
            },
            "header": {
             "fill": {
              "color": "#C8D4E3"
             },
             "line": {
              "color": "white"
             }
            },
            "type": "table"
           }
          ]
         },
         "layout": {
          "annotationdefaults": {
           "arrowcolor": "#2a3f5f",
           "arrowhead": 0,
           "arrowwidth": 1
          },
          "autotypenumbers": "strict",
          "coloraxis": {
           "colorbar": {
            "outlinewidth": 0,
            "ticks": ""
           }
          },
          "colorscale": {
           "diverging": [
            [
             0,
             "#8e0152"
            ],
            [
             0.1,
             "#c51b7d"
            ],
            [
             0.2,
             "#de77ae"
            ],
            [
             0.3,
             "#f1b6da"
            ],
            [
             0.4,
             "#fde0ef"
            ],
            [
             0.5,
             "#f7f7f7"
            ],
            [
             0.6,
             "#e6f5d0"
            ],
            [
             0.7,
             "#b8e186"
            ],
            [
             0.8,
             "#7fbc41"
            ],
            [
             0.9,
             "#4d9221"
            ],
            [
             1,
             "#276419"
            ]
           ],
           "sequential": [
            [
             0,
             "#0d0887"
            ],
            [
             0.1111111111111111,
             "#46039f"
            ],
            [
             0.2222222222222222,
             "#7201a8"
            ],
            [
             0.3333333333333333,
             "#9c179e"
            ],
            [
             0.4444444444444444,
             "#bd3786"
            ],
            [
             0.5555555555555556,
             "#d8576b"
            ],
            [
             0.6666666666666666,
             "#ed7953"
            ],
            [
             0.7777777777777778,
             "#fb9f3a"
            ],
            [
             0.8888888888888888,
             "#fdca26"
            ],
            [
             1,
             "#f0f921"
            ]
           ],
           "sequentialminus": [
            [
             0,
             "#0d0887"
            ],
            [
             0.1111111111111111,
             "#46039f"
            ],
            [
             0.2222222222222222,
             "#7201a8"
            ],
            [
             0.3333333333333333,
             "#9c179e"
            ],
            [
             0.4444444444444444,
             "#bd3786"
            ],
            [
             0.5555555555555556,
             "#d8576b"
            ],
            [
             0.6666666666666666,
             "#ed7953"
            ],
            [
             0.7777777777777778,
             "#fb9f3a"
            ],
            [
             0.8888888888888888,
             "#fdca26"
            ],
            [
             1,
             "#f0f921"
            ]
           ]
          },
          "colorway": [
           "#636efa",
           "#EF553B",
           "#00cc96",
           "#ab63fa",
           "#FFA15A",
           "#19d3f3",
           "#FF6692",
           "#B6E880",
           "#FF97FF",
           "#FECB52"
          ],
          "font": {
           "color": "#2a3f5f"
          },
          "geo": {
           "bgcolor": "white",
           "lakecolor": "white",
           "landcolor": "#E5ECF6",
           "showlakes": true,
           "showland": true,
           "subunitcolor": "white"
          },
          "hoverlabel": {
           "align": "left"
          },
          "hovermode": "closest",
          "mapbox": {
           "style": "light"
          },
          "paper_bgcolor": "white",
          "plot_bgcolor": "#E5ECF6",
          "polar": {
           "angularaxis": {
            "gridcolor": "white",
            "linecolor": "white",
            "ticks": ""
           },
           "bgcolor": "#E5ECF6",
           "radialaxis": {
            "gridcolor": "white",
            "linecolor": "white",
            "ticks": ""
           }
          },
          "scene": {
           "xaxis": {
            "backgroundcolor": "#E5ECF6",
            "gridcolor": "white",
            "gridwidth": 2,
            "linecolor": "white",
            "showbackground": true,
            "ticks": "",
            "zerolinecolor": "white"
           },
           "yaxis": {
            "backgroundcolor": "#E5ECF6",
            "gridcolor": "white",
            "gridwidth": 2,
            "linecolor": "white",
            "showbackground": true,
            "ticks": "",
            "zerolinecolor": "white"
           },
           "zaxis": {
            "backgroundcolor": "#E5ECF6",
            "gridcolor": "white",
            "gridwidth": 2,
            "linecolor": "white",
            "showbackground": true,
            "ticks": "",
            "zerolinecolor": "white"
           }
          },
          "shapedefaults": {
           "line": {
            "color": "#2a3f5f"
           }
          },
          "ternary": {
           "aaxis": {
            "gridcolor": "white",
            "linecolor": "white",
            "ticks": ""
           },
           "baxis": {
            "gridcolor": "white",
            "linecolor": "white",
            "ticks": ""
           },
           "bgcolor": "#E5ECF6",
           "caxis": {
            "gridcolor": "white",
            "linecolor": "white",
            "ticks": ""
           }
          },
          "title": {
           "x": 0.05
          },
          "xaxis": {
           "automargin": true,
           "gridcolor": "white",
           "linecolor": "white",
           "ticks": "",
           "title": {
            "standoff": 15
           },
           "zerolinecolor": "white",
           "zerolinewidth": 2
          },
          "yaxis": {
           "automargin": true,
           "gridcolor": "white",
           "linecolor": "white",
           "ticks": "",
           "title": {
            "standoff": 15
           },
           "zerolinecolor": "white",
           "zerolinewidth": 2
          }
         }
        },
        "title": {
         "text": "Fires Seen"
        },
        "width": 600,
        "xaxis": {
         "anchor": "y",
         "domain": [
          0,
          1
         ],
         "title": {
          "text": "long"
         }
        },
        "yaxis": {
         "anchor": "x",
         "domain": [
          0,
          1
         ],
         "title": {
          "text": "lat"
         }
        }
       }
      },
      "text/html": [
       "<div>                            <div id=\"86ec6822-befa-4806-9b55-d3b16e1435d1\" class=\"plotly-graph-div\" style=\"height:600px; width:600px;\"></div>            <script type=\"text/javascript\">                require([\"plotly\"], function(Plotly) {                    window.PLOTLYENV=window.PLOTLYENV || {};                                    if (document.getElementById(\"86ec6822-befa-4806-9b55-d3b16e1435d1\")) {                    Plotly.newPlot(                        \"86ec6822-befa-4806-9b55-d3b16e1435d1\",                        [{\"hovertemplate\":\"type=fire<br>long=%{x}<br>lat=%{y}<br>landmark=%{text}<extra></extra>\",\"legendgroup\":\"fire\",\"marker\":{\"color\":\"#636efa\",\"symbol\":\"circle\"},\"mode\":\"markers+text\",\"name\":\"fire\",\"orientation\":\"v\",\"showlegend\":true,\"text\":[\"Benton Fire\",\"Bridle Fire\",\"Meadow Fire\",\"Portola Fire\",\"Reed Fire\",\"Ribbon Fire\",\"Tripp Fire \",\"Wolf Fire \",\"Lost Fire\",\"Meadow Fire\",\"Meadow Fire\",\"Sage Fire\"],\"x\":[-116.732032,-116.821724,-116.7884,-117.02132,-116.85226,-116.500058,-116.7464168,-116.980528,-116.66107,-116.7884,-116.7884,-116.914799],\"xaxis\":\"x\",\"y\":[33.56349,33.524412,33.514658,33.50488,33.52584,33.571763,33.551838,33.911,33.34659,33.514658,33.514658,33.463991],\"yaxis\":\"y\",\"type\":\"scatter\",\"textposition\":\"top center\"},{\"hovertemplate\":\"type=landmark<br>long=%{x}<br>lat=%{y}<br>landmark=%{text}<extra></extra>\",\"legendgroup\":\"landmark\",\"marker\":{\"color\":\"#EF553B\",\"symbol\":\"circle\"},\"mode\":\"markers+text\",\"name\":\"landmark\",\"orientation\":\"v\",\"showlegend\":true,\"text\":[\"love valley clearing\"],\"x\":[-116.760773],\"xaxis\":\"x\",\"y\":[33.30066204],\"yaxis\":\"y\",\"type\":\"scatter\",\"textposition\":\"top center\"},{\"hovertemplate\":\"type=station<br>long=%{x}<br>lat=%{y}<br>landmark=%{text}<extra></extra>\",\"legendgroup\":\"station\",\"marker\":{\"color\":\"#00cc96\",\"symbol\":\"circle\"},\"mode\":\"markers+text\",\"name\":\"station\",\"orientation\":\"v\",\"showlegend\":true,\"text\":[\"hp Station\",\"mg Station\",\"sojr Station\"],\"x\":[-116.83622,-116.760651,-116.6223],\"xaxis\":\"x\",\"y\":[33.363018,33.188869,33.3787],\"yaxis\":\"y\",\"type\":\"scatter\",\"textposition\":\"top center\"}],                        {\"template\":{\"data\":{\"bar\":[{\"error_x\":{\"color\":\"#2a3f5f\"},\"error_y\":{\"color\":\"#2a3f5f\"},\"marker\":{\"line\":{\"color\":\"#E5ECF6\",\"width\":0.5},\"pattern\":{\"fillmode\":\"overlay\",\"size\":10,\"solidity\":0.2}},\"type\":\"bar\"}],\"barpolar\":[{\"marker\":{\"line\":{\"color\":\"#E5ECF6\",\"width\":0.5},\"pattern\":{\"fillmode\":\"overlay\",\"size\":10,\"solidity\":0.2}},\"type\":\"barpolar\"}],\"carpet\":[{\"aaxis\":{\"endlinecolor\":\"#2a3f5f\",\"gridcolor\":\"white\",\"linecolor\":\"white\",\"minorgridcolor\":\"white\",\"startlinecolor\":\"#2a3f5f\"},\"baxis\":{\"endlinecolor\":\"#2a3f5f\",\"gridcolor\":\"white\",\"linecolor\":\"white\",\"minorgridcolor\":\"white\",\"startlinecolor\":\"#2a3f5f\"},\"type\":\"carpet\"}],\"choropleth\":[{\"colorbar\":{\"outlinewidth\":0,\"ticks\":\"\"},\"type\":\"choropleth\"}],\"contour\":[{\"colorbar\":{\"outlinewidth\":0,\"ticks\":\"\"},\"colorscale\":[[0.0,\"#0d0887\"],[0.1111111111111111,\"#46039f\"],[0.2222222222222222,\"#7201a8\"],[0.3333333333333333,\"#9c179e\"],[0.4444444444444444,\"#bd3786\"],[0.5555555555555556,\"#d8576b\"],[0.6666666666666666,\"#ed7953\"],[0.7777777777777778,\"#fb9f3a\"],[0.8888888888888888,\"#fdca26\"],[1.0,\"#f0f921\"]],\"type\":\"contour\"}],\"contourcarpet\":[{\"colorbar\":{\"outlinewidth\":0,\"ticks\":\"\"},\"type\":\"contourcarpet\"}],\"heatmap\":[{\"colorbar\":{\"outlinewidth\":0,\"ticks\":\"\"},\"colorscale\":[[0.0,\"#0d0887\"],[0.1111111111111111,\"#46039f\"],[0.2222222222222222,\"#7201a8\"],[0.3333333333333333,\"#9c179e\"],[0.4444444444444444,\"#bd3786\"],[0.5555555555555556,\"#d8576b\"],[0.6666666666666666,\"#ed7953\"],[0.7777777777777778,\"#fb9f3a\"],[0.8888888888888888,\"#fdca26\"],[1.0,\"#f0f921\"]],\"type\":\"heatmap\"}],\"heatmapgl\":[{\"colorbar\":{\"outlinewidth\":0,\"ticks\":\"\"},\"colorscale\":[[0.0,\"#0d0887\"],[0.1111111111111111,\"#46039f\"],[0.2222222222222222,\"#7201a8\"],[0.3333333333333333,\"#9c179e\"],[0.4444444444444444,\"#bd3786\"],[0.5555555555555556,\"#d8576b\"],[0.6666666666666666,\"#ed7953\"],[0.7777777777777778,\"#fb9f3a\"],[0.8888888888888888,\"#fdca26\"],[1.0,\"#f0f921\"]],\"type\":\"heatmapgl\"}],\"histogram\":[{\"marker\":{\"pattern\":{\"fillmode\":\"overlay\",\"size\":10,\"solidity\":0.2}},\"type\":\"histogram\"}],\"histogram2d\":[{\"colorbar\":{\"outlinewidth\":0,\"ticks\":\"\"},\"colorscale\":[[0.0,\"#0d0887\"],[0.1111111111111111,\"#46039f\"],[0.2222222222222222,\"#7201a8\"],[0.3333333333333333,\"#9c179e\"],[0.4444444444444444,\"#bd3786\"],[0.5555555555555556,\"#d8576b\"],[0.6666666666666666,\"#ed7953\"],[0.7777777777777778,\"#fb9f3a\"],[0.8888888888888888,\"#fdca26\"],[1.0,\"#f0f921\"]],\"type\":\"histogram2d\"}],\"histogram2dcontour\":[{\"colorbar\":{\"outlinewidth\":0,\"ticks\":\"\"},\"colorscale\":[[0.0,\"#0d0887\"],[0.1111111111111111,\"#46039f\"],[0.2222222222222222,\"#7201a8\"],[0.3333333333333333,\"#9c179e\"],[0.4444444444444444,\"#bd3786\"],[0.5555555555555556,\"#d8576b\"],[0.6666666666666666,\"#ed7953\"],[0.7777777777777778,\"#fb9f3a\"],[0.8888888888888888,\"#fdca26\"],[1.0,\"#f0f921\"]],\"type\":\"histogram2dcontour\"}],\"mesh3d\":[{\"colorbar\":{\"outlinewidth\":0,\"ticks\":\"\"},\"type\":\"mesh3d\"}],\"parcoords\":[{\"line\":{\"colorbar\":{\"outlinewidth\":0,\"ticks\":\"\"}},\"type\":\"parcoords\"}],\"pie\":[{\"automargin\":true,\"type\":\"pie\"}],\"scatter\":[{\"marker\":{\"colorbar\":{\"outlinewidth\":0,\"ticks\":\"\"}},\"type\":\"scatter\"}],\"scatter3d\":[{\"line\":{\"colorbar\":{\"outlinewidth\":0,\"ticks\":\"\"}},\"marker\":{\"colorbar\":{\"outlinewidth\":0,\"ticks\":\"\"}},\"type\":\"scatter3d\"}],\"scattercarpet\":[{\"marker\":{\"colorbar\":{\"outlinewidth\":0,\"ticks\":\"\"}},\"type\":\"scattercarpet\"}],\"scattergeo\":[{\"marker\":{\"colorbar\":{\"outlinewidth\":0,\"ticks\":\"\"}},\"type\":\"scattergeo\"}],\"scattergl\":[{\"marker\":{\"colorbar\":{\"outlinewidth\":0,\"ticks\":\"\"}},\"type\":\"scattergl\"}],\"scattermapbox\":[{\"marker\":{\"colorbar\":{\"outlinewidth\":0,\"ticks\":\"\"}},\"type\":\"scattermapbox\"}],\"scatterpolar\":[{\"marker\":{\"colorbar\":{\"outlinewidth\":0,\"ticks\":\"\"}},\"type\":\"scatterpolar\"}],\"scatterpolargl\":[{\"marker\":{\"colorbar\":{\"outlinewidth\":0,\"ticks\":\"\"}},\"type\":\"scatterpolargl\"}],\"scatterternary\":[{\"marker\":{\"colorbar\":{\"outlinewidth\":0,\"ticks\":\"\"}},\"type\":\"scatterternary\"}],\"surface\":[{\"colorbar\":{\"outlinewidth\":0,\"ticks\":\"\"},\"colorscale\":[[0.0,\"#0d0887\"],[0.1111111111111111,\"#46039f\"],[0.2222222222222222,\"#7201a8\"],[0.3333333333333333,\"#9c179e\"],[0.4444444444444444,\"#bd3786\"],[0.5555555555555556,\"#d8576b\"],[0.6666666666666666,\"#ed7953\"],[0.7777777777777778,\"#fb9f3a\"],[0.8888888888888888,\"#fdca26\"],[1.0,\"#f0f921\"]],\"type\":\"surface\"}],\"table\":[{\"cells\":{\"fill\":{\"color\":\"#EBF0F8\"},\"line\":{\"color\":\"white\"}},\"header\":{\"fill\":{\"color\":\"#C8D4E3\"},\"line\":{\"color\":\"white\"}},\"type\":\"table\"}]},\"layout\":{\"annotationdefaults\":{\"arrowcolor\":\"#2a3f5f\",\"arrowhead\":0,\"arrowwidth\":1},\"autotypenumbers\":\"strict\",\"coloraxis\":{\"colorbar\":{\"outlinewidth\":0,\"ticks\":\"\"}},\"colorscale\":{\"diverging\":[[0,\"#8e0152\"],[0.1,\"#c51b7d\"],[0.2,\"#de77ae\"],[0.3,\"#f1b6da\"],[0.4,\"#fde0ef\"],[0.5,\"#f7f7f7\"],[0.6,\"#e6f5d0\"],[0.7,\"#b8e186\"],[0.8,\"#7fbc41\"],[0.9,\"#4d9221\"],[1,\"#276419\"]],\"sequential\":[[0.0,\"#0d0887\"],[0.1111111111111111,\"#46039f\"],[0.2222222222222222,\"#7201a8\"],[0.3333333333333333,\"#9c179e\"],[0.4444444444444444,\"#bd3786\"],[0.5555555555555556,\"#d8576b\"],[0.6666666666666666,\"#ed7953\"],[0.7777777777777778,\"#fb9f3a\"],[0.8888888888888888,\"#fdca26\"],[1.0,\"#f0f921\"]],\"sequentialminus\":[[0.0,\"#0d0887\"],[0.1111111111111111,\"#46039f\"],[0.2222222222222222,\"#7201a8\"],[0.3333333333333333,\"#9c179e\"],[0.4444444444444444,\"#bd3786\"],[0.5555555555555556,\"#d8576b\"],[0.6666666666666666,\"#ed7953\"],[0.7777777777777778,\"#fb9f3a\"],[0.8888888888888888,\"#fdca26\"],[1.0,\"#f0f921\"]]},\"colorway\":[\"#636efa\",\"#EF553B\",\"#00cc96\",\"#ab63fa\",\"#FFA15A\",\"#19d3f3\",\"#FF6692\",\"#B6E880\",\"#FF97FF\",\"#FECB52\"],\"font\":{\"color\":\"#2a3f5f\"},\"geo\":{\"bgcolor\":\"white\",\"lakecolor\":\"white\",\"landcolor\":\"#E5ECF6\",\"showlakes\":true,\"showland\":true,\"subunitcolor\":\"white\"},\"hoverlabel\":{\"align\":\"left\"},\"hovermode\":\"closest\",\"mapbox\":{\"style\":\"light\"},\"paper_bgcolor\":\"white\",\"plot_bgcolor\":\"#E5ECF6\",\"polar\":{\"angularaxis\":{\"gridcolor\":\"white\",\"linecolor\":\"white\",\"ticks\":\"\"},\"bgcolor\":\"#E5ECF6\",\"radialaxis\":{\"gridcolor\":\"white\",\"linecolor\":\"white\",\"ticks\":\"\"}},\"scene\":{\"xaxis\":{\"backgroundcolor\":\"#E5ECF6\",\"gridcolor\":\"white\",\"gridwidth\":2,\"linecolor\":\"white\",\"showbackground\":true,\"ticks\":\"\",\"zerolinecolor\":\"white\"},\"yaxis\":{\"backgroundcolor\":\"#E5ECF6\",\"gridcolor\":\"white\",\"gridwidth\":2,\"linecolor\":\"white\",\"showbackground\":true,\"ticks\":\"\",\"zerolinecolor\":\"white\"},\"zaxis\":{\"backgroundcolor\":\"#E5ECF6\",\"gridcolor\":\"white\",\"gridwidth\":2,\"linecolor\":\"white\",\"showbackground\":true,\"ticks\":\"\",\"zerolinecolor\":\"white\"}},\"shapedefaults\":{\"line\":{\"color\":\"#2a3f5f\"}},\"ternary\":{\"aaxis\":{\"gridcolor\":\"white\",\"linecolor\":\"white\",\"ticks\":\"\"},\"baxis\":{\"gridcolor\":\"white\",\"linecolor\":\"white\",\"ticks\":\"\"},\"bgcolor\":\"#E5ECF6\",\"caxis\":{\"gridcolor\":\"white\",\"linecolor\":\"white\",\"ticks\":\"\"}},\"title\":{\"x\":0.05},\"xaxis\":{\"automargin\":true,\"gridcolor\":\"white\",\"linecolor\":\"white\",\"ticks\":\"\",\"title\":{\"standoff\":15},\"zerolinecolor\":\"white\",\"zerolinewidth\":2},\"yaxis\":{\"automargin\":true,\"gridcolor\":\"white\",\"linecolor\":\"white\",\"ticks\":\"\",\"title\":{\"standoff\":15},\"zerolinecolor\":\"white\",\"zerolinewidth\":2}}},\"xaxis\":{\"anchor\":\"y\",\"domain\":[0.0,1.0],\"title\":{\"text\":\"long\"}},\"yaxis\":{\"anchor\":\"x\",\"domain\":[0.0,1.0],\"title\":{\"text\":\"lat\"}},\"legend\":{\"title\":{\"text\":\"type\"},\"tracegroupgap\":0},\"title\":{\"text\":\"Fires Seen\"},\"height\":600,\"width\":600},                        {\"responsive\": true}                    ).then(function(){\n",
       "                            \n",
       "var gd = document.getElementById('86ec6822-befa-4806-9b55-d3b16e1435d1');\n",
       "var x = new MutationObserver(function (mutations, observer) {{\n",
       "        var display = window.getComputedStyle(gd).display;\n",
       "        if (!display || display === 'none') {{\n",
       "            console.log([gd, 'removed!']);\n",
       "            Plotly.purge(gd);\n",
       "            observer.disconnect();\n",
       "        }}\n",
       "}});\n",
       "\n",
       "// Listen for the removal of the full notebook cells\n",
       "var notebookContainer = gd.closest('#notebook-container');\n",
       "if (notebookContainer) {{\n",
       "    x.observe(notebookContainer, {childList: true});\n",
       "}}\n",
       "\n",
       "// Listen for the clearing of the current output cell\n",
       "var outputEl = gd.closest('.output');\n",
       "if (outputEl) {{\n",
       "    x.observe(outputEl, {childList: true});\n",
       "}}\n",
       "\n",
       "                        })                };                });            </script>        </div>"
      ]
     },
     "metadata": {},
     "output_type": "display_data"
    }
   ],
   "source": [
    "fig = px.scatter(df_plot,\n",
    "                 x=\"long\", \n",
    "                 y=\"lat\", \n",
    "                 color=\"type\", \n",
    "                 title=\"Fires Seen\",\n",
    "                text = \"landmark\",\n",
    "                width=600, height=600\n",
    "                )\n",
    "fig.update_traces(textposition='top center')\n",
    "fig.update_traces(marker=dict(size=20,\n",
    "                              line=dict(width=2,\n",
    "                                        color='DarkSlateGrey')),\n",
    "                  selector=dict(mode='markers'),\n",
    "                 textposition='top right')\n",
    "fig.show()"
   ]
  },
  {
   "cell_type": "code",
   "execution_count": 585,
   "metadata": {},
   "outputs": [],
   "source": [
    "#a FoV Left\n",
    "theta_a1 = angle_a-(np.pi/2)\n",
    "b1 = center_y1 - (np.tan(theta_a1) * center_x1)\n",
    "x1 = np.linspace(center_x1-.2, center_x1)\n",
    "y1 = x1*np.tan(theta_a1) + b1\n",
    "\n",
    "#a FoV Right\n",
    "theta_a2 = -theta_a1# - np.pi\n",
    "b2 = center_y1 - (np.tan(theta_a2) * center_x1)\n",
    "x2 = np.linspace(center_x1, center_x1+.2)\n",
    "y2 = x2*np.tan(theta_a2) + b2\n",
    "\n",
    "#Center Line\n",
    "theta_b1 = -((np.pi/2)-angle_b)\n",
    "b3 = center_y1 - (np.tan(theta_b1) * center_x1)\n",
    "x3 = np.linspace(-117,-116.6)\n",
    "y3 = x3*np.tan(theta_b1) + b3\n",
    "\n",
    "#Center Line\n",
    "#theta_b2 = -theta_b1 + np.pi\n",
    "#b4 = center_y2 - (np.tan(theta_b2) * center_x2)\n",
    "#x4 = np.linspace(-116.56, -116.96)\n",
    "#y4 = x4*np.tan(theta_b2) + b4\n",
    "\n",
    "\n",
    "#mg FoV Left\n",
    "theta_mg1 = angle_mg-(np.pi/2)\n",
    "b5 = center_y2 - (np.tan(theta_mg1) * center_x2)\n",
    "x5 = np.linspace(center_x2-.2, center_x2)\n",
    "y5 = x5*np.tan(theta_mg1) + b5\n",
    "\n",
    "#mg FoV Right\n",
    "theta_mg2 = -theta_mg1 - np.pi\n",
    "b6 = center_y2 - (np.tan(theta_mg2) * center_x2)\n",
    "x6 = np.linspace(center_x2, center_x2+.2)\n",
    "y6 = x6*np.tan(theta_mg2) + b6\n",
    "\"\"\"\n",
    "\n",
    "#Guess MG\n",
    "#ratio = (abs(1536-1030))/1536\n",
    "#b7 = center_y2 - (ratio * center_x2)\n",
    "#x7 = np.linspace(-117.261, -116.761)\n",
    "#y7 = x7*ratio + b7\n",
    "\n",
    "ang_mg_g = (angle_mg*(1-((1536-1030))/1536))# + np.pi/2 #*(1536-1040/1536)) #(abs(3072-1040)/3072)\n",
    "b7 = center_y2 - (np.tan(ang_mg_g) * center_x2)\n",
    "x7 = np.linspace(-117.061, -116.761)\n",
    "y7 = x7*np.tan(ang_mg_g) + b7\n",
    "\"\"\"\n",
    "\n",
    "#Guess 1\n",
    "ratio = (1024/(1265-1024))\n",
    "b8 = center_y1 - (ratio * center_x1)\n",
    "x8 = np.linspace(center_x1, center_x1+.2)\n",
    "y8 = x8*ratio + b8\n",
    "\n",
    "#ang_b_g =  (np.pi/2) - (angle_b*((1820-1024)/1024))\n",
    "#ang_b_g =  (np.pi/2) - (angle_b*((1820-1024)/1024))\n",
    "#b8 = center_y3 - (np.tan(ang_b_g) * center_x3)\n",
    "#x8 = np.linspace(-117.12, -116.82)\n",
    "#y8 = x8*np.tan(ang_b_g) + b8\n",
    "\n",
    "#Guess 2\n",
    "ratio = (1536/(1564-1536))\n",
    "b9 = center_y2 - (ratio * center_x2)\n",
    "x9 = np.linspace(center_x2-.2, center_x2+.2)\n",
    "y9 = x9*ratio + b9\n",
    "\n",
    "\n",
    "\n",
    "\n",
    "#Estimation Line a\n",
    "#ratio = (1024-1520)/2048\n",
    "#b3 = center_y1 - (ratio * center_x1)\n",
    "#x3 = np.linspace(-117.35,-117.19050)\n",
    "#y3 = x3*ratio + b3"
   ]
  },
  {
   "cell_type": "code",
   "execution_count": 536,
   "metadata": {},
   "outputs": [
    {
     "name": "stdout",
     "output_type": "stream",
     "text": [
      "114.68253051451445\n"
     ]
    }
   ],
   "source": [
    "import numpy as np\n",
    "\n",
    "a = np.array([-117.0057, 33.05488])\n",
    "b = np.array([-117.1164071, 32.98166822])\n",
    "c = np.array([-117.2343, 33.05488])\n",
    "\n",
    "ba = a - b\n",
    "bc = c - b\n",
    "\n",
    "cosine_angle = np.dot(ba, bc) / (np.linalg.norm(ba) * np.linalg.norm(bc))\n",
    "angle = np.arccos(cosine_angle)\n",
    "\n",
    "print(np.degrees(angle))"
   ]
  },
  {
   "cell_type": "code",
   "execution_count": 429,
   "metadata": {},
   "outputs": [],
   "source": [
    "x_int = -(b8 - b7)/(np.tan(ang_bl_g) - np.tan(ang_mg_g))\n",
    "y_int = x_int*np.tan(ang_bl_g) + b8"
   ]
  },
  {
   "cell_type": "code",
   "execution_count": 430,
   "metadata": {},
   "outputs": [
    {
     "name": "stdout",
     "output_type": "stream",
     "text": [
      "Point of Intersection: 68337.01507888117, 76794.33659330643\n"
     ]
    }
   ],
   "source": [
    "print(\"Point of Intersection: {}, {}\".format(x_int, y_int) )"
   ]
  },
  {
   "cell_type": "code",
   "execution_count": 431,
   "metadata": {},
   "outputs": [
    {
     "name": "stdout",
     "output_type": "stream",
     "text": [
      "Distance is 4485.956002645202km or 2787.442967319652mi\n"
     ]
    }
   ],
   "source": [
    "dist = haversine((x_int, y_int), (-117.0242529, 33.0971179))\n",
    "print(\"Distance is {}km or {}mi\".format(dist, 0.621371*dist))"
   ]
  },
  {
   "cell_type": "code",
   "execution_count": 576,
   "metadata": {},
   "outputs": [
    {
     "data": {
      "text/html": [
       "<div>\n",
       "<style scoped>\n",
       "    .dataframe tbody tr th:only-of-type {\n",
       "        vertical-align: middle;\n",
       "    }\n",
       "\n",
       "    .dataframe tbody tr th {\n",
       "        vertical-align: top;\n",
       "    }\n",
       "\n",
       "    .dataframe thead th {\n",
       "        text-align: right;\n",
       "    }\n",
       "</style>\n",
       "<table border=\"1\" class=\"dataframe\">\n",
       "  <thead>\n",
       "    <tr style=\"text-align: right;\">\n",
       "      <th></th>\n",
       "      <th>station</th>\n",
       "      <th>dir</th>\n",
       "      <th>lat</th>\n",
       "      <th>long</th>\n",
       "      <th>x_pixel</th>\n",
       "      <th>y_pixel</th>\n",
       "      <th>distance</th>\n",
       "      <th>landmark</th>\n",
       "      <th>type</th>\n",
       "      <th>code</th>\n",
       "    </tr>\n",
       "  </thead>\n",
       "  <tbody>\n",
       "    <tr>\n",
       "      <th>0</th>\n",
       "      <td>hp</td>\n",
       "      <td>n</td>\n",
       "      <td>33.525840</td>\n",
       "      <td>-116.852260</td>\n",
       "      <td>434</td>\n",
       "      <td>769</td>\n",
       "      <td>11.287872</td>\n",
       "      <td>Reed Fire</td>\n",
       "      <td>fire</td>\n",
       "      <td>hp</td>\n",
       "    </tr>\n",
       "    <tr>\n",
       "      <th>1</th>\n",
       "      <td>hp</td>\n",
       "      <td>n</td>\n",
       "      <td>33.504880</td>\n",
       "      <td>-117.021320</td>\n",
       "      <td>42</td>\n",
       "      <td>852</td>\n",
       "      <td>14.490812</td>\n",
       "      <td>Portola Fire</td>\n",
       "      <td>fire</td>\n",
       "      <td>hp</td>\n",
       "    </tr>\n",
       "    <tr>\n",
       "      <th>2</th>\n",
       "      <td>hp</td>\n",
       "      <td>n</td>\n",
       "      <td>33.524412</td>\n",
       "      <td>-116.821724</td>\n",
       "      <td>1062</td>\n",
       "      <td>792</td>\n",
       "      <td>11.182537</td>\n",
       "      <td>Bridle Fire</td>\n",
       "      <td>fire</td>\n",
       "      <td>hp</td>\n",
       "    </tr>\n",
       "    <tr>\n",
       "      <th>3</th>\n",
       "      <td>hp</td>\n",
       "      <td>n</td>\n",
       "      <td>33.563490</td>\n",
       "      <td>-116.732032</td>\n",
       "      <td>1552</td>\n",
       "      <td>761</td>\n",
       "      <td>15.097142</td>\n",
       "      <td>Benton Fire</td>\n",
       "      <td>fire</td>\n",
       "      <td>hp</td>\n",
       "    </tr>\n",
       "    <tr>\n",
       "      <th>4</th>\n",
       "      <td>hp</td>\n",
       "      <td>n</td>\n",
       "      <td>33.571763</td>\n",
       "      <td>-116.500058</td>\n",
       "      <td>780</td>\n",
       "      <td>741</td>\n",
       "      <td>24.154362</td>\n",
       "      <td>Ribbon Fire</td>\n",
       "      <td>fire</td>\n",
       "      <td>hp</td>\n",
       "    </tr>\n",
       "    <tr>\n",
       "      <th>5</th>\n",
       "      <td>hp</td>\n",
       "      <td>n</td>\n",
       "      <td>33.911000</td>\n",
       "      <td>-116.980528</td>\n",
       "      <td>561</td>\n",
       "      <td>775</td>\n",
       "      <td>38.761284</td>\n",
       "      <td>Wolf Fire</td>\n",
       "      <td>fire</td>\n",
       "      <td>hp</td>\n",
       "    </tr>\n",
       "    <tr>\n",
       "      <th>6</th>\n",
       "      <td>hp</td>\n",
       "      <td>n</td>\n",
       "      <td>33.514658</td>\n",
       "      <td>-116.788400</td>\n",
       "      <td>1265</td>\n",
       "      <td>784</td>\n",
       "      <td>10.834029</td>\n",
       "      <td>Meadow Fire</td>\n",
       "      <td>fire</td>\n",
       "      <td>hp</td>\n",
       "    </tr>\n",
       "    <tr>\n",
       "      <th>7</th>\n",
       "      <td>hp</td>\n",
       "      <td>n</td>\n",
       "      <td>33.551838</td>\n",
       "      <td>-116.746417</td>\n",
       "      <td>1358</td>\n",
       "      <td>767</td>\n",
       "      <td>14.035721</td>\n",
       "      <td>Tripp Fire</td>\n",
       "      <td>fire</td>\n",
       "      <td>hp</td>\n",
       "    </tr>\n",
       "    <tr>\n",
       "      <th>8</th>\n",
       "      <td>mg</td>\n",
       "      <td>n</td>\n",
       "      <td>33.346590</td>\n",
       "      <td>-116.661070</td>\n",
       "      <td>1438</td>\n",
       "      <td>957</td>\n",
       "      <td>12.322739</td>\n",
       "      <td>Lost Fire</td>\n",
       "      <td>fire</td>\n",
       "      <td>mg</td>\n",
       "    </tr>\n",
       "    <tr>\n",
       "      <th>9</th>\n",
       "      <td>mg</td>\n",
       "      <td>n</td>\n",
       "      <td>33.514658</td>\n",
       "      <td>-116.788400</td>\n",
       "      <td>1564</td>\n",
       "      <td>951</td>\n",
       "      <td>22.566776</td>\n",
       "      <td>Meadow Fire</td>\n",
       "      <td>fire</td>\n",
       "      <td>mg</td>\n",
       "    </tr>\n",
       "    <tr>\n",
       "      <th>10</th>\n",
       "      <td>sojr</td>\n",
       "      <td>w</td>\n",
       "      <td>33.514658</td>\n",
       "      <td>-116.788400</td>\n",
       "      <td>1258</td>\n",
       "      <td>669</td>\n",
       "      <td>13.414228</td>\n",
       "      <td>Meadow Fire</td>\n",
       "      <td>fire</td>\n",
       "      <td>sojr</td>\n",
       "    </tr>\n",
       "    <tr>\n",
       "      <th>11</th>\n",
       "      <td>sojr</td>\n",
       "      <td>w</td>\n",
       "      <td>33.463991</td>\n",
       "      <td>-116.914799</td>\n",
       "      <td>698</td>\n",
       "      <td>733</td>\n",
       "      <td>17.867698</td>\n",
       "      <td>Sage Fire</td>\n",
       "      <td>fire</td>\n",
       "      <td>sojr</td>\n",
       "    </tr>\n",
       "    <tr>\n",
       "      <th>12</th>\n",
       "      <td>mg</td>\n",
       "      <td>n</td>\n",
       "      <td>33.300662</td>\n",
       "      <td>-116.760773</td>\n",
       "      <td>1690</td>\n",
       "      <td>1080</td>\n",
       "      <td>12.430841</td>\n",
       "      <td>love valley clearing</td>\n",
       "      <td>landmark</td>\n",
       "      <td>mg</td>\n",
       "    </tr>\n",
       "    <tr>\n",
       "      <th>13</th>\n",
       "      <td>hp</td>\n",
       "      <td>n</td>\n",
       "      <td>33.363018</td>\n",
       "      <td>-116.836220</td>\n",
       "      <td>NaN</td>\n",
       "      <td>NaN</td>\n",
       "      <td>NaN</td>\n",
       "      <td>NaN</td>\n",
       "      <td>station</td>\n",
       "      <td>hp</td>\n",
       "    </tr>\n",
       "    <tr>\n",
       "      <th>14</th>\n",
       "      <td>mg</td>\n",
       "      <td>n</td>\n",
       "      <td>33.188869</td>\n",
       "      <td>-116.760651</td>\n",
       "      <td>NaN</td>\n",
       "      <td>NaN</td>\n",
       "      <td>NaN</td>\n",
       "      <td>NaN</td>\n",
       "      <td>station</td>\n",
       "      <td>mg</td>\n",
       "    </tr>\n",
       "    <tr>\n",
       "      <th>15</th>\n",
       "      <td>sojr</td>\n",
       "      <td>w</td>\n",
       "      <td>33.378700</td>\n",
       "      <td>-116.622300</td>\n",
       "      <td>NaN</td>\n",
       "      <td>NaN</td>\n",
       "      <td>NaN</td>\n",
       "      <td>NaN</td>\n",
       "      <td>station</td>\n",
       "      <td>sojr</td>\n",
       "    </tr>\n",
       "  </tbody>\n",
       "</table>\n",
       "</div>"
      ],
      "text/plain": [
       "   station dir        lat        long x_pixel y_pixel   distance  \\\n",
       "0       hp   n  33.525840 -116.852260     434     769  11.287872   \n",
       "1       hp   n  33.504880 -117.021320      42     852  14.490812   \n",
       "2       hp   n  33.524412 -116.821724    1062     792  11.182537   \n",
       "3       hp   n  33.563490 -116.732032    1552     761  15.097142   \n",
       "4       hp   n  33.571763 -116.500058     780     741  24.154362   \n",
       "5       hp   n  33.911000 -116.980528     561     775  38.761284   \n",
       "6       hp   n  33.514658 -116.788400    1265     784  10.834029   \n",
       "7       hp   n  33.551838 -116.746417    1358     767  14.035721   \n",
       "8       mg   n  33.346590 -116.661070    1438     957  12.322739   \n",
       "9       mg   n  33.514658 -116.788400    1564     951  22.566776   \n",
       "10    sojr   w  33.514658 -116.788400    1258     669  13.414228   \n",
       "11    sojr   w  33.463991 -116.914799     698     733  17.867698   \n",
       "12      mg   n  33.300662 -116.760773    1690    1080  12.430841   \n",
       "13      hp   n  33.363018 -116.836220     NaN     NaN        NaN   \n",
       "14      mg   n  33.188869 -116.760651     NaN     NaN        NaN   \n",
       "15    sojr   w  33.378700 -116.622300     NaN     NaN        NaN   \n",
       "\n",
       "                landmark      type  code  \n",
       "0              Reed Fire      fire    hp  \n",
       "1           Portola Fire      fire    hp  \n",
       "2            Bridle Fire      fire    hp  \n",
       "3            Benton Fire      fire    hp  \n",
       "4            Ribbon Fire      fire    hp  \n",
       "5             Wolf Fire       fire    hp  \n",
       "6            Meadow Fire      fire    hp  \n",
       "7            Tripp Fire       fire    hp  \n",
       "8              Lost Fire      fire    mg  \n",
       "9            Meadow Fire      fire    mg  \n",
       "10           Meadow Fire      fire  sojr  \n",
       "11             Sage Fire      fire  sojr  \n",
       "12  love valley clearing  landmark    mg  \n",
       "13                   NaN   station    hp  \n",
       "14                   NaN   station    mg  \n",
       "15                   NaN   station  sojr  "
      ]
     },
     "execution_count": 576,
     "metadata": {},
     "output_type": "execute_result"
    }
   ],
   "source": [
    "df_plot"
   ]
  },
  {
   "cell_type": "code",
   "execution_count": 586,
   "metadata": {},
   "outputs": [
    {
     "data": {
      "application/vnd.plotly.v1+json": {
       "config": {
        "plotlyServerURL": "https://plot.ly"
       },
       "data": [
        {
         "hovertemplate": "type=fire<br>long=%{x}<br>lat=%{y}<br>landmark=%{text}<extra></extra>",
         "legendgroup": "fire",
         "marker": {
          "color": "#636efa",
          "symbol": "circle"
         },
         "mode": "markers+text",
         "name": "fire",
         "orientation": "v",
         "showlegend": true,
         "text": [
          "Reed Fire",
          "Portola Fire",
          "Bridle Fire",
          "Benton Fire",
          "Ribbon Fire",
          "Wolf Fire ",
          "Meadow Fire",
          "Tripp Fire ",
          "Lost Fire",
          "Meadow Fire",
          "Meadow Fire",
          "Sage Fire"
         ],
         "textposition": "top center",
         "type": "scatter",
         "x": [
          -116.85226,
          -117.02132,
          -116.821724,
          -116.732032,
          -116.500058,
          -116.980528,
          -116.7884,
          -116.7464168,
          -116.66107,
          -116.7884,
          -116.7884,
          -116.914799
         ],
         "xaxis": "x",
         "y": [
          33.52584,
          33.50488,
          33.524412,
          33.56349,
          33.571763,
          33.911,
          33.514658,
          33.551838,
          33.34659,
          33.514658,
          33.514658,
          33.463991
         ],
         "yaxis": "y"
        },
        {
         "hovertemplate": "type=landmark<br>long=%{x}<br>lat=%{y}<br>landmark=%{text}<extra></extra>",
         "legendgroup": "landmark",
         "marker": {
          "color": "#EF553B",
          "symbol": "circle"
         },
         "mode": "markers+text",
         "name": "landmark",
         "orientation": "v",
         "showlegend": true,
         "text": [
          "love valley clearing"
         ],
         "textposition": "top center",
         "type": "scatter",
         "x": [
          -116.760773
         ],
         "xaxis": "x",
         "y": [
          33.30066204
         ],
         "yaxis": "y"
        },
        {
         "hovertemplate": "type=station<br>long=%{x}<br>lat=%{y}<br>landmark=%{text}<extra></extra>",
         "legendgroup": "station",
         "marker": {
          "color": "#00cc96",
          "symbol": "circle"
         },
         "mode": "markers+text",
         "name": "station",
         "orientation": "v",
         "showlegend": true,
         "text": [
          null,
          null,
          null
         ],
         "textposition": "top center",
         "type": "scatter",
         "x": [
          -116.83622,
          -116.760651,
          -116.6223
         ],
         "xaxis": "x",
         "y": [
          33.363018,
          33.188869,
          33.3787
         ],
         "yaxis": "y"
        },
        {
         "marker": {
          "color": "lightcoral"
         },
         "mode": "lines",
         "name": "left fov 1",
         "textfont": {
          "size": 24
         },
         "type": "scatter",
         "x": [
          -117.03622,
          -117.03213836734695,
          -117.02805673469388,
          -117.02397510204082,
          -117.01989346938775,
          -117.0158118367347,
          -117.01173020408163,
          -117.00764857142858,
          -117.0035669387755,
          -116.99948530612245,
          -116.99540367346938,
          -116.99132204081633,
          -116.98724040816326,
          -116.9831587755102,
          -116.97907714285714,
          -116.97499551020408,
          -116.97091387755101,
          -116.96683224489796,
          -116.9627506122449,
          -116.95866897959183,
          -116.95458734693878,
          -116.95050571428571,
          -116.94642408163266,
          -116.94234244897959,
          -116.93826081632653,
          -116.93417918367346,
          -116.93009755102041,
          -116.92601591836734,
          -116.92193428571429,
          -116.91785265306122,
          -116.91377102040816,
          -116.9096893877551,
          -116.90560775510204,
          -116.90152612244898,
          -116.89744448979592,
          -116.89336285714286,
          -116.88928122448979,
          -116.88519959183674,
          -116.88111795918367,
          -116.87703632653061,
          -116.87295469387755,
          -116.86887306122449,
          -116.86479142857142,
          -116.86070979591837,
          -116.8566281632653,
          -116.85254653061224,
          -116.84846489795918,
          -116.84438326530612,
          -116.84030163265305,
          -116.83622
         ],
         "y": [
          33.232030109180116,
          33.234703331441736,
          33.23737655370337,
          33.240049775965005,
          33.24272299822664,
          33.24539622048826,
          33.248069442749895,
          33.25074266501153,
          33.253415887273164,
          33.256089109534784,
          33.25876233179642,
          33.26143555405804,
          33.264108776319674,
          33.26678199858131,
          33.26945522084294,
          33.27212844310456,
          33.2748016653662,
          33.27747488762783,
          33.28014810988945,
          33.28282133215109,
          33.28549455441271,
          33.288167776674356,
          33.29084099893598,
          33.29351422119761,
          33.29618744345923,
          33.298860665720866,
          33.3015338879825,
          33.304207110244135,
          33.306880332505756,
          33.30955355476739,
          33.312226777029025,
          33.31489999929066,
          33.31757322155228,
          33.3202464438139,
          33.322919666075535,
          33.32559288833717,
          33.328266110598804,
          33.330939332860424,
          33.33361255512206,
          33.336285777383694,
          33.33895899964533,
          33.34163222190695,
          33.34430544416858,
          33.3469786664302,
          33.34965188869185,
          33.35232511095347,
          33.35499833321511,
          33.35767155547673,
          33.36034477773836,
          33.363018
         ]
        },
        {
         "marker": {
          "color": "lightcoral"
         },
         "mode": "lines",
         "name": "right fov 1",
         "textfont": {
          "size": 24
         },
         "type": "scatter",
         "x": [
          -116.83622,
          -116.83213836734694,
          -116.82805673469387,
          -116.82397510204082,
          -116.81989346938775,
          -116.8158118367347,
          -116.81173020408163,
          -116.80764857142857,
          -116.8035669387755,
          -116.79948530612245,
          -116.79540367346938,
          -116.79132204081633,
          -116.78724040816326,
          -116.7831587755102,
          -116.77907714285713,
          -116.77499551020408,
          -116.77091387755101,
          -116.76683224489796,
          -116.7627506122449,
          -116.75866897959183,
          -116.75458734693878,
          -116.75050571428571,
          -116.74642408163265,
          -116.74234244897958,
          -116.73826081632653,
          -116.73417918367346,
          -116.7300975510204,
          -116.72601591836734,
          -116.72193428571428,
          -116.71785265306121,
          -116.71377102040816,
          -116.70968938775509,
          -116.70560775510204,
          -116.70152612244898,
          -116.69744448979591,
          -116.69336285714286,
          -116.68928122448979,
          -116.68519959183674,
          -116.68111795918367,
          -116.67703632653061,
          -116.67295469387754,
          -116.66887306122449,
          -116.66479142857142,
          -116.66070979591836,
          -116.6566281632653,
          -116.65254653061224,
          -116.64846489795917,
          -116.64438326530612,
          -116.64030163265305,
          -116.63622
         ],
         "y": [
          33.363018,
          33.360344777738376,
          33.35767155547674,
          33.35499833321511,
          33.35232511095347,
          33.34965188869185,
          33.34697866643022,
          33.3443054441686,
          33.34163222190696,
          33.33895899964533,
          33.336285777383694,
          33.33361255512207,
          33.33093933286044,
          33.328266110598804,
          33.32559288833717,
          33.32291966607555,
          33.320246443813915,
          33.31757322155228,
          33.31489999929066,
          33.312226777029025,
          33.309553554767405,
          33.30688033250577,
          33.304207110244135,
          33.3015338879825,
          33.29886066572088,
          33.296187443459246,
          33.29351422119761,
          33.29084099893598,
          33.288167776674356,
          33.28549455441272,
          33.2828213321511,
          33.28014810988947,
          33.27747488762783,
          33.27480166536621,
          33.27212844310458,
          33.26945522084294,
          33.26678199858131,
          33.26410877631969,
          33.26143555405805,
          33.25876233179642,
          33.256089109534784,
          33.253415887273164,
          33.25074266501153,
          33.24806944274991,
          33.245396220488274,
          33.24272299822664,
          33.240049775965005,
          33.237376553703385,
          33.23470333144175,
          33.232030109180116
         ]
        },
        {
         "marker": {
          "color": "lightsteelblue"
         },
         "mode": "lines",
         "name": "Guess 2",
         "textfont": {
          "size": 24
         },
         "type": "scatter",
         "x": [
          -116.960651,
          -116.95248773469388,
          -116.94432446938775,
          -116.93616120408163,
          -116.9279979387755,
          -116.91983467346938,
          -116.91167140816326,
          -116.90350814285713,
          -116.89534487755101,
          -116.8871816122449,
          -116.87901834693878,
          -116.87085508163266,
          -116.86269181632653,
          -116.85452855102041,
          -116.84636528571428,
          -116.83820202040816,
          -116.83003875510204,
          -116.82187548979591,
          -116.81371222448979,
          -116.80554895918367,
          -116.79738569387754,
          -116.78922242857142,
          -116.7810591632653,
          -116.77289589795917,
          -116.76473263265305,
          -116.75656936734694,
          -116.74840610204082,
          -116.7402428367347,
          -116.73207957142857,
          -116.72391630612245,
          -116.71575304081632,
          -116.7075897755102,
          -116.69942651020408,
          -116.69126324489795,
          -116.68309997959183,
          -116.6749367142857,
          -116.66677344897958,
          -116.65861018367346,
          -116.65044691836734,
          -116.64228365306121,
          -116.63412038775509,
          -116.62595712244898,
          -116.61779385714286,
          -116.60963059183673,
          -116.60146732653061,
          -116.59330406122449,
          -116.58514079591836,
          -116.57697753061224,
          -116.56881426530612,
          -116.560651
         ],
         "y": [
          22.217440428571535,
          22.665253839650177,
          23.113067250728818,
          23.56088066180746,
          24.0086940728861,
          24.456507483964742,
          24.904320895044293,
          25.352134306122935,
          25.799947717201576,
          26.247761128279308,
          26.69557453935795,
          27.14338795043659,
          27.59120136151614,
          28.039014772594783,
          28.486828183673424,
          28.934641594752065,
          29.382455005830707,
          29.830268416909348,
          30.27808182798799,
          30.72589523906754,
          31.17370865014618,
          31.621522061224823,
          32.069335472303464,
          32.517148883382106,
          32.96496229446075,
          33.41277570553939,
          33.86058911661803,
          34.30840252769667,
          34.75621593877531,
          35.204029349853954,
          35.651842760932595,
          36.09965617201124,
          36.54746958309079,
          36.99528299416943,
          37.44309640524807,
          37.89090981632671,
          38.33872322740535,
          38.786536638483994,
          39.234350049562636,
          39.68216346064219,
          40.12997687172083,
          40.57779028279856,
          41.0256036938772,
          41.47341710495584,
          41.921230516034484,
          42.369043927114035,
          42.816857338192676,
          43.26467074927132,
          43.71248416034996,
          44.1602975714286
         ]
        },
        {
         "marker": {
          "color": "lightsteelblue"
         },
         "mode": "lines",
         "name": "left fov 2",
         "textfont": {
          "size": 24
         },
         "type": "scatter",
         "x": [
          -116.960651,
          -116.95656936734694,
          -116.95248773469388,
          -116.94840610204082,
          -116.94432446938775,
          -116.9402428367347,
          -116.93616120408163,
          -116.93207957142857,
          -116.9279979387755,
          -116.92391630612245,
          -116.91983467346938,
          -116.91575304081633,
          -116.91167140816326,
          -116.9075897755102,
          -116.90350814285713,
          -116.89942651020408,
          -116.89534487755101,
          -116.89126324489796,
          -116.8871816122449,
          -116.88309997959183,
          -116.87901834693878,
          -116.87493671428571,
          -116.87085508163266,
          -116.86677344897959,
          -116.86269181632653,
          -116.85861018367346,
          -116.85452855102041,
          -116.85044691836734,
          -116.84636528571428,
          -116.84228365306122,
          -116.83820202040816,
          -116.83412038775509,
          -116.83003875510204,
          -116.82595712244898,
          -116.82187548979591,
          -116.81779385714286,
          -116.81371222448979,
          -116.80963059183674,
          -116.80554895918367,
          -116.80146732653061,
          -116.79738569387754,
          -116.79330406122449,
          -116.78922242857142,
          -116.78514079591837,
          -116.7810591632653,
          -116.77697753061224,
          -116.77289589795917,
          -116.76881426530612,
          -116.76473263265305,
          -116.760651
         ],
         "y": [
          33.2538936563539,
          33.252566622550766,
          33.25123958874762,
          33.24991255494448,
          33.24858552114134,
          33.2472584873382,
          33.24593145353506,
          33.24460441973192,
          33.24327738592878,
          33.241950352125635,
          33.24062331832249,
          33.239296284519355,
          33.23796925071621,
          33.23664221691307,
          33.235315183109925,
          33.23398814930679,
          33.232661115503646,
          33.23133408170051,
          33.23000704789737,
          33.22868001409422,
          33.22735298029109,
          33.226025946487944,
          33.2246989126848,
          33.22337187888166,
          33.22204484507852,
          33.22071781127538,
          33.21939077747224,
          33.2180637436691,
          33.216736709865955,
          33.21540967606281,
          33.214082642259676,
          33.21275560845653,
          33.21142857465339,
          33.21010154085025,
          33.20877450704711,
          33.207447473243974,
          33.20612043944083,
          33.20479340563769,
          33.203466371834544,
          33.20213933803141,
          33.200812304228265,
          33.19948527042512,
          33.19815823662198,
          33.19683120281884,
          33.1955041690157,
          33.19417713521256,
          33.19285010140942,
          33.191523067606276,
          33.19019603380313,
          33.188869
         ]
        },
        {
         "marker": {
          "color": "lightsteelblue"
         },
         "mode": "lines",
         "name": "right fov 2",
         "type": "scatter",
         "x": [
          -116.760651,
          -116.75656936734694,
          -116.75248773469387,
          -116.74840610204082,
          -116.74432446938775,
          -116.7402428367347,
          -116.73616120408163,
          -116.73207957142857,
          -116.7279979387755,
          -116.72391630612245,
          -116.71983467346938,
          -116.71575304081632,
          -116.71167140816326,
          -116.7075897755102,
          -116.70350814285713,
          -116.69942651020408,
          -116.69534487755101,
          -116.69126324489795,
          -116.6871816122449,
          -116.68309997959183,
          -116.67901834693878,
          -116.6749367142857,
          -116.67085508163265,
          -116.66677344897958,
          -116.66269181632653,
          -116.65861018367346,
          -116.6545285510204,
          -116.65044691836734,
          -116.64636528571428,
          -116.64228365306121,
          -116.63820202040816,
          -116.63412038775509,
          -116.63003875510203,
          -116.62595712244898,
          -116.62187548979591,
          -116.61779385714286,
          -116.61371222448979,
          -116.60963059183673,
          -116.60554895918366,
          -116.60146732653061,
          -116.59738569387754,
          -116.59330406122449,
          -116.58922242857142,
          -116.58514079591836,
          -116.5810591632653,
          -116.57697753061224,
          -116.57289589795917,
          -116.56881426530612,
          -116.56473263265305,
          -116.560651
         ],
         "y": [
          33.18886899999999,
          33.19019603380313,
          33.191523067606276,
          33.19285010140941,
          33.194177135212556,
          33.1955041690157,
          33.19683120281884,
          33.19815823662198,
          33.19948527042512,
          33.20081230422826,
          33.2021393380314,
          33.203466371834544,
          33.20479340563769,
          33.206120439440824,
          33.20744747324397,
          33.20877450704711,
          33.21010154085025,
          33.21142857465339,
          33.212755608456526,
          33.21408264225967,
          33.21540967606281,
          33.216736709865955,
          33.21806374366909,
          33.219390777472235,
          33.22071781127537,
          33.222044845078514,
          33.22337187888166,
          33.2246989126848,
          33.22602594648794,
          33.22735298029108,
          33.22868001409422,
          33.23000704789737,
          33.2313340817005,
          33.23266111550364,
          33.23398814930678,
          33.235315183109925,
          33.23664221691307,
          33.237969250716205,
          33.23929628451935,
          33.24062331832249,
          33.241950352125635,
          33.24327738592877,
          33.244604419731914,
          33.24593145353505,
          33.24725848733819,
          33.24858552114134,
          33.24991255494448,
          33.251239588747616,
          33.25256662255076,
          33.2538936563539
         ]
        },
        {
         "marker": {
          "color": "lightcoral"
         },
         "mode": "lines",
         "name": "Guess 1",
         "type": "scatter",
         "x": [
          -116.83622,
          -116.83213836734694,
          -116.82805673469387,
          -116.82397510204082,
          -116.81989346938775,
          -116.8158118367347,
          -116.81173020408163,
          -116.80764857142857,
          -116.8035669387755,
          -116.79948530612245,
          -116.79540367346938,
          -116.79132204081633,
          -116.78724040816326,
          -116.7831587755102,
          -116.77907714285713,
          -116.77499551020408,
          -116.77091387755101,
          -116.76683224489796,
          -116.7627506122449,
          -116.75866897959183,
          -116.75458734693878,
          -116.75050571428571,
          -116.74642408163265,
          -116.74234244897958,
          -116.73826081632653,
          -116.73417918367346,
          -116.7300975510204,
          -116.72601591836734,
          -116.72193428571428,
          -116.71785265306121,
          -116.71377102040816,
          -116.70968938775509,
          -116.70560775510204,
          -116.70152612244898,
          -116.69744448979591,
          -116.69336285714286,
          -116.68928122448979,
          -116.68519959183674,
          -116.68111795918367,
          -116.67703632653061,
          -116.67295469387754,
          -116.66887306122449,
          -116.66479142857142,
          -116.66070979591836,
          -116.6566281632653,
          -116.65254653061224,
          -116.64846489795917,
          -116.64438326530612,
          -116.64030163265305,
          -116.63622
         ],
         "y": [
          33.36301800000001,
          33.38036070471668,
          33.39770340943346,
          33.415046114150186,
          33.43238881886697,
          33.449731523583694,
          33.467074228300476,
          33.484416933017144,
          33.501759637733926,
          33.51910234245065,
          33.53644504716743,
          33.55378775188416,
          33.57113045660088,
          33.58847316131761,
          33.60581586603439,
          33.623158570751116,
          33.6405012754679,
          33.65784398018462,
          33.67518668490129,
          33.69252938961807,
          33.7098720943348,
          33.72721479905158,
          33.744557503768306,
          33.76190020848503,
          33.779242913201756,
          33.79658561791854,
          33.81392832263526,
          33.831271027352045,
          33.84861373206877,
          33.865956436785495,
          33.88329914150222,
          33.900641846219,
          33.91798455093573,
          33.93532725565245,
          33.952669960369235,
          33.9700126650859,
          33.987355369802685,
          34.00469807451941,
          34.02204077923619,
          34.03938348395292,
          34.05672618866964,
          34.07406889338637,
          34.09141159810315,
          34.108754302819875,
          34.12609700753666,
          34.14343971225338,
          34.16078241697011,
          34.17812512168683,
          34.195467826403615,
          34.21281053112034
         ]
        }
       ],
       "layout": {
        "height": 1000,
        "legend": {
         "title": {
          "text": "type"
         },
         "tracegroupgap": 0
        },
        "template": {
         "data": {
          "bar": [
           {
            "error_x": {
             "color": "#2a3f5f"
            },
            "error_y": {
             "color": "#2a3f5f"
            },
            "marker": {
             "line": {
              "color": "#E5ECF6",
              "width": 0.5
             },
             "pattern": {
              "fillmode": "overlay",
              "size": 10,
              "solidity": 0.2
             }
            },
            "type": "bar"
           }
          ],
          "barpolar": [
           {
            "marker": {
             "line": {
              "color": "#E5ECF6",
              "width": 0.5
             },
             "pattern": {
              "fillmode": "overlay",
              "size": 10,
              "solidity": 0.2
             }
            },
            "type": "barpolar"
           }
          ],
          "carpet": [
           {
            "aaxis": {
             "endlinecolor": "#2a3f5f",
             "gridcolor": "white",
             "linecolor": "white",
             "minorgridcolor": "white",
             "startlinecolor": "#2a3f5f"
            },
            "baxis": {
             "endlinecolor": "#2a3f5f",
             "gridcolor": "white",
             "linecolor": "white",
             "minorgridcolor": "white",
             "startlinecolor": "#2a3f5f"
            },
            "type": "carpet"
           }
          ],
          "choropleth": [
           {
            "colorbar": {
             "outlinewidth": 0,
             "ticks": ""
            },
            "type": "choropleth"
           }
          ],
          "contour": [
           {
            "colorbar": {
             "outlinewidth": 0,
             "ticks": ""
            },
            "colorscale": [
             [
              0,
              "#0d0887"
             ],
             [
              0.1111111111111111,
              "#46039f"
             ],
             [
              0.2222222222222222,
              "#7201a8"
             ],
             [
              0.3333333333333333,
              "#9c179e"
             ],
             [
              0.4444444444444444,
              "#bd3786"
             ],
             [
              0.5555555555555556,
              "#d8576b"
             ],
             [
              0.6666666666666666,
              "#ed7953"
             ],
             [
              0.7777777777777778,
              "#fb9f3a"
             ],
             [
              0.8888888888888888,
              "#fdca26"
             ],
             [
              1,
              "#f0f921"
             ]
            ],
            "type": "contour"
           }
          ],
          "contourcarpet": [
           {
            "colorbar": {
             "outlinewidth": 0,
             "ticks": ""
            },
            "type": "contourcarpet"
           }
          ],
          "heatmap": [
           {
            "colorbar": {
             "outlinewidth": 0,
             "ticks": ""
            },
            "colorscale": [
             [
              0,
              "#0d0887"
             ],
             [
              0.1111111111111111,
              "#46039f"
             ],
             [
              0.2222222222222222,
              "#7201a8"
             ],
             [
              0.3333333333333333,
              "#9c179e"
             ],
             [
              0.4444444444444444,
              "#bd3786"
             ],
             [
              0.5555555555555556,
              "#d8576b"
             ],
             [
              0.6666666666666666,
              "#ed7953"
             ],
             [
              0.7777777777777778,
              "#fb9f3a"
             ],
             [
              0.8888888888888888,
              "#fdca26"
             ],
             [
              1,
              "#f0f921"
             ]
            ],
            "type": "heatmap"
           }
          ],
          "heatmapgl": [
           {
            "colorbar": {
             "outlinewidth": 0,
             "ticks": ""
            },
            "colorscale": [
             [
              0,
              "#0d0887"
             ],
             [
              0.1111111111111111,
              "#46039f"
             ],
             [
              0.2222222222222222,
              "#7201a8"
             ],
             [
              0.3333333333333333,
              "#9c179e"
             ],
             [
              0.4444444444444444,
              "#bd3786"
             ],
             [
              0.5555555555555556,
              "#d8576b"
             ],
             [
              0.6666666666666666,
              "#ed7953"
             ],
             [
              0.7777777777777778,
              "#fb9f3a"
             ],
             [
              0.8888888888888888,
              "#fdca26"
             ],
             [
              1,
              "#f0f921"
             ]
            ],
            "type": "heatmapgl"
           }
          ],
          "histogram": [
           {
            "marker": {
             "pattern": {
              "fillmode": "overlay",
              "size": 10,
              "solidity": 0.2
             }
            },
            "type": "histogram"
           }
          ],
          "histogram2d": [
           {
            "colorbar": {
             "outlinewidth": 0,
             "ticks": ""
            },
            "colorscale": [
             [
              0,
              "#0d0887"
             ],
             [
              0.1111111111111111,
              "#46039f"
             ],
             [
              0.2222222222222222,
              "#7201a8"
             ],
             [
              0.3333333333333333,
              "#9c179e"
             ],
             [
              0.4444444444444444,
              "#bd3786"
             ],
             [
              0.5555555555555556,
              "#d8576b"
             ],
             [
              0.6666666666666666,
              "#ed7953"
             ],
             [
              0.7777777777777778,
              "#fb9f3a"
             ],
             [
              0.8888888888888888,
              "#fdca26"
             ],
             [
              1,
              "#f0f921"
             ]
            ],
            "type": "histogram2d"
           }
          ],
          "histogram2dcontour": [
           {
            "colorbar": {
             "outlinewidth": 0,
             "ticks": ""
            },
            "colorscale": [
             [
              0,
              "#0d0887"
             ],
             [
              0.1111111111111111,
              "#46039f"
             ],
             [
              0.2222222222222222,
              "#7201a8"
             ],
             [
              0.3333333333333333,
              "#9c179e"
             ],
             [
              0.4444444444444444,
              "#bd3786"
             ],
             [
              0.5555555555555556,
              "#d8576b"
             ],
             [
              0.6666666666666666,
              "#ed7953"
             ],
             [
              0.7777777777777778,
              "#fb9f3a"
             ],
             [
              0.8888888888888888,
              "#fdca26"
             ],
             [
              1,
              "#f0f921"
             ]
            ],
            "type": "histogram2dcontour"
           }
          ],
          "mesh3d": [
           {
            "colorbar": {
             "outlinewidth": 0,
             "ticks": ""
            },
            "type": "mesh3d"
           }
          ],
          "parcoords": [
           {
            "line": {
             "colorbar": {
              "outlinewidth": 0,
              "ticks": ""
             }
            },
            "type": "parcoords"
           }
          ],
          "pie": [
           {
            "automargin": true,
            "type": "pie"
           }
          ],
          "scatter": [
           {
            "marker": {
             "colorbar": {
              "outlinewidth": 0,
              "ticks": ""
             }
            },
            "type": "scatter"
           }
          ],
          "scatter3d": [
           {
            "line": {
             "colorbar": {
              "outlinewidth": 0,
              "ticks": ""
             }
            },
            "marker": {
             "colorbar": {
              "outlinewidth": 0,
              "ticks": ""
             }
            },
            "type": "scatter3d"
           }
          ],
          "scattercarpet": [
           {
            "marker": {
             "colorbar": {
              "outlinewidth": 0,
              "ticks": ""
             }
            },
            "type": "scattercarpet"
           }
          ],
          "scattergeo": [
           {
            "marker": {
             "colorbar": {
              "outlinewidth": 0,
              "ticks": ""
             }
            },
            "type": "scattergeo"
           }
          ],
          "scattergl": [
           {
            "marker": {
             "colorbar": {
              "outlinewidth": 0,
              "ticks": ""
             }
            },
            "type": "scattergl"
           }
          ],
          "scattermapbox": [
           {
            "marker": {
             "colorbar": {
              "outlinewidth": 0,
              "ticks": ""
             }
            },
            "type": "scattermapbox"
           }
          ],
          "scatterpolar": [
           {
            "marker": {
             "colorbar": {
              "outlinewidth": 0,
              "ticks": ""
             }
            },
            "type": "scatterpolar"
           }
          ],
          "scatterpolargl": [
           {
            "marker": {
             "colorbar": {
              "outlinewidth": 0,
              "ticks": ""
             }
            },
            "type": "scatterpolargl"
           }
          ],
          "scatterternary": [
           {
            "marker": {
             "colorbar": {
              "outlinewidth": 0,
              "ticks": ""
             }
            },
            "type": "scatterternary"
           }
          ],
          "surface": [
           {
            "colorbar": {
             "outlinewidth": 0,
             "ticks": ""
            },
            "colorscale": [
             [
              0,
              "#0d0887"
             ],
             [
              0.1111111111111111,
              "#46039f"
             ],
             [
              0.2222222222222222,
              "#7201a8"
             ],
             [
              0.3333333333333333,
              "#9c179e"
             ],
             [
              0.4444444444444444,
              "#bd3786"
             ],
             [
              0.5555555555555556,
              "#d8576b"
             ],
             [
              0.6666666666666666,
              "#ed7953"
             ],
             [
              0.7777777777777778,
              "#fb9f3a"
             ],
             [
              0.8888888888888888,
              "#fdca26"
             ],
             [
              1,
              "#f0f921"
             ]
            ],
            "type": "surface"
           }
          ],
          "table": [
           {
            "cells": {
             "fill": {
              "color": "#EBF0F8"
             },
             "line": {
              "color": "white"
             }
            },
            "header": {
             "fill": {
              "color": "#C8D4E3"
             },
             "line": {
              "color": "white"
             }
            },
            "type": "table"
           }
          ]
         },
         "layout": {
          "annotationdefaults": {
           "arrowcolor": "#2a3f5f",
           "arrowhead": 0,
           "arrowwidth": 1
          },
          "autotypenumbers": "strict",
          "coloraxis": {
           "colorbar": {
            "outlinewidth": 0,
            "ticks": ""
           }
          },
          "colorscale": {
           "diverging": [
            [
             0,
             "#8e0152"
            ],
            [
             0.1,
             "#c51b7d"
            ],
            [
             0.2,
             "#de77ae"
            ],
            [
             0.3,
             "#f1b6da"
            ],
            [
             0.4,
             "#fde0ef"
            ],
            [
             0.5,
             "#f7f7f7"
            ],
            [
             0.6,
             "#e6f5d0"
            ],
            [
             0.7,
             "#b8e186"
            ],
            [
             0.8,
             "#7fbc41"
            ],
            [
             0.9,
             "#4d9221"
            ],
            [
             1,
             "#276419"
            ]
           ],
           "sequential": [
            [
             0,
             "#0d0887"
            ],
            [
             0.1111111111111111,
             "#46039f"
            ],
            [
             0.2222222222222222,
             "#7201a8"
            ],
            [
             0.3333333333333333,
             "#9c179e"
            ],
            [
             0.4444444444444444,
             "#bd3786"
            ],
            [
             0.5555555555555556,
             "#d8576b"
            ],
            [
             0.6666666666666666,
             "#ed7953"
            ],
            [
             0.7777777777777778,
             "#fb9f3a"
            ],
            [
             0.8888888888888888,
             "#fdca26"
            ],
            [
             1,
             "#f0f921"
            ]
           ],
           "sequentialminus": [
            [
             0,
             "#0d0887"
            ],
            [
             0.1111111111111111,
             "#46039f"
            ],
            [
             0.2222222222222222,
             "#7201a8"
            ],
            [
             0.3333333333333333,
             "#9c179e"
            ],
            [
             0.4444444444444444,
             "#bd3786"
            ],
            [
             0.5555555555555556,
             "#d8576b"
            ],
            [
             0.6666666666666666,
             "#ed7953"
            ],
            [
             0.7777777777777778,
             "#fb9f3a"
            ],
            [
             0.8888888888888888,
             "#fdca26"
            ],
            [
             1,
             "#f0f921"
            ]
           ]
          },
          "colorway": [
           "#636efa",
           "#EF553B",
           "#00cc96",
           "#ab63fa",
           "#FFA15A",
           "#19d3f3",
           "#FF6692",
           "#B6E880",
           "#FF97FF",
           "#FECB52"
          ],
          "font": {
           "color": "#2a3f5f"
          },
          "geo": {
           "bgcolor": "white",
           "lakecolor": "white",
           "landcolor": "#E5ECF6",
           "showlakes": true,
           "showland": true,
           "subunitcolor": "white"
          },
          "hoverlabel": {
           "align": "left"
          },
          "hovermode": "closest",
          "mapbox": {
           "style": "light"
          },
          "paper_bgcolor": "white",
          "plot_bgcolor": "#E5ECF6",
          "polar": {
           "angularaxis": {
            "gridcolor": "white",
            "linecolor": "white",
            "ticks": ""
           },
           "bgcolor": "#E5ECF6",
           "radialaxis": {
            "gridcolor": "white",
            "linecolor": "white",
            "ticks": ""
           }
          },
          "scene": {
           "xaxis": {
            "backgroundcolor": "#E5ECF6",
            "gridcolor": "white",
            "gridwidth": 2,
            "linecolor": "white",
            "showbackground": true,
            "ticks": "",
            "zerolinecolor": "white"
           },
           "yaxis": {
            "backgroundcolor": "#E5ECF6",
            "gridcolor": "white",
            "gridwidth": 2,
            "linecolor": "white",
            "showbackground": true,
            "ticks": "",
            "zerolinecolor": "white"
           },
           "zaxis": {
            "backgroundcolor": "#E5ECF6",
            "gridcolor": "white",
            "gridwidth": 2,
            "linecolor": "white",
            "showbackground": true,
            "ticks": "",
            "zerolinecolor": "white"
           }
          },
          "shapedefaults": {
           "line": {
            "color": "#2a3f5f"
           }
          },
          "ternary": {
           "aaxis": {
            "gridcolor": "white",
            "linecolor": "white",
            "ticks": ""
           },
           "baxis": {
            "gridcolor": "white",
            "linecolor": "white",
            "ticks": ""
           },
           "bgcolor": "#E5ECF6",
           "caxis": {
            "gridcolor": "white",
            "linecolor": "white",
            "ticks": ""
           }
          },
          "title": {
           "x": 0.05
          },
          "xaxis": {
           "automargin": true,
           "gridcolor": "white",
           "linecolor": "white",
           "ticks": "",
           "title": {
            "standoff": 15
           },
           "zerolinecolor": "white",
           "zerolinewidth": 2
          },
          "yaxis": {
           "automargin": true,
           "gridcolor": "white",
           "linecolor": "white",
           "ticks": "",
           "title": {
            "standoff": 15
           },
           "zerolinecolor": "white",
           "zerolinewidth": 2
          }
         }
        },
        "title": {
         "text": "Station Camera & Fires Seen"
        },
        "width": 1000,
        "xaxis": {
         "anchor": "y",
         "domain": [
          0,
          1
         ],
         "title": {
          "text": "long"
         }
        },
        "yaxis": {
         "anchor": "x",
         "domain": [
          0,
          1
         ],
         "title": {
          "text": "lat"
         }
        }
       }
      },
      "text/html": [
       "<div>                            <div id=\"2295baf9-2c82-48be-b05a-ce2ab68f2eb0\" class=\"plotly-graph-div\" style=\"height:1000px; width:1000px;\"></div>            <script type=\"text/javascript\">                require([\"plotly\"], function(Plotly) {                    window.PLOTLYENV=window.PLOTLYENV || {};                                    if (document.getElementById(\"2295baf9-2c82-48be-b05a-ce2ab68f2eb0\")) {                    Plotly.newPlot(                        \"2295baf9-2c82-48be-b05a-ce2ab68f2eb0\",                        [{\"hovertemplate\":\"type=fire<br>long=%{x}<br>lat=%{y}<br>landmark=%{text}<extra></extra>\",\"legendgroup\":\"fire\",\"marker\":{\"color\":\"#636efa\",\"symbol\":\"circle\"},\"mode\":\"markers+text\",\"name\":\"fire\",\"orientation\":\"v\",\"showlegend\":true,\"text\":[\"Reed Fire\",\"Portola Fire\",\"Bridle Fire\",\"Benton Fire\",\"Ribbon Fire\",\"Wolf Fire \",\"Meadow Fire\",\"Tripp Fire \",\"Lost Fire\",\"Meadow Fire\",\"Meadow Fire\",\"Sage Fire\"],\"x\":[-116.85226,-117.02132,-116.821724,-116.732032,-116.500058,-116.980528,-116.7884,-116.7464168,-116.66107,-116.7884,-116.7884,-116.914799],\"xaxis\":\"x\",\"y\":[33.52584,33.50488,33.524412,33.56349,33.571763,33.911,33.514658,33.551838,33.34659,33.514658,33.514658,33.463991],\"yaxis\":\"y\",\"type\":\"scatter\",\"textposition\":\"top center\"},{\"hovertemplate\":\"type=landmark<br>long=%{x}<br>lat=%{y}<br>landmark=%{text}<extra></extra>\",\"legendgroup\":\"landmark\",\"marker\":{\"color\":\"#EF553B\",\"symbol\":\"circle\"},\"mode\":\"markers+text\",\"name\":\"landmark\",\"orientation\":\"v\",\"showlegend\":true,\"text\":[\"love valley clearing\"],\"x\":[-116.760773],\"xaxis\":\"x\",\"y\":[33.30066204],\"yaxis\":\"y\",\"type\":\"scatter\",\"textposition\":\"top center\"},{\"hovertemplate\":\"type=station<br>long=%{x}<br>lat=%{y}<br>landmark=%{text}<extra></extra>\",\"legendgroup\":\"station\",\"marker\":{\"color\":\"#00cc96\",\"symbol\":\"circle\"},\"mode\":\"markers+text\",\"name\":\"station\",\"orientation\":\"v\",\"showlegend\":true,\"text\":[null,null,null],\"x\":[-116.83622,-116.760651,-116.6223],\"xaxis\":\"x\",\"y\":[33.363018,33.188869,33.3787],\"yaxis\":\"y\",\"type\":\"scatter\",\"textposition\":\"top center\"},{\"marker\":{\"color\":\"lightcoral\"},\"mode\":\"lines\",\"name\":\"left fov 1\",\"textfont\":{\"size\":24},\"x\":[-117.03622,-117.03213836734695,-117.02805673469388,-117.02397510204082,-117.01989346938775,-117.0158118367347,-117.01173020408163,-117.00764857142858,-117.0035669387755,-116.99948530612245,-116.99540367346938,-116.99132204081633,-116.98724040816326,-116.9831587755102,-116.97907714285714,-116.97499551020408,-116.97091387755101,-116.96683224489796,-116.9627506122449,-116.95866897959183,-116.95458734693878,-116.95050571428571,-116.94642408163266,-116.94234244897959,-116.93826081632653,-116.93417918367346,-116.93009755102041,-116.92601591836734,-116.92193428571429,-116.91785265306122,-116.91377102040816,-116.9096893877551,-116.90560775510204,-116.90152612244898,-116.89744448979592,-116.89336285714286,-116.88928122448979,-116.88519959183674,-116.88111795918367,-116.87703632653061,-116.87295469387755,-116.86887306122449,-116.86479142857142,-116.86070979591837,-116.8566281632653,-116.85254653061224,-116.84846489795918,-116.84438326530612,-116.84030163265305,-116.83622],\"y\":[33.232030109180116,33.234703331441736,33.23737655370337,33.240049775965005,33.24272299822664,33.24539622048826,33.248069442749895,33.25074266501153,33.253415887273164,33.256089109534784,33.25876233179642,33.26143555405804,33.264108776319674,33.26678199858131,33.26945522084294,33.27212844310456,33.2748016653662,33.27747488762783,33.28014810988945,33.28282133215109,33.28549455441271,33.288167776674356,33.29084099893598,33.29351422119761,33.29618744345923,33.298860665720866,33.3015338879825,33.304207110244135,33.306880332505756,33.30955355476739,33.312226777029025,33.31489999929066,33.31757322155228,33.3202464438139,33.322919666075535,33.32559288833717,33.328266110598804,33.330939332860424,33.33361255512206,33.336285777383694,33.33895899964533,33.34163222190695,33.34430544416858,33.3469786664302,33.34965188869185,33.35232511095347,33.35499833321511,33.35767155547673,33.36034477773836,33.363018],\"type\":\"scatter\"},{\"marker\":{\"color\":\"lightcoral\"},\"mode\":\"lines\",\"name\":\"right fov 1\",\"textfont\":{\"size\":24},\"x\":[-116.83622,-116.83213836734694,-116.82805673469387,-116.82397510204082,-116.81989346938775,-116.8158118367347,-116.81173020408163,-116.80764857142857,-116.8035669387755,-116.79948530612245,-116.79540367346938,-116.79132204081633,-116.78724040816326,-116.7831587755102,-116.77907714285713,-116.77499551020408,-116.77091387755101,-116.76683224489796,-116.7627506122449,-116.75866897959183,-116.75458734693878,-116.75050571428571,-116.74642408163265,-116.74234244897958,-116.73826081632653,-116.73417918367346,-116.7300975510204,-116.72601591836734,-116.72193428571428,-116.71785265306121,-116.71377102040816,-116.70968938775509,-116.70560775510204,-116.70152612244898,-116.69744448979591,-116.69336285714286,-116.68928122448979,-116.68519959183674,-116.68111795918367,-116.67703632653061,-116.67295469387754,-116.66887306122449,-116.66479142857142,-116.66070979591836,-116.6566281632653,-116.65254653061224,-116.64846489795917,-116.64438326530612,-116.64030163265305,-116.63622],\"y\":[33.363018,33.360344777738376,33.35767155547674,33.35499833321511,33.35232511095347,33.34965188869185,33.34697866643022,33.3443054441686,33.34163222190696,33.33895899964533,33.336285777383694,33.33361255512207,33.33093933286044,33.328266110598804,33.32559288833717,33.32291966607555,33.320246443813915,33.31757322155228,33.31489999929066,33.312226777029025,33.309553554767405,33.30688033250577,33.304207110244135,33.3015338879825,33.29886066572088,33.296187443459246,33.29351422119761,33.29084099893598,33.288167776674356,33.28549455441272,33.2828213321511,33.28014810988947,33.27747488762783,33.27480166536621,33.27212844310458,33.26945522084294,33.26678199858131,33.26410877631969,33.26143555405805,33.25876233179642,33.256089109534784,33.253415887273164,33.25074266501153,33.24806944274991,33.245396220488274,33.24272299822664,33.240049775965005,33.237376553703385,33.23470333144175,33.232030109180116],\"type\":\"scatter\"},{\"marker\":{\"color\":\"lightsteelblue\"},\"mode\":\"lines\",\"name\":\"Guess 2\",\"textfont\":{\"size\":24},\"x\":[-116.960651,-116.95248773469388,-116.94432446938775,-116.93616120408163,-116.9279979387755,-116.91983467346938,-116.91167140816326,-116.90350814285713,-116.89534487755101,-116.8871816122449,-116.87901834693878,-116.87085508163266,-116.86269181632653,-116.85452855102041,-116.84636528571428,-116.83820202040816,-116.83003875510204,-116.82187548979591,-116.81371222448979,-116.80554895918367,-116.79738569387754,-116.78922242857142,-116.7810591632653,-116.77289589795917,-116.76473263265305,-116.75656936734694,-116.74840610204082,-116.7402428367347,-116.73207957142857,-116.72391630612245,-116.71575304081632,-116.7075897755102,-116.69942651020408,-116.69126324489795,-116.68309997959183,-116.6749367142857,-116.66677344897958,-116.65861018367346,-116.65044691836734,-116.64228365306121,-116.63412038775509,-116.62595712244898,-116.61779385714286,-116.60963059183673,-116.60146732653061,-116.59330406122449,-116.58514079591836,-116.57697753061224,-116.56881426530612,-116.560651],\"y\":[22.217440428571535,22.665253839650177,23.113067250728818,23.56088066180746,24.0086940728861,24.456507483964742,24.904320895044293,25.352134306122935,25.799947717201576,26.247761128279308,26.69557453935795,27.14338795043659,27.59120136151614,28.039014772594783,28.486828183673424,28.934641594752065,29.382455005830707,29.830268416909348,30.27808182798799,30.72589523906754,31.17370865014618,31.621522061224823,32.069335472303464,32.517148883382106,32.96496229446075,33.41277570553939,33.86058911661803,34.30840252769667,34.75621593877531,35.204029349853954,35.651842760932595,36.09965617201124,36.54746958309079,36.99528299416943,37.44309640524807,37.89090981632671,38.33872322740535,38.786536638483994,39.234350049562636,39.68216346064219,40.12997687172083,40.57779028279856,41.0256036938772,41.47341710495584,41.921230516034484,42.369043927114035,42.816857338192676,43.26467074927132,43.71248416034996,44.1602975714286],\"type\":\"scatter\"},{\"marker\":{\"color\":\"lightsteelblue\"},\"mode\":\"lines\",\"name\":\"left fov 2\",\"textfont\":{\"size\":24},\"x\":[-116.960651,-116.95656936734694,-116.95248773469388,-116.94840610204082,-116.94432446938775,-116.9402428367347,-116.93616120408163,-116.93207957142857,-116.9279979387755,-116.92391630612245,-116.91983467346938,-116.91575304081633,-116.91167140816326,-116.9075897755102,-116.90350814285713,-116.89942651020408,-116.89534487755101,-116.89126324489796,-116.8871816122449,-116.88309997959183,-116.87901834693878,-116.87493671428571,-116.87085508163266,-116.86677344897959,-116.86269181632653,-116.85861018367346,-116.85452855102041,-116.85044691836734,-116.84636528571428,-116.84228365306122,-116.83820202040816,-116.83412038775509,-116.83003875510204,-116.82595712244898,-116.82187548979591,-116.81779385714286,-116.81371222448979,-116.80963059183674,-116.80554895918367,-116.80146732653061,-116.79738569387754,-116.79330406122449,-116.78922242857142,-116.78514079591837,-116.7810591632653,-116.77697753061224,-116.77289589795917,-116.76881426530612,-116.76473263265305,-116.760651],\"y\":[33.2538936563539,33.252566622550766,33.25123958874762,33.24991255494448,33.24858552114134,33.2472584873382,33.24593145353506,33.24460441973192,33.24327738592878,33.241950352125635,33.24062331832249,33.239296284519355,33.23796925071621,33.23664221691307,33.235315183109925,33.23398814930679,33.232661115503646,33.23133408170051,33.23000704789737,33.22868001409422,33.22735298029109,33.226025946487944,33.2246989126848,33.22337187888166,33.22204484507852,33.22071781127538,33.21939077747224,33.2180637436691,33.216736709865955,33.21540967606281,33.214082642259676,33.21275560845653,33.21142857465339,33.21010154085025,33.20877450704711,33.207447473243974,33.20612043944083,33.20479340563769,33.203466371834544,33.20213933803141,33.200812304228265,33.19948527042512,33.19815823662198,33.19683120281884,33.1955041690157,33.19417713521256,33.19285010140942,33.191523067606276,33.19019603380313,33.188869],\"type\":\"scatter\"},{\"marker\":{\"color\":\"lightsteelblue\"},\"mode\":\"lines\",\"name\":\"right fov 2\",\"x\":[-116.760651,-116.75656936734694,-116.75248773469387,-116.74840610204082,-116.74432446938775,-116.7402428367347,-116.73616120408163,-116.73207957142857,-116.7279979387755,-116.72391630612245,-116.71983467346938,-116.71575304081632,-116.71167140816326,-116.7075897755102,-116.70350814285713,-116.69942651020408,-116.69534487755101,-116.69126324489795,-116.6871816122449,-116.68309997959183,-116.67901834693878,-116.6749367142857,-116.67085508163265,-116.66677344897958,-116.66269181632653,-116.65861018367346,-116.6545285510204,-116.65044691836734,-116.64636528571428,-116.64228365306121,-116.63820202040816,-116.63412038775509,-116.63003875510203,-116.62595712244898,-116.62187548979591,-116.61779385714286,-116.61371222448979,-116.60963059183673,-116.60554895918366,-116.60146732653061,-116.59738569387754,-116.59330406122449,-116.58922242857142,-116.58514079591836,-116.5810591632653,-116.57697753061224,-116.57289589795917,-116.56881426530612,-116.56473263265305,-116.560651],\"y\":[33.18886899999999,33.19019603380313,33.191523067606276,33.19285010140941,33.194177135212556,33.1955041690157,33.19683120281884,33.19815823662198,33.19948527042512,33.20081230422826,33.2021393380314,33.203466371834544,33.20479340563769,33.206120439440824,33.20744747324397,33.20877450704711,33.21010154085025,33.21142857465339,33.212755608456526,33.21408264225967,33.21540967606281,33.216736709865955,33.21806374366909,33.219390777472235,33.22071781127537,33.222044845078514,33.22337187888166,33.2246989126848,33.22602594648794,33.22735298029108,33.22868001409422,33.23000704789737,33.2313340817005,33.23266111550364,33.23398814930678,33.235315183109925,33.23664221691307,33.237969250716205,33.23929628451935,33.24062331832249,33.241950352125635,33.24327738592877,33.244604419731914,33.24593145353505,33.24725848733819,33.24858552114134,33.24991255494448,33.251239588747616,33.25256662255076,33.2538936563539],\"type\":\"scatter\"},{\"marker\":{\"color\":\"lightcoral\"},\"mode\":\"lines\",\"name\":\"Guess 1\",\"x\":[-116.83622,-116.83213836734694,-116.82805673469387,-116.82397510204082,-116.81989346938775,-116.8158118367347,-116.81173020408163,-116.80764857142857,-116.8035669387755,-116.79948530612245,-116.79540367346938,-116.79132204081633,-116.78724040816326,-116.7831587755102,-116.77907714285713,-116.77499551020408,-116.77091387755101,-116.76683224489796,-116.7627506122449,-116.75866897959183,-116.75458734693878,-116.75050571428571,-116.74642408163265,-116.74234244897958,-116.73826081632653,-116.73417918367346,-116.7300975510204,-116.72601591836734,-116.72193428571428,-116.71785265306121,-116.71377102040816,-116.70968938775509,-116.70560775510204,-116.70152612244898,-116.69744448979591,-116.69336285714286,-116.68928122448979,-116.68519959183674,-116.68111795918367,-116.67703632653061,-116.67295469387754,-116.66887306122449,-116.66479142857142,-116.66070979591836,-116.6566281632653,-116.65254653061224,-116.64846489795917,-116.64438326530612,-116.64030163265305,-116.63622],\"y\":[33.36301800000001,33.38036070471668,33.39770340943346,33.415046114150186,33.43238881886697,33.449731523583694,33.467074228300476,33.484416933017144,33.501759637733926,33.51910234245065,33.53644504716743,33.55378775188416,33.57113045660088,33.58847316131761,33.60581586603439,33.623158570751116,33.6405012754679,33.65784398018462,33.67518668490129,33.69252938961807,33.7098720943348,33.72721479905158,33.744557503768306,33.76190020848503,33.779242913201756,33.79658561791854,33.81392832263526,33.831271027352045,33.84861373206877,33.865956436785495,33.88329914150222,33.900641846219,33.91798455093573,33.93532725565245,33.952669960369235,33.9700126650859,33.987355369802685,34.00469807451941,34.02204077923619,34.03938348395292,34.05672618866964,34.07406889338637,34.09141159810315,34.108754302819875,34.12609700753666,34.14343971225338,34.16078241697011,34.17812512168683,34.195467826403615,34.21281053112034],\"type\":\"scatter\"}],                        {\"template\":{\"data\":{\"bar\":[{\"error_x\":{\"color\":\"#2a3f5f\"},\"error_y\":{\"color\":\"#2a3f5f\"},\"marker\":{\"line\":{\"color\":\"#E5ECF6\",\"width\":0.5},\"pattern\":{\"fillmode\":\"overlay\",\"size\":10,\"solidity\":0.2}},\"type\":\"bar\"}],\"barpolar\":[{\"marker\":{\"line\":{\"color\":\"#E5ECF6\",\"width\":0.5},\"pattern\":{\"fillmode\":\"overlay\",\"size\":10,\"solidity\":0.2}},\"type\":\"barpolar\"}],\"carpet\":[{\"aaxis\":{\"endlinecolor\":\"#2a3f5f\",\"gridcolor\":\"white\",\"linecolor\":\"white\",\"minorgridcolor\":\"white\",\"startlinecolor\":\"#2a3f5f\"},\"baxis\":{\"endlinecolor\":\"#2a3f5f\",\"gridcolor\":\"white\",\"linecolor\":\"white\",\"minorgridcolor\":\"white\",\"startlinecolor\":\"#2a3f5f\"},\"type\":\"carpet\"}],\"choropleth\":[{\"colorbar\":{\"outlinewidth\":0,\"ticks\":\"\"},\"type\":\"choropleth\"}],\"contour\":[{\"colorbar\":{\"outlinewidth\":0,\"ticks\":\"\"},\"colorscale\":[[0.0,\"#0d0887\"],[0.1111111111111111,\"#46039f\"],[0.2222222222222222,\"#7201a8\"],[0.3333333333333333,\"#9c179e\"],[0.4444444444444444,\"#bd3786\"],[0.5555555555555556,\"#d8576b\"],[0.6666666666666666,\"#ed7953\"],[0.7777777777777778,\"#fb9f3a\"],[0.8888888888888888,\"#fdca26\"],[1.0,\"#f0f921\"]],\"type\":\"contour\"}],\"contourcarpet\":[{\"colorbar\":{\"outlinewidth\":0,\"ticks\":\"\"},\"type\":\"contourcarpet\"}],\"heatmap\":[{\"colorbar\":{\"outlinewidth\":0,\"ticks\":\"\"},\"colorscale\":[[0.0,\"#0d0887\"],[0.1111111111111111,\"#46039f\"],[0.2222222222222222,\"#7201a8\"],[0.3333333333333333,\"#9c179e\"],[0.4444444444444444,\"#bd3786\"],[0.5555555555555556,\"#d8576b\"],[0.6666666666666666,\"#ed7953\"],[0.7777777777777778,\"#fb9f3a\"],[0.8888888888888888,\"#fdca26\"],[1.0,\"#f0f921\"]],\"type\":\"heatmap\"}],\"heatmapgl\":[{\"colorbar\":{\"outlinewidth\":0,\"ticks\":\"\"},\"colorscale\":[[0.0,\"#0d0887\"],[0.1111111111111111,\"#46039f\"],[0.2222222222222222,\"#7201a8\"],[0.3333333333333333,\"#9c179e\"],[0.4444444444444444,\"#bd3786\"],[0.5555555555555556,\"#d8576b\"],[0.6666666666666666,\"#ed7953\"],[0.7777777777777778,\"#fb9f3a\"],[0.8888888888888888,\"#fdca26\"],[1.0,\"#f0f921\"]],\"type\":\"heatmapgl\"}],\"histogram\":[{\"marker\":{\"pattern\":{\"fillmode\":\"overlay\",\"size\":10,\"solidity\":0.2}},\"type\":\"histogram\"}],\"histogram2d\":[{\"colorbar\":{\"outlinewidth\":0,\"ticks\":\"\"},\"colorscale\":[[0.0,\"#0d0887\"],[0.1111111111111111,\"#46039f\"],[0.2222222222222222,\"#7201a8\"],[0.3333333333333333,\"#9c179e\"],[0.4444444444444444,\"#bd3786\"],[0.5555555555555556,\"#d8576b\"],[0.6666666666666666,\"#ed7953\"],[0.7777777777777778,\"#fb9f3a\"],[0.8888888888888888,\"#fdca26\"],[1.0,\"#f0f921\"]],\"type\":\"histogram2d\"}],\"histogram2dcontour\":[{\"colorbar\":{\"outlinewidth\":0,\"ticks\":\"\"},\"colorscale\":[[0.0,\"#0d0887\"],[0.1111111111111111,\"#46039f\"],[0.2222222222222222,\"#7201a8\"],[0.3333333333333333,\"#9c179e\"],[0.4444444444444444,\"#bd3786\"],[0.5555555555555556,\"#d8576b\"],[0.6666666666666666,\"#ed7953\"],[0.7777777777777778,\"#fb9f3a\"],[0.8888888888888888,\"#fdca26\"],[1.0,\"#f0f921\"]],\"type\":\"histogram2dcontour\"}],\"mesh3d\":[{\"colorbar\":{\"outlinewidth\":0,\"ticks\":\"\"},\"type\":\"mesh3d\"}],\"parcoords\":[{\"line\":{\"colorbar\":{\"outlinewidth\":0,\"ticks\":\"\"}},\"type\":\"parcoords\"}],\"pie\":[{\"automargin\":true,\"type\":\"pie\"}],\"scatter\":[{\"marker\":{\"colorbar\":{\"outlinewidth\":0,\"ticks\":\"\"}},\"type\":\"scatter\"}],\"scatter3d\":[{\"line\":{\"colorbar\":{\"outlinewidth\":0,\"ticks\":\"\"}},\"marker\":{\"colorbar\":{\"outlinewidth\":0,\"ticks\":\"\"}},\"type\":\"scatter3d\"}],\"scattercarpet\":[{\"marker\":{\"colorbar\":{\"outlinewidth\":0,\"ticks\":\"\"}},\"type\":\"scattercarpet\"}],\"scattergeo\":[{\"marker\":{\"colorbar\":{\"outlinewidth\":0,\"ticks\":\"\"}},\"type\":\"scattergeo\"}],\"scattergl\":[{\"marker\":{\"colorbar\":{\"outlinewidth\":0,\"ticks\":\"\"}},\"type\":\"scattergl\"}],\"scattermapbox\":[{\"marker\":{\"colorbar\":{\"outlinewidth\":0,\"ticks\":\"\"}},\"type\":\"scattermapbox\"}],\"scatterpolar\":[{\"marker\":{\"colorbar\":{\"outlinewidth\":0,\"ticks\":\"\"}},\"type\":\"scatterpolar\"}],\"scatterpolargl\":[{\"marker\":{\"colorbar\":{\"outlinewidth\":0,\"ticks\":\"\"}},\"type\":\"scatterpolargl\"}],\"scatterternary\":[{\"marker\":{\"colorbar\":{\"outlinewidth\":0,\"ticks\":\"\"}},\"type\":\"scatterternary\"}],\"surface\":[{\"colorbar\":{\"outlinewidth\":0,\"ticks\":\"\"},\"colorscale\":[[0.0,\"#0d0887\"],[0.1111111111111111,\"#46039f\"],[0.2222222222222222,\"#7201a8\"],[0.3333333333333333,\"#9c179e\"],[0.4444444444444444,\"#bd3786\"],[0.5555555555555556,\"#d8576b\"],[0.6666666666666666,\"#ed7953\"],[0.7777777777777778,\"#fb9f3a\"],[0.8888888888888888,\"#fdca26\"],[1.0,\"#f0f921\"]],\"type\":\"surface\"}],\"table\":[{\"cells\":{\"fill\":{\"color\":\"#EBF0F8\"},\"line\":{\"color\":\"white\"}},\"header\":{\"fill\":{\"color\":\"#C8D4E3\"},\"line\":{\"color\":\"white\"}},\"type\":\"table\"}]},\"layout\":{\"annotationdefaults\":{\"arrowcolor\":\"#2a3f5f\",\"arrowhead\":0,\"arrowwidth\":1},\"autotypenumbers\":\"strict\",\"coloraxis\":{\"colorbar\":{\"outlinewidth\":0,\"ticks\":\"\"}},\"colorscale\":{\"diverging\":[[0,\"#8e0152\"],[0.1,\"#c51b7d\"],[0.2,\"#de77ae\"],[0.3,\"#f1b6da\"],[0.4,\"#fde0ef\"],[0.5,\"#f7f7f7\"],[0.6,\"#e6f5d0\"],[0.7,\"#b8e186\"],[0.8,\"#7fbc41\"],[0.9,\"#4d9221\"],[1,\"#276419\"]],\"sequential\":[[0.0,\"#0d0887\"],[0.1111111111111111,\"#46039f\"],[0.2222222222222222,\"#7201a8\"],[0.3333333333333333,\"#9c179e\"],[0.4444444444444444,\"#bd3786\"],[0.5555555555555556,\"#d8576b\"],[0.6666666666666666,\"#ed7953\"],[0.7777777777777778,\"#fb9f3a\"],[0.8888888888888888,\"#fdca26\"],[1.0,\"#f0f921\"]],\"sequentialminus\":[[0.0,\"#0d0887\"],[0.1111111111111111,\"#46039f\"],[0.2222222222222222,\"#7201a8\"],[0.3333333333333333,\"#9c179e\"],[0.4444444444444444,\"#bd3786\"],[0.5555555555555556,\"#d8576b\"],[0.6666666666666666,\"#ed7953\"],[0.7777777777777778,\"#fb9f3a\"],[0.8888888888888888,\"#fdca26\"],[1.0,\"#f0f921\"]]},\"colorway\":[\"#636efa\",\"#EF553B\",\"#00cc96\",\"#ab63fa\",\"#FFA15A\",\"#19d3f3\",\"#FF6692\",\"#B6E880\",\"#FF97FF\",\"#FECB52\"],\"font\":{\"color\":\"#2a3f5f\"},\"geo\":{\"bgcolor\":\"white\",\"lakecolor\":\"white\",\"landcolor\":\"#E5ECF6\",\"showlakes\":true,\"showland\":true,\"subunitcolor\":\"white\"},\"hoverlabel\":{\"align\":\"left\"},\"hovermode\":\"closest\",\"mapbox\":{\"style\":\"light\"},\"paper_bgcolor\":\"white\",\"plot_bgcolor\":\"#E5ECF6\",\"polar\":{\"angularaxis\":{\"gridcolor\":\"white\",\"linecolor\":\"white\",\"ticks\":\"\"},\"bgcolor\":\"#E5ECF6\",\"radialaxis\":{\"gridcolor\":\"white\",\"linecolor\":\"white\",\"ticks\":\"\"}},\"scene\":{\"xaxis\":{\"backgroundcolor\":\"#E5ECF6\",\"gridcolor\":\"white\",\"gridwidth\":2,\"linecolor\":\"white\",\"showbackground\":true,\"ticks\":\"\",\"zerolinecolor\":\"white\"},\"yaxis\":{\"backgroundcolor\":\"#E5ECF6\",\"gridcolor\":\"white\",\"gridwidth\":2,\"linecolor\":\"white\",\"showbackground\":true,\"ticks\":\"\",\"zerolinecolor\":\"white\"},\"zaxis\":{\"backgroundcolor\":\"#E5ECF6\",\"gridcolor\":\"white\",\"gridwidth\":2,\"linecolor\":\"white\",\"showbackground\":true,\"ticks\":\"\",\"zerolinecolor\":\"white\"}},\"shapedefaults\":{\"line\":{\"color\":\"#2a3f5f\"}},\"ternary\":{\"aaxis\":{\"gridcolor\":\"white\",\"linecolor\":\"white\",\"ticks\":\"\"},\"baxis\":{\"gridcolor\":\"white\",\"linecolor\":\"white\",\"ticks\":\"\"},\"bgcolor\":\"#E5ECF6\",\"caxis\":{\"gridcolor\":\"white\",\"linecolor\":\"white\",\"ticks\":\"\"}},\"title\":{\"x\":0.05},\"xaxis\":{\"automargin\":true,\"gridcolor\":\"white\",\"linecolor\":\"white\",\"ticks\":\"\",\"title\":{\"standoff\":15},\"zerolinecolor\":\"white\",\"zerolinewidth\":2},\"yaxis\":{\"automargin\":true,\"gridcolor\":\"white\",\"linecolor\":\"white\",\"ticks\":\"\",\"title\":{\"standoff\":15},\"zerolinecolor\":\"white\",\"zerolinewidth\":2}}},\"xaxis\":{\"anchor\":\"y\",\"domain\":[0.0,1.0],\"title\":{\"text\":\"long\"}},\"yaxis\":{\"anchor\":\"x\",\"domain\":[0.0,1.0],\"title\":{\"text\":\"lat\"}},\"legend\":{\"title\":{\"text\":\"type\"},\"tracegroupgap\":0},\"title\":{\"text\":\"Station Camera & Fires Seen\"},\"height\":1000,\"width\":1000},                        {\"responsive\": true}                    ).then(function(){\n",
       "                            \n",
       "var gd = document.getElementById('2295baf9-2c82-48be-b05a-ce2ab68f2eb0');\n",
       "var x = new MutationObserver(function (mutations, observer) {{\n",
       "        var display = window.getComputedStyle(gd).display;\n",
       "        if (!display || display === 'none') {{\n",
       "            console.log([gd, 'removed!']);\n",
       "            Plotly.purge(gd);\n",
       "            observer.disconnect();\n",
       "        }}\n",
       "}});\n",
       "\n",
       "// Listen for the removal of the full notebook cells\n",
       "var notebookContainer = gd.closest('#notebook-container');\n",
       "if (notebookContainer) {{\n",
       "    x.observe(notebookContainer, {childList: true});\n",
       "}}\n",
       "\n",
       "// Listen for the clearing of the current output cell\n",
       "var outputEl = gd.closest('.output');\n",
       "if (outputEl) {{\n",
       "    x.observe(outputEl, {childList: true});\n",
       "}}\n",
       "\n",
       "                        })                };                });            </script>        </div>"
      ]
     },
     "metadata": {},
     "output_type": "display_data"
    }
   ],
   "source": [
    "fig = px.scatter(df_plot,\n",
    "                 x=\"long\", \n",
    "                 y=\"lat\", \n",
    "                 color=\"type\", \n",
    "                 title=\"Station Camera & Fires Seen\",\n",
    "                text = \"landmark\",\n",
    "                width=1000, height=1000)\n",
    "fig.update_traces(textposition='top center')\n",
    "fig.update_traces(marker=dict(size=12,\n",
    "                              line=dict(width=2,\n",
    "                                        color='DarkSlateGrey')),\n",
    "                  selector=dict(mode='markers'),\n",
    "                 textposition='top right')\n",
    "\n",
    "#BH\n",
    "fig.add_trace(go.Scatter(x=x1, y=y1,\n",
    "                    mode='lines',\n",
    "                    name='left fov 1',\n",
    "                     textfont=dict(size=24),\n",
    "                       marker = {'color' : 'lightcoral'}))\n",
    "\n",
    "fig.add_trace(go.Scatter(x=x2, y=y2,\n",
    "                    mode='lines',\n",
    "                    name='right fov 1',\n",
    "                     textfont=dict(size=24),\n",
    "                        marker = {'color' : 'lightcoral'}))\n",
    "\n",
    "fig.add_trace(go.Scatter(x=x9, y=y9,\n",
    "                    mode='lines',\n",
    "                    name='Guess 2',\n",
    "                     textfont=dict(size=24),\n",
    "                        marker = {'color' : 'lightsteelblue'}))\n",
    "\n",
    "#BL\n",
    "fig.add_trace(go.Scatter(x=x5, y=y5,\n",
    "                    mode='lines',\n",
    "                         name='left fov 2',\n",
    "                     textfont=dict(size=24),\n",
    "                        marker = {'color' : 'lightsteelblue'}))\n",
    "\n",
    "fig.add_trace(go.Scatter(x=x6, y=y6,\n",
    "                    mode='lines',\n",
    "                         name='right fov 2',\n",
    "                        marker = {'color' : 'lightsteelblue'}))\n",
    "\n",
    "fig.add_trace(go.Scatter(x=x8, y=y8,\n",
    "                    mode='lines',\n",
    "                    name='Guess 1',\n",
    "                        marker = {'color' : 'lightcoral'}))\n",
    "\n",
    "\n",
    "\n",
    "fig.show()"
   ]
  },
  {
   "cell_type": "code",
   "execution_count": 541,
   "metadata": {},
   "outputs": [
    {
     "data": {
      "text/html": [
       "<div>\n",
       "<style scoped>\n",
       "    .dataframe tbody tr th:only-of-type {\n",
       "        vertical-align: middle;\n",
       "    }\n",
       "\n",
       "    .dataframe tbody tr th {\n",
       "        vertical-align: top;\n",
       "    }\n",
       "\n",
       "    .dataframe thead th {\n",
       "        text-align: right;\n",
       "    }\n",
       "</style>\n",
       "<table border=\"1\" class=\"dataframe\">\n",
       "  <thead>\n",
       "    <tr style=\"text-align: right;\">\n",
       "      <th></th>\n",
       "      <th>station</th>\n",
       "      <th>dir</th>\n",
       "      <th>lat</th>\n",
       "      <th>long</th>\n",
       "      <th>x_pixel</th>\n",
       "      <th>y_pixel</th>\n",
       "      <th>distance</th>\n",
       "      <th>landmark</th>\n",
       "      <th>type</th>\n",
       "      <th>code</th>\n",
       "    </tr>\n",
       "  </thead>\n",
       "  <tbody>\n",
       "    <tr>\n",
       "      <th>0</th>\n",
       "      <td>hp</td>\n",
       "      <td>n</td>\n",
       "      <td>33.525840</td>\n",
       "      <td>-116.852260</td>\n",
       "      <td>434</td>\n",
       "      <td>769</td>\n",
       "      <td>11.287872</td>\n",
       "      <td>Reed Fire</td>\n",
       "      <td>fire</td>\n",
       "      <td>hp</td>\n",
       "    </tr>\n",
       "    <tr>\n",
       "      <th>1</th>\n",
       "      <td>hp</td>\n",
       "      <td>n</td>\n",
       "      <td>33.504880</td>\n",
       "      <td>-117.021320</td>\n",
       "      <td>42</td>\n",
       "      <td>852</td>\n",
       "      <td>14.490812</td>\n",
       "      <td>Portola Fire</td>\n",
       "      <td>fire</td>\n",
       "      <td>hp</td>\n",
       "    </tr>\n",
       "    <tr>\n",
       "      <th>2</th>\n",
       "      <td>hp</td>\n",
       "      <td>n</td>\n",
       "      <td>33.524412</td>\n",
       "      <td>-116.821724</td>\n",
       "      <td>1062</td>\n",
       "      <td>792</td>\n",
       "      <td>11.182537</td>\n",
       "      <td>Bridle Fire</td>\n",
       "      <td>fire</td>\n",
       "      <td>hp</td>\n",
       "    </tr>\n",
       "    <tr>\n",
       "      <th>3</th>\n",
       "      <td>hp</td>\n",
       "      <td>n</td>\n",
       "      <td>33.563490</td>\n",
       "      <td>-116.732032</td>\n",
       "      <td>1552</td>\n",
       "      <td>761</td>\n",
       "      <td>15.097142</td>\n",
       "      <td>Benton Fire</td>\n",
       "      <td>fire</td>\n",
       "      <td>hp</td>\n",
       "    </tr>\n",
       "    <tr>\n",
       "      <th>4</th>\n",
       "      <td>hp</td>\n",
       "      <td>n</td>\n",
       "      <td>33.571763</td>\n",
       "      <td>-116.500058</td>\n",
       "      <td>780</td>\n",
       "      <td>741</td>\n",
       "      <td>24.154362</td>\n",
       "      <td>Ribbon Fire</td>\n",
       "      <td>fire</td>\n",
       "      <td>hp</td>\n",
       "    </tr>\n",
       "    <tr>\n",
       "      <th>5</th>\n",
       "      <td>hp</td>\n",
       "      <td>n</td>\n",
       "      <td>33.911000</td>\n",
       "      <td>-116.980528</td>\n",
       "      <td>561</td>\n",
       "      <td>775</td>\n",
       "      <td>38.761284</td>\n",
       "      <td>Wolf Fire</td>\n",
       "      <td>fire</td>\n",
       "      <td>hp</td>\n",
       "    </tr>\n",
       "    <tr>\n",
       "      <th>6</th>\n",
       "      <td>hp</td>\n",
       "      <td>n</td>\n",
       "      <td>33.514658</td>\n",
       "      <td>-116.788400</td>\n",
       "      <td>1265</td>\n",
       "      <td>784</td>\n",
       "      <td>10.834029</td>\n",
       "      <td>Meadow Fire</td>\n",
       "      <td>fire</td>\n",
       "      <td>hp</td>\n",
       "    </tr>\n",
       "    <tr>\n",
       "      <th>7</th>\n",
       "      <td>hp</td>\n",
       "      <td>n</td>\n",
       "      <td>33.551838</td>\n",
       "      <td>-116.746417</td>\n",
       "      <td>1358</td>\n",
       "      <td>767</td>\n",
       "      <td>14.035721</td>\n",
       "      <td>Tripp Fire</td>\n",
       "      <td>fire</td>\n",
       "      <td>hp</td>\n",
       "    </tr>\n",
       "    <tr>\n",
       "      <th>8</th>\n",
       "      <td>mg</td>\n",
       "      <td>n</td>\n",
       "      <td>33.346590</td>\n",
       "      <td>-116.661070</td>\n",
       "      <td>1438</td>\n",
       "      <td>957</td>\n",
       "      <td>12.322739</td>\n",
       "      <td>Lost Fire</td>\n",
       "      <td>fire</td>\n",
       "      <td>mg</td>\n",
       "    </tr>\n",
       "    <tr>\n",
       "      <th>9</th>\n",
       "      <td>mg</td>\n",
       "      <td>n</td>\n",
       "      <td>33.514658</td>\n",
       "      <td>-116.788400</td>\n",
       "      <td>1564</td>\n",
       "      <td>951</td>\n",
       "      <td>22.566776</td>\n",
       "      <td>Meadow Fire</td>\n",
       "      <td>fire</td>\n",
       "      <td>mg</td>\n",
       "    </tr>\n",
       "    <tr>\n",
       "      <th>10</th>\n",
       "      <td>sojr</td>\n",
       "      <td>w</td>\n",
       "      <td>33.514658</td>\n",
       "      <td>-116.788400</td>\n",
       "      <td>1258</td>\n",
       "      <td>669</td>\n",
       "      <td>13.414228</td>\n",
       "      <td>Meadow Fire</td>\n",
       "      <td>fire</td>\n",
       "      <td>sojr</td>\n",
       "    </tr>\n",
       "    <tr>\n",
       "      <th>11</th>\n",
       "      <td>sojr</td>\n",
       "      <td>w</td>\n",
       "      <td>33.463991</td>\n",
       "      <td>-116.914799</td>\n",
       "      <td>698</td>\n",
       "      <td>733</td>\n",
       "      <td>17.867698</td>\n",
       "      <td>Sage Fire</td>\n",
       "      <td>fire</td>\n",
       "      <td>sojr</td>\n",
       "    </tr>\n",
       "    <tr>\n",
       "      <th>12</th>\n",
       "      <td>mg</td>\n",
       "      <td>n</td>\n",
       "      <td>33.300662</td>\n",
       "      <td>-116.760773</td>\n",
       "      <td>1690</td>\n",
       "      <td>1080</td>\n",
       "      <td>12.430841</td>\n",
       "      <td>love valley clearing</td>\n",
       "      <td>landmark</td>\n",
       "      <td>mg</td>\n",
       "    </tr>\n",
       "    <tr>\n",
       "      <th>13</th>\n",
       "      <td>hp</td>\n",
       "      <td>n</td>\n",
       "      <td>33.363018</td>\n",
       "      <td>-116.836220</td>\n",
       "      <td>NaN</td>\n",
       "      <td>NaN</td>\n",
       "      <td>NaN</td>\n",
       "      <td>NaN</td>\n",
       "      <td>station</td>\n",
       "      <td>hp</td>\n",
       "    </tr>\n",
       "    <tr>\n",
       "      <th>14</th>\n",
       "      <td>mg</td>\n",
       "      <td>n</td>\n",
       "      <td>33.188869</td>\n",
       "      <td>-116.760651</td>\n",
       "      <td>NaN</td>\n",
       "      <td>NaN</td>\n",
       "      <td>NaN</td>\n",
       "      <td>NaN</td>\n",
       "      <td>station</td>\n",
       "      <td>mg</td>\n",
       "    </tr>\n",
       "    <tr>\n",
       "      <th>15</th>\n",
       "      <td>sojr</td>\n",
       "      <td>w</td>\n",
       "      <td>33.378700</td>\n",
       "      <td>-116.622300</td>\n",
       "      <td>NaN</td>\n",
       "      <td>NaN</td>\n",
       "      <td>NaN</td>\n",
       "      <td>NaN</td>\n",
       "      <td>station</td>\n",
       "      <td>sojr</td>\n",
       "    </tr>\n",
       "  </tbody>\n",
       "</table>\n",
       "</div>"
      ],
      "text/plain": [
       "   station dir        lat        long x_pixel y_pixel   distance  \\\n",
       "0       hp   n  33.525840 -116.852260     434     769  11.287872   \n",
       "1       hp   n  33.504880 -117.021320      42     852  14.490812   \n",
       "2       hp   n  33.524412 -116.821724    1062     792  11.182537   \n",
       "3       hp   n  33.563490 -116.732032    1552     761  15.097142   \n",
       "4       hp   n  33.571763 -116.500058     780     741  24.154362   \n",
       "5       hp   n  33.911000 -116.980528     561     775  38.761284   \n",
       "6       hp   n  33.514658 -116.788400    1265     784  10.834029   \n",
       "7       hp   n  33.551838 -116.746417    1358     767  14.035721   \n",
       "8       mg   n  33.346590 -116.661070    1438     957  12.322739   \n",
       "9       mg   n  33.514658 -116.788400    1564     951  22.566776   \n",
       "10    sojr   w  33.514658 -116.788400    1258     669  13.414228   \n",
       "11    sojr   w  33.463991 -116.914799     698     733  17.867698   \n",
       "12      mg   n  33.300662 -116.760773    1690    1080  12.430841   \n",
       "13      hp   n  33.363018 -116.836220     NaN     NaN        NaN   \n",
       "14      mg   n  33.188869 -116.760651     NaN     NaN        NaN   \n",
       "15    sojr   w  33.378700 -116.622300     NaN     NaN        NaN   \n",
       "\n",
       "                landmark      type  code  \n",
       "0              Reed Fire      fire    hp  \n",
       "1           Portola Fire      fire    hp  \n",
       "2            Bridle Fire      fire    hp  \n",
       "3            Benton Fire      fire    hp  \n",
       "4            Ribbon Fire      fire    hp  \n",
       "5             Wolf Fire       fire    hp  \n",
       "6            Meadow Fire      fire    hp  \n",
       "7            Tripp Fire       fire    hp  \n",
       "8              Lost Fire      fire    mg  \n",
       "9            Meadow Fire      fire    mg  \n",
       "10           Meadow Fire      fire  sojr  \n",
       "11             Sage Fire      fire  sojr  \n",
       "12  love valley clearing  landmark    mg  \n",
       "13                   NaN   station    hp  \n",
       "14                   NaN   station    mg  \n",
       "15                   NaN   station  sojr  "
      ]
     },
     "execution_count": 541,
     "metadata": {},
     "output_type": "execute_result"
    }
   ],
   "source": [
    "df_plot"
   ]
  },
  {
   "cell_type": "code",
   "execution_count": null,
   "metadata": {},
   "outputs": [],
   "source": []
  },
  {
   "cell_type": "code",
   "execution_count": 22,
   "metadata": {},
   "outputs": [],
   "source": [
    "#Todo\n",
    "#See if we get the same field of view when using other fire events than vista"
   ]
  },
  {
   "cell_type": "code",
   "execution_count": null,
   "metadata": {},
   "outputs": [],
   "source": []
  }
 ],
 "metadata": {
  "kernelspec": {
   "display_name": "Python 3",
   "language": "python",
   "name": "python3"
  },
  "language_info": {
   "codemirror_mode": {
    "name": "ipython",
    "version": 3
   },
   "file_extension": ".py",
   "mimetype": "text/x-python",
   "name": "python",
   "nbconvert_exporter": "python",
   "pygments_lexer": "ipython3",
   "version": "3.8.5"
  }
 },
 "nbformat": 4,
 "nbformat_minor": 4
}
