{
 "cells": [
  {
   "cell_type": "code",
   "execution_count": 103,
   "metadata": {},
   "outputs": [],
   "source": [
    "import plotly.graph_objects as go\n",
    "import joblib\n",
    "import numpy as np\n",
    "import pandas as pd\n",
    "\n",
    "from haversine import haversine, Unit, inverse_haversine\n",
    "from shapely.geometry import Point, LineString"
   ]
  },
  {
   "cell_type": "code",
   "execution_count": 104,
   "metadata": {},
   "outputs": [],
   "source": [
    "cam_meta = pd.read_csv(\"data/cam_meta_05302022.csv\")\n",
    "model = joblib.load('locating_angle_model.gz')\n",
    "scaler = joblib.load('locating_scaler.gz')"
   ]
  },
  {
   "cell_type": "code",
   "execution_count": 105,
   "metadata": {},
   "outputs": [],
   "source": [
    "def plot_points(camera1, camera1_fovd, camera2, camera2_fovd, actual, prediction, x_co, y_co):\n",
    "    \n",
    "    #draw line from camera1 to prediction point\n",
    "    fig = go.Figure(go.Scattermapbox(\n",
    "        mode = \"markers+lines\",\n",
    "        lon = [camera1[1], prediction[1]],\n",
    "        lat = [camera1[0], prediction[0]],\n",
    "        marker = {'size': 0},\n",
    "        line=dict(color='#000000'),\n",
    "        showlegend=False))\n",
    "\n",
    "    #draw camera 1 point\n",
    "    fig.add_trace(go.Scattermapbox(\n",
    "        mode = \"markers+lines\",\n",
    "        lon = [camera1[1]],\n",
    "        lat = [camera1[0]],\n",
    "        name = 'Camera 1',\n",
    "        marker = {'size': 10, 'color':'red'}))\n",
    "\n",
    "    #draw line from camera 2 to prediction point\n",
    "    fig.add_trace(go.Scattermapbox(\n",
    "        mode = \"markers+lines\",\n",
    "        lon = [camera2[1], prediction[1]],\n",
    "        lat = [camera2[0], prediction[0]],\n",
    "        marker = {'size': 0},\n",
    "        line=dict(color='#000000'),\n",
    "        showlegend=False))\n",
    "\n",
    "    #draw camera 2 point\n",
    "    fig.add_trace(go.Scattermapbox(\n",
    "        mode = \"markers+lines\",\n",
    "        lon = [camera2[1]],\n",
    "        lat = [camera2[0]],\n",
    "        name = 'Camera 2',\n",
    "        marker = {'size': 10, 'color':'red'}))\n",
    "    \n",
    "    #draw line from prediction point to camera1_fovd\n",
    "    fig.add_trace(go.Scattermapbox(\n",
    "        mode = \"markers+lines\",\n",
    "        lon = [prediction[1], camera1_fovd[1]],\n",
    "        lat = [prediction[0], camera1_fovd[0]],\n",
    "        marker = {'size': 0},\n",
    "        line=dict(color='#000000'),\n",
    "        showlegend=False))\n",
    "    \n",
    "    #draw line from prediction point to camera2_fovd\n",
    "    fig.add_trace(go.Scattermapbox(\n",
    "        mode = \"markers+lines\",\n",
    "        lon = [prediction[1], camera2_fovd[1]],\n",
    "        lat = [prediction[0], camera2_fovd[0]],\n",
    "        marker = {'size': 0},\n",
    "        line=dict(color='#000000'), \n",
    "        showlegend=False))\n",
    "    \n",
    "    #draw prediction point\n",
    "    fig.add_trace(go.Scattermapbox(\n",
    "        mode = \"markers+lines\",\n",
    "        lon = [prediction[1]],\n",
    "        lat = [prediction[0]],\n",
    "        name = 'Predicted',\n",
    "        marker = {'size': 10, 'color':'blue'}))\n",
    "    \n",
    "    #draw actual point\n",
    "    fig.add_trace(go.Scattermapbox(\n",
    "        mode = \"markers+lines\",\n",
    "        lon = [actual[1]],\n",
    "        lat = [actual[0]],\n",
    "        name = 'Actual',\n",
    "        marker = {'size': 10, 'color':'orange'}))\n",
    "\n",
    "    fig.update_layout(\n",
    "        margin ={'l':0,'t':0,'b':0,'r':0},\n",
    "        mapbox = {\n",
    "            'center': {'lon': x_co-0.05, 'lat': y_co+0.05},\n",
    "            'style': \"stamen-terrain\",\n",
    "            'center': {'lon': x_co+0.05, 'lat': y_co-0.05},\n",
    "            'zoom': 10})\n",
    "    \n",
    "    fig.show()"
   ]
  },
  {
   "cell_type": "code",
   "execution_count": 106,
   "metadata": {},
   "outputs": [],
   "source": [
    "def find_slope(angle, cl_angle, direction, xpix, xres):\n",
    "    if direction == 'n':\n",
    "        if xpix < (xres/2):\n",
    "            return np.tan((np.pi/2)+angle+cl_angle)\n",
    "        else:\n",
    "            return np.tan((np.pi/2)-angle+cl_angle)\n",
    "    if direction == 'e':\n",
    "        if xpix < (xres/2):\n",
    "            return np.tan(angle+cl_angle)\n",
    "        else:\n",
    "            return np.tan(-angle+cl_angle)\n",
    "    if direction == 's':\n",
    "        if xpix < (xres/2):\n",
    "            return np.tan((3*np.pi/2)+angle+cl_angle)\n",
    "        else:\n",
    "            return np.tan((3*np.pi/2)-angle+cl_angle)\n",
    "    if direction == 'w':\n",
    "        if xpix < (xres/2):\n",
    "            return np.tan(np.pi+angle+cl_angle)\n",
    "        else:\n",
    "            return np.tan(np.pi-angle+cl_angle)\n",
    "        \n",
    "class camera_view:\n",
    "    def __init__(self, station, direction, tile_num, processed_xres=1856, processed_yres = 1040, precrop_yres = 1392, overlap_size=20, tile_size = [224,224]):\n",
    "        self.station = station\n",
    "        self.direction = direction\n",
    "        self.tile_num = tile_num\n",
    "        self.processed_xres = processed_xres\n",
    "        self.processed_yres = processed_yres\n",
    "        self.precrop_yres = precrop_yres\n",
    "        self.overlap_size = overlap_size\n",
    "        self.tile_size = tile_size\n",
    "        self.full_xres = cam_meta['x_resolution'].loc[(cam_meta['station'] == station) & (cam_meta['dir'] == direction)].iloc[0]#get from metadata\n",
    "        self.full_yres = cam_meta['y_resolution'].loc[(cam_meta['station'] == station) & (cam_meta['dir'] == direction)].iloc[0]#get from metadata\n",
    "        self.elevation = cam_meta['elevation'].loc[(cam_meta['station'] == station) & (cam_meta['dir'] == direction)].iloc[0]\n",
    "        self.cl_angle = cam_meta['center_angle'].loc[(cam_meta['station'] == station) & (cam_meta['dir'] == direction)].iloc[0]\n",
    "        self.cam_lat = cam_meta['cam_lat'].loc[(cam_meta['station'] == station) & (cam_meta['dir'] == direction)].iloc[0]\n",
    "        self.cam_long = cam_meta['cam_long'].loc[(cam_meta['station'] == station) & (cam_meta['dir'] == direction)].iloc[0]\n",
    "        self.pix_centers = self.find_tile_centers()\n",
    "        self.angle = self.find_angle()\n",
    "        self.converted_angle = self.convert_angle()\n",
    "                \n",
    "    def find_tile_centers(self):\n",
    "        num_tiles_x = int((self.processed_xres - self.overlap_size)/(self.tile_size[0] - self.overlap_size))\n",
    "        num_tiles_y = int((self.processed_yres - self.overlap_size)/(self.tile_size[0] - self.overlap_size))\n",
    "        full_y_crop = (self.precrop_yres / self.processed_yres)\n",
    "        xres_ratio = self.full_xres/self.processed_xres\n",
    "        yres_ratio = (self.full_yres*(self.processed_yres/self.precrop_yres))/self.processed_yres\n",
    "        stepsize_x = (self.tile_size[0]*xres_ratio) - (self.overlap_size * xres_ratio)\n",
    "        stepsize_y = (self.tile_size[1]*yres_ratio) - (self.overlap_size * yres_ratio)\n",
    "        x_pix = [round(((self.tile_size[0]*xres_ratio)/2) + (i*stepsize_x)) for i in range(num_tiles_x)]\n",
    "        y_pix = [round(((self.tile_size[1]*yres_ratio)/2) + (i*stepsize_y) + (((self.precrop_yres-self.processed_yres) / self.precrop_yres)*self.full_yres)) for i in range(num_tiles_y)]\n",
    "        \n",
    "        return [[x_pix[j],y_pix[i]] for i in range(len(y_pix)) for j in range(len(x_pix))]\n",
    "    \n",
    "    def find_angle(self):\n",
    "        x_ratio = abs(self.pix_centers[self.tile_num][0]-(self.full_xres/2)) / (self.full_xres/2)\n",
    "        y_ratio = abs(self.pix_centers[self.tile_num][1] -self.full_yres)/ self.full_yres\n",
    "        ang1 = model.predict(scaler.transform([[x_ratio, y_ratio, self.elevation]]))\n",
    "        return ang1\n",
    "    \n",
    "    def convert_angle(self):\n",
    "        dir_dict = {'n': np.pi/2, 'w': np.pi, 's': 3*np.pi/2, 'e': 0}\n",
    "        if (self.pix_centers[self.tile_num][0]) <= (self.full_xres/2):\n",
    "            return  self.cl_angle + dir_dict[self.direction] + self.angle\n",
    "        else:\n",
    "            return  self.cl_angle + dir_dict[self.direction] - self.angle\n",
    "        \n",
    "    def single_camera(self):\n",
    "        cam_coord = (self.cam_lat, self.cam_long)\n",
    "        cam_end = inverse_haversine(cam_coord, 30, self.angle)\n",
    "        left_start = inverse_haversine(cam_coord, 3, self.angle+(np.pi/2))\n",
    "        left_end = inverse_haversine(left_start, 30, self.angle)\n",
    "        right_start = inverse_haversine(cam_coord, 3, self.angle-(np.pi/2))\n",
    "        right_end = inverse_haversine(right_start, 30, self.angle)\n",
    "\n",
    "        line_left = LineString([cam_coord, cam_end])\n",
    "        line_center = LineString([left_start, left_end])\n",
    "        line_right = LineString([right_start, right_end])\n",
    "\n",
    "        return gpd.GeoDataFrame([line_left, line_center, line_right],  columns=['LineString_obj'],  geometry='LineString_obj')"
   ]
  },
  {
   "cell_type": "code",
   "execution_count": 107,
   "metadata": {},
   "outputs": [
    {
     "data": {
      "text/html": [
       "<div>\n",
       "<style scoped>\n",
       "    .dataframe tbody tr th:only-of-type {\n",
       "        vertical-align: middle;\n",
       "    }\n",
       "\n",
       "    .dataframe tbody tr th {\n",
       "        vertical-align: top;\n",
       "    }\n",
       "\n",
       "    .dataframe thead th {\n",
       "        text-align: right;\n",
       "    }\n",
       "</style>\n",
       "<table border=\"1\" class=\"dataframe\">\n",
       "  <thead>\n",
       "    <tr style=\"text-align: right;\">\n",
       "      <th></th>\n",
       "      <th>landmark</th>\n",
       "      <th>station</th>\n",
       "      <th>dir</th>\n",
       "      <th>lat</th>\n",
       "      <th>long</th>\n",
       "      <th>x_pixel</th>\n",
       "      <th>y_pixel</th>\n",
       "      <th>x_res</th>\n",
       "      <th>y_res</th>\n",
       "      <th>intersection</th>\n",
       "      <th>distance</th>\n",
       "      <th>tile</th>\n",
       "    </tr>\n",
       "  </thead>\n",
       "  <tbody>\n",
       "    <tr>\n",
       "      <th>0</th>\n",
       "      <td>otay resevoir - north tip</td>\n",
       "      <td>om</td>\n",
       "      <td>w</td>\n",
       "      <td>32.628680</td>\n",
       "      <td>-116.926238</td>\n",
       "      <td>2315</td>\n",
       "      <td>1153</td>\n",
       "      <td>3072</td>\n",
       "      <td>2048</td>\n",
       "      <td>1</td>\n",
       "      <td>8.518187</td>\n",
       "      <td>24</td>\n",
       "    </tr>\n",
       "    <tr>\n",
       "      <th>1</th>\n",
       "      <td>otay resevoir - north tip</td>\n",
       "      <td>sm</td>\n",
       "      <td>s</td>\n",
       "      <td>32.628680</td>\n",
       "      <td>-116.926238</td>\n",
       "      <td>1410</td>\n",
       "      <td>1250</td>\n",
       "      <td>3072</td>\n",
       "      <td>2048</td>\n",
       "      <td>1</td>\n",
       "      <td>7.641891</td>\n",
       "      <td>22</td>\n",
       "    </tr>\n",
       "    <tr>\n",
       "      <th>2</th>\n",
       "      <td>mt laguna water tower</td>\n",
       "      <td>ml</td>\n",
       "      <td>s</td>\n",
       "      <td>32.875975</td>\n",
       "      <td>-116.414988</td>\n",
       "      <td>765</td>\n",
       "      <td>637</td>\n",
       "      <td>2048</td>\n",
       "      <td>1536</td>\n",
       "      <td>1</td>\n",
       "      <td>1.892158</td>\n",
       "      <td>12</td>\n",
       "    </tr>\n",
       "    <tr>\n",
       "      <th>3</th>\n",
       "      <td>nucal egg ranch</td>\n",
       "      <td>mg</td>\n",
       "      <td>s</td>\n",
       "      <td>33.072523</td>\n",
       "      <td>-116.776892</td>\n",
       "      <td>1731</td>\n",
       "      <td>1117</td>\n",
       "      <td>3072</td>\n",
       "      <td>2048</td>\n",
       "      <td>1</td>\n",
       "      <td>13.023885</td>\n",
       "      <td>14</td>\n",
       "    </tr>\n",
       "    <tr>\n",
       "      <th>4</th>\n",
       "      <td>nucal egg ranch</td>\n",
       "      <td>bm</td>\n",
       "      <td>s</td>\n",
       "      <td>33.072523</td>\n",
       "      <td>-116.776892</td>\n",
       "      <td>1067</td>\n",
       "      <td>1127</td>\n",
       "      <td>3072</td>\n",
       "      <td>2048</td>\n",
       "      <td>1</td>\n",
       "      <td>10.144026</td>\n",
       "      <td>12</td>\n",
       "    </tr>\n",
       "    <tr>\n",
       "      <th>5</th>\n",
       "      <td>Palomar Observatory right</td>\n",
       "      <td>hp</td>\n",
       "      <td>w</td>\n",
       "      <td>33.348388</td>\n",
       "      <td>-116.859694</td>\n",
       "      <td>161</td>\n",
       "      <td>693</td>\n",
       "      <td>2048</td>\n",
       "      <td>1536</td>\n",
       "      <td>1</td>\n",
       "      <td>2.720259</td>\n",
       "      <td>9</td>\n",
       "    </tr>\n",
       "    <tr>\n",
       "      <th>6</th>\n",
       "      <td>Palomar Observatory right</td>\n",
       "      <td>bh</td>\n",
       "      <td>e</td>\n",
       "      <td>33.348388</td>\n",
       "      <td>-116.859694</td>\n",
       "      <td>1044</td>\n",
       "      <td>1011</td>\n",
       "      <td>3072</td>\n",
       "      <td>2048</td>\n",
       "      <td>1</td>\n",
       "      <td>5.747043</td>\n",
       "      <td>12</td>\n",
       "    </tr>\n",
       "    <tr>\n",
       "      <th>7</th>\n",
       "      <td>target - san clemente</td>\n",
       "      <td>sclm</td>\n",
       "      <td>n</td>\n",
       "      <td>33.464032</td>\n",
       "      <td>-117.605505</td>\n",
       "      <td>642</td>\n",
       "      <td>1183</td>\n",
       "      <td>3072</td>\n",
       "      <td>2048</td>\n",
       "      <td>1</td>\n",
       "      <td>3.704763</td>\n",
       "      <td>19</td>\n",
       "    </tr>\n",
       "    <tr>\n",
       "      <th>8</th>\n",
       "      <td>target - san clemente</td>\n",
       "      <td>sjh</td>\n",
       "      <td>s</td>\n",
       "      <td>33.464032</td>\n",
       "      <td>-117.605505</td>\n",
       "      <td>1681</td>\n",
       "      <td>1152</td>\n",
       "      <td>3072</td>\n",
       "      <td>2048</td>\n",
       "      <td>1</td>\n",
       "      <td>4.332222</td>\n",
       "      <td>22</td>\n",
       "    </tr>\n",
       "    <tr>\n",
       "      <th>9</th>\n",
       "      <td>santa ynez reservoir</td>\n",
       "      <td>dwpgm</td>\n",
       "      <td>s</td>\n",
       "      <td>34.072078</td>\n",
       "      <td>-118.567900</td>\n",
       "      <td>2738</td>\n",
       "      <td>1321</td>\n",
       "      <td>3072</td>\n",
       "      <td>2048</td>\n",
       "      <td>1</td>\n",
       "      <td>2.375986</td>\n",
       "      <td>26</td>\n",
       "    </tr>\n",
       "    <tr>\n",
       "      <th>10</th>\n",
       "      <td>santa ynez reservoir</td>\n",
       "      <td>dwpgm</td>\n",
       "      <td>w</td>\n",
       "      <td>34.072078</td>\n",
       "      <td>-118.567900</td>\n",
       "      <td>220</td>\n",
       "      <td>1333</td>\n",
       "      <td>3072</td>\n",
       "      <td>2048</td>\n",
       "      <td>1</td>\n",
       "      <td>2.375986</td>\n",
       "      <td>18</td>\n",
       "    </tr>\n",
       "    <tr>\n",
       "      <th>11</th>\n",
       "      <td>santa monica pier</td>\n",
       "      <td>dwpgm</td>\n",
       "      <td>s</td>\n",
       "      <td>34.007566</td>\n",
       "      <td>-118.499757</td>\n",
       "      <td>565</td>\n",
       "      <td>1145</td>\n",
       "      <td>3072</td>\n",
       "      <td>2048</td>\n",
       "      <td>1</td>\n",
       "      <td>9.860775</td>\n",
       "      <td>19</td>\n",
       "    </tr>\n",
       "    <tr>\n",
       "      <th>12</th>\n",
       "      <td>santa monica pier</td>\n",
       "      <td>69bravo</td>\n",
       "      <td>e</td>\n",
       "      <td>34.007566</td>\n",
       "      <td>-118.499757</td>\n",
       "      <td>2266</td>\n",
       "      <td>1173</td>\n",
       "      <td>3072</td>\n",
       "      <td>2048</td>\n",
       "      <td>1</td>\n",
       "      <td>13.961549</td>\n",
       "      <td>24</td>\n",
       "    </tr>\n",
       "    <tr>\n",
       "      <th>13</th>\n",
       "      <td>palomar medical center</td>\n",
       "      <td>ch</td>\n",
       "      <td>e</td>\n",
       "      <td>33.122271</td>\n",
       "      <td>-117.121483</td>\n",
       "      <td>819</td>\n",
       "      <td>1204</td>\n",
       "      <td>3072</td>\n",
       "      <td>2048</td>\n",
       "      <td>1</td>\n",
       "      <td>3.204818</td>\n",
       "      <td>20</td>\n",
       "    </tr>\n",
       "    <tr>\n",
       "      <th>14</th>\n",
       "      <td>palomar medical center</td>\n",
       "      <td>rdd</td>\n",
       "      <td>n</td>\n",
       "      <td>33.122271</td>\n",
       "      <td>-117.121483</td>\n",
       "      <td>1516</td>\n",
       "      <td>1064</td>\n",
       "      <td>3072</td>\n",
       "      <td>2048</td>\n",
       "      <td>1</td>\n",
       "      <td>3.162336</td>\n",
       "      <td>13</td>\n",
       "    </tr>\n",
       "    <tr>\n",
       "      <th>15</th>\n",
       "      <td>veritiv distribution warehouse</td>\n",
       "      <td>ch</td>\n",
       "      <td>e</td>\n",
       "      <td>33.108108</td>\n",
       "      <td>-117.115555</td>\n",
       "      <td>1665</td>\n",
       "      <td>1208</td>\n",
       "      <td>3072</td>\n",
       "      <td>2048</td>\n",
       "      <td>1</td>\n",
       "      <td>3.495206</td>\n",
       "      <td>22</td>\n",
       "    </tr>\n",
       "    <tr>\n",
       "      <th>16</th>\n",
       "      <td>veritiv distribution warehouse</td>\n",
       "      <td>rdd</td>\n",
       "      <td>n</td>\n",
       "      <td>33.108108</td>\n",
       "      <td>-117.115555</td>\n",
       "      <td>2078</td>\n",
       "      <td>1140</td>\n",
       "      <td>3072</td>\n",
       "      <td>2048</td>\n",
       "      <td>1</td>\n",
       "      <td>1.667744</td>\n",
       "      <td>24</td>\n",
       "    </tr>\n",
       "    <tr>\n",
       "      <th>17</th>\n",
       "      <td>mt laguna water tower</td>\n",
       "      <td>mlo</td>\n",
       "      <td>n</td>\n",
       "      <td>32.875975</td>\n",
       "      <td>-116.414988</td>\n",
       "      <td>1966</td>\n",
       "      <td>1055</td>\n",
       "      <td>3072</td>\n",
       "      <td>2048</td>\n",
       "      <td>1</td>\n",
       "      <td>4.177608</td>\n",
       "      <td>14</td>\n",
       "    </tr>\n",
       "    <tr>\n",
       "      <th>18</th>\n",
       "      <td>tree cluster end</td>\n",
       "      <td>mg</td>\n",
       "      <td>w</td>\n",
       "      <td>33.182096</td>\n",
       "      <td>-116.781314</td>\n",
       "      <td>880</td>\n",
       "      <td>1388</td>\n",
       "      <td>3072</td>\n",
       "      <td>2048</td>\n",
       "      <td>1</td>\n",
       "      <td>2.063995</td>\n",
       "      <td>20</td>\n",
       "    </tr>\n",
       "    <tr>\n",
       "      <th>19</th>\n",
       "      <td>tree cluster end</td>\n",
       "      <td>bm</td>\n",
       "      <td>n</td>\n",
       "      <td>33.182096</td>\n",
       "      <td>-116.781314</td>\n",
       "      <td>2800</td>\n",
       "      <td>1195</td>\n",
       "      <td>3072</td>\n",
       "      <td>2048</td>\n",
       "      <td>1</td>\n",
       "      <td>3.505396</td>\n",
       "      <td>26</td>\n",
       "    </tr>\n",
       "  </tbody>\n",
       "</table>\n",
       "</div>"
      ],
      "text/plain": [
       "                          landmark  station dir        lat        long  \\\n",
       "0        otay resevoir - north tip       om   w  32.628680 -116.926238   \n",
       "1        otay resevoir - north tip       sm   s  32.628680 -116.926238   \n",
       "2            mt laguna water tower       ml   s  32.875975 -116.414988   \n",
       "3                  nucal egg ranch       mg   s  33.072523 -116.776892   \n",
       "4                  nucal egg ranch       bm   s  33.072523 -116.776892   \n",
       "5        Palomar Observatory right       hp   w  33.348388 -116.859694   \n",
       "6        Palomar Observatory right       bh   e  33.348388 -116.859694   \n",
       "7            target - san clemente     sclm   n  33.464032 -117.605505   \n",
       "8            target - san clemente      sjh   s  33.464032 -117.605505   \n",
       "9             santa ynez reservoir    dwpgm   s  34.072078 -118.567900   \n",
       "10            santa ynez reservoir    dwpgm   w  34.072078 -118.567900   \n",
       "11               santa monica pier    dwpgm   s  34.007566 -118.499757   \n",
       "12               santa monica pier  69bravo   e  34.007566 -118.499757   \n",
       "13          palomar medical center       ch   e  33.122271 -117.121483   \n",
       "14          palomar medical center      rdd   n  33.122271 -117.121483   \n",
       "15  veritiv distribution warehouse       ch   e  33.108108 -117.115555   \n",
       "16  veritiv distribution warehouse      rdd   n  33.108108 -117.115555   \n",
       "17           mt laguna water tower      mlo   n  32.875975 -116.414988   \n",
       "18                tree cluster end       mg   w  33.182096 -116.781314   \n",
       "19                tree cluster end       bm   n  33.182096 -116.781314   \n",
       "\n",
       "    x_pixel  y_pixel  x_res  y_res  intersection   distance  tile  \n",
       "0      2315     1153   3072   2048             1   8.518187    24  \n",
       "1      1410     1250   3072   2048             1   7.641891    22  \n",
       "2       765      637   2048   1536             1   1.892158    12  \n",
       "3      1731     1117   3072   2048             1  13.023885    14  \n",
       "4      1067     1127   3072   2048             1  10.144026    12  \n",
       "5       161      693   2048   1536             1   2.720259     9  \n",
       "6      1044     1011   3072   2048             1   5.747043    12  \n",
       "7       642     1183   3072   2048             1   3.704763    19  \n",
       "8      1681     1152   3072   2048             1   4.332222    22  \n",
       "9      2738     1321   3072   2048             1   2.375986    26  \n",
       "10      220     1333   3072   2048             1   2.375986    18  \n",
       "11      565     1145   3072   2048             1   9.860775    19  \n",
       "12     2266     1173   3072   2048             1  13.961549    24  \n",
       "13      819     1204   3072   2048             1   3.204818    20  \n",
       "14     1516     1064   3072   2048             1   3.162336    13  \n",
       "15     1665     1208   3072   2048             1   3.495206    22  \n",
       "16     2078     1140   3072   2048             1   1.667744    24  \n",
       "17     1966     1055   3072   2048             1   4.177608    14  \n",
       "18      880     1388   3072   2048             1   2.063995    20  \n",
       "19     2800     1195   3072   2048             1   3.505396    26  "
      ]
     },
     "execution_count": 107,
     "metadata": {},
     "output_type": "execute_result"
    }
   ],
   "source": [
    "cam_meta = pd.read_csv(\"data/cam_meta_05302022.csv\")\n",
    "df = pd.read_csv(\"data/landmarks_processed.csv\")\n",
    "df_intersections = df.loc[df['intersection'] == 1].reset_index(drop=True)\n",
    "test_lms = set(df_intersections['landmark'])\n",
    "df_intersections"
   ]
  },
  {
   "cell_type": "code",
   "execution_count": 114,
   "metadata": {},
   "outputs": [
    {
     "name": "stdout",
     "output_type": "stream",
     "text": [
      "otay resevoir - north tip\n",
      "X: [-116.93436269], Y: [32.63065017]\n",
      "Distance From Actual:  0.5647380536305667\n"
     ]
    }
   ],
   "source": [
    "landmark = 'otay resevoir - north tip'\n",
    "df_test = df_intersections.loc[df_intersections['landmark'] == landmark]\n",
    "cv1 = camera_view(station=df_test['station'].iloc[0], direction=df_test['dir'].iloc[0], tile_num=df_test['tile'].iloc[0])\n",
    "cv2 = camera_view(station=df_test['station'].iloc[1], direction=df_test['dir'].iloc[1], tile_num=df_test['tile'].iloc[1])\n",
    "\n",
    "m1 = find_slope(cv1.angle, cv1.cl_angle, cv1.direction, cv1.pix_centers[cv1.tile_num][0], cv1.full_xres)\n",
    "b1 = cv1.cam_lat - (m1 * cv1.cam_long)\n",
    "m2 = find_slope(cv2.angle, cv2.cl_angle, cv2.direction, cv2.pix_centers[cv2.tile_num][0], cv2.full_xres)\n",
    "b2 = cv2.cam_lat - (m2 * cv2.cam_long)\n",
    "\n",
    "x_coord = (b2 - b1)/(m1-m2)\n",
    "y_coord = (m1 * x_coord) + b1\n",
    "dist_acc = haversine((df_test['long'].iloc[0],df_test['lat'].iloc[0]), (x_coord, y_coord), unit=Unit.MILES)\n",
    "\n",
    "print(landmark)\n",
    "print(\"X: {}, Y: {}\".format(x_coord, y_coord))\n",
    "print(\"Distance From Actual: \", dist_acc)"
   ]
  },
  {
   "cell_type": "code",
   "execution_count": 115,
   "metadata": {},
   "outputs": [
    {
     "data": {
      "application/vnd.plotly.v1+json": {
       "config": {
        "plotlyServerURL": "https://plot.ly"
       },
       "data": [
        {
         "lat": [
          32.59476209,
          32.63065017401397
         ],
         "line": {
          "color": "#000000"
         },
         "lon": [
          -116.8446941,
          -116.93436269093124
         ],
         "marker": {
          "size": 0
         },
         "mode": "markers+lines",
         "showlegend": false,
         "type": "scattermapbox"
        },
        {
         "lat": [
          32.59476209
         ],
         "lon": [
          -116.8446941
         ],
         "marker": {
          "color": "red",
          "size": 10
         },
         "mode": "markers+lines",
         "name": "Camera 1",
         "type": "scattermapbox"
        },
        {
         "lat": [
          32.69688501,
          32.63065017401397
         ],
         "line": {
          "color": "#000000"
         },
         "lon": [
          -116.936262,
          -116.93436269093124
         ],
         "marker": {
          "size": 0
         },
         "mode": "markers+lines",
         "showlegend": false,
         "type": "scattermapbox"
        },
        {
         "lat": [
          32.69688501
         ],
         "lon": [
          -116.936262
         ],
         "marker": {
          "color": "red",
          "size": 10
         },
         "mode": "markers+lines",
         "name": "Camera 2",
         "type": "scattermapbox"
        },
        {
         "lat": [
          32.63065017401397,
          32.63065017401397
         ],
         "line": {
          "color": "#000000"
         },
         "lon": [
          -116.93436269093124,
          -116.93436269093124
         ],
         "marker": {
          "size": 0
         },
         "mode": "markers+lines",
         "showlegend": false,
         "type": "scattermapbox"
        },
        {
         "lat": [
          32.63065017401397,
          32.63065017401368
         ],
         "line": {
          "color": "#000000"
         },
         "lon": [
          -116.93436269093124,
          -116.93436269093124
         ],
         "marker": {
          "size": 0
         },
         "mode": "markers+lines",
         "showlegend": false,
         "type": "scattermapbox"
        },
        {
         "lat": [
          32.63065017401397
         ],
         "lon": [
          -116.93436269093124
         ],
         "marker": {
          "color": "blue",
          "size": 10
         },
         "mode": "markers+lines",
         "name": "Predicted",
         "type": "scattermapbox"
        },
        {
         "lat": [
          32.62868
         ],
         "lon": [
          -116.926238
         ],
         "marker": {
          "color": "orange",
          "size": 10
         },
         "mode": "markers+lines",
         "name": "Actual",
         "type": "scattermapbox"
        }
       ],
       "layout": {
        "mapbox": {
         "center": {
          "lat": 32.580650174013975,
          "lon": -116.88436269093124
         },
         "style": "stamen-terrain",
         "zoom": 10
        },
        "margin": {
         "b": 0,
         "l": 0,
         "r": 0,
         "t": 0
        },
        "template": {
         "data": {
          "bar": [
           {
            "error_x": {
             "color": "#2a3f5f"
            },
            "error_y": {
             "color": "#2a3f5f"
            },
            "marker": {
             "line": {
              "color": "#E5ECF6",
              "width": 0.5
             },
             "pattern": {
              "fillmode": "overlay",
              "size": 10,
              "solidity": 0.2
             }
            },
            "type": "bar"
           }
          ],
          "barpolar": [
           {
            "marker": {
             "line": {
              "color": "#E5ECF6",
              "width": 0.5
             },
             "pattern": {
              "fillmode": "overlay",
              "size": 10,
              "solidity": 0.2
             }
            },
            "type": "barpolar"
           }
          ],
          "carpet": [
           {
            "aaxis": {
             "endlinecolor": "#2a3f5f",
             "gridcolor": "white",
             "linecolor": "white",
             "minorgridcolor": "white",
             "startlinecolor": "#2a3f5f"
            },
            "baxis": {
             "endlinecolor": "#2a3f5f",
             "gridcolor": "white",
             "linecolor": "white",
             "minorgridcolor": "white",
             "startlinecolor": "#2a3f5f"
            },
            "type": "carpet"
           }
          ],
          "choropleth": [
           {
            "colorbar": {
             "outlinewidth": 0,
             "ticks": ""
            },
            "type": "choropleth"
           }
          ],
          "contour": [
           {
            "colorbar": {
             "outlinewidth": 0,
             "ticks": ""
            },
            "colorscale": [
             [
              0,
              "#0d0887"
             ],
             [
              0.1111111111111111,
              "#46039f"
             ],
             [
              0.2222222222222222,
              "#7201a8"
             ],
             [
              0.3333333333333333,
              "#9c179e"
             ],
             [
              0.4444444444444444,
              "#bd3786"
             ],
             [
              0.5555555555555556,
              "#d8576b"
             ],
             [
              0.6666666666666666,
              "#ed7953"
             ],
             [
              0.7777777777777778,
              "#fb9f3a"
             ],
             [
              0.8888888888888888,
              "#fdca26"
             ],
             [
              1,
              "#f0f921"
             ]
            ],
            "type": "contour"
           }
          ],
          "contourcarpet": [
           {
            "colorbar": {
             "outlinewidth": 0,
             "ticks": ""
            },
            "type": "contourcarpet"
           }
          ],
          "heatmap": [
           {
            "colorbar": {
             "outlinewidth": 0,
             "ticks": ""
            },
            "colorscale": [
             [
              0,
              "#0d0887"
             ],
             [
              0.1111111111111111,
              "#46039f"
             ],
             [
              0.2222222222222222,
              "#7201a8"
             ],
             [
              0.3333333333333333,
              "#9c179e"
             ],
             [
              0.4444444444444444,
              "#bd3786"
             ],
             [
              0.5555555555555556,
              "#d8576b"
             ],
             [
              0.6666666666666666,
              "#ed7953"
             ],
             [
              0.7777777777777778,
              "#fb9f3a"
             ],
             [
              0.8888888888888888,
              "#fdca26"
             ],
             [
              1,
              "#f0f921"
             ]
            ],
            "type": "heatmap"
           }
          ],
          "heatmapgl": [
           {
            "colorbar": {
             "outlinewidth": 0,
             "ticks": ""
            },
            "colorscale": [
             [
              0,
              "#0d0887"
             ],
             [
              0.1111111111111111,
              "#46039f"
             ],
             [
              0.2222222222222222,
              "#7201a8"
             ],
             [
              0.3333333333333333,
              "#9c179e"
             ],
             [
              0.4444444444444444,
              "#bd3786"
             ],
             [
              0.5555555555555556,
              "#d8576b"
             ],
             [
              0.6666666666666666,
              "#ed7953"
             ],
             [
              0.7777777777777778,
              "#fb9f3a"
             ],
             [
              0.8888888888888888,
              "#fdca26"
             ],
             [
              1,
              "#f0f921"
             ]
            ],
            "type": "heatmapgl"
           }
          ],
          "histogram": [
           {
            "marker": {
             "pattern": {
              "fillmode": "overlay",
              "size": 10,
              "solidity": 0.2
             }
            },
            "type": "histogram"
           }
          ],
          "histogram2d": [
           {
            "colorbar": {
             "outlinewidth": 0,
             "ticks": ""
            },
            "colorscale": [
             [
              0,
              "#0d0887"
             ],
             [
              0.1111111111111111,
              "#46039f"
             ],
             [
              0.2222222222222222,
              "#7201a8"
             ],
             [
              0.3333333333333333,
              "#9c179e"
             ],
             [
              0.4444444444444444,
              "#bd3786"
             ],
             [
              0.5555555555555556,
              "#d8576b"
             ],
             [
              0.6666666666666666,
              "#ed7953"
             ],
             [
              0.7777777777777778,
              "#fb9f3a"
             ],
             [
              0.8888888888888888,
              "#fdca26"
             ],
             [
              1,
              "#f0f921"
             ]
            ],
            "type": "histogram2d"
           }
          ],
          "histogram2dcontour": [
           {
            "colorbar": {
             "outlinewidth": 0,
             "ticks": ""
            },
            "colorscale": [
             [
              0,
              "#0d0887"
             ],
             [
              0.1111111111111111,
              "#46039f"
             ],
             [
              0.2222222222222222,
              "#7201a8"
             ],
             [
              0.3333333333333333,
              "#9c179e"
             ],
             [
              0.4444444444444444,
              "#bd3786"
             ],
             [
              0.5555555555555556,
              "#d8576b"
             ],
             [
              0.6666666666666666,
              "#ed7953"
             ],
             [
              0.7777777777777778,
              "#fb9f3a"
             ],
             [
              0.8888888888888888,
              "#fdca26"
             ],
             [
              1,
              "#f0f921"
             ]
            ],
            "type": "histogram2dcontour"
           }
          ],
          "mesh3d": [
           {
            "colorbar": {
             "outlinewidth": 0,
             "ticks": ""
            },
            "type": "mesh3d"
           }
          ],
          "parcoords": [
           {
            "line": {
             "colorbar": {
              "outlinewidth": 0,
              "ticks": ""
             }
            },
            "type": "parcoords"
           }
          ],
          "pie": [
           {
            "automargin": true,
            "type": "pie"
           }
          ],
          "scatter": [
           {
            "marker": {
             "colorbar": {
              "outlinewidth": 0,
              "ticks": ""
             }
            },
            "type": "scatter"
           }
          ],
          "scatter3d": [
           {
            "line": {
             "colorbar": {
              "outlinewidth": 0,
              "ticks": ""
             }
            },
            "marker": {
             "colorbar": {
              "outlinewidth": 0,
              "ticks": ""
             }
            },
            "type": "scatter3d"
           }
          ],
          "scattercarpet": [
           {
            "marker": {
             "colorbar": {
              "outlinewidth": 0,
              "ticks": ""
             }
            },
            "type": "scattercarpet"
           }
          ],
          "scattergeo": [
           {
            "marker": {
             "colorbar": {
              "outlinewidth": 0,
              "ticks": ""
             }
            },
            "type": "scattergeo"
           }
          ],
          "scattergl": [
           {
            "marker": {
             "colorbar": {
              "outlinewidth": 0,
              "ticks": ""
             }
            },
            "type": "scattergl"
           }
          ],
          "scattermapbox": [
           {
            "marker": {
             "colorbar": {
              "outlinewidth": 0,
              "ticks": ""
             }
            },
            "type": "scattermapbox"
           }
          ],
          "scatterpolar": [
           {
            "marker": {
             "colorbar": {
              "outlinewidth": 0,
              "ticks": ""
             }
            },
            "type": "scatterpolar"
           }
          ],
          "scatterpolargl": [
           {
            "marker": {
             "colorbar": {
              "outlinewidth": 0,
              "ticks": ""
             }
            },
            "type": "scatterpolargl"
           }
          ],
          "scatterternary": [
           {
            "marker": {
             "colorbar": {
              "outlinewidth": 0,
              "ticks": ""
             }
            },
            "type": "scatterternary"
           }
          ],
          "surface": [
           {
            "colorbar": {
             "outlinewidth": 0,
             "ticks": ""
            },
            "colorscale": [
             [
              0,
              "#0d0887"
             ],
             [
              0.1111111111111111,
              "#46039f"
             ],
             [
              0.2222222222222222,
              "#7201a8"
             ],
             [
              0.3333333333333333,
              "#9c179e"
             ],
             [
              0.4444444444444444,
              "#bd3786"
             ],
             [
              0.5555555555555556,
              "#d8576b"
             ],
             [
              0.6666666666666666,
              "#ed7953"
             ],
             [
              0.7777777777777778,
              "#fb9f3a"
             ],
             [
              0.8888888888888888,
              "#fdca26"
             ],
             [
              1,
              "#f0f921"
             ]
            ],
            "type": "surface"
           }
          ],
          "table": [
           {
            "cells": {
             "fill": {
              "color": "#EBF0F8"
             },
             "line": {
              "color": "white"
             }
            },
            "header": {
             "fill": {
              "color": "#C8D4E3"
             },
             "line": {
              "color": "white"
             }
            },
            "type": "table"
           }
          ]
         },
         "layout": {
          "annotationdefaults": {
           "arrowcolor": "#2a3f5f",
           "arrowhead": 0,
           "arrowwidth": 1
          },
          "autotypenumbers": "strict",
          "coloraxis": {
           "colorbar": {
            "outlinewidth": 0,
            "ticks": ""
           }
          },
          "colorscale": {
           "diverging": [
            [
             0,
             "#8e0152"
            ],
            [
             0.1,
             "#c51b7d"
            ],
            [
             0.2,
             "#de77ae"
            ],
            [
             0.3,
             "#f1b6da"
            ],
            [
             0.4,
             "#fde0ef"
            ],
            [
             0.5,
             "#f7f7f7"
            ],
            [
             0.6,
             "#e6f5d0"
            ],
            [
             0.7,
             "#b8e186"
            ],
            [
             0.8,
             "#7fbc41"
            ],
            [
             0.9,
             "#4d9221"
            ],
            [
             1,
             "#276419"
            ]
           ],
           "sequential": [
            [
             0,
             "#0d0887"
            ],
            [
             0.1111111111111111,
             "#46039f"
            ],
            [
             0.2222222222222222,
             "#7201a8"
            ],
            [
             0.3333333333333333,
             "#9c179e"
            ],
            [
             0.4444444444444444,
             "#bd3786"
            ],
            [
             0.5555555555555556,
             "#d8576b"
            ],
            [
             0.6666666666666666,
             "#ed7953"
            ],
            [
             0.7777777777777778,
             "#fb9f3a"
            ],
            [
             0.8888888888888888,
             "#fdca26"
            ],
            [
             1,
             "#f0f921"
            ]
           ],
           "sequentialminus": [
            [
             0,
             "#0d0887"
            ],
            [
             0.1111111111111111,
             "#46039f"
            ],
            [
             0.2222222222222222,
             "#7201a8"
            ],
            [
             0.3333333333333333,
             "#9c179e"
            ],
            [
             0.4444444444444444,
             "#bd3786"
            ],
            [
             0.5555555555555556,
             "#d8576b"
            ],
            [
             0.6666666666666666,
             "#ed7953"
            ],
            [
             0.7777777777777778,
             "#fb9f3a"
            ],
            [
             0.8888888888888888,
             "#fdca26"
            ],
            [
             1,
             "#f0f921"
            ]
           ]
          },
          "colorway": [
           "#636efa",
           "#EF553B",
           "#00cc96",
           "#ab63fa",
           "#FFA15A",
           "#19d3f3",
           "#FF6692",
           "#B6E880",
           "#FF97FF",
           "#FECB52"
          ],
          "font": {
           "color": "#2a3f5f"
          },
          "geo": {
           "bgcolor": "white",
           "lakecolor": "white",
           "landcolor": "#E5ECF6",
           "showlakes": true,
           "showland": true,
           "subunitcolor": "white"
          },
          "hoverlabel": {
           "align": "left"
          },
          "hovermode": "closest",
          "mapbox": {
           "style": "light"
          },
          "paper_bgcolor": "white",
          "plot_bgcolor": "#E5ECF6",
          "polar": {
           "angularaxis": {
            "gridcolor": "white",
            "linecolor": "white",
            "ticks": ""
           },
           "bgcolor": "#E5ECF6",
           "radialaxis": {
            "gridcolor": "white",
            "linecolor": "white",
            "ticks": ""
           }
          },
          "scene": {
           "xaxis": {
            "backgroundcolor": "#E5ECF6",
            "gridcolor": "white",
            "gridwidth": 2,
            "linecolor": "white",
            "showbackground": true,
            "ticks": "",
            "zerolinecolor": "white"
           },
           "yaxis": {
            "backgroundcolor": "#E5ECF6",
            "gridcolor": "white",
            "gridwidth": 2,
            "linecolor": "white",
            "showbackground": true,
            "ticks": "",
            "zerolinecolor": "white"
           },
           "zaxis": {
            "backgroundcolor": "#E5ECF6",
            "gridcolor": "white",
            "gridwidth": 2,
            "linecolor": "white",
            "showbackground": true,
            "ticks": "",
            "zerolinecolor": "white"
           }
          },
          "shapedefaults": {
           "line": {
            "color": "#2a3f5f"
           }
          },
          "ternary": {
           "aaxis": {
            "gridcolor": "white",
            "linecolor": "white",
            "ticks": ""
           },
           "baxis": {
            "gridcolor": "white",
            "linecolor": "white",
            "ticks": ""
           },
           "bgcolor": "#E5ECF6",
           "caxis": {
            "gridcolor": "white",
            "linecolor": "white",
            "ticks": ""
           }
          },
          "title": {
           "x": 0.05
          },
          "xaxis": {
           "automargin": true,
           "gridcolor": "white",
           "linecolor": "white",
           "ticks": "",
           "title": {
            "standoff": 15
           },
           "zerolinecolor": "white",
           "zerolinewidth": 2
          },
          "yaxis": {
           "automargin": true,
           "gridcolor": "white",
           "linecolor": "white",
           "ticks": "",
           "title": {
            "standoff": 15
           },
           "zerolinecolor": "white",
           "zerolinewidth": 2
          }
         }
        }
       }
      },
      "text/html": [
       "<div>                            <div id=\"64572888-dddf-4436-aa51-98c6a6bef569\" class=\"plotly-graph-div\" style=\"height:525px; width:100%;\"></div>            <script type=\"text/javascript\">                require([\"plotly\"], function(Plotly) {                    window.PLOTLYENV=window.PLOTLYENV || {};                                    if (document.getElementById(\"64572888-dddf-4436-aa51-98c6a6bef569\")) {                    Plotly.newPlot(                        \"64572888-dddf-4436-aa51-98c6a6bef569\",                        [{\"lat\":[32.59476209,32.63065017401397],\"line\":{\"color\":\"#000000\"},\"lon\":[-116.8446941,-116.93436269093124],\"marker\":{\"size\":0},\"mode\":\"markers+lines\",\"showlegend\":false,\"type\":\"scattermapbox\"},{\"lat\":[32.59476209],\"lon\":[-116.8446941],\"marker\":{\"color\":\"red\",\"size\":10},\"mode\":\"markers+lines\",\"name\":\"Camera 1\",\"type\":\"scattermapbox\"},{\"lat\":[32.69688501,32.63065017401397],\"line\":{\"color\":\"#000000\"},\"lon\":[-116.936262,-116.93436269093124],\"marker\":{\"size\":0},\"mode\":\"markers+lines\",\"showlegend\":false,\"type\":\"scattermapbox\"},{\"lat\":[32.69688501],\"lon\":[-116.936262],\"marker\":{\"color\":\"red\",\"size\":10},\"mode\":\"markers+lines\",\"name\":\"Camera 2\",\"type\":\"scattermapbox\"},{\"lat\":[32.63065017401397,32.63065017401397],\"line\":{\"color\":\"#000000\"},\"lon\":[-116.93436269093124,-116.93436269093124],\"marker\":{\"size\":0},\"mode\":\"markers+lines\",\"showlegend\":false,\"type\":\"scattermapbox\"},{\"lat\":[32.63065017401397,32.63065017401368],\"line\":{\"color\":\"#000000\"},\"lon\":[-116.93436269093124,-116.93436269093124],\"marker\":{\"size\":0},\"mode\":\"markers+lines\",\"showlegend\":false,\"type\":\"scattermapbox\"},{\"lat\":[32.63065017401397],\"lon\":[-116.93436269093124],\"marker\":{\"color\":\"blue\",\"size\":10},\"mode\":\"markers+lines\",\"name\":\"Predicted\",\"type\":\"scattermapbox\"},{\"lat\":[32.62868],\"lon\":[-116.926238],\"marker\":{\"color\":\"orange\",\"size\":10},\"mode\":\"markers+lines\",\"name\":\"Actual\",\"type\":\"scattermapbox\"}],                        {\"template\":{\"data\":{\"bar\":[{\"error_x\":{\"color\":\"#2a3f5f\"},\"error_y\":{\"color\":\"#2a3f5f\"},\"marker\":{\"line\":{\"color\":\"#E5ECF6\",\"width\":0.5},\"pattern\":{\"fillmode\":\"overlay\",\"size\":10,\"solidity\":0.2}},\"type\":\"bar\"}],\"barpolar\":[{\"marker\":{\"line\":{\"color\":\"#E5ECF6\",\"width\":0.5},\"pattern\":{\"fillmode\":\"overlay\",\"size\":10,\"solidity\":0.2}},\"type\":\"barpolar\"}],\"carpet\":[{\"aaxis\":{\"endlinecolor\":\"#2a3f5f\",\"gridcolor\":\"white\",\"linecolor\":\"white\",\"minorgridcolor\":\"white\",\"startlinecolor\":\"#2a3f5f\"},\"baxis\":{\"endlinecolor\":\"#2a3f5f\",\"gridcolor\":\"white\",\"linecolor\":\"white\",\"minorgridcolor\":\"white\",\"startlinecolor\":\"#2a3f5f\"},\"type\":\"carpet\"}],\"choropleth\":[{\"colorbar\":{\"outlinewidth\":0,\"ticks\":\"\"},\"type\":\"choropleth\"}],\"contour\":[{\"colorbar\":{\"outlinewidth\":0,\"ticks\":\"\"},\"colorscale\":[[0.0,\"#0d0887\"],[0.1111111111111111,\"#46039f\"],[0.2222222222222222,\"#7201a8\"],[0.3333333333333333,\"#9c179e\"],[0.4444444444444444,\"#bd3786\"],[0.5555555555555556,\"#d8576b\"],[0.6666666666666666,\"#ed7953\"],[0.7777777777777778,\"#fb9f3a\"],[0.8888888888888888,\"#fdca26\"],[1.0,\"#f0f921\"]],\"type\":\"contour\"}],\"contourcarpet\":[{\"colorbar\":{\"outlinewidth\":0,\"ticks\":\"\"},\"type\":\"contourcarpet\"}],\"heatmap\":[{\"colorbar\":{\"outlinewidth\":0,\"ticks\":\"\"},\"colorscale\":[[0.0,\"#0d0887\"],[0.1111111111111111,\"#46039f\"],[0.2222222222222222,\"#7201a8\"],[0.3333333333333333,\"#9c179e\"],[0.4444444444444444,\"#bd3786\"],[0.5555555555555556,\"#d8576b\"],[0.6666666666666666,\"#ed7953\"],[0.7777777777777778,\"#fb9f3a\"],[0.8888888888888888,\"#fdca26\"],[1.0,\"#f0f921\"]],\"type\":\"heatmap\"}],\"heatmapgl\":[{\"colorbar\":{\"outlinewidth\":0,\"ticks\":\"\"},\"colorscale\":[[0.0,\"#0d0887\"],[0.1111111111111111,\"#46039f\"],[0.2222222222222222,\"#7201a8\"],[0.3333333333333333,\"#9c179e\"],[0.4444444444444444,\"#bd3786\"],[0.5555555555555556,\"#d8576b\"],[0.6666666666666666,\"#ed7953\"],[0.7777777777777778,\"#fb9f3a\"],[0.8888888888888888,\"#fdca26\"],[1.0,\"#f0f921\"]],\"type\":\"heatmapgl\"}],\"histogram\":[{\"marker\":{\"pattern\":{\"fillmode\":\"overlay\",\"size\":10,\"solidity\":0.2}},\"type\":\"histogram\"}],\"histogram2d\":[{\"colorbar\":{\"outlinewidth\":0,\"ticks\":\"\"},\"colorscale\":[[0.0,\"#0d0887\"],[0.1111111111111111,\"#46039f\"],[0.2222222222222222,\"#7201a8\"],[0.3333333333333333,\"#9c179e\"],[0.4444444444444444,\"#bd3786\"],[0.5555555555555556,\"#d8576b\"],[0.6666666666666666,\"#ed7953\"],[0.7777777777777778,\"#fb9f3a\"],[0.8888888888888888,\"#fdca26\"],[1.0,\"#f0f921\"]],\"type\":\"histogram2d\"}],\"histogram2dcontour\":[{\"colorbar\":{\"outlinewidth\":0,\"ticks\":\"\"},\"colorscale\":[[0.0,\"#0d0887\"],[0.1111111111111111,\"#46039f\"],[0.2222222222222222,\"#7201a8\"],[0.3333333333333333,\"#9c179e\"],[0.4444444444444444,\"#bd3786\"],[0.5555555555555556,\"#d8576b\"],[0.6666666666666666,\"#ed7953\"],[0.7777777777777778,\"#fb9f3a\"],[0.8888888888888888,\"#fdca26\"],[1.0,\"#f0f921\"]],\"type\":\"histogram2dcontour\"}],\"mesh3d\":[{\"colorbar\":{\"outlinewidth\":0,\"ticks\":\"\"},\"type\":\"mesh3d\"}],\"parcoords\":[{\"line\":{\"colorbar\":{\"outlinewidth\":0,\"ticks\":\"\"}},\"type\":\"parcoords\"}],\"pie\":[{\"automargin\":true,\"type\":\"pie\"}],\"scatter\":[{\"marker\":{\"colorbar\":{\"outlinewidth\":0,\"ticks\":\"\"}},\"type\":\"scatter\"}],\"scatter3d\":[{\"line\":{\"colorbar\":{\"outlinewidth\":0,\"ticks\":\"\"}},\"marker\":{\"colorbar\":{\"outlinewidth\":0,\"ticks\":\"\"}},\"type\":\"scatter3d\"}],\"scattercarpet\":[{\"marker\":{\"colorbar\":{\"outlinewidth\":0,\"ticks\":\"\"}},\"type\":\"scattercarpet\"}],\"scattergeo\":[{\"marker\":{\"colorbar\":{\"outlinewidth\":0,\"ticks\":\"\"}},\"type\":\"scattergeo\"}],\"scattergl\":[{\"marker\":{\"colorbar\":{\"outlinewidth\":0,\"ticks\":\"\"}},\"type\":\"scattergl\"}],\"scattermapbox\":[{\"marker\":{\"colorbar\":{\"outlinewidth\":0,\"ticks\":\"\"}},\"type\":\"scattermapbox\"}],\"scatterpolar\":[{\"marker\":{\"colorbar\":{\"outlinewidth\":0,\"ticks\":\"\"}},\"type\":\"scatterpolar\"}],\"scatterpolargl\":[{\"marker\":{\"colorbar\":{\"outlinewidth\":0,\"ticks\":\"\"}},\"type\":\"scatterpolargl\"}],\"scatterternary\":[{\"marker\":{\"colorbar\":{\"outlinewidth\":0,\"ticks\":\"\"}},\"type\":\"scatterternary\"}],\"surface\":[{\"colorbar\":{\"outlinewidth\":0,\"ticks\":\"\"},\"colorscale\":[[0.0,\"#0d0887\"],[0.1111111111111111,\"#46039f\"],[0.2222222222222222,\"#7201a8\"],[0.3333333333333333,\"#9c179e\"],[0.4444444444444444,\"#bd3786\"],[0.5555555555555556,\"#d8576b\"],[0.6666666666666666,\"#ed7953\"],[0.7777777777777778,\"#fb9f3a\"],[0.8888888888888888,\"#fdca26\"],[1.0,\"#f0f921\"]],\"type\":\"surface\"}],\"table\":[{\"cells\":{\"fill\":{\"color\":\"#EBF0F8\"},\"line\":{\"color\":\"white\"}},\"header\":{\"fill\":{\"color\":\"#C8D4E3\"},\"line\":{\"color\":\"white\"}},\"type\":\"table\"}]},\"layout\":{\"annotationdefaults\":{\"arrowcolor\":\"#2a3f5f\",\"arrowhead\":0,\"arrowwidth\":1},\"autotypenumbers\":\"strict\",\"coloraxis\":{\"colorbar\":{\"outlinewidth\":0,\"ticks\":\"\"}},\"colorscale\":{\"diverging\":[[0,\"#8e0152\"],[0.1,\"#c51b7d\"],[0.2,\"#de77ae\"],[0.3,\"#f1b6da\"],[0.4,\"#fde0ef\"],[0.5,\"#f7f7f7\"],[0.6,\"#e6f5d0\"],[0.7,\"#b8e186\"],[0.8,\"#7fbc41\"],[0.9,\"#4d9221\"],[1,\"#276419\"]],\"sequential\":[[0.0,\"#0d0887\"],[0.1111111111111111,\"#46039f\"],[0.2222222222222222,\"#7201a8\"],[0.3333333333333333,\"#9c179e\"],[0.4444444444444444,\"#bd3786\"],[0.5555555555555556,\"#d8576b\"],[0.6666666666666666,\"#ed7953\"],[0.7777777777777778,\"#fb9f3a\"],[0.8888888888888888,\"#fdca26\"],[1.0,\"#f0f921\"]],\"sequentialminus\":[[0.0,\"#0d0887\"],[0.1111111111111111,\"#46039f\"],[0.2222222222222222,\"#7201a8\"],[0.3333333333333333,\"#9c179e\"],[0.4444444444444444,\"#bd3786\"],[0.5555555555555556,\"#d8576b\"],[0.6666666666666666,\"#ed7953\"],[0.7777777777777778,\"#fb9f3a\"],[0.8888888888888888,\"#fdca26\"],[1.0,\"#f0f921\"]]},\"colorway\":[\"#636efa\",\"#EF553B\",\"#00cc96\",\"#ab63fa\",\"#FFA15A\",\"#19d3f3\",\"#FF6692\",\"#B6E880\",\"#FF97FF\",\"#FECB52\"],\"font\":{\"color\":\"#2a3f5f\"},\"geo\":{\"bgcolor\":\"white\",\"lakecolor\":\"white\",\"landcolor\":\"#E5ECF6\",\"showlakes\":true,\"showland\":true,\"subunitcolor\":\"white\"},\"hoverlabel\":{\"align\":\"left\"},\"hovermode\":\"closest\",\"mapbox\":{\"style\":\"light\"},\"paper_bgcolor\":\"white\",\"plot_bgcolor\":\"#E5ECF6\",\"polar\":{\"angularaxis\":{\"gridcolor\":\"white\",\"linecolor\":\"white\",\"ticks\":\"\"},\"bgcolor\":\"#E5ECF6\",\"radialaxis\":{\"gridcolor\":\"white\",\"linecolor\":\"white\",\"ticks\":\"\"}},\"scene\":{\"xaxis\":{\"backgroundcolor\":\"#E5ECF6\",\"gridcolor\":\"white\",\"gridwidth\":2,\"linecolor\":\"white\",\"showbackground\":true,\"ticks\":\"\",\"zerolinecolor\":\"white\"},\"yaxis\":{\"backgroundcolor\":\"#E5ECF6\",\"gridcolor\":\"white\",\"gridwidth\":2,\"linecolor\":\"white\",\"showbackground\":true,\"ticks\":\"\",\"zerolinecolor\":\"white\"},\"zaxis\":{\"backgroundcolor\":\"#E5ECF6\",\"gridcolor\":\"white\",\"gridwidth\":2,\"linecolor\":\"white\",\"showbackground\":true,\"ticks\":\"\",\"zerolinecolor\":\"white\"}},\"shapedefaults\":{\"line\":{\"color\":\"#2a3f5f\"}},\"ternary\":{\"aaxis\":{\"gridcolor\":\"white\",\"linecolor\":\"white\",\"ticks\":\"\"},\"baxis\":{\"gridcolor\":\"white\",\"linecolor\":\"white\",\"ticks\":\"\"},\"bgcolor\":\"#E5ECF6\",\"caxis\":{\"gridcolor\":\"white\",\"linecolor\":\"white\",\"ticks\":\"\"}},\"title\":{\"x\":0.05},\"xaxis\":{\"automargin\":true,\"gridcolor\":\"white\",\"linecolor\":\"white\",\"ticks\":\"\",\"title\":{\"standoff\":15},\"zerolinecolor\":\"white\",\"zerolinewidth\":2},\"yaxis\":{\"automargin\":true,\"gridcolor\":\"white\",\"linecolor\":\"white\",\"ticks\":\"\",\"title\":{\"standoff\":15},\"zerolinecolor\":\"white\",\"zerolinewidth\":2}}},\"margin\":{\"l\":0,\"t\":0,\"b\":0,\"r\":0},\"mapbox\":{\"center\":{\"lon\":-116.88436269093124,\"lat\":32.580650174013975},\"style\":\"stamen-terrain\",\"zoom\":10}},                        {\"responsive\": true}                    ).then(function(){\n",
       "                            \n",
       "var gd = document.getElementById('64572888-dddf-4436-aa51-98c6a6bef569');\n",
       "var x = new MutationObserver(function (mutations, observer) {{\n",
       "        var display = window.getComputedStyle(gd).display;\n",
       "        if (!display || display === 'none') {{\n",
       "            console.log([gd, 'removed!']);\n",
       "            Plotly.purge(gd);\n",
       "            observer.disconnect();\n",
       "        }}\n",
       "}});\n",
       "\n",
       "// Listen for the removal of the full notebook cells\n",
       "var notebookContainer = gd.closest('#notebook-container');\n",
       "if (notebookContainer) {{\n",
       "    x.observe(notebookContainer, {childList: true});\n",
       "}}\n",
       "\n",
       "// Listen for the clearing of the current output cell\n",
       "var outputEl = gd.closest('.output');\n",
       "if (outputEl) {{\n",
       "    x.observe(outputEl, {childList: true});\n",
       "}}\n",
       "\n",
       "                        })                };                });            </script>        </div>"
      ]
     },
     "metadata": {},
     "output_type": "display_data"
    }
   ],
   "source": [
    "camera1 = (cam_meta['cam_lat'].loc[cam_meta['station'] == cv1.station].iloc[0], cam_meta['cam_long'].loc[cam_meta['station'] == cv1.station].iloc[0])\n",
    "camera1_fovd = (((x_coord[0])*m1[0])+b1[0], x_coord[0])\n",
    "camera2 = (cam_meta['cam_lat'].loc[cam_meta['station'] == cv2.station].iloc[0], cam_meta['cam_long'].loc[cam_meta['station'] == cv2.station].iloc[0])\n",
    "camera2_fovd = (((x_coord[0])*m2[0])+b2[0], x_coord[0])\n",
    "prediction = (y_coord[0],x_coord[0])\n",
    "actual = (df_test['lat'].iloc[0],df_test['long'].iloc[0])\n",
    "plot_points(camera1, camera1_fovd, camera2, camera2_fovd, actual, prediction, x_coord[0], y_coord[0])"
   ]
  },
  {
   "cell_type": "code",
   "execution_count": null,
   "metadata": {},
   "outputs": [],
   "source": []
  }
 ],
 "metadata": {
  "kernelspec": {
   "display_name": "Python 3",
   "language": "python",
   "name": "python3"
  },
  "language_info": {
   "codemirror_mode": {
    "name": "ipython",
    "version": 3
   },
   "file_extension": ".py",
   "mimetype": "text/x-python",
   "name": "python",
   "nbconvert_exporter": "python",
   "pygments_lexer": "ipython3",
   "version": "3.8.5"
  }
 },
 "nbformat": 4,
 "nbformat_minor": 5
}
