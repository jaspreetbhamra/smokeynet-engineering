{
 "cells": [
  {
   "cell_type": "code",
   "execution_count": 457,
   "metadata": {},
   "outputs": [],
   "source": [
    "import plotly as ply\n",
    "import pandas as pd\n",
    "import plotly.express as px\n",
    "import plotly.graph_objects as go\n",
    "import matplotlib.pyplot as plt\n",
    "from matplotlib.patches import Arc\n",
    "import numpy as np\n",
    "\n",
    "import sklearn.linear_model as lm\n",
    "from sklearn.model_selection import train_test_split\n",
    "\n",
    "from haversine import haversine, Unit, inverse_haversine"
   ]
  },
  {
   "cell_type": "code",
   "execution_count": 458,
   "metadata": {},
   "outputs": [],
   "source": [
    "def find_cl_angle(ax, ay, bx, by, direction):\n",
    "    a = np.array([ax, ay])\n",
    "    b = np.array([bx, by])\n",
    "    \n",
    "    if direction == 'n':\n",
    "        cx = bx\n",
    "        cy = by + 0.05\n",
    "        if ax >= bx:\n",
    "            sign = -1\n",
    "        else:\n",
    "            sign = 1\n",
    "    if direction == 'e':\n",
    "        cx = bx + 0.05\n",
    "        cy = by\n",
    "        if ay >= by:\n",
    "            sign = 1\n",
    "        else:\n",
    "            sign = -1\n",
    "    if direction == 's':\n",
    "        cx = bx\n",
    "        cy = by - 0.05\n",
    "        if ax >= bx:\n",
    "            sign = 1\n",
    "        else:\n",
    "            sign = -1\n",
    "    if direction == 'w':\n",
    "        cx = bx - 0.05\n",
    "        cy = by\n",
    "        if ay >= by:\n",
    "            sign = -1\n",
    "        else:\n",
    "            sign = 1\n",
    "    \n",
    "    c = np.array([cx, cy])\n",
    "\n",
    "    ba = a - b\n",
    "    bc = c - b\n",
    "    \n",
    "    cosine_angle = np.dot(ba, bc) / (np.linalg.norm(ba) * np.linalg.norm(bc))\n",
    "    angle = np.arccos(cosine_angle)\n",
    "    return angle * sign"
   ]
  },
  {
   "cell_type": "markdown",
   "metadata": {},
   "source": [
    "# Load Camera Metadata"
   ]
  },
  {
   "cell_type": "code",
   "execution_count": 459,
   "metadata": {},
   "outputs": [],
   "source": [
    "df_cameras = pd.read_csv('data/cam_meta_rev2.csv')\n",
    "df_cameras = df_cameras.loc[df_cameras['c_lat'] > 0]\n",
    "df_cameras['cl_angle'] = df_cameras.apply(lambda x: find_cl_angle( x['c_long'], x['c_lat'], x['cam_long'], x['cam_lat'], x['dir']), axis=1)"
   ]
  },
  {
   "cell_type": "code",
   "execution_count": 460,
   "metadata": {},
   "outputs": [
    {
     "data": {
      "text/html": [
       "<div>\n",
       "<style scoped>\n",
       "    .dataframe tbody tr th:only-of-type {\n",
       "        vertical-align: middle;\n",
       "    }\n",
       "\n",
       "    .dataframe tbody tr th {\n",
       "        vertical-align: top;\n",
       "    }\n",
       "\n",
       "    .dataframe thead th {\n",
       "        text-align: right;\n",
       "    }\n",
       "</style>\n",
       "<table border=\"1\" class=\"dataframe\">\n",
       "  <thead>\n",
       "    <tr style=\"text-align: right;\">\n",
       "      <th></th>\n",
       "      <th>camera_id</th>\n",
       "      <th>camera_name</th>\n",
       "      <th>hpweren_camera_description</th>\n",
       "      <th>cam_lat</th>\n",
       "      <th>cam_long</th>\n",
       "      <th>station</th>\n",
       "      <th>dir</th>\n",
       "      <th>c_lat</th>\n",
       "      <th>c_long</th>\n",
       "      <th>elevation</th>\n",
       "      <th>certainty</th>\n",
       "      <th>cl_angle</th>\n",
       "    </tr>\n",
       "  </thead>\n",
       "  <tbody>\n",
       "    <tr>\n",
       "      <th>1</th>\n",
       "      <td>hpwren1_north</td>\n",
       "      <td>bm-n-mobo-c</td>\n",
       "      <td>Big Black Mountain</td>\n",
       "      <td>33.159927</td>\n",
       "      <td>-116.808092</td>\n",
       "      <td>bm</td>\n",
       "      <td>n</td>\n",
       "      <td>33.173626</td>\n",
       "      <td>-116.811270</td>\n",
       "      <td>4055.0</td>\n",
       "      <td>NaN</td>\n",
       "      <td>0.227974</td>\n",
       "    </tr>\n",
       "    <tr>\n",
       "      <th>2</th>\n",
       "      <td>hpwren1_east</td>\n",
       "      <td>bm-e-mobo-c</td>\n",
       "      <td>Big Black Mountain</td>\n",
       "      <td>33.159927</td>\n",
       "      <td>-116.808092</td>\n",
       "      <td>bm</td>\n",
       "      <td>e</td>\n",
       "      <td>33.158781</td>\n",
       "      <td>-116.790230</td>\n",
       "      <td>4055.0</td>\n",
       "      <td>NaN</td>\n",
       "      <td>-0.064085</td>\n",
       "    </tr>\n",
       "    <tr>\n",
       "      <th>3</th>\n",
       "      <td>hpwren1_south</td>\n",
       "      <td>bm-s-mobo-c</td>\n",
       "      <td>Big Black Mountain</td>\n",
       "      <td>33.159927</td>\n",
       "      <td>-116.808092</td>\n",
       "      <td>bm</td>\n",
       "      <td>s</td>\n",
       "      <td>33.157932</td>\n",
       "      <td>-116.807962</td>\n",
       "      <td>4055.0</td>\n",
       "      <td>NaN</td>\n",
       "      <td>0.065022</td>\n",
       "    </tr>\n",
       "    <tr>\n",
       "      <th>4</th>\n",
       "      <td>hpwren1_west</td>\n",
       "      <td>bm-w-mobo-c</td>\n",
       "      <td>Big Black Mountain</td>\n",
       "      <td>33.159927</td>\n",
       "      <td>-116.808092</td>\n",
       "      <td>bm</td>\n",
       "      <td>w</td>\n",
       "      <td>33.159091</td>\n",
       "      <td>-116.858706</td>\n",
       "      <td>4055.0</td>\n",
       "      <td>NaN</td>\n",
       "      <td>0.016519</td>\n",
       "    </tr>\n",
       "    <tr>\n",
       "      <th>5</th>\n",
       "      <td>hpwren2_north</td>\n",
       "      <td>bl-n-mobo-c</td>\n",
       "      <td>Black Mountain</td>\n",
       "      <td>32.981417</td>\n",
       "      <td>-117.116480</td>\n",
       "      <td>bl</td>\n",
       "      <td>n</td>\n",
       "      <td>32.981788</td>\n",
       "      <td>-117.116520</td>\n",
       "      <td>1600.0</td>\n",
       "      <td>NaN</td>\n",
       "      <td>0.108221</td>\n",
       "    </tr>\n",
       "  </tbody>\n",
       "</table>\n",
       "</div>"
      ],
      "text/plain": [
       "       camera_id  camera_name hpweren_camera_description    cam_lat  \\\n",
       "1  hpwren1_north  bm-n-mobo-c         Big Black Mountain  33.159927   \n",
       "2   hpwren1_east  bm-e-mobo-c         Big Black Mountain  33.159927   \n",
       "3  hpwren1_south  bm-s-mobo-c         Big Black Mountain  33.159927   \n",
       "4   hpwren1_west  bm-w-mobo-c         Big Black Mountain  33.159927   \n",
       "5  hpwren2_north  bl-n-mobo-c             Black Mountain  32.981417   \n",
       "\n",
       "     cam_long station dir      c_lat      c_long  elevation certainty  \\\n",
       "1 -116.808092      bm   n  33.173626 -116.811270     4055.0       NaN   \n",
       "2 -116.808092      bm   e  33.158781 -116.790230     4055.0       NaN   \n",
       "3 -116.808092      bm   s  33.157932 -116.807962     4055.0       NaN   \n",
       "4 -116.808092      bm   w  33.159091 -116.858706     4055.0       NaN   \n",
       "5 -117.116480      bl   n  32.981788 -117.116520     1600.0       NaN   \n",
       "\n",
       "   cl_angle  \n",
       "1  0.227974  \n",
       "2 -0.064085  \n",
       "3  0.065022  \n",
       "4  0.016519  \n",
       "5  0.108221  "
      ]
     },
     "execution_count": 460,
     "metadata": {},
     "output_type": "execute_result"
    }
   ],
   "source": [
    "df_cameras.head()"
   ]
  },
  {
   "cell_type": "markdown",
   "metadata": {},
   "source": [
    "# Load Landmarks"
   ]
  },
  {
   "cell_type": "code",
   "execution_count": 461,
   "metadata": {},
   "outputs": [],
   "source": [
    "df_lm = pd.read_csv('data/landmarks_processed.csv')\n",
    "df_lm = df_lm.rename(columns={'lat': 'lm_lat', 'long': 'lm_long'})"
   ]
  },
  {
   "cell_type": "code",
   "execution_count": 462,
   "metadata": {},
   "outputs": [
    {
     "data": {
      "text/html": [
       "<div>\n",
       "<style scoped>\n",
       "    .dataframe tbody tr th:only-of-type {\n",
       "        vertical-align: middle;\n",
       "    }\n",
       "\n",
       "    .dataframe tbody tr th {\n",
       "        vertical-align: top;\n",
       "    }\n",
       "\n",
       "    .dataframe thead th {\n",
       "        text-align: right;\n",
       "    }\n",
       "</style>\n",
       "<table border=\"1\" class=\"dataframe\">\n",
       "  <thead>\n",
       "    <tr style=\"text-align: right;\">\n",
       "      <th></th>\n",
       "      <th>landmark</th>\n",
       "      <th>station</th>\n",
       "      <th>dir</th>\n",
       "      <th>lm_lat</th>\n",
       "      <th>lm_long</th>\n",
       "      <th>x_pixel</th>\n",
       "      <th>y_pixel</th>\n",
       "      <th>x_res</th>\n",
       "      <th>y_res</th>\n",
       "      <th>intersection</th>\n",
       "      <th>distance</th>\n",
       "    </tr>\n",
       "  </thead>\n",
       "  <tbody>\n",
       "    <tr>\n",
       "      <th>0</th>\n",
       "      <td>white building - southwest</td>\n",
       "      <td>om</td>\n",
       "      <td>s</td>\n",
       "      <td>32.593892</td>\n",
       "      <td>-116.845919</td>\n",
       "      <td>2900</td>\n",
       "      <td>1715</td>\n",
       "      <td>3072</td>\n",
       "      <td>2048</td>\n",
       "      <td>0</td>\n",
       "      <td>0.150093</td>\n",
       "    </tr>\n",
       "    <tr>\n",
       "      <th>1</th>\n",
       "      <td>white building - southwest</td>\n",
       "      <td>om</td>\n",
       "      <td>w</td>\n",
       "      <td>32.593892</td>\n",
       "      <td>-116.845919</td>\n",
       "      <td>423</td>\n",
       "      <td>1685</td>\n",
       "      <td>3072</td>\n",
       "      <td>2048</td>\n",
       "      <td>0</td>\n",
       "      <td>0.150093</td>\n",
       "    </tr>\n",
       "    <tr>\n",
       "      <th>2</th>\n",
       "      <td>white building - south</td>\n",
       "      <td>om</td>\n",
       "      <td>s</td>\n",
       "      <td>32.594298</td>\n",
       "      <td>-116.844774</td>\n",
       "      <td>1780</td>\n",
       "      <td>1930</td>\n",
       "      <td>3072</td>\n",
       "      <td>2048</td>\n",
       "      <td>0</td>\n",
       "      <td>0.052190</td>\n",
       "    </tr>\n",
       "    <tr>\n",
       "      <th>3</th>\n",
       "      <td>communication tower building - east</td>\n",
       "      <td>om</td>\n",
       "      <td>n</td>\n",
       "      <td>32.595487</td>\n",
       "      <td>-116.844141</td>\n",
       "      <td>2545</td>\n",
       "      <td>1725</td>\n",
       "      <td>3072</td>\n",
       "      <td>2048</td>\n",
       "      <td>0</td>\n",
       "      <td>0.095800</td>\n",
       "    </tr>\n",
       "    <tr>\n",
       "      <th>4</th>\n",
       "      <td>large bush</td>\n",
       "      <td>om</td>\n",
       "      <td>e</td>\n",
       "      <td>32.599053</td>\n",
       "      <td>-116.839254</td>\n",
       "      <td>318</td>\n",
       "      <td>1420</td>\n",
       "      <td>3072</td>\n",
       "      <td>2048</td>\n",
       "      <td>0</td>\n",
       "      <td>0.698102</td>\n",
       "    </tr>\n",
       "  </tbody>\n",
       "</table>\n",
       "</div>"
      ],
      "text/plain": [
       "                              landmark station dir     lm_lat     lm_long  \\\n",
       "0           white building - southwest      om   s  32.593892 -116.845919   \n",
       "1           white building - southwest      om   w  32.593892 -116.845919   \n",
       "2               white building - south      om   s  32.594298 -116.844774   \n",
       "3  communication tower building - east      om   n  32.595487 -116.844141   \n",
       "4                           large bush      om   e  32.599053 -116.839254   \n",
       "\n",
       "   x_pixel  y_pixel  x_res  y_res  intersection  distance  \n",
       "0     2900     1715   3072   2048             0  0.150093  \n",
       "1      423     1685   3072   2048             0  0.150093  \n",
       "2     1780     1930   3072   2048             0  0.052190  \n",
       "3     2545     1725   3072   2048             0  0.095800  \n",
       "4      318     1420   3072   2048             0  0.698102  "
      ]
     },
     "execution_count": 462,
     "metadata": {},
     "output_type": "execute_result"
    }
   ],
   "source": [
    "df_lm.head()"
   ]
  },
  {
   "cell_type": "markdown",
   "metadata": {},
   "source": [
    "# Combine Camera Metadata & Landmarks"
   ]
  },
  {
   "cell_type": "code",
   "execution_count": 463,
   "metadata": {},
   "outputs": [],
   "source": [
    "def find_angle(ax, ay, bx, by, cx, cy):\n",
    "    a = np.array([ax, ay])\n",
    "    b = np.array([bx, by])\n",
    "    c = np.array([cx, cy])\n",
    "\n",
    "    ba = a - b\n",
    "    bc = c - b\n",
    "    \n",
    "    cosine_angle = np.dot(ba, bc) / (np.linalg.norm(ba) * np.linalg.norm(bc))\n",
    "    angle = np.arccos(cosine_angle)\n",
    "    return angle"
   ]
  },
  {
   "cell_type": "code",
   "execution_count": 464,
   "metadata": {},
   "outputs": [],
   "source": [
    "df_merged = df_cameras.merge(df_lm, left_on=['station', 'dir'], right_on=['station', 'dir'], how='inner')\n",
    "df_merged = df_merged[['station', 'dir', 'hpweren_camera_description', 'landmark', 'cam_lat', 'cam_long', 'c_lat', 'c_long', 'lm_lat', 'lm_long', 'x_pixel', 'y_pixel', 'x_res', 'y_res', 'elevation', 'distance', 'intersection', 'cl_angle']]\n",
    "df_merged['angle'] = df_merged.apply(lambda x: find_angle(x['c_long'], x['c_lat'], x['cam_long'], x['cam_lat'], x['lm_long'], x['lm_lat']), axis=1)"
   ]
  },
  {
   "cell_type": "code",
   "execution_count": 465,
   "metadata": {},
   "outputs": [
    {
     "data": {
      "text/html": [
       "<div>\n",
       "<style scoped>\n",
       "    .dataframe tbody tr th:only-of-type {\n",
       "        vertical-align: middle;\n",
       "    }\n",
       "\n",
       "    .dataframe tbody tr th {\n",
       "        vertical-align: top;\n",
       "    }\n",
       "\n",
       "    .dataframe thead th {\n",
       "        text-align: right;\n",
       "    }\n",
       "</style>\n",
       "<table border=\"1\" class=\"dataframe\">\n",
       "  <thead>\n",
       "    <tr style=\"text-align: right;\">\n",
       "      <th></th>\n",
       "      <th>station</th>\n",
       "      <th>dir</th>\n",
       "      <th>hpweren_camera_description</th>\n",
       "      <th>landmark</th>\n",
       "      <th>cam_lat</th>\n",
       "      <th>cam_long</th>\n",
       "      <th>c_lat</th>\n",
       "      <th>c_long</th>\n",
       "      <th>lm_lat</th>\n",
       "      <th>lm_long</th>\n",
       "      <th>x_pixel</th>\n",
       "      <th>y_pixel</th>\n",
       "      <th>x_res</th>\n",
       "      <th>y_res</th>\n",
       "      <th>elevation</th>\n",
       "      <th>distance</th>\n",
       "      <th>intersection</th>\n",
       "      <th>cl_angle</th>\n",
       "      <th>angle</th>\n",
       "    </tr>\n",
       "  </thead>\n",
       "  <tbody>\n",
       "    <tr>\n",
       "      <th>0</th>\n",
       "      <td>bm</td>\n",
       "      <td>n</td>\n",
       "      <td>Big Black Mountain</td>\n",
       "      <td>sharp turn in trail</td>\n",
       "      <td>33.159927</td>\n",
       "      <td>-116.808092</td>\n",
       "      <td>33.173626</td>\n",
       "      <td>-116.811270</td>\n",
       "      <td>33.168644</td>\n",
       "      <td>-116.797208</td>\n",
       "      <td>2808</td>\n",
       "      <td>1414</td>\n",
       "      <td>3072</td>\n",
       "      <td>2048</td>\n",
       "      <td>4055.0</td>\n",
       "      <td>1.402096</td>\n",
       "      <td>0</td>\n",
       "      <td>0.227974</td>\n",
       "      <td>1.123460</td>\n",
       "    </tr>\n",
       "    <tr>\n",
       "      <th>1</th>\n",
       "      <td>bm</td>\n",
       "      <td>e</td>\n",
       "      <td>Big Black Mountain</td>\n",
       "      <td>point in lake Sutherland</td>\n",
       "      <td>33.159927</td>\n",
       "      <td>-116.808092</td>\n",
       "      <td>33.158781</td>\n",
       "      <td>-116.790230</td>\n",
       "      <td>33.116483</td>\n",
       "      <td>-116.776150</td>\n",
       "      <td>3018</td>\n",
       "      <td>1230</td>\n",
       "      <td>3072</td>\n",
       "      <td>2048</td>\n",
       "      <td>4055.0</td>\n",
       "      <td>5.672844</td>\n",
       "      <td>0</td>\n",
       "      <td>-0.064085</td>\n",
       "      <td>0.872729</td>\n",
       "    </tr>\n",
       "    <tr>\n",
       "      <th>2</th>\n",
       "      <td>bm</td>\n",
       "      <td>e</td>\n",
       "      <td>Big Black Mountain</td>\n",
       "      <td>sharp turn in trail</td>\n",
       "      <td>33.159927</td>\n",
       "      <td>-116.808092</td>\n",
       "      <td>33.158781</td>\n",
       "      <td>-116.790230</td>\n",
       "      <td>33.168644</td>\n",
       "      <td>-116.797208</td>\n",
       "      <td>321</td>\n",
       "      <td>1410</td>\n",
       "      <td>3072</td>\n",
       "      <td>2048</td>\n",
       "      <td>4055.0</td>\n",
       "      <td>1.402096</td>\n",
       "      <td>0</td>\n",
       "      <td>-0.064085</td>\n",
       "      <td>0.739396</td>\n",
       "    </tr>\n",
       "    <tr>\n",
       "      <th>3</th>\n",
       "      <td>bm</td>\n",
       "      <td>s</td>\n",
       "      <td>Big Black Mountain</td>\n",
       "      <td>nucal egg ranch</td>\n",
       "      <td>33.159927</td>\n",
       "      <td>-116.808092</td>\n",
       "      <td>33.157932</td>\n",
       "      <td>-116.807962</td>\n",
       "      <td>33.072523</td>\n",
       "      <td>-116.776892</td>\n",
       "      <td>1067</td>\n",
       "      <td>1127</td>\n",
       "      <td>3072</td>\n",
       "      <td>2048</td>\n",
       "      <td>4055.0</td>\n",
       "      <td>10.144026</td>\n",
       "      <td>1</td>\n",
       "      <td>0.065022</td>\n",
       "      <td>0.277835</td>\n",
       "    </tr>\n",
       "    <tr>\n",
       "      <th>4</th>\n",
       "      <td>bm</td>\n",
       "      <td>s</td>\n",
       "      <td>Big Black Mountain</td>\n",
       "      <td>lake southerland - channel opening</td>\n",
       "      <td>33.159927</td>\n",
       "      <td>-116.808092</td>\n",
       "      <td>33.157932</td>\n",
       "      <td>-116.807962</td>\n",
       "      <td>33.105561</td>\n",
       "      <td>-116.780867</td>\n",
       "      <td>900</td>\n",
       "      <td>1200</td>\n",
       "      <td>3072</td>\n",
       "      <td>2048</td>\n",
       "      <td>4055.0</td>\n",
       "      <td>6.555269</td>\n",
       "      <td>0</td>\n",
       "      <td>0.065022</td>\n",
       "      <td>0.399234</td>\n",
       "    </tr>\n",
       "  </tbody>\n",
       "</table>\n",
       "</div>"
      ],
      "text/plain": [
       "  station dir hpweren_camera_description                            landmark  \\\n",
       "0      bm   n         Big Black Mountain                 sharp turn in trail   \n",
       "1      bm   e         Big Black Mountain            point in lake Sutherland   \n",
       "2      bm   e         Big Black Mountain                 sharp turn in trail   \n",
       "3      bm   s         Big Black Mountain                     nucal egg ranch   \n",
       "4      bm   s         Big Black Mountain  lake southerland - channel opening   \n",
       "\n",
       "     cam_lat    cam_long      c_lat      c_long     lm_lat     lm_long  \\\n",
       "0  33.159927 -116.808092  33.173626 -116.811270  33.168644 -116.797208   \n",
       "1  33.159927 -116.808092  33.158781 -116.790230  33.116483 -116.776150   \n",
       "2  33.159927 -116.808092  33.158781 -116.790230  33.168644 -116.797208   \n",
       "3  33.159927 -116.808092  33.157932 -116.807962  33.072523 -116.776892   \n",
       "4  33.159927 -116.808092  33.157932 -116.807962  33.105561 -116.780867   \n",
       "\n",
       "   x_pixel  y_pixel  x_res  y_res  elevation   distance  intersection  \\\n",
       "0     2808     1414   3072   2048     4055.0   1.402096             0   \n",
       "1     3018     1230   3072   2048     4055.0   5.672844             0   \n",
       "2      321     1410   3072   2048     4055.0   1.402096             0   \n",
       "3     1067     1127   3072   2048     4055.0  10.144026             1   \n",
       "4      900     1200   3072   2048     4055.0   6.555269             0   \n",
       "\n",
       "   cl_angle     angle  \n",
       "0  0.227974  1.123460  \n",
       "1 -0.064085  0.872729  \n",
       "2 -0.064085  0.739396  \n",
       "3  0.065022  0.277835  \n",
       "4  0.065022  0.399234  "
      ]
     },
     "execution_count": 465,
     "metadata": {},
     "output_type": "execute_result"
    }
   ],
   "source": [
    "df_merged.head()"
   ]
  },
  {
   "cell_type": "markdown",
   "metadata": {},
   "source": [
    "# Convert to Training Dataset"
   ]
  },
  {
   "cell_type": "code",
   "execution_count": 466,
   "metadata": {},
   "outputs": [],
   "source": [
    "import sklearn.linear_model as lin_model\n",
    "import sklearn.model_selection as model\n",
    "import sklearn.preprocessing as preprop\n",
    "from sklearn.metrics import r2_score"
   ]
  },
  {
   "cell_type": "code",
   "execution_count": 467,
   "metadata": {},
   "outputs": [],
   "source": [
    "def find_ratio(pix, res):\n",
    "    return abs(pix-(res/2))/(res/2)\n",
    "\n",
    "df_merged['x_ratio'] = df_merged.apply(lambda x: find_ratio(x['x_pixel'], x['x_res']), axis=1)\n",
    "df_merged['y_ratio'] = df_merged.apply(lambda x: find_ratio(x['y_pixel'], x['y_res']), axis=1)"
   ]
  },
  {
   "cell_type": "code",
   "execution_count": 468,
   "metadata": {},
   "outputs": [],
   "source": [
    "X_test = df_merged[['x_ratio', 'y_ratio', 'elevation']].loc[df_merged['intersection'] == 1]\n",
    "X_test['elevation'] = X_test['elevation'] - np.median(X_test['elevation'])\n",
    "y_test = df_merged['angle'].loc[df_merged['intersection'] == 1]\n",
    "\n",
    "X_train = df_merged[['x_ratio', 'y_ratio', 'elevation']].loc[df_merged['intersection'] == 0]\n",
    "X_train['elevation'] = X_train['elevation'] - np.median(X_train['elevation'])\n",
    "y_train = df_merged['angle'].loc[df_merged['intersection'] == 0]"
   ]
  },
  {
   "cell_type": "code",
   "execution_count": 469,
   "metadata": {},
   "outputs": [],
   "source": [
    "scaler = preprop.StandardScaler()\n",
    "scaler.fit(X_train)\n",
    "X_train = scaler.transform(X_train)\n",
    "\n",
    "X_test = scaler.transform(X_test)"
   ]
  },
  {
   "cell_type": "code",
   "execution_count": 470,
   "metadata": {},
   "outputs": [],
   "source": [
    "#X_train, X_test, y_train, y_test = model.train_test_split(X, y, test_size=0.2, random_state=6)"
   ]
  },
  {
   "cell_type": "code",
   "execution_count": 471,
   "metadata": {},
   "outputs": [
    {
     "data": {
      "text/plain": [
       "Ridge(alpha=11.5, max_iter=1000)"
      ]
     },
     "execution_count": 471,
     "metadata": {},
     "output_type": "execute_result"
    }
   ],
   "source": [
    "clf = lin_model.Ridge(alpha=11.5, max_iter=1000)#, selection='random')\n",
    "clf.fit(X_train, y_train)"
   ]
  },
  {
   "cell_type": "code",
   "execution_count": 472,
   "metadata": {},
   "outputs": [
    {
     "name": "stdout",
     "output_type": "stream",
     "text": [
      "[ 0.24079129 -0.00132079 -0.01295714]\n"
     ]
    }
   ],
   "source": [
    "print(clf.coef_)\n",
    "y_pred = clf.predict(X_test)"
   ]
  },
  {
   "cell_type": "code",
   "execution_count": 473,
   "metadata": {},
   "outputs": [
    {
     "data": {
      "text/plain": [
       "array([0.27783537, 0.23212931, 0.61770058, 0.22521155, 0.12764786,\n",
       "       0.11674425, 0.38375344, 0.61714282, 0.10711167, 0.73511634])"
      ]
     },
     "execution_count": 473,
     "metadata": {},
     "output_type": "execute_result"
    }
   ],
   "source": [
    "np.array(y_test)"
   ]
  },
  {
   "cell_type": "code",
   "execution_count": 474,
   "metadata": {},
   "outputs": [
    {
     "name": "stdout",
     "output_type": "stream",
     "text": [
      "0.8536878066204144\n"
     ]
    }
   ],
   "source": [
    "print(r2_score(y_test, y_pred))"
   ]
  },
  {
   "cell_type": "markdown",
   "metadata": {},
   "source": [
    "# TRY WITHOUT LOW RES"
   ]
  },
  {
   "cell_type": "markdown",
   "metadata": {},
   "source": [
    "# Triangulation"
   ]
  },
  {
   "cell_type": "code",
   "execution_count": 475,
   "metadata": {},
   "outputs": [],
   "source": [
    "df_intersections = df_merged.loc[df_merged['intersection'] == 1].reset_index(drop=True)"
   ]
  },
  {
   "cell_type": "code",
   "execution_count": 476,
   "metadata": {},
   "outputs": [],
   "source": [
    "test_lms = set(df_intersections['landmark'])"
   ]
  },
  {
   "cell_type": "code",
   "execution_count": 477,
   "metadata": {},
   "outputs": [
    {
     "data": {
      "text/plain": [
       "{'Palomar Observatory right',\n",
       " 'lake henshaw delta',\n",
       " 'nucal egg ranch',\n",
       " 'otay resevoir - north tip',\n",
       " 'target - san clemente'}"
      ]
     },
     "execution_count": 477,
     "metadata": {},
     "output_type": "execute_result"
    }
   ],
   "source": [
    "test_lms"
   ]
  },
  {
   "cell_type": "code",
   "execution_count": 478,
   "metadata": {},
   "outputs": [
    {
     "data": {
      "text/html": [
       "<div>\n",
       "<style scoped>\n",
       "    .dataframe tbody tr th:only-of-type {\n",
       "        vertical-align: middle;\n",
       "    }\n",
       "\n",
       "    .dataframe tbody tr th {\n",
       "        vertical-align: top;\n",
       "    }\n",
       "\n",
       "    .dataframe thead th {\n",
       "        text-align: right;\n",
       "    }\n",
       "</style>\n",
       "<table border=\"1\" class=\"dataframe\">\n",
       "  <thead>\n",
       "    <tr style=\"text-align: right;\">\n",
       "      <th></th>\n",
       "      <th>station</th>\n",
       "      <th>dir</th>\n",
       "      <th>hpweren_camera_description</th>\n",
       "      <th>landmark</th>\n",
       "      <th>cam_lat</th>\n",
       "      <th>cam_long</th>\n",
       "      <th>c_lat</th>\n",
       "      <th>c_long</th>\n",
       "      <th>lm_lat</th>\n",
       "      <th>lm_long</th>\n",
       "      <th>...</th>\n",
       "      <th>y_pixel</th>\n",
       "      <th>x_res</th>\n",
       "      <th>y_res</th>\n",
       "      <th>elevation</th>\n",
       "      <th>distance</th>\n",
       "      <th>intersection</th>\n",
       "      <th>cl_angle</th>\n",
       "      <th>angle</th>\n",
       "      <th>x_ratio</th>\n",
       "      <th>y_ratio</th>\n",
       "    </tr>\n",
       "  </thead>\n",
       "  <tbody>\n",
       "    <tr>\n",
       "      <th>0</th>\n",
       "      <td>bm</td>\n",
       "      <td>s</td>\n",
       "      <td>Big Black Mountain</td>\n",
       "      <td>nucal egg ranch</td>\n",
       "      <td>33.159927</td>\n",
       "      <td>-116.808092</td>\n",
       "      <td>33.157932</td>\n",
       "      <td>-116.807962</td>\n",
       "      <td>33.072523</td>\n",
       "      <td>-116.776892</td>\n",
       "      <td>...</td>\n",
       "      <td>1127</td>\n",
       "      <td>3072</td>\n",
       "      <td>2048</td>\n",
       "      <td>4055.0</td>\n",
       "      <td>10.144026</td>\n",
       "      <td>1</td>\n",
       "      <td>0.065022</td>\n",
       "      <td>0.277835</td>\n",
       "      <td>0.305339</td>\n",
       "      <td>0.100586</td>\n",
       "    </tr>\n",
       "    <tr>\n",
       "      <th>1</th>\n",
       "      <td>bh</td>\n",
       "      <td>e</td>\n",
       "      <td>Boucher Hill</td>\n",
       "      <td>Palomar Observatory right</td>\n",
       "      <td>33.334628</td>\n",
       "      <td>-116.919328</td>\n",
       "      <td>33.334624</td>\n",
       "      <td>-116.918709</td>\n",
       "      <td>33.348388</td>\n",
       "      <td>-116.859694</td>\n",
       "      <td>...</td>\n",
       "      <td>1011</td>\n",
       "      <td>3072</td>\n",
       "      <td>2048</td>\n",
       "      <td>5500.0</td>\n",
       "      <td>5.747043</td>\n",
       "      <td>1</td>\n",
       "      <td>-0.005346</td>\n",
       "      <td>0.232129</td>\n",
       "      <td>0.320312</td>\n",
       "      <td>0.012695</td>\n",
       "    </tr>\n",
       "    <tr>\n",
       "      <th>2</th>\n",
       "      <td>hp</td>\n",
       "      <td>w</td>\n",
       "      <td>High Point</td>\n",
       "      <td>Palomar Observatory right</td>\n",
       "      <td>33.363018</td>\n",
       "      <td>-116.836220</td>\n",
       "      <td>33.363096</td>\n",
       "      <td>-116.837515</td>\n",
       "      <td>33.348388</td>\n",
       "      <td>-116.859694</td>\n",
       "      <td>...</td>\n",
       "      <td>693</td>\n",
       "      <td>2048</td>\n",
       "      <td>1536</td>\n",
       "      <td>6180.0</td>\n",
       "      <td>2.720259</td>\n",
       "      <td>1</td>\n",
       "      <td>-0.060387</td>\n",
       "      <td>0.617701</td>\n",
       "      <td>0.842773</td>\n",
       "      <td>0.097656</td>\n",
       "    </tr>\n",
       "    <tr>\n",
       "      <th>3</th>\n",
       "      <td>mg</td>\n",
       "      <td>n</td>\n",
       "      <td>Mesa Grande</td>\n",
       "      <td>lake henshaw delta</td>\n",
       "      <td>33.188858</td>\n",
       "      <td>-116.760659</td>\n",
       "      <td>33.221119</td>\n",
       "      <td>-116.761198</td>\n",
       "      <td>33.266743</td>\n",
       "      <td>-116.744179</td>\n",
       "      <td>...</td>\n",
       "      <td>1078</td>\n",
       "      <td>3072</td>\n",
       "      <td>2048</td>\n",
       "      <td>4280.0</td>\n",
       "      <td>8.795076</td>\n",
       "      <td>1</td>\n",
       "      <td>0.016690</td>\n",
       "      <td>0.225212</td>\n",
       "      <td>0.194661</td>\n",
       "      <td>0.052734</td>\n",
       "    </tr>\n",
       "    <tr>\n",
       "      <th>4</th>\n",
       "      <td>mg</td>\n",
       "      <td>s</td>\n",
       "      <td>Mesa Grande</td>\n",
       "      <td>nucal egg ranch</td>\n",
       "      <td>33.188858</td>\n",
       "      <td>-116.760659</td>\n",
       "      <td>33.167663</td>\n",
       "      <td>-116.760892</td>\n",
       "      <td>33.072523</td>\n",
       "      <td>-116.776892</td>\n",
       "      <td>...</td>\n",
       "      <td>1117</td>\n",
       "      <td>3072</td>\n",
       "      <td>2048</td>\n",
       "      <td>4280.0</td>\n",
       "      <td>13.023885</td>\n",
       "      <td>1</td>\n",
       "      <td>-0.010993</td>\n",
       "      <td>0.127648</td>\n",
       "      <td>0.126953</td>\n",
       "      <td>0.090820</td>\n",
       "    </tr>\n",
       "    <tr>\n",
       "      <th>5</th>\n",
       "      <td>sm</td>\n",
       "      <td>s</td>\n",
       "      <td>Mt. San Miguel</td>\n",
       "      <td>otay resevoir - north tip</td>\n",
       "      <td>32.696885</td>\n",
       "      <td>-116.936262</td>\n",
       "      <td>32.613700</td>\n",
       "      <td>-116.933834</td>\n",
       "      <td>32.628680</td>\n",
       "      <td>-116.926238</td>\n",
       "      <td>...</td>\n",
       "      <td>1250</td>\n",
       "      <td>3072</td>\n",
       "      <td>2048</td>\n",
       "      <td>2550.0</td>\n",
       "      <td>7.641891</td>\n",
       "      <td>1</td>\n",
       "      <td>0.029180</td>\n",
       "      <td>0.116744</td>\n",
       "      <td>0.082031</td>\n",
       "      <td>0.220703</td>\n",
       "    </tr>\n",
       "    <tr>\n",
       "      <th>6</th>\n",
       "      <td>om</td>\n",
       "      <td>w</td>\n",
       "      <td>Otay Mountain</td>\n",
       "      <td>otay resevoir - north tip</td>\n",
       "      <td>32.594762</td>\n",
       "      <td>-116.844694</td>\n",
       "      <td>32.594836</td>\n",
       "      <td>-116.851777</td>\n",
       "      <td>32.628680</td>\n",
       "      <td>-116.926238</td>\n",
       "      <td>...</td>\n",
       "      <td>1153</td>\n",
       "      <td>3072</td>\n",
       "      <td>2048</td>\n",
       "      <td>3565.0</td>\n",
       "      <td>8.518187</td>\n",
       "      <td>1</td>\n",
       "      <td>-0.010424</td>\n",
       "      <td>0.383753</td>\n",
       "      <td>0.507161</td>\n",
       "      <td>0.125977</td>\n",
       "    </tr>\n",
       "    <tr>\n",
       "      <th>7</th>\n",
       "      <td>sclm</td>\n",
       "      <td>n</td>\n",
       "      <td>San Clemente</td>\n",
       "      <td>target - san clemente</td>\n",
       "      <td>33.431419</td>\n",
       "      <td>-117.597341</td>\n",
       "      <td>33.478431</td>\n",
       "      <td>-117.579006</td>\n",
       "      <td>33.464032</td>\n",
       "      <td>-117.605505</td>\n",
       "      <td>...</td>\n",
       "      <td>1183</td>\n",
       "      <td>3072</td>\n",
       "      <td>2048</td>\n",
       "      <td>870.0</td>\n",
       "      <td>3.704763</td>\n",
       "      <td>1</td>\n",
       "      <td>-0.371860</td>\n",
       "      <td>0.617143</td>\n",
       "      <td>0.582031</td>\n",
       "      <td>0.155273</td>\n",
       "    </tr>\n",
       "    <tr>\n",
       "      <th>8</th>\n",
       "      <td>sjh</td>\n",
       "      <td>s</td>\n",
       "      <td>San Juan Hills</td>\n",
       "      <td>target - san clemente</td>\n",
       "      <td>33.502942</td>\n",
       "      <td>-117.603118</td>\n",
       "      <td>33.497394</td>\n",
       "      <td>-117.602863</td>\n",
       "      <td>33.464032</td>\n",
       "      <td>-117.605505</td>\n",
       "      <td>...</td>\n",
       "      <td>1152</td>\n",
       "      <td>3072</td>\n",
       "      <td>2048</td>\n",
       "      <td>1177.0</td>\n",
       "      <td>4.332222</td>\n",
       "      <td>1</td>\n",
       "      <td>0.045826</td>\n",
       "      <td>0.107112</td>\n",
       "      <td>0.094401</td>\n",
       "      <td>0.125000</td>\n",
       "    </tr>\n",
       "    <tr>\n",
       "      <th>9</th>\n",
       "      <td>vo</td>\n",
       "      <td>n</td>\n",
       "      <td>Santa Ysabel</td>\n",
       "      <td>lake henshaw delta</td>\n",
       "      <td>33.138264</td>\n",
       "      <td>-116.617095</td>\n",
       "      <td>33.161819</td>\n",
       "      <td>-116.618152</td>\n",
       "      <td>33.266743</td>\n",
       "      <td>-116.744179</td>\n",
       "      <td>...</td>\n",
       "      <td>1147</td>\n",
       "      <td>3072</td>\n",
       "      <td>2048</td>\n",
       "      <td>5500.0</td>\n",
       "      <td>18.544640</td>\n",
       "      <td>1</td>\n",
       "      <td>0.044822</td>\n",
       "      <td>0.735116</td>\n",
       "      <td>0.609375</td>\n",
       "      <td>0.120117</td>\n",
       "    </tr>\n",
       "  </tbody>\n",
       "</table>\n",
       "<p>10 rows × 21 columns</p>\n",
       "</div>"
      ],
      "text/plain": [
       "  station dir hpweren_camera_description                   landmark  \\\n",
       "0      bm   s         Big Black Mountain            nucal egg ranch   \n",
       "1      bh   e               Boucher Hill  Palomar Observatory right   \n",
       "2      hp   w                 High Point  Palomar Observatory right   \n",
       "3      mg   n                Mesa Grande         lake henshaw delta   \n",
       "4      mg   s                Mesa Grande            nucal egg ranch   \n",
       "5      sm   s             Mt. San Miguel  otay resevoir - north tip   \n",
       "6      om   w              Otay Mountain  otay resevoir - north tip   \n",
       "7    sclm   n               San Clemente      target - san clemente   \n",
       "8     sjh   s             San Juan Hills      target - san clemente   \n",
       "9      vo   n               Santa Ysabel         lake henshaw delta   \n",
       "\n",
       "     cam_lat    cam_long      c_lat      c_long     lm_lat     lm_long  ...  \\\n",
       "0  33.159927 -116.808092  33.157932 -116.807962  33.072523 -116.776892  ...   \n",
       "1  33.334628 -116.919328  33.334624 -116.918709  33.348388 -116.859694  ...   \n",
       "2  33.363018 -116.836220  33.363096 -116.837515  33.348388 -116.859694  ...   \n",
       "3  33.188858 -116.760659  33.221119 -116.761198  33.266743 -116.744179  ...   \n",
       "4  33.188858 -116.760659  33.167663 -116.760892  33.072523 -116.776892  ...   \n",
       "5  32.696885 -116.936262  32.613700 -116.933834  32.628680 -116.926238  ...   \n",
       "6  32.594762 -116.844694  32.594836 -116.851777  32.628680 -116.926238  ...   \n",
       "7  33.431419 -117.597341  33.478431 -117.579006  33.464032 -117.605505  ...   \n",
       "8  33.502942 -117.603118  33.497394 -117.602863  33.464032 -117.605505  ...   \n",
       "9  33.138264 -116.617095  33.161819 -116.618152  33.266743 -116.744179  ...   \n",
       "\n",
       "   y_pixel  x_res  y_res  elevation   distance  intersection  cl_angle  \\\n",
       "0     1127   3072   2048     4055.0  10.144026             1  0.065022   \n",
       "1     1011   3072   2048     5500.0   5.747043             1 -0.005346   \n",
       "2      693   2048   1536     6180.0   2.720259             1 -0.060387   \n",
       "3     1078   3072   2048     4280.0   8.795076             1  0.016690   \n",
       "4     1117   3072   2048     4280.0  13.023885             1 -0.010993   \n",
       "5     1250   3072   2048     2550.0   7.641891             1  0.029180   \n",
       "6     1153   3072   2048     3565.0   8.518187             1 -0.010424   \n",
       "7     1183   3072   2048      870.0   3.704763             1 -0.371860   \n",
       "8     1152   3072   2048     1177.0   4.332222             1  0.045826   \n",
       "9     1147   3072   2048     5500.0  18.544640             1  0.044822   \n",
       "\n",
       "      angle   x_ratio   y_ratio  \n",
       "0  0.277835  0.305339  0.100586  \n",
       "1  0.232129  0.320312  0.012695  \n",
       "2  0.617701  0.842773  0.097656  \n",
       "3  0.225212  0.194661  0.052734  \n",
       "4  0.127648  0.126953  0.090820  \n",
       "5  0.116744  0.082031  0.220703  \n",
       "6  0.383753  0.507161  0.125977  \n",
       "7  0.617143  0.582031  0.155273  \n",
       "8  0.107112  0.094401  0.125000  \n",
       "9  0.735116  0.609375  0.120117  \n",
       "\n",
       "[10 rows x 21 columns]"
      ]
     },
     "execution_count": 478,
     "metadata": {},
     "output_type": "execute_result"
    }
   ],
   "source": [
    "df_intersections"
   ]
  },
  {
   "cell_type": "code",
   "execution_count": 479,
   "metadata": {},
   "outputs": [],
   "source": [
    "def find_slope(angle, cl_angle, direction, xpix, xres):\n",
    "    if direction == 'n':\n",
    "        if xpix < (xres/2):\n",
    "            return np.tan((np.pi/2)+angle+cl_angle)\n",
    "        else:\n",
    "            return np.tan((np.pi/2)-angle+cl_angle)\n",
    "    if direction == 'e':\n",
    "        if xpix < (xres/2):\n",
    "            return np.tan(angle+cl_angle)\n",
    "        else:\n",
    "            return np.tan(-angle+cl_angle)\n",
    "    if direction == 's':\n",
    "        if xpix < (xres/2):\n",
    "            return np.tan((3*np.pi/2)+angle+cl_angle)\n",
    "        else:\n",
    "            return np.tan((3*np.pi/2)-angle+cl_angle)\n",
    "    if direction == 'w':\n",
    "        if xpix < (xres/2):\n",
    "            return np.tan(np.pi+angle+cl_angle)\n",
    "        else:\n",
    "            return np.tan(np.pi-angle+cl_angle)"
   ]
  },
  {
   "cell_type": "markdown",
   "metadata": {},
   "source": [
    "# Triangulations"
   ]
  },
  {
   "cell_type": "code",
   "execution_count": 480,
   "metadata": {},
   "outputs": [
    {
     "name": "stdout",
     "output_type": "stream",
     "text": [
      "otay resevoir - north tip\n",
      "X: [-116.92981981], Y: [32.63312074]\n",
      "Distance From Actual:  0.2838201082455849\n",
      "\n",
      "\n",
      "nucal egg ranch\n",
      "X: [-116.76598597], Y: [33.03685955]\n",
      "Distance From Actual:  1.3415314399794458\n",
      "\n",
      "\n",
      "lake henshaw delta\n",
      "X: [-116.73884179], Y: [33.33782538]\n",
      "Distance From Actual:  2.2404861190671816\n",
      "\n",
      "\n",
      "target - san clemente\n",
      "X: [-117.6079411], Y: [33.49334556]\n",
      "Distance From Actual:  0.9535160819846488\n",
      "\n",
      "\n",
      "Palomar Observatory right\n",
      "X: [-116.84580125], Y: [33.3543773]\n",
      "Distance From Actual:  0.9779528480808412\n",
      "\n",
      "\n"
     ]
    }
   ],
   "source": [
    "for lm in test_lms:\n",
    "    \n",
    "    data1 = df_intersections.loc[df_intersections['landmark'] == lm].iloc[0]\n",
    "    data2 = df_intersections.loc[df_intersections['landmark'] == lm].iloc[1]\n",
    "\n",
    "    data_scaled1 = scaler.transform([data1[['x_ratio', 'y_ratio', 'elevation']]])\n",
    "    data_scaled2 = scaler.transform([data2[['x_ratio', 'y_ratio', 'elevation']]])\n",
    "\n",
    "    ang1 = clf.predict(data_scaled1)\n",
    "    ang2 = clf.predict(data_scaled2)\n",
    "\n",
    "    m1 = find_slope(ang1, data1['cl_angle'], data1['dir'], data1['x_pixel'], data1['x_res'])\n",
    "    b1 = data1['cam_lat'] - (m1 * data1['cam_long'])\n",
    "    m2 = find_slope(ang2, data1['cl_angle'], data2['dir'], data2['x_pixel'], data2['x_res'])\n",
    "    b2 = data2['cam_lat'] - (m2 * data2['cam_long'])\n",
    "    \n",
    "    x_coord = (b2 - b1)/(m1-m2)\n",
    "    y_coord = (m1 * x_coord) + b1\n",
    "    dist_acc = haversine((data1['lm_long'], data1['lm_lat']), (x_coord, y_coord), unit=Unit.MILES)\n",
    "    print(lm)\n",
    "    print(\"X: {}, Y: {}\".format(x_coord, y_coord))\n",
    "    print(\"Distance From Actual: \", dist_acc)\n",
    "    print(\"\\n\")"
   ]
  },
  {
   "cell_type": "code",
   "execution_count": 539,
   "metadata": {},
   "outputs": [
    {
     "data": {
      "text/plain": [
       "Index(['station', 'dir', 'hpweren_camera_description', 'landmark', 'cam_lat',\n",
       "       'cam_long', 'c_lat', 'c_long', 'lm_lat', 'lm_long', 'x_pixel',\n",
       "       'y_pixel', 'x_res', 'y_res', 'elevation', 'distance', 'intersection',\n",
       "       'cl_angle', 'angle', 'x_ratio', 'y_ratio'],\n",
       "      dtype='object')"
      ]
     },
     "execution_count": 539,
     "metadata": {},
     "output_type": "execute_result"
    }
   ],
   "source": [
    "df_merged.columns"
   ]
  },
  {
   "cell_type": "markdown",
   "metadata": {},
   "source": [
    "# Single Camera Model"
   ]
  },
  {
   "cell_type": "code",
   "execution_count": 532,
   "metadata": {},
   "outputs": [],
   "source": [
    "from sklearn.linear_model import LinearRegression\n",
    "from sklearn.preprocessing import PolynomialFeatures\n",
    "import random"
   ]
  },
  {
   "cell_type": "code",
   "execution_count": 533,
   "metadata": {},
   "outputs": [],
   "source": [
    "train_ind = random.sample(set(np.linspace(0, len(df_merged)-1, len(df_merged)).astype(int)), 100)\n",
    "test_ind = list(set(np.linspace(0, len(df_merged)-1, len(df_merged)).astype(int)) - set(train_ind))"
   ]
  },
  {
   "cell_type": "code",
   "execution_count": 540,
   "metadata": {},
   "outputs": [],
   "source": [
    "X_train = df_merged[['x_ratio', 'y_ratio', 'elevation']].iloc[train_ind]\n",
    "#y_train = df_merged[['angle', 'distance']].iloc[train_ind]\n",
    "X_train['elevation'] = X_train['elevation'] - np.median(X_train['elevation'])\n",
    "y_train = df_merged[['distance']].iloc[train_ind]\n",
    "\n",
    "X_test = df_merged[['x_ratio', 'y_ratio', 'elevation']].iloc[test_ind]\n",
    "#y_test = df_merged[['angle', 'distance']].iloc[test_ind]\n",
    "X_test['elevation'] = X_test['elevation'] - np.median(X_test['elevation'])\n",
    "y_test = df_merged[['distance']].iloc[test_ind]\n",
    "\n",
    "scaler = preprop.StandardScaler()\n",
    "scaler.fit(X_train)\n",
    "X_train = scaler.transform(X_train)\n",
    "X_test = scaler.transform(X_test)"
   ]
  },
  {
   "cell_type": "code",
   "execution_count": 541,
   "metadata": {},
   "outputs": [
    {
     "name": "stdout",
     "output_type": "stream",
     "text": [
      "0.15085203290673332\n"
     ]
    }
   ],
   "source": [
    "#applying polynomial regression degree 2\n",
    "poly = PolynomialFeatures(degree=2, include_bias=True)\n",
    "x_train_trans = poly.fit_transform(X_train)\n",
    "x_test_trans = poly.transform(X_test)\n",
    "#include bias parameter\n",
    "#lr = LinearRegression()\n",
    "lr = lin_model.Ridge(alpha=[0.3], max_iter=1000)#, selection='random')\n",
    "lr.fit(x_train_trans, y_train)\n",
    "y_pred = lr.predict(x_test_trans)\n",
    "print(r2_score(y_test, y_pred))"
   ]
  },
  {
   "cell_type": "code",
   "execution_count": 542,
   "metadata": {},
   "outputs": [
    {
     "name": "stdout",
     "output_type": "stream",
     "text": [
      "0.15136474739534256\n"
     ]
    }
   ],
   "source": [
    "#applying polynomial regression degree 2\n",
    "poly = PolynomialFeatures(degree=2, include_bias=True)\n",
    "x_train_trans = poly.fit_transform(X_train)\n",
    "x_test_trans = poly.transform(X_test)\n",
    "#include bias parameter\n",
    "#lr = LinearRegression()\n",
    "lr = lin_model.ElasticNet(alpha=.0001, max_iter=1000)#, selection='random')\n",
    "lr.fit(x_train_trans, y_train)\n",
    "y_pred = lr.predict(x_test_trans)\n",
    "print(r2_score(y_test, y_pred))"
   ]
  },
  {
   "cell_type": "code",
   "execution_count": 543,
   "metadata": {},
   "outputs": [
    {
     "name": "stdout",
     "output_type": "stream",
     "text": [
      "0.12789692826246246\n"
     ]
    }
   ],
   "source": [
    "lr = lin_model.Lasso(alpha=0.0001, max_iter=1000)#, selection='random')\n",
    "lr.fit(X_train, y_train)\n",
    "y_pred = lr.predict(X_test)\n",
    "print(r2_score(y_test, y_pred))"
   ]
  },
  {
   "cell_type": "code",
   "execution_count": 524,
   "metadata": {},
   "outputs": [
    {
     "name": "stdout",
     "output_type": "stream",
     "text": [
      "[-2.33628216  0.36553373]\n"
     ]
    }
   ],
   "source": [
    "print(lr.coef_)"
   ]
  },
  {
   "cell_type": "code",
   "execution_count": 489,
   "metadata": {},
   "outputs": [],
   "source": [
    "def adjust_angle(angle, cl_angle, direction, xpix, xres):\n",
    "    if direction == 'n':\n",
    "        if xpix < (xres/2):\n",
    "            return (np.pi/2)+angle+cl_angle\n",
    "        else:\n",
    "            return (np.pi/2)-angle+cl_angle\n",
    "    if direction == 'e':\n",
    "        if xpix < (xres/2):\n",
    "            return angle+cl_angle\n",
    "        else:\n",
    "            return -angle+cl_angle\n",
    "    if direction == 's':\n",
    "        if xpix < (xres/2):\n",
    "            return (3*np.pi/2)+angle+cl_angle\n",
    "        else:\n",
    "            return (3*np.pi/2)-angle+cl_angle\n",
    "    if direction == 'w':\n",
    "        if xpix < (xres/2):\n",
    "            return np.pi+angle+cl_angle\n",
    "        else:\n",
    "            return np.pi-angle+cl_angle"
   ]
  },
  {
   "cell_type": "code",
   "execution_count": 490,
   "metadata": {},
   "outputs": [
    {
     "ename": "IndexError",
     "evalue": "invalid index to scalar variable.",
     "output_type": "error",
     "traceback": [
      "\u001b[1;31m---------------------------------------------------------------------------\u001b[0m",
      "\u001b[1;31mIndexError\u001b[0m                                Traceback (most recent call last)",
      "\u001b[1;32m<ipython-input-490-bd6edcab3c40>\u001b[0m in \u001b[0;36m<module>\u001b[1;34m\u001b[0m\n\u001b[0;32m      1\u001b[0m \u001b[1;32mfor\u001b[0m \u001b[0mi\u001b[0m\u001b[1;33m,\u001b[0m \u001b[0mind\u001b[0m \u001b[1;32min\u001b[0m \u001b[0menumerate\u001b[0m\u001b[1;33m(\u001b[0m\u001b[0mtest_ind\u001b[0m\u001b[1;33m)\u001b[0m\u001b[1;33m:\u001b[0m\u001b[1;33m\u001b[0m\u001b[1;33m\u001b[0m\u001b[0m\n\u001b[1;32m----> 2\u001b[1;33m     \u001b[0mang_adj\u001b[0m \u001b[1;33m=\u001b[0m \u001b[0madjust_angle\u001b[0m\u001b[1;33m(\u001b[0m\u001b[0my_pred\u001b[0m\u001b[1;33m[\u001b[0m\u001b[0mi\u001b[0m\u001b[1;33m]\u001b[0m\u001b[1;33m[\u001b[0m\u001b[1;36m0\u001b[0m\u001b[1;33m]\u001b[0m\u001b[1;33m,\u001b[0m \u001b[0mdf_merged\u001b[0m\u001b[1;33m[\u001b[0m\u001b[1;34m'cl_angle'\u001b[0m\u001b[1;33m]\u001b[0m\u001b[1;33m.\u001b[0m\u001b[0miloc\u001b[0m\u001b[1;33m[\u001b[0m\u001b[0mind\u001b[0m\u001b[1;33m]\u001b[0m\u001b[1;33m,\u001b[0m \u001b[0mdf_merged\u001b[0m\u001b[1;33m[\u001b[0m\u001b[1;34m'dir'\u001b[0m\u001b[1;33m]\u001b[0m\u001b[1;33m.\u001b[0m\u001b[0miloc\u001b[0m\u001b[1;33m[\u001b[0m\u001b[0mind\u001b[0m\u001b[1;33m]\u001b[0m\u001b[1;33m,\u001b[0m \u001b[0mdf_merged\u001b[0m\u001b[1;33m[\u001b[0m\u001b[1;34m'x_pixel'\u001b[0m\u001b[1;33m]\u001b[0m\u001b[1;33m.\u001b[0m\u001b[0miloc\u001b[0m\u001b[1;33m[\u001b[0m\u001b[0mind\u001b[0m\u001b[1;33m]\u001b[0m\u001b[1;33m,\u001b[0m \u001b[0mdf_merged\u001b[0m\u001b[1;33m[\u001b[0m\u001b[1;34m'x_res'\u001b[0m\u001b[1;33m]\u001b[0m\u001b[1;33m.\u001b[0m\u001b[0miloc\u001b[0m\u001b[1;33m[\u001b[0m\u001b[0mind\u001b[0m\u001b[1;33m]\u001b[0m\u001b[1;33m)\u001b[0m\u001b[1;33m\u001b[0m\u001b[1;33m\u001b[0m\u001b[0m\n\u001b[0m\u001b[0;32m      3\u001b[0m     \u001b[0mang_adj\u001b[0m \u001b[1;33m=\u001b[0m \u001b[0mang_adj\u001b[0m \u001b[1;33m*\u001b[0m\u001b[1;36m180\u001b[0m\u001b[1;33m/\u001b[0m\u001b[0mnp\u001b[0m\u001b[1;33m.\u001b[0m\u001b[0mpi\u001b[0m\u001b[1;33m\u001b[0m\u001b[1;33m\u001b[0m\u001b[0m\n\u001b[0;32m      4\u001b[0m     \u001b[0mnew_coord\u001b[0m \u001b[1;33m=\u001b[0m \u001b[0minverse_haversine\u001b[0m\u001b[1;33m(\u001b[0m\u001b[1;33m(\u001b[0m\u001b[0mdf_merged\u001b[0m\u001b[1;33m[\u001b[0m\u001b[1;33m[\u001b[0m\u001b[1;34m'cam_lat'\u001b[0m\u001b[1;33m,\u001b[0m \u001b[1;34m'cam_long'\u001b[0m\u001b[1;33m]\u001b[0m\u001b[1;33m]\u001b[0m\u001b[1;33m.\u001b[0m\u001b[0miloc\u001b[0m\u001b[1;33m[\u001b[0m\u001b[0mind\u001b[0m\u001b[1;33m]\u001b[0m\u001b[1;33m)\u001b[0m\u001b[1;33m,\u001b[0m \u001b[0my_pred\u001b[0m\u001b[1;33m[\u001b[0m\u001b[0mi\u001b[0m\u001b[1;33m]\u001b[0m\u001b[1;33m[\u001b[0m\u001b[1;36m1\u001b[0m\u001b[1;33m]\u001b[0m\u001b[1;33m,\u001b[0m \u001b[0mang_adj\u001b[0m\u001b[1;33m,\u001b[0m \u001b[0munit\u001b[0m\u001b[1;33m=\u001b[0m\u001b[0mUnit\u001b[0m\u001b[1;33m.\u001b[0m\u001b[0mMILES\u001b[0m\u001b[1;33m)\u001b[0m\u001b[1;33m\u001b[0m\u001b[1;33m\u001b[0m\u001b[0m\n\u001b[0;32m      5\u001b[0m \u001b[1;33m\u001b[0m\u001b[0m\n",
      "\u001b[1;31mIndexError\u001b[0m: invalid index to scalar variable."
     ]
    }
   ],
   "source": [
    "for i, ind in enumerate(test_ind):\n",
    "    ang_adj = adjust_angle(y_pred[i][0], df_merged['cl_angle'].iloc[ind], df_merged['dir'].iloc[ind], df_merged['x_pixel'].iloc[ind], df_merged['x_res'].iloc[ind])\n",
    "    ang_adj = ang_adj *180/np.pi\n",
    "    new_coord = inverse_haversine((df_merged[['cam_lat', 'cam_long']].iloc[ind]), y_pred[i][1], ang_adj, unit=Unit.MILES)\n",
    "    \n",
    "    dist_acc = haversine((data1['lm_lat'], data1['lm_long']), (new_coord[0], new_coord[1]), unit=Unit.MILES)\n",
    "    \n",
    "    print(ind)\n",
    "    print(\"X: {}, Y: {}\".format(new_coord[1], new_coord[0]))\n",
    "    print(\"Distance From Actual: \", dist_acc)\n",
    "    print(\"\\n\")"
   ]
  },
  {
   "cell_type": "code",
   "execution_count": 553,
   "metadata": {},
   "outputs": [
    {
     "ename": "ValueError",
     "evalue": "X shape does not match training shape",
     "output_type": "error",
     "traceback": [
      "\u001b[1;31m---------------------------------------------------------------------------\u001b[0m",
      "\u001b[1;31mValueError\u001b[0m                                Traceback (most recent call last)",
      "\u001b[1;32m<ipython-input-553-7f5ec591fa02>\u001b[0m in \u001b[0;36m<module>\u001b[1;34m\u001b[0m\n\u001b[0;32m      1\u001b[0m \u001b[0mX_new\u001b[0m \u001b[1;33m=\u001b[0m \u001b[0mnp\u001b[0m\u001b[1;33m.\u001b[0m\u001b[0mlinspace\u001b[0m\u001b[1;33m(\u001b[0m\u001b[1;33m-\u001b[0m\u001b[1;36m3\u001b[0m\u001b[1;33m,\u001b[0m \u001b[1;36m3\u001b[0m\u001b[1;33m,\u001b[0m \u001b[1;36m200\u001b[0m\u001b[1;33m)\u001b[0m\u001b[1;33m.\u001b[0m\u001b[0mreshape\u001b[0m\u001b[1;33m(\u001b[0m\u001b[1;36m200\u001b[0m\u001b[1;33m,\u001b[0m \u001b[1;36m1\u001b[0m\u001b[1;33m)\u001b[0m\u001b[1;33m\u001b[0m\u001b[1;33m\u001b[0m\u001b[0m\n\u001b[1;32m----> 2\u001b[1;33m \u001b[0mX_new_poly\u001b[0m \u001b[1;33m=\u001b[0m \u001b[0mpoly\u001b[0m\u001b[1;33m.\u001b[0m\u001b[0mtransform\u001b[0m\u001b[1;33m(\u001b[0m\u001b[0mX_new\u001b[0m\u001b[1;33m)\u001b[0m\u001b[1;33m\u001b[0m\u001b[1;33m\u001b[0m\u001b[0m\n\u001b[0m\u001b[0;32m      3\u001b[0m \u001b[0my_new\u001b[0m \u001b[1;33m=\u001b[0m \u001b[0mlr\u001b[0m\u001b[1;33m.\u001b[0m\u001b[0mpredict\u001b[0m\u001b[1;33m(\u001b[0m\u001b[0mX_new_poly\u001b[0m\u001b[1;33m)\u001b[0m\u001b[1;33m\u001b[0m\u001b[1;33m\u001b[0m\u001b[0m\n\u001b[0;32m      4\u001b[0m \u001b[1;31m#plt.plot(X_new, y_new, \"r-\", linewidth=2, label=\"Predictions\")\u001b[0m\u001b[1;33m\u001b[0m\u001b[1;33m\u001b[0m\u001b[1;33m\u001b[0m\u001b[0m\n\u001b[0;32m      5\u001b[0m \u001b[0mplt\u001b[0m\u001b[1;33m.\u001b[0m\u001b[0mplot\u001b[0m\u001b[1;33m(\u001b[0m\u001b[0mX_train\u001b[0m\u001b[1;33m,\u001b[0m \u001b[0my_train\u001b[0m\u001b[1;33m,\u001b[0m \u001b[1;34m\"b.\"\u001b[0m\u001b[1;33m,\u001b[0m\u001b[0mlabel\u001b[0m\u001b[1;33m=\u001b[0m\u001b[1;34m'Training points'\u001b[0m\u001b[1;33m)\u001b[0m\u001b[1;33m\u001b[0m\u001b[1;33m\u001b[0m\u001b[0m\n",
      "\u001b[1;32m~\\anaconda3\\lib\\site-packages\\sklearn\\preprocessing\\_data.py\u001b[0m in \u001b[0;36mtransform\u001b[1;34m(self, X)\u001b[0m\n\u001b[0;32m   1554\u001b[0m \u001b[1;33m\u001b[0m\u001b[0m\n\u001b[0;32m   1555\u001b[0m         \u001b[1;32mif\u001b[0m \u001b[0mn_features\u001b[0m \u001b[1;33m!=\u001b[0m \u001b[0mself\u001b[0m\u001b[1;33m.\u001b[0m\u001b[0mn_input_features_\u001b[0m\u001b[1;33m:\u001b[0m\u001b[1;33m\u001b[0m\u001b[1;33m\u001b[0m\u001b[0m\n\u001b[1;32m-> 1556\u001b[1;33m             \u001b[1;32mraise\u001b[0m \u001b[0mValueError\u001b[0m\u001b[1;33m(\u001b[0m\u001b[1;34m\"X shape does not match training shape\"\u001b[0m\u001b[1;33m)\u001b[0m\u001b[1;33m\u001b[0m\u001b[1;33m\u001b[0m\u001b[0m\n\u001b[0m\u001b[0;32m   1557\u001b[0m \u001b[1;33m\u001b[0m\u001b[0m\n\u001b[0;32m   1558\u001b[0m         \u001b[1;32mif\u001b[0m \u001b[0msparse\u001b[0m\u001b[1;33m.\u001b[0m\u001b[0misspmatrix_csr\u001b[0m\u001b[1;33m(\u001b[0m\u001b[0mX\u001b[0m\u001b[1;33m)\u001b[0m\u001b[1;33m:\u001b[0m\u001b[1;33m\u001b[0m\u001b[1;33m\u001b[0m\u001b[0m\n",
      "\u001b[1;31mValueError\u001b[0m: X shape does not match training shape"
     ]
    }
   ],
   "source": [
    "X_new = np.linspace(-3, 3, 200).reshape(200, 1)\n",
    "X_new_poly = poly.transform(X_new)\n",
    "y_new = lr.predict(X_new_poly)\n",
    "#plt.plot(X_new, y_new, \"r-\", linewidth=2, label=\"Predictions\")\n",
    "plt.plot(X_train, y_train, \"b.\",label='Training points')\n",
    "plt.plot(X_test, y_test, \"g.\",label='Testing points')\n",
    "plt.xlabel(\"X\")\n",
    "plt.ylabel(\"y\")\n",
    "plt.legend()\n",
    "plt.show()"
   ]
  },
  {
   "cell_type": "code",
   "execution_count": 343,
   "metadata": {},
   "outputs": [
    {
     "name": "stdout",
     "output_type": "stream",
     "text": [
      "[-8.76634327]\n"
     ]
    }
   ],
   "source": [
    "clf2 = lin_model.Lasso(alpha=.05, max_iter=1000)#, selection='random')\n",
    "clf2.fit(X_train, y_train)\n",
    "\n",
    "print(clf2.coef_)\n",
    "y_pred = clf2.predict(X_test)"
   ]
  },
  {
   "cell_type": "code",
   "execution_count": 344,
   "metadata": {},
   "outputs": [
    {
     "name": "stdout",
     "output_type": "stream",
     "text": [
      "0.20501484162745542\n"
     ]
    }
   ],
   "source": [
    "print(r2_score(y_test, y_pred))"
   ]
  },
  {
   "cell_type": "code",
   "execution_count": null,
   "metadata": {},
   "outputs": [],
   "source": []
  }
 ],
 "metadata": {
  "kernelspec": {
   "display_name": "Python 3",
   "language": "python",
   "name": "python3"
  },
  "language_info": {
   "codemirror_mode": {
    "name": "ipython",
    "version": 3
   },
   "file_extension": ".py",
   "mimetype": "text/x-python",
   "name": "python",
   "nbconvert_exporter": "python",
   "pygments_lexer": "ipython3",
   "version": "3.8.5"
  }
 },
 "nbformat": 4,
 "nbformat_minor": 4
}
