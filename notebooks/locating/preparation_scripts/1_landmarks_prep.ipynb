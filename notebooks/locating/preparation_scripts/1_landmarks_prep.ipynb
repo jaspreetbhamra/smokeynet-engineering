{
 "cells": [
  {
   "cell_type": "markdown",
   "metadata": {},
   "source": [
    "# Landmarks Data Preparation"
   ]
  },
  {
   "cell_type": "markdown",
   "metadata": {},
   "source": [
    "This script finds distances between landmarks in landmarks_manual.csv and the cameras that saw them. It also labels each landmark with what pixel those landmarks would appear in within the preprocessed image fed into SmokeyNet. The purpose is to prepare data to be used for testing as tiles are used as inputs for location_estimator, not pixel coordinates. This should be run whenever a new landmark is added to landmarks_manual.csv."
   ]
  },
  {
   "cell_type": "markdown",
   "metadata": {},
   "source": [
    "## Import Packages"
   ]
  },
  {
   "cell_type": "code",
   "execution_count": 2,
   "metadata": {},
   "outputs": [
    {
     "ename": "ModuleNotFoundError",
     "evalue": "No module named 'pandas'",
     "output_type": "error",
     "traceback": [
      "\u001b[1;31m---------------------------------------------------------------------------\u001b[0m",
      "\u001b[1;31mModuleNotFoundError\u001b[0m                       Traceback (most recent call last)",
      "\u001b[1;32mc:\\Users\\harri\\Documents\\GitHub\\smokeynet-engineering\\notebooks\\locating\\preparation_scripts\\1_landmarks_prep.ipynb Cell 4'\u001b[0m in \u001b[0;36m<cell line: 1>\u001b[1;34m()\u001b[0m\n\u001b[1;32m----> <a href='vscode-notebook-cell:/c%3A/Users/harri/Documents/GitHub/smokeynet-engineering/notebooks/locating/preparation_scripts/1_landmarks_prep.ipynb#ch0000003?line=0'>1</a>\u001b[0m \u001b[39mimport\u001b[39;00m \u001b[39mpandas\u001b[39;00m \u001b[39mas\u001b[39;00m \u001b[39mpd\u001b[39;00m\n\u001b[0;32m      <a href='vscode-notebook-cell:/c%3A/Users/harri/Documents/GitHub/smokeynet-engineering/notebooks/locating/preparation_scripts/1_landmarks_prep.ipynb#ch0000003?line=1'>2</a>\u001b[0m \u001b[39mfrom\u001b[39;00m \u001b[39mhaversine\u001b[39;00m \u001b[39mimport\u001b[39;00m haversine, Unit\n\u001b[0;32m      <a href='vscode-notebook-cell:/c%3A/Users/harri/Documents/GitHub/smokeynet-engineering/notebooks/locating/preparation_scripts/1_landmarks_prep.ipynb#ch0000003?line=2'>3</a>\u001b[0m \u001b[39mimport\u001b[39;00m \u001b[39mcv2\u001b[39;00m\n",
      "\u001b[1;31mModuleNotFoundError\u001b[0m: No module named 'pandas'"
     ]
    }
   ],
   "source": [
    "import pandas as pd\n",
    "from haversine import haversine, Unit\n",
    "import cv2"
   ]
  },
  {
   "cell_type": "markdown",
   "metadata": {},
   "source": [
    "## Find Landmark Distances"
   ]
  },
  {
   "cell_type": "code",
   "execution_count": 3,
   "metadata": {},
   "outputs": [],
   "source": [
    "lm_df = pd.read_csv(\"../../../data/raw/landmarks_manual.csv\")\n",
    "cam_meta = pd.read_csv(\"../../../data/processed/camera_metadata_hpwren.csv\")\n",
    "\n",
    "lm_df = lm_df.merge(cam_meta[['camera_abbrev', 'direction', 'lat', 'long']], left_on=['camera_abbrev', 'direction'], right_on=['camera_abbrev', 'direction'], how='left')\n",
    "lm_df = lm_df.drop_duplicates().reset_index(drop=True)\n",
    "\n",
    "lm_df['distance'] = lm_df.apply(lambda x: haversine((x['lat_x'], x['long_y']), (x['lat_y'], x['long_y'])), axis=1)\n",
    "lm_df = lm_df.rename(columns={\"lat_x\":\"lat\", \"long_x\":\"long\"})\n",
    "del lm_df['lat_y']\n",
    "del lm_df['long_y']"
   ]
  },
  {
   "cell_type": "markdown",
   "metadata": {},
   "source": [
    "## Find Tile For Each Landmark"
   ]
  },
  {
   "cell_type": "code",
   "execution_count": 4,
   "metadata": {},
   "outputs": [],
   "source": [
    "def find_tile(x_pix, y_pix, x_tiles = 9, y_tiles = 5, img_size = (3072, 2048), dsize = (1856, 1392), cropped_size = (1856, 1040), tile_size = (224, 224), overlap = 20):\n",
    "    x_ratio = img_size[0]/dsize[0]\n",
    "    y_ratio = img_size[1]/dsize[1]\n",
    "    step_x = (tile_size[0]/2) * x_ratio\n",
    "    step_y = (tile_size[1]/2) * y_ratio\n",
    "    y_start = img_size[1] - (img_size[1] * cropped_size[1]/dsize[1])\n",
    "\n",
    "    x_centers = [step_x + i*(step_x*2 - overlap*x_ratio) for i in range(x_tiles)]\n",
    "    y_centers = [step_y + y_start + i*(step_y*2 - overlap*y_ratio) for i in range(y_tiles)]\n",
    "    \n",
    "    x_scores = [abs(x_cent - x_pix) for x_cent in x_centers]\n",
    "    y_scores = [abs(y_cent - y_pix) for y_cent in y_centers]\n",
    "    \n",
    "    return (y_scores.index(min(y_scores))*(x_tiles)) + (x_scores.index(min(x_scores)))"
   ]
  },
  {
   "cell_type": "code",
   "execution_count": 5,
   "metadata": {},
   "outputs": [
    {
     "data": {
      "text/html": [
       "<div>\n",
       "<style scoped>\n",
       "    .dataframe tbody tr th:only-of-type {\n",
       "        vertical-align: middle;\n",
       "    }\n",
       "\n",
       "    .dataframe tbody tr th {\n",
       "        vertical-align: top;\n",
       "    }\n",
       "\n",
       "    .dataframe thead th {\n",
       "        text-align: right;\n",
       "    }\n",
       "</style>\n",
       "<table border=\"1\" class=\"dataframe\">\n",
       "  <thead>\n",
       "    <tr style=\"text-align: right;\">\n",
       "      <th></th>\n",
       "      <th>landmark</th>\n",
       "      <th>camera_abbrev</th>\n",
       "      <th>direction</th>\n",
       "      <th>lat</th>\n",
       "      <th>long</th>\n",
       "      <th>x_pixel</th>\n",
       "      <th>y_pixel</th>\n",
       "      <th>x_res</th>\n",
       "      <th>y_res</th>\n",
       "      <th>intersection</th>\n",
       "      <th>distance</th>\n",
       "      <th>tile</th>\n",
       "    </tr>\n",
       "  </thead>\n",
       "  <tbody>\n",
       "    <tr>\n",
       "      <th>0</th>\n",
       "      <td>white building - southwest</td>\n",
       "      <td>om</td>\n",
       "      <td>south</td>\n",
       "      <td>32.593892</td>\n",
       "      <td>-116.845919</td>\n",
       "      <td>2900</td>\n",
       "      <td>1715</td>\n",
       "      <td>3072</td>\n",
       "      <td>2048</td>\n",
       "      <td>0</td>\n",
       "      <td>0.096758</td>\n",
       "      <td>35</td>\n",
       "    </tr>\n",
       "    <tr>\n",
       "      <th>1</th>\n",
       "      <td>white building - southwest</td>\n",
       "      <td>om</td>\n",
       "      <td>west</td>\n",
       "      <td>32.593892</td>\n",
       "      <td>-116.845919</td>\n",
       "      <td>423</td>\n",
       "      <td>1685</td>\n",
       "      <td>3072</td>\n",
       "      <td>2048</td>\n",
       "      <td>0</td>\n",
       "      <td>0.096758</td>\n",
       "      <td>28</td>\n",
       "    </tr>\n",
       "    <tr>\n",
       "      <th>2</th>\n",
       "      <td>white building - south</td>\n",
       "      <td>om</td>\n",
       "      <td>south</td>\n",
       "      <td>32.594298</td>\n",
       "      <td>-116.844774</td>\n",
       "      <td>1780</td>\n",
       "      <td>1930</td>\n",
       "      <td>3072</td>\n",
       "      <td>2048</td>\n",
       "      <td>0</td>\n",
       "      <td>0.051656</td>\n",
       "      <td>41</td>\n",
       "    </tr>\n",
       "    <tr>\n",
       "      <th>3</th>\n",
       "      <td>communication tower building - east</td>\n",
       "      <td>om</td>\n",
       "      <td>north</td>\n",
       "      <td>32.595487</td>\n",
       "      <td>-116.844141</td>\n",
       "      <td>2545</td>\n",
       "      <td>1725</td>\n",
       "      <td>3072</td>\n",
       "      <td>2048</td>\n",
       "      <td>0</td>\n",
       "      <td>0.080560</td>\n",
       "      <td>34</td>\n",
       "    </tr>\n",
       "    <tr>\n",
       "      <th>4</th>\n",
       "      <td>large bush</td>\n",
       "      <td>om</td>\n",
       "      <td>east</td>\n",
       "      <td>32.599053</td>\n",
       "      <td>-116.839254</td>\n",
       "      <td>318</td>\n",
       "      <td>1420</td>\n",
       "      <td>3072</td>\n",
       "      <td>2048</td>\n",
       "      <td>0</td>\n",
       "      <td>0.477133</td>\n",
       "      <td>18</td>\n",
       "    </tr>\n",
       "  </tbody>\n",
       "</table>\n",
       "</div>"
      ],
      "text/plain": [
       "                              landmark camera_abbrev direction        lat  \\\n",
       "0           white building - southwest            om     south  32.593892   \n",
       "1           white building - southwest            om      west  32.593892   \n",
       "2               white building - south            om     south  32.594298   \n",
       "3  communication tower building - east            om     north  32.595487   \n",
       "4                           large bush            om      east  32.599053   \n",
       "\n",
       "         long  x_pixel  y_pixel  x_res  y_res  intersection  distance  tile  \n",
       "0 -116.845919     2900     1715   3072   2048             0  0.096758    35  \n",
       "1 -116.845919      423     1685   3072   2048             0  0.096758    28  \n",
       "2 -116.844774     1780     1930   3072   2048             0  0.051656    41  \n",
       "3 -116.844141     2545     1725   3072   2048             0  0.080560    34  \n",
       "4 -116.839254      318     1420   3072   2048             0  0.477133    18  "
      ]
     },
     "execution_count": 5,
     "metadata": {},
     "output_type": "execute_result"
    }
   ],
   "source": [
    "lm_df['tile'] = lm_df.apply(lambda x: find_tile(x['x_pixel'], x['y_pixel'], img_size = (x['x_res'], x['y_res'])), axis=1)\n",
    "lm_df.head()"
   ]
  },
  {
   "cell_type": "markdown",
   "metadata": {},
   "source": [
    "## Write New Data Back Out to Dataset"
   ]
  },
  {
   "cell_type": "code",
   "execution_count": 7,
   "metadata": {},
   "outputs": [],
   "source": [
    "lm_df.to_csv(\"../../../data/raw/landmarks_manual.csv\", index=False)"
   ]
  },
  {
   "cell_type": "code",
   "execution_count": null,
   "metadata": {},
   "outputs": [],
   "source": []
  }
 ],
 "metadata": {
  "kernelspec": {
   "display_name": "Python 3.8.6 64-bit",
   "language": "python",
   "name": "python3"
  },
  "language_info": {
   "codemirror_mode": {
    "name": "ipython",
    "version": 3
   },
   "file_extension": ".py",
   "mimetype": "text/x-python",
   "name": "python",
   "nbconvert_exporter": "python",
   "pygments_lexer": "ipython3",
   "version": "3.8.6"
  },
  "vscode": {
   "interpreter": {
    "hash": "c58f7ece8e4afc715d9965b3469cf8e3f4fe0b64f237f054b29995b64709c1eb"
   }
  }
 },
 "nbformat": 4,
 "nbformat_minor": 4
}
