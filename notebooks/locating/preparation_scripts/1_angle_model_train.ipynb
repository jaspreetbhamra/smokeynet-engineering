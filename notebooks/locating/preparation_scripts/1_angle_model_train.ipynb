{
 "cells": [
  {
   "cell_type": "markdown",
   "metadata": {},
   "source": [
    "# Train Angle Regression Model"
   ]
  },
  {
   "cell_type": "markdown",
   "metadata": {},
   "source": [
    "Script to train model on landmark data and camera metadata using Ridge regression. Purpose of model is to understand relationship between pixel location + camera elevation and angle between camera centerline and smoke in image. Pickles model and scaler into files locating_angle_mode.gzip and locating_scaler.gzip. Should be run whenever a new landmark is added to landmarks_manual.csv or an existing camera's metadata changes."
   ]
  },
  {
   "cell_type": "markdown",
   "metadata": {},
   "source": [
    "## Import Packages"
   ]
  },
  {
   "cell_type": "code",
   "execution_count": 1,
   "metadata": {},
   "outputs": [],
   "source": [
    "import pandas as pd\n",
    "import numpy as np\n",
    "\n",
    "import sklearn.linear_model as lin_model\n",
    "\n",
    "from haversine import haversine, Unit, inverse_haversine\n",
    "\n",
    "import sklearn.model_selection as model\n",
    "import sklearn.preprocessing as preprop\n",
    "from sklearn.metrics import r2_score\n",
    "import joblib\n",
    "from ast import literal_eval"
   ]
  },
  {
   "cell_type": "markdown",
   "metadata": {},
   "source": [
    "## Load Camera Metadata"
   ]
  },
  {
   "cell_type": "code",
   "execution_count": 3,
   "metadata": {},
   "outputs": [],
   "source": [
    "df_cameras = pd.read_csv(f\"../../../data/processed/camera_metadata_hpwren.csv\")\n",
    "df_cameras = df_cameras.dropna(subset=['x_resolution', 'y_resolution', 'center_angle'])"
   ]
  },
  {
   "cell_type": "code",
   "execution_count": 4,
   "metadata": {},
   "outputs": [
    {
     "data": {
      "text/html": [
       "<div>\n",
       "<style scoped>\n",
       "    .dataframe tbody tr th:only-of-type {\n",
       "        vertical-align: middle;\n",
       "    }\n",
       "\n",
       "    .dataframe tbody tr th {\n",
       "        vertical-align: top;\n",
       "    }\n",
       "\n",
       "    .dataframe thead th {\n",
       "        text-align: right;\n",
       "    }\n",
       "</style>\n",
       "<table border=\"1\" class=\"dataframe\">\n",
       "  <thead>\n",
       "    <tr style=\"text-align: right;\">\n",
       "      <th></th>\n",
       "      <th>camera_id</th>\n",
       "      <th>direction</th>\n",
       "      <th>camera_name</th>\n",
       "      <th>camera_abbrev</th>\n",
       "      <th>image_id</th>\n",
       "      <th>long</th>\n",
       "      <th>lat</th>\n",
       "      <th>elevation</th>\n",
       "      <th>geometry.type</th>\n",
       "      <th>geometry.coordinates</th>\n",
       "      <th>x_resolution</th>\n",
       "      <th>y_resolution</th>\n",
       "      <th>center_lat</th>\n",
       "      <th>center_long</th>\n",
       "      <th>center_angle</th>\n",
       "      <th>properties.description.url</th>\n",
       "      <th>intersections</th>\n",
       "    </tr>\n",
       "  </thead>\n",
       "  <tbody>\n",
       "    <tr>\n",
       "      <th>1</th>\n",
       "      <td>hpwren1_north</td>\n",
       "      <td>north</td>\n",
       "      <td>Big Black Mountain</td>\n",
       "      <td>bm</td>\n",
       "      <td>bm-n-mobo-c</td>\n",
       "      <td>-116.808092</td>\n",
       "      <td>33.159927</td>\n",
       "      <td>4055.0</td>\n",
       "      <td>Point</td>\n",
       "      <td>[-116.8081, 33.1599, 4055]</td>\n",
       "      <td>3072.0</td>\n",
       "      <td>2048.0</td>\n",
       "      <td>33.181599</td>\n",
       "      <td>-116.807554</td>\n",
       "      <td>-0.024816</td>\n",
       "      <td>http://hpwren.ucsd.edu/cameras/BBlackMtn.html</td>\n",
       "      <td>[('bl', 'north'), ('bl', 'east'), ('bh', 'nort...</td>\n",
       "    </tr>\n",
       "    <tr>\n",
       "      <th>2</th>\n",
       "      <td>hpwren1_east</td>\n",
       "      <td>east</td>\n",
       "      <td>Big Black Mountain</td>\n",
       "      <td>bm</td>\n",
       "      <td>bm-e-mobo-c</td>\n",
       "      <td>-116.808092</td>\n",
       "      <td>33.159927</td>\n",
       "      <td>4055.0</td>\n",
       "      <td>Point</td>\n",
       "      <td>[-116.8081, 33.1599, 4055]</td>\n",
       "      <td>3072.0</td>\n",
       "      <td>2048.0</td>\n",
       "      <td>33.158781</td>\n",
       "      <td>-116.790230</td>\n",
       "      <td>-0.064085</td>\n",
       "      <td>http://hpwren.ucsd.edu/cameras/BBlackMtn.html</td>\n",
       "      <td>[('bh', 'east'), ('bh', 'south'), ('cp', 'nort...</td>\n",
       "    </tr>\n",
       "    <tr>\n",
       "      <th>3</th>\n",
       "      <td>hpwren1_south</td>\n",
       "      <td>south</td>\n",
       "      <td>Big Black Mountain</td>\n",
       "      <td>bm</td>\n",
       "      <td>bm-s-mobo-c</td>\n",
       "      <td>-116.808092</td>\n",
       "      <td>33.159927</td>\n",
       "      <td>4055.0</td>\n",
       "      <td>Point</td>\n",
       "      <td>[-116.8081, 33.1599, 4055]</td>\n",
       "      <td>3072.0</td>\n",
       "      <td>2048.0</td>\n",
       "      <td>33.157932</td>\n",
       "      <td>-116.807962</td>\n",
       "      <td>0.065022</td>\n",
       "      <td>http://hpwren.ucsd.edu/cameras/BBlackMtn.html</td>\n",
       "      <td>[('bl', 'east'), ('bl', 'south'), ('bh', 'sout...</td>\n",
       "    </tr>\n",
       "    <tr>\n",
       "      <th>4</th>\n",
       "      <td>hpwren1_west</td>\n",
       "      <td>west</td>\n",
       "      <td>Big Black Mountain</td>\n",
       "      <td>bm</td>\n",
       "      <td>bm-w-mobo-c</td>\n",
       "      <td>-116.808092</td>\n",
       "      <td>33.159927</td>\n",
       "      <td>4055.0</td>\n",
       "      <td>Point</td>\n",
       "      <td>[-116.8081, 33.1599, 4055]</td>\n",
       "      <td>3072.0</td>\n",
       "      <td>2048.0</td>\n",
       "      <td>33.159091</td>\n",
       "      <td>-116.858706</td>\n",
       "      <td>0.016519</td>\n",
       "      <td>http://hpwren.ucsd.edu/cameras/BBlackMtn.html</td>\n",
       "      <td>[('bl', 'north'), ('bl', 'east'), ('bl', 'sout...</td>\n",
       "    </tr>\n",
       "    <tr>\n",
       "      <th>5</th>\n",
       "      <td>hpwren2_north</td>\n",
       "      <td>north</td>\n",
       "      <td>Black Mountain</td>\n",
       "      <td>bl</td>\n",
       "      <td>bl-n-mobo-c</td>\n",
       "      <td>-117.116480</td>\n",
       "      <td>32.981417</td>\n",
       "      <td>1600.0</td>\n",
       "      <td>Point</td>\n",
       "      <td>[-117.12, 32.98, 1600]</td>\n",
       "      <td>2048.0</td>\n",
       "      <td>1536.0</td>\n",
       "      <td>32.981788</td>\n",
       "      <td>-117.116520</td>\n",
       "      <td>0.108221</td>\n",
       "      <td>http://hpwren.ucsd.edu/cameras/BL.html</td>\n",
       "      <td>[('bm', 'north'), ('bm', 'west'), ('bh', 'east...</td>\n",
       "    </tr>\n",
       "  </tbody>\n",
       "</table>\n",
       "</div>"
      ],
      "text/plain": [
       "       camera_id direction         camera_name camera_abbrev     image_id  \\\n",
       "1  hpwren1_north     north  Big Black Mountain            bm  bm-n-mobo-c   \n",
       "2   hpwren1_east      east  Big Black Mountain            bm  bm-e-mobo-c   \n",
       "3  hpwren1_south     south  Big Black Mountain            bm  bm-s-mobo-c   \n",
       "4   hpwren1_west      west  Big Black Mountain            bm  bm-w-mobo-c   \n",
       "5  hpwren2_north     north      Black Mountain            bl  bl-n-mobo-c   \n",
       "\n",
       "         long        lat  elevation geometry.type        geometry.coordinates  \\\n",
       "1 -116.808092  33.159927     4055.0         Point  [-116.8081, 33.1599, 4055]   \n",
       "2 -116.808092  33.159927     4055.0         Point  [-116.8081, 33.1599, 4055]   \n",
       "3 -116.808092  33.159927     4055.0         Point  [-116.8081, 33.1599, 4055]   \n",
       "4 -116.808092  33.159927     4055.0         Point  [-116.8081, 33.1599, 4055]   \n",
       "5 -117.116480  32.981417     1600.0         Point      [-117.12, 32.98, 1600]   \n",
       "\n",
       "   x_resolution  y_resolution  center_lat  center_long  center_angle  \\\n",
       "1        3072.0        2048.0   33.181599  -116.807554     -0.024816   \n",
       "2        3072.0        2048.0   33.158781  -116.790230     -0.064085   \n",
       "3        3072.0        2048.0   33.157932  -116.807962      0.065022   \n",
       "4        3072.0        2048.0   33.159091  -116.858706      0.016519   \n",
       "5        2048.0        1536.0   32.981788  -117.116520      0.108221   \n",
       "\n",
       "                      properties.description.url  \\\n",
       "1  http://hpwren.ucsd.edu/cameras/BBlackMtn.html   \n",
       "2  http://hpwren.ucsd.edu/cameras/BBlackMtn.html   \n",
       "3  http://hpwren.ucsd.edu/cameras/BBlackMtn.html   \n",
       "4  http://hpwren.ucsd.edu/cameras/BBlackMtn.html   \n",
       "5         http://hpwren.ucsd.edu/cameras/BL.html   \n",
       "\n",
       "                                       intersections  \n",
       "1  [('bl', 'north'), ('bl', 'east'), ('bh', 'nort...  \n",
       "2  [('bh', 'east'), ('bh', 'south'), ('cp', 'nort...  \n",
       "3  [('bl', 'east'), ('bl', 'south'), ('bh', 'sout...  \n",
       "4  [('bl', 'north'), ('bl', 'east'), ('bl', 'sout...  \n",
       "5  [('bm', 'north'), ('bm', 'west'), ('bh', 'east...  "
      ]
     },
     "execution_count": 4,
     "metadata": {},
     "output_type": "execute_result"
    }
   ],
   "source": [
    "df_cameras.head()"
   ]
  },
  {
   "cell_type": "markdown",
   "metadata": {},
   "source": [
    "## Load Landmark Data"
   ]
  },
  {
   "cell_type": "code",
   "execution_count": 5,
   "metadata": {},
   "outputs": [],
   "source": [
    "df_lm = pd.read_csv('../../../data/raw/landmarks_manual.csv')\n",
    "df_lm = df_lm.rename(columns={'lat': 'lm_lat', 'long': 'lm_long'})"
   ]
  },
  {
   "cell_type": "markdown",
   "metadata": {},
   "source": [
    "## Join Datasets"
   ]
  },
  {
   "cell_type": "code",
   "execution_count": 6,
   "metadata": {},
   "outputs": [],
   "source": [
    "def find_angle(ax, ay, bx, by, cx, cy):\n",
    "    a = np.array([ax, ay])\n",
    "    b = np.array([bx, by])\n",
    "    c = np.array([cx, cy])\n",
    "\n",
    "    ba = a - b\n",
    "    bc = c - b\n",
    "    \n",
    "    cosine_angle = np.dot(ba, bc) / (np.linalg.norm(ba) * np.linalg.norm(bc))\n",
    "    angle = np.arccos(cosine_angle)\n",
    "    return angle"
   ]
  },
  {
   "cell_type": "code",
   "execution_count": 7,
   "metadata": {},
   "outputs": [],
   "source": [
    "df_merged = df_cameras.merge(df_lm, left_on=['camera_abbrev', 'direction'], right_on=['camera_abbrev', 'direction'], how='inner')\n",
    "df_merged = df_merged[['camera_abbrev', 'direction', 'landmark', 'lat', 'long', 'center_lat', 'center_long', 'lm_lat', 'lm_long', 'x_pixel', 'y_pixel', 'x_res', 'y_res', 'elevation', 'distance', 'intersection', 'center_angle']]\n",
    "df_merged['angle'] = df_merged.apply(lambda x: find_angle(x['center_long'], x['center_lat'], x['long'], x['lat'], x['lm_long'], x['lm_lat']), axis=1)"
   ]
  },
  {
   "cell_type": "markdown",
   "metadata": {},
   "source": [
    "## Convert Data and Train Model"
   ]
  },
  {
   "cell_type": "code",
   "execution_count": 8,
   "metadata": {},
   "outputs": [],
   "source": [
    "def find_x_ratio(pix, res):\n",
    "    return abs(pix-(res/2))/(res/2)\n",
    "\n",
    "def find_y_ratio(pix, res):\n",
    "    return abs(res-pix)/(res)\n",
    "\n",
    "df_merged['x_ratio'] = df_merged.apply(lambda x: find_x_ratio(x['x_pixel'], x['x_res']), axis=1)\n",
    "df_merged['y_ratio'] = df_merged.apply(lambda x: find_y_ratio(x['y_pixel'], x['y_res']), axis=1)"
   ]
  },
  {
   "cell_type": "code",
   "execution_count": 10,
   "metadata": {},
   "outputs": [
    {
     "name": "stdout",
     "output_type": "stream",
     "text": [
      "R2 Score:  0.9136320621646693\n"
     ]
    }
   ],
   "source": [
    "X_test = df_merged[['x_ratio', 'y_ratio', 'elevation']].loc[df_merged['intersection'] == 1]\n",
    "X_test['elevation'] = X_test['elevation'] - np.median(X_test['elevation'])\n",
    "y_test = df_merged['angle'].loc[df_merged['intersection'] == 1]\n",
    "\n",
    "X_train = df_merged[['x_ratio', 'y_ratio', 'elevation']].loc[df_merged['intersection'] == 0]\n",
    "X_train['elevation'] = X_train['elevation'] - np.median(X_train['elevation'])\n",
    "y_train = df_merged['angle'].loc[df_merged['intersection'] == 0]\n",
    "\n",
    "#Scale Data\n",
    "scaler = preprop.StandardScaler()\n",
    "scaler.fit(X_train)\n",
    "X_train = scaler.transform(X_train)\n",
    "\n",
    "X_test = scaler.transform(X_test)\n",
    "\n",
    "#Fit Model\n",
    "model = lin_model.Ridge(alpha=11.5, max_iter=1000)#, selection='random')\n",
    "model.fit(X_train, y_train)\n",
    "y_pred = model.predict(X_test)\n",
    "print(\"R2 Score: \", r2_score(y_test, y_pred))\n"
   ]
  },
  {
   "cell_type": "markdown",
   "metadata": {},
   "source": [
    "## Pickle/Store Model"
   ]
  },
  {
   "cell_type": "code",
   "execution_count": 11,
   "metadata": {},
   "outputs": [
    {
     "data": {
      "text/plain": [
       "['../pickled_files/test_df.gz']"
      ]
     },
     "execution_count": 11,
     "metadata": {},
     "output_type": "execute_result"
    }
   ],
   "source": [
    "joblib.dump(model, '../pickled_files/locating_angle_model.gz')\n",
    "joblib.dump(scaler, '../pickled_files/locating_scaler.gz')\n",
    "joblib.dump(df_merged, '../pickled_files/test_df.gz')"
   ]
  },
  {
   "cell_type": "code",
   "execution_count": null,
   "metadata": {},
   "outputs": [],
   "source": []
  }
 ],
 "metadata": {
  "kernelspec": {
   "display_name": "Python 3",
   "language": "python",
   "name": "python3"
  },
  "language_info": {
   "codemirror_mode": {
    "name": "ipython",
    "version": 3
   },
   "file_extension": ".py",
   "mimetype": "text/x-python",
   "name": "python",
   "nbconvert_exporter": "python",
   "pygments_lexer": "ipython3",
   "version": "3.8.5"
  }
 },
 "nbformat": 4,
 "nbformat_minor": 4
}
