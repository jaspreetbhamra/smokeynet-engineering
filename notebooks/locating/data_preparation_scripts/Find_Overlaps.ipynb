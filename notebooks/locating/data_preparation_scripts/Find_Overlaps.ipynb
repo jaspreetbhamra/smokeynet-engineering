{
 "cells": [
  {
   "cell_type": "code",
   "execution_count": 2,
   "metadata": {},
   "outputs": [],
   "source": [
    "import pandas as pd\n",
    "import geopandas\n",
    "from shapely.geometry import Polygon, LineString, Point\n",
    "from haversine import haversine, Unit\n",
    "import plotly.express as px\n",
    "import numpy as np"
   ]
  },
  {
   "cell_type": "code",
   "execution_count": 27,
   "metadata": {},
   "outputs": [],
   "source": [
    "cam_meta = pd.read_csv(\"../data/cam_meta_05302022.csv\")\n",
    "cam_meta = cam_meta[['hpweren_camera_description', 'station', 'dir', 'cam_lat', 'cam_long']]\n",
    "cam_meta = cam_meta.loc[(cam_meta['dir'] == 'n') | (cam_meta['dir'] == 'e') | (cam_meta['dir'] == 's') |(cam_meta['dir'] == 'w')].reset_index(drop=True)"
   ]
  },
  {
   "cell_type": "code",
   "execution_count": 28,
   "metadata": {},
   "outputs": [],
   "source": [
    "#x=.2222\n",
    "#haversine((33.1599, -116.8081), (33.1599+x, -116.8081+x), unit=Unit.MILES)\n",
    "\n",
    "def find_fov_right(direction, lat, long, fill_dist):\n",
    "    fill_dist = .2777 #25 miles away\n",
    "    if direction == \"n\":\n",
    "        return (long+fill_dist, lat+fill_dist)\n",
    "    if direction == \"e\":\n",
    "        return (long+fill_dist, lat-fill_dist)\n",
    "    if direction == \"s\":\n",
    "        return (long-fill_dist, lat-fill_dist)\n",
    "    if direction == \"w\":\n",
    "        return (long-fill_dist, lat+fill_dist)\n",
    "    \n",
    "def find_fov_left(direction, lat, long):\n",
    "    fill_dist = .2777 #25 miles away\n",
    "    if direction == \"n\":\n",
    "        return (long-fill_dist, lat+fill_dist)\n",
    "    if direction == \"e\":\n",
    "        return (long+fill_dist, lat+fill_dist)\n",
    "    if direction == \"s\":\n",
    "        return (long+fill_dist, lat-fill_dist)\n",
    "    if direction == \"w\":\n",
    "        return (long-fill_dist, lat-fill_dist)"
   ]
  },
  {
   "cell_type": "code",
   "execution_count": 29,
   "metadata": {},
   "outputs": [],
   "source": [
    "cam_meta['fov_right'] = cam_meta.apply(lambda x: find_fov_right(x['dir'], x['cam_lat'], x['cam_long']), axis=1)\n",
    "cam_meta['fov_left'] = cam_meta.apply(lambda x: find_fov_left(x['dir'], x['cam_lat'], x['cam_long']), axis=1)\n",
    "\n",
    "cam_meta\n",
    "left_edges = {'n': 'w', 'e': 'n', 's':'e', 'w': 's'}\n",
    "right_edges = {'n': 'e', 'e':'s', 's':'w', 'w':'n'}\n",
    "intersections = []\n",
    "counts = []\n",
    "\n",
    "for i in range(len(cam_meta)):\n",
    "    direction = cam_meta['dir'][i]\n",
    "    intersection = []\n",
    "    c1 = (cam_meta['cam_long'][i], cam_meta['cam_lat'][i])\n",
    "    r1 = cam_meta['fov_right'][i]\n",
    "    l1 = cam_meta['fov_left'][i]\n",
    "    for j in range(len(cam_meta)):\n",
    "        c2 = (cam_meta['cam_long'][j], cam_meta['cam_lat'][j])\n",
    "        r2 = cam_meta['fov_right'][j]\n",
    "        l2 = cam_meta['fov_left'][j]\n",
    "        if geopandas.GeoSeries(Polygon([c1, r1, l1])).intersects(geopandas.GeoSeries(Polygon([c2, r2, l2])))[0] == True:\n",
    "            if cam_meta['station'][j] != cam_meta['station'][i]:\n",
    "                intersection.append((cam_meta['station'][j], cam_meta['dir'][j]))\n",
    "    if len(intersection) > 0:\n",
    "        intersections.append(intersection)\n",
    "        counts.append(len(intersection))\n",
    "    else:\n",
    "        intersections.append(0)\n",
    "        counts.append(0)    \n",
    "        \n",
    "cam_meta['intersections'] = intersections\n",
    "cam_meta['num_intersection'] = counts"
   ]
  },
  {
   "cell_type": "code",
   "execution_count": 30,
   "metadata": {},
   "outputs": [],
   "source": [
    "cam_meta.to_csv(\"../data/intersections.csv\", index=False)"
   ]
  },
  {
   "cell_type": "code",
   "execution_count": 3,
   "metadata": {},
   "outputs": [
    {
     "ename": "NameError",
     "evalue": "name 'c1' is not defined",
     "output_type": "error",
     "traceback": [
      "\u001b[1;31m---------------------------------------------------------------------------\u001b[0m",
      "\u001b[1;31mNameError\u001b[0m                                 Traceback (most recent call last)",
      "\u001b[1;32m<ipython-input-3-37a77d92a020>\u001b[0m in \u001b[0;36m<module>\u001b[1;34m\u001b[0m\n\u001b[1;32m----> 1\u001b[1;33m \u001b[0mgeopandas\u001b[0m\u001b[1;33m.\u001b[0m\u001b[0mGeoSeries\u001b[0m\u001b[1;33m(\u001b[0m\u001b[0mPolygon\u001b[0m\u001b[1;33m(\u001b[0m\u001b[1;33m[\u001b[0m\u001b[0mc1\u001b[0m\u001b[1;33m,\u001b[0m \u001b[0mr1\u001b[0m\u001b[1;33m,\u001b[0m \u001b[0ml1\u001b[0m\u001b[1;33m]\u001b[0m\u001b[1;33m)\u001b[0m\u001b[1;33m)\u001b[0m\u001b[1;33m\u001b[0m\u001b[1;33m\u001b[0m\u001b[0m\n\u001b[0m",
      "\u001b[1;31mNameError\u001b[0m: name 'c1' is not defined"
     ]
    }
   ],
   "source": [
    "geopandas.GeoSeries(Polygon([c1, r1, l1]))"
   ]
  },
  {
   "cell_type": "code",
   "execution_count": null,
   "metadata": {},
   "outputs": [],
   "source": []
  }
 ],
 "metadata": {
  "kernelspec": {
   "display_name": "Python 3",
   "language": "python",
   "name": "python3"
  },
  "language_info": {
   "codemirror_mode": {
    "name": "ipython",
    "version": 3
   },
   "file_extension": ".py",
   "mimetype": "text/x-python",
   "name": "python",
   "nbconvert_exporter": "python",
   "pygments_lexer": "ipython3",
   "version": "3.8.5"
  }
 },
 "nbformat": 4,
 "nbformat_minor": 4
}
