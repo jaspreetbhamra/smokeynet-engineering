{
 "cells": [
  {
   "cell_type": "code",
   "execution_count": 29,
   "metadata": {},
   "outputs": [],
   "source": [
    "import pandas as pd\n",
    "import numpy as np\n",
    "\n",
    "import sklearn.linear_model as lin_model\n",
    "\n",
    "from haversine import haversine, Unit, inverse_haversine\n",
    "\n",
    "import sklearn.model_selection as model\n",
    "import sklearn.preprocessing as preprop\n",
    "from sklearn.metrics import r2_score\n",
    "import joblib"
   ]
  },
  {
   "cell_type": "code",
   "execution_count": 30,
   "metadata": {},
   "outputs": [],
   "source": [
    "def find_cl_angle(ax, ay, bx, by, direction):\n",
    "    a = np.array([ax, ay])\n",
    "    b = np.array([bx, by])\n",
    "    \n",
    "    if direction == 'n':\n",
    "        cx = bx\n",
    "        cy = by + 0.05\n",
    "        if ax >= bx:\n",
    "            sign = -1\n",
    "        else:\n",
    "            sign = 1\n",
    "    if direction == 'e':\n",
    "        cx = bx + 0.05\n",
    "        cy = by\n",
    "        if ay >= by:\n",
    "            sign = 1\n",
    "        else:\n",
    "            sign = -1\n",
    "    if direction == 's':\n",
    "        cx = bx\n",
    "        cy = by - 0.05\n",
    "        if ax >= bx:\n",
    "            sign = 1\n",
    "        else:\n",
    "            sign = -1\n",
    "    if direction == 'w':\n",
    "        cx = bx - 0.05\n",
    "        cy = by\n",
    "        if ay >= by:\n",
    "            sign = -1\n",
    "        else:\n",
    "            sign = 1\n",
    "    \n",
    "    c = np.array([cx, cy])\n",
    "\n",
    "    ba = a - b\n",
    "    bc = c - b\n",
    "    \n",
    "    cosine_angle = np.dot(ba, bc) / (np.linalg.norm(ba) * np.linalg.norm(bc))\n",
    "    angle = np.arccos(cosine_angle)\n",
    "    return angle * sign"
   ]
  },
  {
   "cell_type": "markdown",
   "metadata": {},
   "source": [
    "# Load Camera Metadata"
   ]
  },
  {
   "cell_type": "code",
   "execution_count": 31,
   "metadata": {},
   "outputs": [],
   "source": [
    "df_cameras = pd.read_csv('data/cam_meta_05302022.csv')\n",
    "df_cameras = df_cameras.loc[df_cameras['center_lat'] > 0]\n",
    "df_cameras['center_angle'] = df_cameras.apply(lambda x: find_cl_angle( x['center_long'], x['center_lat'], x['cam_long'], x['cam_lat'], x['dir']), axis=1)"
   ]
  },
  {
   "cell_type": "markdown",
   "metadata": {},
   "source": [
    "# Load Landmark Data"
   ]
  },
  {
   "cell_type": "code",
   "execution_count": 32,
   "metadata": {},
   "outputs": [],
   "source": [
    "df_lm = pd.read_csv('data/landmarks_processed.csv')\n",
    "df_lm = df_lm.rename(columns={'lat': 'lm_lat', 'long': 'lm_long'})"
   ]
  },
  {
   "cell_type": "markdown",
   "metadata": {},
   "source": [
    "# Join Datasets"
   ]
  },
  {
   "cell_type": "code",
   "execution_count": 24,
   "metadata": {},
   "outputs": [],
   "source": [
    "def find_angle(ax, ay, bx, by, cx, cy):\n",
    "    a = np.array([ax, ay])\n",
    "    b = np.array([bx, by])\n",
    "    c = np.array([cx, cy])\n",
    "\n",
    "    ba = a - b\n",
    "    bc = c - b\n",
    "    \n",
    "    cosine_angle = np.dot(ba, bc) / (np.linalg.norm(ba) * np.linalg.norm(bc))\n",
    "    angle = np.arccos(cosine_angle)\n",
    "    return angle"
   ]
  },
  {
   "cell_type": "code",
   "execution_count": 25,
   "metadata": {},
   "outputs": [],
   "source": [
    "df_merged = df_cameras.merge(df_lm, left_on=['station', 'dir'], right_on=['station', 'dir'], how='inner')\n",
    "df_merged = df_merged[['station', 'dir', 'hpweren_camera_description', 'landmark', 'cam_lat', 'cam_long', 'center_lat', 'center_long', 'lm_lat', 'lm_long', 'x_pixel', 'y_pixel', 'x_res', 'y_res', 'elevation', 'distance', 'intersection', 'cl_angle']]\n",
    "df_merged['angle'] = df_merged.apply(lambda x: find_angle(x['center_long'], x['center_lat'], x['cam_long'], x['cam_lat'], x['lm_long'], x['lm_lat']), axis=1)"
   ]
  },
  {
   "cell_type": "markdown",
   "metadata": {},
   "source": [
    "# Convert Data and Train Model"
   ]
  },
  {
   "cell_type": "code",
   "execution_count": 26,
   "metadata": {},
   "outputs": [],
   "source": [
    "def find_x_ratio(pix, res):\n",
    "    return abs(pix-(res/2))/(res/2)\n",
    "\n",
    "def find_y_ratio(pix, res):\n",
    "    return abs(res-pix)/(res)\n",
    "\n",
    "df_merged['x_ratio'] = df_merged.apply(lambda x: find_x_ratio(x['x_pixel'], x['x_res']), axis=1)\n",
    "df_merged['y_ratio'] = df_merged.apply(lambda x: find_y_ratio(x['y_pixel'], x['y_res']), axis=1)"
   ]
  },
  {
   "cell_type": "code",
   "execution_count": 27,
   "metadata": {},
   "outputs": [],
   "source": [
    "X_test = df_merged[['x_ratio', 'y_ratio', 'elevation']].loc[df_merged['intersection'] == 1]\n",
    "X_test['elevation'] = X_test['elevation'] - np.median(X_test['elevation'])\n",
    "y_test = df_merged['angle'].loc[df_merged['intersection'] == 1]\n",
    "\n",
    "X_train = df_merged[['x_ratio', 'y_ratio', 'elevation']].loc[df_merged['intersection'] == 0]\n",
    "X_train['elevation'] = X_train['elevation'] - np.median(X_train['elevation'])\n",
    "y_train = df_merged['angle'].loc[df_merged['intersection'] == 0]\n",
    "\n",
    "#Scale Data\n",
    "scaler = preprop.StandardScaler()\n",
    "scaler.fit(X_train)\n",
    "X_train = scaler.transform(X_train)\n",
    "\n",
    "X_test = scaler.transform(X_test)\n",
    "\n",
    "#Fit Model\n",
    "model = lin_model.Ridge(alpha=11.5, max_iter=1000)#, selection='random')\n",
    "model.fit(X_train, y_train)\n",
    "y_pred = model.predict(X_test)\n",
    "#print(model.coef_)\n",
    "#print(r2_score(y_test, y_pred))\n"
   ]
  },
  {
   "cell_type": "markdown",
   "metadata": {},
   "source": [
    "# Pickle/Store Model"
   ]
  },
  {
   "cell_type": "code",
   "execution_count": 28,
   "metadata": {},
   "outputs": [],
   "source": [
    "joblib.dump(model, 'locating_angle_model.gz')\n",
    "joblib.dump(scaler, 'locating_scaler.gz')\n",
    "df_cameras.to_csv('data/cam_meta_05302022.csv')"
   ]
  },
  {
   "cell_type": "code",
   "execution_count": null,
   "metadata": {},
   "outputs": [],
   "source": []
  }
 ],
 "metadata": {
  "kernelspec": {
   "display_name": "Python 3",
   "language": "python",
   "name": "python3"
  },
  "language_info": {
   "codemirror_mode": {
    "name": "ipython",
    "version": 3
   },
   "file_extension": ".py",
   "mimetype": "text/x-python",
   "name": "python",
   "nbconvert_exporter": "python",
   "pygments_lexer": "ipython3",
   "version": "3.8.5"
  }
 },
 "nbformat": 4,
 "nbformat_minor": 4
}
