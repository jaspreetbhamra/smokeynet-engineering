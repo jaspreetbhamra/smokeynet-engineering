{
 "cells": [
  {
   "cell_type": "code",
   "execution_count": 1,
   "id": "fc8efde1",
   "metadata": {},
   "outputs": [],
   "source": [
    "import pandas as pd\n",
    "import urllib.request\n",
    "import datetime as dt\n",
    "import requests\n",
    "from bs4 import BeautifulSoup\n",
    "from datetime import datetime, timedelta\n",
    "from haversine import haversine, Unit\n",
    "from shapely.geometry import Point\n",
    "import geopandas as gpd\n",
    "from geopandas import GeoDataFrame\n",
    "import pytz\n",
    "from sklearn.metrics import accuracy_score, precision_recall_fscore_support, precision_score"
   ]
  },
  {
   "cell_type": "code",
   "execution_count": 2,
   "id": "94ba3235",
   "metadata": {},
   "outputs": [],
   "source": [
    "# import necessary libraries\n",
    "import pandas as pd\n",
    "import os\n",
    "import glob\n",
    "  \n",
    "  \n",
    "# use glob to get all the csv files \n",
    "# in the folder\n",
    "path = os.getcwd()\n",
    "csv_files = glob.glob(os.path.join(path, \"temp/*_hard_voting.csv\"))\n",
    "  \n",
    "master_df = pd.DataFrame()\n",
    "    \n",
    "# loop over the list of csv files\n",
    "for f in csv_files:\n",
    "      \n",
    "    # read the csv file\n",
    "    df = pd.read_csv(f)\n",
    "      \n",
    "    # print the location and filename\n",
    "#     print('Location:', f)\n",
    "#     print('File Name:', f.split(\"\\\\\")[-1])\n",
    "      \n",
    "#     # print the content\n",
    "#     print('Content:')\n",
    "#     display(df)\n",
    "#     print()\n",
    "    master_df = pd.concat([master_df, df])"
   ]
  },
  {
   "cell_type": "code",
   "execution_count": 3,
   "id": "6be66bad",
   "metadata": {},
   "outputs": [
    {
     "data": {
      "text/html": [
       "<div>\n",
       "<style scoped>\n",
       "    .dataframe tbody tr th:only-of-type {\n",
       "        vertical-align: middle;\n",
       "    }\n",
       "\n",
       "    .dataframe tbody tr th {\n",
       "        vertical-align: top;\n",
       "    }\n",
       "\n",
       "    .dataframe thead th {\n",
       "        text-align: right;\n",
       "    }\n",
       "</style>\n",
       "<table border=\"1\" class=\"dataframe\">\n",
       "  <thead>\n",
       "    <tr style=\"text-align: right;\">\n",
       "      <th></th>\n",
       "      <th>Unnamed: 0</th>\n",
       "      <th>timestamp</th>\n",
       "      <th>image_gt</th>\n",
       "      <th>image_pred</th>\n",
       "      <th>goes16_pred</th>\n",
       "      <th>goes17_pred</th>\n",
       "      <th>final_pred</th>\n",
       "      <th>type</th>\n",
       "    </tr>\n",
       "  </thead>\n",
       "  <tbody>\n",
       "    <tr>\n",
       "      <th>0</th>\n",
       "      <td>222987</td>\n",
       "      <td>2020-07-05 20:27:00+00:00</td>\n",
       "      <td>0.0</td>\n",
       "      <td>0.0</td>\n",
       "      <td>0.0</td>\n",
       "      <td>0.0</td>\n",
       "      <td>0.0</td>\n",
       "      <td>valid</td>\n",
       "    </tr>\n",
       "    <tr>\n",
       "      <th>1</th>\n",
       "      <td>222988</td>\n",
       "      <td>2020-07-05 20:28:00+00:00</td>\n",
       "      <td>0.0</td>\n",
       "      <td>0.0</td>\n",
       "      <td>0.0</td>\n",
       "      <td>0.0</td>\n",
       "      <td>0.0</td>\n",
       "      <td>valid</td>\n",
       "    </tr>\n",
       "    <tr>\n",
       "      <th>2</th>\n",
       "      <td>222989</td>\n",
       "      <td>2020-07-05 20:29:00+00:00</td>\n",
       "      <td>0.0</td>\n",
       "      <td>0.0</td>\n",
       "      <td>0.0</td>\n",
       "      <td>0.0</td>\n",
       "      <td>0.0</td>\n",
       "      <td>valid</td>\n",
       "    </tr>\n",
       "    <tr>\n",
       "      <th>3</th>\n",
       "      <td>222990</td>\n",
       "      <td>2020-07-05 20:30:00+00:00</td>\n",
       "      <td>0.0</td>\n",
       "      <td>0.0</td>\n",
       "      <td>0.0</td>\n",
       "      <td>0.0</td>\n",
       "      <td>0.0</td>\n",
       "      <td>valid</td>\n",
       "    </tr>\n",
       "    <tr>\n",
       "      <th>4</th>\n",
       "      <td>222991</td>\n",
       "      <td>2020-07-05 20:31:00+00:00</td>\n",
       "      <td>0.0</td>\n",
       "      <td>0.0</td>\n",
       "      <td>0.0</td>\n",
       "      <td>0.0</td>\n",
       "      <td>0.0</td>\n",
       "      <td>valid</td>\n",
       "    </tr>\n",
       "    <tr>\n",
       "      <th>...</th>\n",
       "      <td>...</td>\n",
       "      <td>...</td>\n",
       "      <td>...</td>\n",
       "      <td>...</td>\n",
       "      <td>...</td>\n",
       "      <td>...</td>\n",
       "      <td>...</td>\n",
       "      <td>...</td>\n",
       "    </tr>\n",
       "    <tr>\n",
       "      <th>139</th>\n",
       "      <td>459251</td>\n",
       "      <td>2020-12-16 22:11:00+00:00</td>\n",
       "      <td>1.0</td>\n",
       "      <td>1.0</td>\n",
       "      <td>0.0</td>\n",
       "      <td>0.0</td>\n",
       "      <td>0.0</td>\n",
       "      <td>valid</td>\n",
       "    </tr>\n",
       "    <tr>\n",
       "      <th>140</th>\n",
       "      <td>459252</td>\n",
       "      <td>2020-12-16 22:12:00+00:00</td>\n",
       "      <td>1.0</td>\n",
       "      <td>1.0</td>\n",
       "      <td>0.0</td>\n",
       "      <td>0.0</td>\n",
       "      <td>0.0</td>\n",
       "      <td>valid</td>\n",
       "    </tr>\n",
       "    <tr>\n",
       "      <th>141</th>\n",
       "      <td>459253</td>\n",
       "      <td>2020-12-16 22:13:00+00:00</td>\n",
       "      <td>1.0</td>\n",
       "      <td>1.0</td>\n",
       "      <td>0.0</td>\n",
       "      <td>0.0</td>\n",
       "      <td>0.0</td>\n",
       "      <td>valid</td>\n",
       "    </tr>\n",
       "    <tr>\n",
       "      <th>142</th>\n",
       "      <td>459254</td>\n",
       "      <td>2020-12-16 22:14:00+00:00</td>\n",
       "      <td>1.0</td>\n",
       "      <td>1.0</td>\n",
       "      <td>0.0</td>\n",
       "      <td>0.0</td>\n",
       "      <td>0.0</td>\n",
       "      <td>valid</td>\n",
       "    </tr>\n",
       "    <tr>\n",
       "      <th>143</th>\n",
       "      <td>459255</td>\n",
       "      <td>2020-12-16 22:15:00+00:00</td>\n",
       "      <td>1.0</td>\n",
       "      <td>1.0</td>\n",
       "      <td>0.0</td>\n",
       "      <td>0.0</td>\n",
       "      <td>0.0</td>\n",
       "      <td>valid</td>\n",
       "    </tr>\n",
       "  </tbody>\n",
       "</table>\n",
       "<p>4977 rows × 8 columns</p>\n",
       "</div>"
      ],
      "text/plain": [
       "     Unnamed: 0                  timestamp  image_gt  image_pred  goes16_pred  \\\n",
       "0        222987  2020-07-05 20:27:00+00:00       0.0         0.0          0.0   \n",
       "1        222988  2020-07-05 20:28:00+00:00       0.0         0.0          0.0   \n",
       "2        222989  2020-07-05 20:29:00+00:00       0.0         0.0          0.0   \n",
       "3        222990  2020-07-05 20:30:00+00:00       0.0         0.0          0.0   \n",
       "4        222991  2020-07-05 20:31:00+00:00       0.0         0.0          0.0   \n",
       "..          ...                        ...       ...         ...          ...   \n",
       "139      459251  2020-12-16 22:11:00+00:00       1.0         1.0          0.0   \n",
       "140      459252  2020-12-16 22:12:00+00:00       1.0         1.0          0.0   \n",
       "141      459253  2020-12-16 22:13:00+00:00       1.0         1.0          0.0   \n",
       "142      459254  2020-12-16 22:14:00+00:00       1.0         1.0          0.0   \n",
       "143      459255  2020-12-16 22:15:00+00:00       1.0         1.0          0.0   \n",
       "\n",
       "     goes17_pred  final_pred   type  \n",
       "0            0.0         0.0  valid  \n",
       "1            0.0         0.0  valid  \n",
       "2            0.0         0.0  valid  \n",
       "3            0.0         0.0  valid  \n",
       "4            0.0         0.0  valid  \n",
       "..           ...         ...    ...  \n",
       "139          0.0         0.0  valid  \n",
       "140          0.0         0.0  valid  \n",
       "141          0.0         0.0  valid  \n",
       "142          0.0         0.0  valid  \n",
       "143          0.0         0.0  valid  \n",
       "\n",
       "[4977 rows x 8 columns]"
      ]
     },
     "execution_count": 3,
     "metadata": {},
     "output_type": "execute_result"
    }
   ],
   "source": [
    "master_df"
   ]
  },
  {
   "cell_type": "code",
   "execution_count": 4,
   "id": "e5528c5f",
   "metadata": {},
   "outputs": [
    {
     "name": "stdout",
     "output_type": "stream",
     "text": [
      "(2733, 8)\n"
     ]
    }
   ],
   "source": [
    "master_copy_df = master_df[master_df[\"type\"] == \"test\"].copy()\n",
    "# print(master_df.shape)\n",
    "# master_df = master_df[(master_df[\"timestamp\"] >= \"2021-02-01 00:00:00+00:00\") | (master_df[\"timestamp\"] < \"2021-01-01 00:00:00+00:00\")]\n",
    "print(master_copy_df.shape)\n",
    "master_copy_df.sort_values(by=\"timestamp\").to_csv(\"master_df.csv\")"
   ]
  },
  {
   "cell_type": "code",
   "execution_count": 5,
   "id": "ded8df7a",
   "metadata": {},
   "outputs": [
    {
     "data": {
      "text/plain": [
       "(2733, 8)"
      ]
     },
     "execution_count": 5,
     "metadata": {},
     "output_type": "execute_result"
    }
   ],
   "source": [
    "master_copy_df.shape"
   ]
  },
  {
   "cell_type": "code",
   "execution_count": 6,
   "id": "c2cae304",
   "metadata": {},
   "outputs": [
    {
     "name": "stdout",
     "output_type": "stream",
     "text": [
      "Baseline score SmokeyNet: 0.7907061836809367\n",
      "Baseline score GOES-16: 0.5181119648737651\n",
      "Baseline score GOES-17: 0.5781192828393706\n",
      "Ensemble score: 0.5722649103549213\n"
     ]
    }
   ],
   "source": [
    "image_labels = master_copy_df[~master_copy_df[\"image_gt\"].isna()][\"image_gt\"]\n",
    "smokeynet_preds = master_copy_df[~master_copy_df[\"image_gt\"].isna()][\"image_pred\"]\n",
    "goes16_preds = master_copy_df[~master_copy_df[\"image_gt\"].isna()][\"goes16_pred\"]\n",
    "goes17_preds = master_copy_df[~master_copy_df[\"image_gt\"].isna()][\"goes17_pred\"]\n",
    "ensemble_preds = master_copy_df[~master_copy_df[\"image_gt\"].isna()][\"final_pred\"]\n",
    "\n",
    "smokeynet_baseline_score = accuracy_score(image_labels, smokeynet_preds)\n",
    "goes16_baseline_score = accuracy_score(image_labels, goes16_preds)\n",
    "goes17_baseline_score = accuracy_score(image_labels, goes17_preds)\n",
    "ensemble_score = accuracy_score(image_labels, ensemble_preds)\n",
    "\n",
    "print(\"Baseline score SmokeyNet:\", smokeynet_baseline_score)\n",
    "print(\"Baseline score GOES-16:\", goes16_baseline_score)\n",
    "print(\"Baseline score GOES-17:\", goes17_baseline_score)\n",
    "print(\"Ensemble score:\", ensemble_score)"
   ]
  },
  {
   "cell_type": "code",
   "execution_count": 7,
   "id": "55e16f88",
   "metadata": {},
   "outputs": [
    {
     "data": {
      "text/plain": [
       "(0.8504201680672269, 0.7197724039829303, 0.7796610169491526, None)"
      ]
     },
     "execution_count": 7,
     "metadata": {},
     "output_type": "execute_result"
    }
   ],
   "source": [
    "#smokeynet baseline\n",
    "precision_recall_fscore_support(image_labels, smokeynet_preds, average = 'binary')"
   ]
  },
  {
   "cell_type": "code",
   "execution_count": 8,
   "id": "c3636935",
   "metadata": {},
   "outputs": [
    {
     "data": {
      "text/plain": [
       "(1.0, 0.16856330014224752, 0.28849665246500306, None)"
      ]
     },
     "execution_count": 8,
     "metadata": {},
     "output_type": "execute_result"
    }
   ],
   "source": [
    "#ensemble \n",
    "precision_recall_fscore_support(image_labels, ensemble_preds, average = 'binary')"
   ]
  },
  {
   "cell_type": "code",
   "execution_count": 9,
   "id": "1cc9f7a3",
   "metadata": {},
   "outputs": [
    {
     "data": {
      "text/plain": [
       "(1.0, 0.06330014224751067, 0.11906354515050169, None)"
      ]
     },
     "execution_count": 9,
     "metadata": {},
     "output_type": "execute_result"
    }
   ],
   "source": [
    "#goes16\n",
    "precision_recall_fscore_support(image_labels, goes16_preds, average = 'binary')"
   ]
  },
  {
   "cell_type": "code",
   "execution_count": 10,
   "id": "8525f772",
   "metadata": {},
   "outputs": [
    {
     "data": {
      "text/plain": [
       "(0.9922178988326849, 0.1813655761024182, 0.30667468430547207, None)"
      ]
     },
     "execution_count": 10,
     "metadata": {},
     "output_type": "execute_result"
    }
   ],
   "source": [
    "#goes17\n",
    "precision_recall_fscore_support(image_labels, goes17_preds, average = 'binary')"
   ]
  },
  {
   "cell_type": "code",
   "execution_count": 22,
   "id": "6b5e7891",
   "metadata": {},
   "outputs": [
    {
     "data": {
      "text/html": [
       "<div>\n",
       "<style scoped>\n",
       "    .dataframe tbody tr th:only-of-type {\n",
       "        vertical-align: middle;\n",
       "    }\n",
       "\n",
       "    .dataframe tbody tr th {\n",
       "        vertical-align: top;\n",
       "    }\n",
       "\n",
       "    .dataframe thead th {\n",
       "        text-align: right;\n",
       "    }\n",
       "</style>\n",
       "<table border=\"1\" class=\"dataframe\">\n",
       "  <thead>\n",
       "    <tr style=\"text-align: right;\">\n",
       "      <th></th>\n",
       "      <th>Unnamed: 0</th>\n",
       "      <th>timestamp</th>\n",
       "      <th>image_gt</th>\n",
       "      <th>image_pred</th>\n",
       "      <th>goes16_pred</th>\n",
       "      <th>goes17_pred</th>\n",
       "      <th>final_pred</th>\n",
       "      <th>type</th>\n",
       "      <th>weighted_avg</th>\n",
       "      <th>thresh5</th>\n",
       "      <th>thresh3</th>\n",
       "      <th>thresh4</th>\n",
       "      <th>thresh6</th>\n",
       "      <th>thresh7</th>\n",
       "    </tr>\n",
       "  </thead>\n",
       "  <tbody>\n",
       "    <tr>\n",
       "      <th>80</th>\n",
       "      <td>348182</td>\n",
       "      <td>2020-09-30 19:02:00+00:00</td>\n",
       "      <td>0.0</td>\n",
       "      <td>0.0</td>\n",
       "      <td>0.0</td>\n",
       "      <td>0.0</td>\n",
       "      <td>0.0</td>\n",
       "      <td>test</td>\n",
       "      <td>0.000000</td>\n",
       "      <td>0</td>\n",
       "      <td>0</td>\n",
       "      <td>0</td>\n",
       "      <td>0</td>\n",
       "      <td>0</td>\n",
       "    </tr>\n",
       "    <tr>\n",
       "      <th>81</th>\n",
       "      <td>348183</td>\n",
       "      <td>2020-09-30 19:03:00+00:00</td>\n",
       "      <td>0.0</td>\n",
       "      <td>0.0</td>\n",
       "      <td>0.0</td>\n",
       "      <td>0.0</td>\n",
       "      <td>0.0</td>\n",
       "      <td>test</td>\n",
       "      <td>0.000000</td>\n",
       "      <td>0</td>\n",
       "      <td>0</td>\n",
       "      <td>0</td>\n",
       "      <td>0</td>\n",
       "      <td>0</td>\n",
       "    </tr>\n",
       "    <tr>\n",
       "      <th>82</th>\n",
       "      <td>348184</td>\n",
       "      <td>2020-09-30 19:04:00+00:00</td>\n",
       "      <td>0.0</td>\n",
       "      <td>0.0</td>\n",
       "      <td>0.0</td>\n",
       "      <td>0.0</td>\n",
       "      <td>0.0</td>\n",
       "      <td>test</td>\n",
       "      <td>0.000000</td>\n",
       "      <td>0</td>\n",
       "      <td>0</td>\n",
       "      <td>0</td>\n",
       "      <td>0</td>\n",
       "      <td>0</td>\n",
       "    </tr>\n",
       "    <tr>\n",
       "      <th>83</th>\n",
       "      <td>348185</td>\n",
       "      <td>2020-09-30 19:05:00+00:00</td>\n",
       "      <td>0.0</td>\n",
       "      <td>0.0</td>\n",
       "      <td>0.0</td>\n",
       "      <td>0.0</td>\n",
       "      <td>0.0</td>\n",
       "      <td>test</td>\n",
       "      <td>0.000000</td>\n",
       "      <td>0</td>\n",
       "      <td>0</td>\n",
       "      <td>0</td>\n",
       "      <td>0</td>\n",
       "      <td>0</td>\n",
       "    </tr>\n",
       "    <tr>\n",
       "      <th>84</th>\n",
       "      <td>348186</td>\n",
       "      <td>2020-09-30 19:06:00+00:00</td>\n",
       "      <td>0.0</td>\n",
       "      <td>0.0</td>\n",
       "      <td>0.0</td>\n",
       "      <td>0.0</td>\n",
       "      <td>0.0</td>\n",
       "      <td>test</td>\n",
       "      <td>0.000000</td>\n",
       "      <td>0</td>\n",
       "      <td>0</td>\n",
       "      <td>0</td>\n",
       "      <td>0</td>\n",
       "      <td>0</td>\n",
       "    </tr>\n",
       "    <tr>\n",
       "      <th>...</th>\n",
       "      <td>...</td>\n",
       "      <td>...</td>\n",
       "      <td>...</td>\n",
       "      <td>...</td>\n",
       "      <td>...</td>\n",
       "      <td>...</td>\n",
       "      <td>...</td>\n",
       "      <td>...</td>\n",
       "      <td>...</td>\n",
       "      <td>...</td>\n",
       "      <td>...</td>\n",
       "      <td>...</td>\n",
       "      <td>...</td>\n",
       "      <td>...</td>\n",
       "    </tr>\n",
       "    <tr>\n",
       "      <th>75</th>\n",
       "      <td>531106</td>\n",
       "      <td>2021-02-04 19:46:00+00:00</td>\n",
       "      <td>1.0</td>\n",
       "      <td>1.0</td>\n",
       "      <td>0.0</td>\n",
       "      <td>0.0</td>\n",
       "      <td>0.0</td>\n",
       "      <td>test</td>\n",
       "      <td>0.419042</td>\n",
       "      <td>0</td>\n",
       "      <td>1</td>\n",
       "      <td>1</td>\n",
       "      <td>0</td>\n",
       "      <td>0</td>\n",
       "    </tr>\n",
       "    <tr>\n",
       "      <th>76</th>\n",
       "      <td>531107</td>\n",
       "      <td>2021-02-04 19:47:00+00:00</td>\n",
       "      <td>1.0</td>\n",
       "      <td>1.0</td>\n",
       "      <td>0.0</td>\n",
       "      <td>0.0</td>\n",
       "      <td>0.0</td>\n",
       "      <td>test</td>\n",
       "      <td>0.419042</td>\n",
       "      <td>0</td>\n",
       "      <td>1</td>\n",
       "      <td>1</td>\n",
       "      <td>0</td>\n",
       "      <td>0</td>\n",
       "    </tr>\n",
       "    <tr>\n",
       "      <th>77</th>\n",
       "      <td>531108</td>\n",
       "      <td>2021-02-04 19:48:00+00:00</td>\n",
       "      <td>1.0</td>\n",
       "      <td>1.0</td>\n",
       "      <td>0.0</td>\n",
       "      <td>0.0</td>\n",
       "      <td>0.0</td>\n",
       "      <td>test</td>\n",
       "      <td>0.419042</td>\n",
       "      <td>0</td>\n",
       "      <td>1</td>\n",
       "      <td>1</td>\n",
       "      <td>0</td>\n",
       "      <td>0</td>\n",
       "    </tr>\n",
       "    <tr>\n",
       "      <th>78</th>\n",
       "      <td>531109</td>\n",
       "      <td>2021-02-04 19:49:00+00:00</td>\n",
       "      <td>1.0</td>\n",
       "      <td>1.0</td>\n",
       "      <td>0.0</td>\n",
       "      <td>0.0</td>\n",
       "      <td>0.0</td>\n",
       "      <td>test</td>\n",
       "      <td>0.419042</td>\n",
       "      <td>0</td>\n",
       "      <td>1</td>\n",
       "      <td>1</td>\n",
       "      <td>0</td>\n",
       "      <td>0</td>\n",
       "    </tr>\n",
       "    <tr>\n",
       "      <th>79</th>\n",
       "      <td>531110</td>\n",
       "      <td>2021-02-04 19:50:00+00:00</td>\n",
       "      <td>1.0</td>\n",
       "      <td>1.0</td>\n",
       "      <td>0.0</td>\n",
       "      <td>0.0</td>\n",
       "      <td>0.0</td>\n",
       "      <td>test</td>\n",
       "      <td>0.419042</td>\n",
       "      <td>0</td>\n",
       "      <td>1</td>\n",
       "      <td>1</td>\n",
       "      <td>0</td>\n",
       "      <td>0</td>\n",
       "    </tr>\n",
       "  </tbody>\n",
       "</table>\n",
       "<p>2733 rows × 14 columns</p>\n",
       "</div>"
      ],
      "text/plain": [
       "    Unnamed: 0                  timestamp  image_gt  image_pred  goes16_pred  \\\n",
       "80      348182  2020-09-30 19:02:00+00:00       0.0         0.0          0.0   \n",
       "81      348183  2020-09-30 19:03:00+00:00       0.0         0.0          0.0   \n",
       "82      348184  2020-09-30 19:04:00+00:00       0.0         0.0          0.0   \n",
       "83      348185  2020-09-30 19:05:00+00:00       0.0         0.0          0.0   \n",
       "84      348186  2020-09-30 19:06:00+00:00       0.0         0.0          0.0   \n",
       "..         ...                        ...       ...         ...          ...   \n",
       "75      531106  2021-02-04 19:46:00+00:00       1.0         1.0          0.0   \n",
       "76      531107  2021-02-04 19:47:00+00:00       1.0         1.0          0.0   \n",
       "77      531108  2021-02-04 19:48:00+00:00       1.0         1.0          0.0   \n",
       "78      531109  2021-02-04 19:49:00+00:00       1.0         1.0          0.0   \n",
       "79      531110  2021-02-04 19:50:00+00:00       1.0         1.0          0.0   \n",
       "\n",
       "    goes17_pred  final_pred  type  weighted_avg  thresh5  thresh3  thresh4  \\\n",
       "80          0.0         0.0  test      0.000000        0        0        0   \n",
       "81          0.0         0.0  test      0.000000        0        0        0   \n",
       "82          0.0         0.0  test      0.000000        0        0        0   \n",
       "83          0.0         0.0  test      0.000000        0        0        0   \n",
       "84          0.0         0.0  test      0.000000        0        0        0   \n",
       "..          ...         ...   ...           ...      ...      ...      ...   \n",
       "75          0.0         0.0  test      0.419042        0        1        1   \n",
       "76          0.0         0.0  test      0.419042        0        1        1   \n",
       "77          0.0         0.0  test      0.419042        0        1        1   \n",
       "78          0.0         0.0  test      0.419042        0        1        1   \n",
       "79          0.0         0.0  test      0.419042        0        1        1   \n",
       "\n",
       "    thresh6  thresh7  \n",
       "80        0        0  \n",
       "81        0        0  \n",
       "82        0        0  \n",
       "83        0        0  \n",
       "84        0        0  \n",
       "..      ...      ...  \n",
       "75        0        0  \n",
       "76        0        0  \n",
       "77        0        0  \n",
       "78        0        0  \n",
       "79        0        0  \n",
       "\n",
       "[2733 rows x 14 columns]"
      ]
     },
     "execution_count": 22,
     "metadata": {},
     "output_type": "execute_result"
    }
   ],
   "source": [
    "master_copy_df[\"weighted_avg\"]  = ((0.7907061836809367 * smokeynet_preds) + (0.5181119648737651 * goes16_preds) + (0.5781192828393706 * goes17_preds)) / (0.7907061836809367 + 0.5181119648737651 + 0.5781192828393706)\n",
    "\n",
    "#ideally we would need > ~0.275  and <= ~0.306 for the threshold\n",
    "#we can listen to either SmokeyNet and GOES17\n",
    "master_copy_df[\"thresh3\"] = master_copy_df[\"weighted_avg\"] >= 0.3\n",
    "master_copy_df[\"thresh3\"] = master_copy_df[\"thresh3\"].astype(int)\n",
    "\n",
    "master_copy_df[\"thresh4\"] = master_copy_df[\"weighted_avg\"] >= 0.4\n",
    "master_copy_df[\"thresh4\"] = master_copy_df[\"thresh4\"].astype(int)\n",
    "\n",
    "master_copy_df[\"thresh5\"] = master_copy_df[\"weighted_avg\"] >= 0.5\n",
    "master_copy_df[\"thresh5\"] = master_copy_df[\"thresh5\"].astype(int)\n",
    "\n",
    "master_copy_df[\"thresh6\"] = master_copy_df[\"weighted_avg\"] >= 0.6\n",
    "master_copy_df[\"thresh6\"] = master_copy_df[\"thresh6\"].astype(int)\n",
    "\n",
    "master_copy_df[\"thresh7\"] = master_copy_df[\"weighted_avg\"] >= 0.7\n",
    "master_copy_df[\"thresh7\"] = master_copy_df[\"thresh7\"].astype(int)\n",
    "\n",
    "master_copy_df\n"
   ]
  },
  {
   "cell_type": "code",
   "execution_count": 28,
   "id": "309c3146",
   "metadata": {},
   "outputs": [
    {
     "data": {
      "text/plain": [
       "0.8035126234906695"
      ]
     },
     "execution_count": 28,
     "metadata": {},
     "output_type": "execute_result"
    }
   ],
   "source": [
    "#ideally we would need 0.306 for the threshold\n",
    "accuracy_score(image_labels, master_copy_df[\"thresh3\"])"
   ]
  },
  {
   "cell_type": "code",
   "execution_count": 23,
   "id": "1fcacd60",
   "metadata": {},
   "outputs": [
    {
     "data": {
      "text/plain": [
       "(0.853539462978031, 0.7460881934566145, 0.7962049335863377, None)"
      ]
     },
     "execution_count": 23,
     "metadata": {},
     "output_type": "execute_result"
    }
   ],
   "source": [
    "precision_recall_fscore_support(image_labels, master_copy_df[\"thresh3\"], average = 'binary')"
   ]
  },
  {
   "cell_type": "code",
   "execution_count": 29,
   "id": "ba796e82",
   "metadata": {},
   "outputs": [
    {
     "data": {
      "text/plain": [
       "0.7939992682034395"
      ]
     },
     "execution_count": 29,
     "metadata": {},
     "output_type": "execute_result"
    }
   ],
   "source": [
    "accuracy_score(image_labels, master_copy_df[\"thresh4\"])"
   ]
  },
  {
   "cell_type": "code",
   "execution_count": 24,
   "id": "aa1a1ce9",
   "metadata": {},
   "outputs": [
    {
     "data": {
      "text/plain": [
       "(0.8515429524603837, 0.7261735419630156, 0.7838771593090211, None)"
      ]
     },
     "execution_count": 24,
     "metadata": {},
     "output_type": "execute_result"
    }
   ],
   "source": [
    "precision_recall_fscore_support(image_labels, master_copy_df[\"thresh4\"], average = 'binary')"
   ]
  },
  {
   "cell_type": "code",
   "execution_count": 30,
   "id": "bb5db5c5",
   "metadata": {},
   "outputs": [
    {
     "data": {
      "text/plain": [
       "0.5722649103549213"
      ]
     },
     "execution_count": 30,
     "metadata": {},
     "output_type": "execute_result"
    }
   ],
   "source": [
    "accuracy_score(image_labels, master_copy_df[\"thresh5\"])"
   ]
  },
  {
   "cell_type": "code",
   "execution_count": 25,
   "id": "990062af",
   "metadata": {},
   "outputs": [
    {
     "data": {
      "text/plain": [
       "(1.0, 0.16856330014224752, 0.28849665246500306, None)"
      ]
     },
     "execution_count": 25,
     "metadata": {},
     "output_type": "execute_result"
    }
   ],
   "source": [
    "precision_recall_fscore_support(image_labels, master_copy_df[\"thresh5\"], average = 'binary')"
   ]
  },
  {
   "cell_type": "code",
   "execution_count": 31,
   "id": "4d96c185",
   "metadata": {},
   "outputs": [
    {
     "data": {
      "text/plain": [
       "0.5689718258324186"
      ]
     },
     "execution_count": 31,
     "metadata": {},
     "output_type": "execute_result"
    }
   ],
   "source": [
    "accuracy_score(image_labels, master_copy_df[\"thresh6\"])"
   ]
  },
  {
   "cell_type": "code",
   "execution_count": 26,
   "id": "81579af7",
   "metadata": {},
   "outputs": [
    {
     "data": {
      "text/plain": [
       "(1.0, 0.16216216216216217, 0.27906976744186046, None)"
      ]
     },
     "execution_count": 26,
     "metadata": {},
     "output_type": "execute_result"
    }
   ],
   "source": [
    "precision_recall_fscore_support(image_labels, master_copy_df[\"thresh6\"], average = 'binary')"
   ]
  },
  {
   "cell_type": "code",
   "execution_count": 32,
   "id": "7d65bf02",
   "metadata": {},
   "outputs": [
    {
     "data": {
      "text/plain": [
       "0.5653128430296378"
      ]
     },
     "execution_count": 32,
     "metadata": {},
     "output_type": "execute_result"
    }
   ],
   "source": [
    "accuracy_score(image_labels, master_copy_df[\"thresh7\"])"
   ]
  },
  {
   "cell_type": "code",
   "execution_count": 27,
   "id": "a9461b8d",
   "metadata": {},
   "outputs": [
    {
     "data": {
      "text/plain": [
       "(1.0, 0.155049786628734, 0.2684729064039409, None)"
      ]
     },
     "execution_count": 27,
     "metadata": {},
     "output_type": "execute_result"
    }
   ],
   "source": [
    "precision_recall_fscore_support(image_labels, master_copy_df[\"thresh7\"], average = 'binary')"
   ]
  },
  {
   "cell_type": "code",
   "execution_count": null,
   "id": "68d8e485",
   "metadata": {},
   "outputs": [],
   "source": []
  },
  {
   "cell_type": "code",
   "execution_count": null,
   "id": "cee01512",
   "metadata": {},
   "outputs": [],
   "source": []
  },
  {
   "cell_type": "code",
   "execution_count": 12,
   "id": "be38b71b",
   "metadata": {},
   "outputs": [
    {
     "data": {
      "text/plain": [
       "(array([0.74465327, 0.85042017]),\n",
       " array([0.86586285, 0.7197724 ]),\n",
       " array([0.80069686, 0.77966102]),\n",
       " array([1327, 1406]))"
      ]
     },
     "execution_count": 12,
     "metadata": {},
     "output_type": "execute_result"
    }
   ],
   "source": [
    "precision_recall_fscore_support(image_labels, smokeynet_preds)"
   ]
  },
  {
   "cell_type": "code",
   "execution_count": 13,
   "id": "959d9da2",
   "metadata": {},
   "outputs": [
    {
     "data": {
      "text/plain": [
       "(array([0.53165064, 1.        ]),\n",
       " array([1.       , 0.1685633]),\n",
       " array([0.6942192 , 0.28849665]),\n",
       " array([1327, 1406]))"
      ]
     },
     "execution_count": 13,
     "metadata": {},
     "output_type": "execute_result"
    }
   ],
   "source": [
    "precision_recall_fscore_support(image_labels, ensemble_preds)"
   ]
  },
  {
   "cell_type": "code",
   "execution_count": null,
   "id": "d47940ba",
   "metadata": {},
   "outputs": [],
   "source": []
  }
 ],
 "metadata": {
  "kernelspec": {
   "display_name": "Python 3 (ipykernel)",
   "language": "python",
   "name": "python3"
  },
  "language_info": {
   "codemirror_mode": {
    "name": "ipython",
    "version": 3
   },
   "file_extension": ".py",
   "mimetype": "text/x-python",
   "name": "python",
   "nbconvert_exporter": "python",
   "pygments_lexer": "ipython3",
   "version": "3.8.2"
  }
 },
 "nbformat": 4,
 "nbformat_minor": 5
}
