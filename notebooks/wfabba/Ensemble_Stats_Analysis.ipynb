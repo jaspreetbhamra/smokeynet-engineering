{
 "cells": [
  {
   "cell_type": "code",
   "execution_count": 1,
   "id": "fc8efde1",
   "metadata": {},
   "outputs": [],
   "source": [
    "import pandas as pd\n",
    "import urllib.request\n",
    "import datetime as dt\n",
    "import requests\n",
    "from bs4 import BeautifulSoup\n",
    "from datetime import datetime, timedelta\n",
    "from haversine import haversine, Unit\n",
    "from shapely.geometry import Point\n",
    "import geopandas as gpd\n",
    "from geopandas import GeoDataFrame\n",
    "import pytz\n",
    "from sklearn.metrics import accuracy_score, precision_recall_fscore_support, precision_score"
   ]
  },
  {
   "cell_type": "code",
   "execution_count": 2,
   "id": "94ba3235",
   "metadata": {},
   "outputs": [],
   "source": [
    "# import necessary libraries\n",
    "import pandas as pd\n",
    "import os\n",
    "import glob\n",
    "  \n",
    "  \n",
    "# use glob to get all the csv files \n",
    "# in the folder\n",
    "path = os.getcwd()\n",
    "# csv_files = glob.glob(os.path.join(path, \"temp/*_hard_voting.csv\"))\n",
    "csv_files = glob.glob(os.path.join(path, \"*_all_hard_voting.csv\"))\n",
    "  \n",
    "master_df = pd.DataFrame()\n",
    "    \n",
    "# loop over the list of csv files\n",
    "for f in csv_files:\n",
    "      \n",
    "    # read the csv file\n",
    "    df = pd.read_csv(f)\n",
    "      \n",
    "    # print the location and filename\n",
    "#     print('Location:', f)\n",
    "#     print('File Name:', f.split(\"\\\\\")[-1])\n",
    "      \n",
    "#     # print the content\n",
    "#     print('Content:')\n",
    "#     display(df)\n",
    "#     print()\n",
    "    master_df = pd.concat([master_df, df])\n",
    "master_df = master_df.reset_index()\n",
    "master_df = master_df.drop(columns=[\"index\", \"Unnamed: 0\"])"
   ]
  },
  {
   "cell_type": "code",
   "execution_count": 3,
   "id": "6be66bad",
   "metadata": {},
   "outputs": [
    {
     "data": {
      "text/html": [
       "<div>\n",
       "<style scoped>\n",
       "    .dataframe tbody tr th:only-of-type {\n",
       "        vertical-align: middle;\n",
       "    }\n",
       "\n",
       "    .dataframe tbody tr th {\n",
       "        vertical-align: top;\n",
       "    }\n",
       "\n",
       "    .dataframe thead th {\n",
       "        text-align: right;\n",
       "    }\n",
       "</style>\n",
       "<table border=\"1\" class=\"dataframe\">\n",
       "  <thead>\n",
       "    <tr style=\"text-align: right;\">\n",
       "      <th></th>\n",
       "      <th>timestamp</th>\n",
       "      <th>image_gt</th>\n",
       "      <th>image_pred</th>\n",
       "      <th>goes16_pred</th>\n",
       "      <th>goes17_pred</th>\n",
       "      <th>final_pred</th>\n",
       "      <th>type</th>\n",
       "    </tr>\n",
       "  </thead>\n",
       "  <tbody>\n",
       "    <tr>\n",
       "      <th>0</th>\n",
       "      <td>2020-07-09 19:14:00+00:00</td>\n",
       "      <td>0.0</td>\n",
       "      <td>0.0</td>\n",
       "      <td>0.0</td>\n",
       "      <td>0.0</td>\n",
       "      <td>0.0</td>\n",
       "      <td>test</td>\n",
       "    </tr>\n",
       "    <tr>\n",
       "      <th>1</th>\n",
       "      <td>2020-07-09 19:15:00+00:00</td>\n",
       "      <td>0.0</td>\n",
       "      <td>0.0</td>\n",
       "      <td>0.0</td>\n",
       "      <td>0.0</td>\n",
       "      <td>0.0</td>\n",
       "      <td>test</td>\n",
       "    </tr>\n",
       "    <tr>\n",
       "      <th>2</th>\n",
       "      <td>2020-07-09 19:16:00+00:00</td>\n",
       "      <td>0.0</td>\n",
       "      <td>0.0</td>\n",
       "      <td>0.0</td>\n",
       "      <td>0.0</td>\n",
       "      <td>0.0</td>\n",
       "      <td>test</td>\n",
       "    </tr>\n",
       "    <tr>\n",
       "      <th>3</th>\n",
       "      <td>2020-07-09 19:17:00+00:00</td>\n",
       "      <td>0.0</td>\n",
       "      <td>0.0</td>\n",
       "      <td>0.0</td>\n",
       "      <td>0.0</td>\n",
       "      <td>0.0</td>\n",
       "      <td>test</td>\n",
       "    </tr>\n",
       "    <tr>\n",
       "      <th>4</th>\n",
       "      <td>2020-07-09 19:18:00+00:00</td>\n",
       "      <td>0.0</td>\n",
       "      <td>0.0</td>\n",
       "      <td>0.0</td>\n",
       "      <td>0.0</td>\n",
       "      <td>0.0</td>\n",
       "      <td>test</td>\n",
       "    </tr>\n",
       "    <tr>\n",
       "      <th>...</th>\n",
       "      <td>...</td>\n",
       "      <td>...</td>\n",
       "      <td>...</td>\n",
       "      <td>...</td>\n",
       "      <td>...</td>\n",
       "      <td>...</td>\n",
       "      <td>...</td>\n",
       "    </tr>\n",
       "    <tr>\n",
       "      <th>10327</th>\n",
       "      <td>2020-12-16 22:11:00+00:00</td>\n",
       "      <td>1.0</td>\n",
       "      <td>1.0</td>\n",
       "      <td>0.0</td>\n",
       "      <td>0.0</td>\n",
       "      <td>0.0</td>\n",
       "      <td>test</td>\n",
       "    </tr>\n",
       "    <tr>\n",
       "      <th>10328</th>\n",
       "      <td>2020-12-16 22:12:00+00:00</td>\n",
       "      <td>1.0</td>\n",
       "      <td>1.0</td>\n",
       "      <td>0.0</td>\n",
       "      <td>0.0</td>\n",
       "      <td>0.0</td>\n",
       "      <td>test</td>\n",
       "    </tr>\n",
       "    <tr>\n",
       "      <th>10329</th>\n",
       "      <td>2020-12-16 22:13:00+00:00</td>\n",
       "      <td>1.0</td>\n",
       "      <td>1.0</td>\n",
       "      <td>0.0</td>\n",
       "      <td>0.0</td>\n",
       "      <td>0.0</td>\n",
       "      <td>test</td>\n",
       "    </tr>\n",
       "    <tr>\n",
       "      <th>10330</th>\n",
       "      <td>2020-12-16 22:14:00+00:00</td>\n",
       "      <td>1.0</td>\n",
       "      <td>1.0</td>\n",
       "      <td>0.0</td>\n",
       "      <td>0.0</td>\n",
       "      <td>0.0</td>\n",
       "      <td>test</td>\n",
       "    </tr>\n",
       "    <tr>\n",
       "      <th>10331</th>\n",
       "      <td>2020-12-16 22:15:00+00:00</td>\n",
       "      <td>1.0</td>\n",
       "      <td>1.0</td>\n",
       "      <td>0.0</td>\n",
       "      <td>0.0</td>\n",
       "      <td>0.0</td>\n",
       "      <td>test</td>\n",
       "    </tr>\n",
       "  </tbody>\n",
       "</table>\n",
       "<p>10332 rows × 7 columns</p>\n",
       "</div>"
      ],
      "text/plain": [
       "                       timestamp  image_gt  image_pred  goes16_pred  \\\n",
       "0      2020-07-09 19:14:00+00:00       0.0         0.0          0.0   \n",
       "1      2020-07-09 19:15:00+00:00       0.0         0.0          0.0   \n",
       "2      2020-07-09 19:16:00+00:00       0.0         0.0          0.0   \n",
       "3      2020-07-09 19:17:00+00:00       0.0         0.0          0.0   \n",
       "4      2020-07-09 19:18:00+00:00       0.0         0.0          0.0   \n",
       "...                          ...       ...         ...          ...   \n",
       "10327  2020-12-16 22:11:00+00:00       1.0         1.0          0.0   \n",
       "10328  2020-12-16 22:12:00+00:00       1.0         1.0          0.0   \n",
       "10329  2020-12-16 22:13:00+00:00       1.0         1.0          0.0   \n",
       "10330  2020-12-16 22:14:00+00:00       1.0         1.0          0.0   \n",
       "10331  2020-12-16 22:15:00+00:00       1.0         1.0          0.0   \n",
       "\n",
       "       goes17_pred  final_pred  type  \n",
       "0              0.0         0.0  test  \n",
       "1              0.0         0.0  test  \n",
       "2              0.0         0.0  test  \n",
       "3              0.0         0.0  test  \n",
       "4              0.0         0.0  test  \n",
       "...            ...         ...   ...  \n",
       "10327          0.0         0.0  test  \n",
       "10328          0.0         0.0  test  \n",
       "10329          0.0         0.0  test  \n",
       "10330          0.0         0.0  test  \n",
       "10331          0.0         0.0  test  \n",
       "\n",
       "[10332 rows x 7 columns]"
      ]
     },
     "execution_count": 3,
     "metadata": {},
     "output_type": "execute_result"
    }
   ],
   "source": [
    "master_df"
   ]
  },
  {
   "cell_type": "code",
   "execution_count": 4,
   "id": "4541c4c0",
   "metadata": {},
   "outputs": [
    {
     "name": "stdout",
     "output_type": "stream",
     "text": [
      "(5261, 7)\n"
     ]
    }
   ],
   "source": [
    "master_copy_df = master_df[master_df[\"type\"] == \"test\"].copy()\n",
    "# print(master_df.shape)\n",
    "# master_df = master_df[(master_df[\"timestamp\"] >= \"2021-02-01 00:00:00+00:00\") | (master_df[\"timestamp\"] < \"2021-01-01 00:00:00+00:00\")]\n",
    "print(master_copy_df.shape)\n",
    "master_copy_df.sort_values(by=\"timestamp\").to_csv(\"master_df.csv\")"
   ]
  },
  {
   "cell_type": "code",
   "execution_count": 5,
   "id": "a922df1b",
   "metadata": {},
   "outputs": [
    {
     "data": {
      "text/plain": [
       "<bound method Series.unique of 0        2020-07-09 19:14:00+00:00\n",
       "1        2020-07-09 19:15:00+00:00\n",
       "2        2020-07-09 19:16:00+00:00\n",
       "3        2020-07-09 19:17:00+00:00\n",
       "4        2020-07-09 19:18:00+00:00\n",
       "                   ...            \n",
       "10327    2020-12-16 22:11:00+00:00\n",
       "10328    2020-12-16 22:12:00+00:00\n",
       "10329    2020-12-16 22:13:00+00:00\n",
       "10330    2020-12-16 22:14:00+00:00\n",
       "10331    2020-12-16 22:15:00+00:00\n",
       "Name: timestamp, Length: 5261, dtype: object>"
      ]
     },
     "execution_count": 5,
     "metadata": {},
     "output_type": "execute_result"
    }
   ],
   "source": [
    "master_copy_df[\"timestamp\"].unique"
   ]
  },
  {
   "cell_type": "code",
   "execution_count": 6,
   "id": "a9c297cd",
   "metadata": {},
   "outputs": [
    {
     "data": {
      "text/plain": [
       "(5261, 7)"
      ]
     },
     "execution_count": 6,
     "metadata": {},
     "output_type": "execute_result"
    }
   ],
   "source": [
    "master_copy_df.shape"
   ]
  },
  {
   "cell_type": "code",
   "execution_count": 7,
   "id": "c2cae304",
   "metadata": {},
   "outputs": [
    {
     "name": "stdout",
     "output_type": "stream",
     "text": [
      "Baseline score SmokeyNet: 0.7880631058734081\n",
      "Baseline score GOES-16: 0.5172020528416651\n",
      "Baseline score GOES-17: 0.5708040296521574\n",
      "Ensemble score: 0.568142938604828\n"
     ]
    }
   ],
   "source": [
    "image_labels = master_copy_df[~master_copy_df[\"image_gt\"].isna()][\"image_gt\"]\n",
    "smokeynet_preds = master_copy_df[~master_copy_df[\"image_gt\"].isna()][\"image_pred\"]\n",
    "goes16_preds = master_copy_df[~master_copy_df[\"image_gt\"].isna()][\"goes16_pred\"]\n",
    "goes17_preds = master_copy_df[~master_copy_df[\"image_gt\"].isna()][\"goes17_pred\"]\n",
    "ensemble_preds = master_copy_df[~master_copy_df[\"image_gt\"].isna()][\"final_pred\"]\n",
    "\n",
    "smokeynet_baseline_score = accuracy_score(image_labels, smokeynet_preds)\n",
    "goes16_baseline_score = accuracy_score(image_labels, goes16_preds)\n",
    "goes17_baseline_score = accuracy_score(image_labels, goes17_preds)\n",
    "ensemble_score = accuracy_score(image_labels, ensemble_preds)\n",
    "\n",
    "print(\"Baseline score SmokeyNet:\", smokeynet_baseline_score)\n",
    "print(\"Baseline score GOES-16:\", goes16_baseline_score)\n",
    "print(\"Baseline score GOES-17:\", goes17_baseline_score)\n",
    "print(\"Ensemble score:\", ensemble_score)"
   ]
  },
  {
   "cell_type": "code",
   "execution_count": 8,
   "id": "55e16f88",
   "metadata": {},
   "outputs": [
    {
     "data": {
      "text/plain": [
       "(0.8563710040522288, 0.7049666419570052, 0.7733279121772717, None)"
      ]
     },
     "execution_count": 8,
     "metadata": {},
     "output_type": "execute_result"
    }
   ],
   "source": [
    "#smokeynet baseline\n",
    "precision_recall_fscore_support(image_labels, smokeynet_preds, average = 'binary')"
   ]
  },
  {
   "cell_type": "code",
   "execution_count": 9,
   "id": "c3636935",
   "metadata": {},
   "outputs": [
    {
     "data": {
      "text/plain": [
       "(0.9976635514018691, 0.15826538176426982, 0.27319257837492006, None)"
      ]
     },
     "execution_count": 9,
     "metadata": {},
     "output_type": "execute_result"
    }
   ],
   "source": [
    "#ensemble \n",
    "precision_recall_fscore_support(image_labels, ensemble_preds, average = 'binary')"
   ]
  },
  {
   "cell_type": "code",
   "execution_count": 10,
   "id": "228cb268",
   "metadata": {},
   "outputs": [
    {
     "data": {
      "text/plain": [
       "(0.99375, 0.05893254262416605, 0.11126662001399579, None)"
      ]
     },
     "execution_count": 10,
     "metadata": {},
     "output_type": "execute_result"
    }
   ],
   "source": [
    "#goes16\n",
    "precision_recall_fscore_support(image_labels, goes16_preds, average = 'binary')"
   ]
  },
  {
   "cell_type": "code",
   "execution_count": 11,
   "id": "2c57bd38",
   "metadata": {},
   "outputs": [
    {
     "data": {
      "text/plain": [
       "(0.9867256637168141, 0.1653076352853966, 0.2831746031746032, None)"
      ]
     },
     "execution_count": 11,
     "metadata": {},
     "output_type": "execute_result"
    }
   ],
   "source": [
    "#goes17\n",
    "precision_recall_fscore_support(image_labels, goes17_preds, average = 'binary')"
   ]
  },
  {
   "cell_type": "code",
   "execution_count": 12,
   "id": "69a3fddf",
   "metadata": {},
   "outputs": [
    {
     "data": {
      "text/html": [
       "<div>\n",
       "<style scoped>\n",
       "    .dataframe tbody tr th:only-of-type {\n",
       "        vertical-align: middle;\n",
       "    }\n",
       "\n",
       "    .dataframe tbody tr th {\n",
       "        vertical-align: top;\n",
       "    }\n",
       "\n",
       "    .dataframe thead th {\n",
       "        text-align: right;\n",
       "    }\n",
       "</style>\n",
       "<table border=\"1\" class=\"dataframe\">\n",
       "  <thead>\n",
       "    <tr style=\"text-align: right;\">\n",
       "      <th></th>\n",
       "      <th>timestamp</th>\n",
       "      <th>image_gt</th>\n",
       "      <th>image_pred</th>\n",
       "      <th>goes16_pred</th>\n",
       "      <th>goes17_pred</th>\n",
       "      <th>final_pred</th>\n",
       "      <th>type</th>\n",
       "      <th>weighted_avg</th>\n",
       "      <th>thresh2</th>\n",
       "      <th>thresh3</th>\n",
       "      <th>thresh4</th>\n",
       "      <th>thresh5</th>\n",
       "      <th>thresh6</th>\n",
       "      <th>thresh7</th>\n",
       "    </tr>\n",
       "  </thead>\n",
       "  <tbody>\n",
       "    <tr>\n",
       "      <th>0</th>\n",
       "      <td>2020-07-09 19:14:00+00:00</td>\n",
       "      <td>0.0</td>\n",
       "      <td>0.0</td>\n",
       "      <td>0.0</td>\n",
       "      <td>0.0</td>\n",
       "      <td>0.0</td>\n",
       "      <td>test</td>\n",
       "      <td>0.000000</td>\n",
       "      <td>0</td>\n",
       "      <td>0</td>\n",
       "      <td>0</td>\n",
       "      <td>0</td>\n",
       "      <td>0</td>\n",
       "      <td>0</td>\n",
       "    </tr>\n",
       "    <tr>\n",
       "      <th>1</th>\n",
       "      <td>2020-07-09 19:15:00+00:00</td>\n",
       "      <td>0.0</td>\n",
       "      <td>0.0</td>\n",
       "      <td>0.0</td>\n",
       "      <td>0.0</td>\n",
       "      <td>0.0</td>\n",
       "      <td>test</td>\n",
       "      <td>0.000000</td>\n",
       "      <td>0</td>\n",
       "      <td>0</td>\n",
       "      <td>0</td>\n",
       "      <td>0</td>\n",
       "      <td>0</td>\n",
       "      <td>0</td>\n",
       "    </tr>\n",
       "    <tr>\n",
       "      <th>2</th>\n",
       "      <td>2020-07-09 19:16:00+00:00</td>\n",
       "      <td>0.0</td>\n",
       "      <td>0.0</td>\n",
       "      <td>0.0</td>\n",
       "      <td>0.0</td>\n",
       "      <td>0.0</td>\n",
       "      <td>test</td>\n",
       "      <td>0.000000</td>\n",
       "      <td>0</td>\n",
       "      <td>0</td>\n",
       "      <td>0</td>\n",
       "      <td>0</td>\n",
       "      <td>0</td>\n",
       "      <td>0</td>\n",
       "    </tr>\n",
       "    <tr>\n",
       "      <th>3</th>\n",
       "      <td>2020-07-09 19:17:00+00:00</td>\n",
       "      <td>0.0</td>\n",
       "      <td>0.0</td>\n",
       "      <td>0.0</td>\n",
       "      <td>0.0</td>\n",
       "      <td>0.0</td>\n",
       "      <td>test</td>\n",
       "      <td>0.000000</td>\n",
       "      <td>0</td>\n",
       "      <td>0</td>\n",
       "      <td>0</td>\n",
       "      <td>0</td>\n",
       "      <td>0</td>\n",
       "      <td>0</td>\n",
       "    </tr>\n",
       "    <tr>\n",
       "      <th>4</th>\n",
       "      <td>2020-07-09 19:18:00+00:00</td>\n",
       "      <td>0.0</td>\n",
       "      <td>0.0</td>\n",
       "      <td>0.0</td>\n",
       "      <td>0.0</td>\n",
       "      <td>0.0</td>\n",
       "      <td>test</td>\n",
       "      <td>0.000000</td>\n",
       "      <td>0</td>\n",
       "      <td>0</td>\n",
       "      <td>0</td>\n",
       "      <td>0</td>\n",
       "      <td>0</td>\n",
       "      <td>0</td>\n",
       "    </tr>\n",
       "    <tr>\n",
       "      <th>...</th>\n",
       "      <td>...</td>\n",
       "      <td>...</td>\n",
       "      <td>...</td>\n",
       "      <td>...</td>\n",
       "      <td>...</td>\n",
       "      <td>...</td>\n",
       "      <td>...</td>\n",
       "      <td>...</td>\n",
       "      <td>...</td>\n",
       "      <td>...</td>\n",
       "      <td>...</td>\n",
       "      <td>...</td>\n",
       "      <td>...</td>\n",
       "      <td>...</td>\n",
       "    </tr>\n",
       "    <tr>\n",
       "      <th>10327</th>\n",
       "      <td>2020-12-16 22:11:00+00:00</td>\n",
       "      <td>1.0</td>\n",
       "      <td>1.0</td>\n",
       "      <td>0.0</td>\n",
       "      <td>0.0</td>\n",
       "      <td>0.0</td>\n",
       "      <td>test</td>\n",
       "      <td>0.419042</td>\n",
       "      <td>1</td>\n",
       "      <td>1</td>\n",
       "      <td>1</td>\n",
       "      <td>0</td>\n",
       "      <td>0</td>\n",
       "      <td>0</td>\n",
       "    </tr>\n",
       "    <tr>\n",
       "      <th>10328</th>\n",
       "      <td>2020-12-16 22:12:00+00:00</td>\n",
       "      <td>1.0</td>\n",
       "      <td>1.0</td>\n",
       "      <td>0.0</td>\n",
       "      <td>0.0</td>\n",
       "      <td>0.0</td>\n",
       "      <td>test</td>\n",
       "      <td>0.419042</td>\n",
       "      <td>1</td>\n",
       "      <td>1</td>\n",
       "      <td>1</td>\n",
       "      <td>0</td>\n",
       "      <td>0</td>\n",
       "      <td>0</td>\n",
       "    </tr>\n",
       "    <tr>\n",
       "      <th>10329</th>\n",
       "      <td>2020-12-16 22:13:00+00:00</td>\n",
       "      <td>1.0</td>\n",
       "      <td>1.0</td>\n",
       "      <td>0.0</td>\n",
       "      <td>0.0</td>\n",
       "      <td>0.0</td>\n",
       "      <td>test</td>\n",
       "      <td>0.419042</td>\n",
       "      <td>1</td>\n",
       "      <td>1</td>\n",
       "      <td>1</td>\n",
       "      <td>0</td>\n",
       "      <td>0</td>\n",
       "      <td>0</td>\n",
       "    </tr>\n",
       "    <tr>\n",
       "      <th>10330</th>\n",
       "      <td>2020-12-16 22:14:00+00:00</td>\n",
       "      <td>1.0</td>\n",
       "      <td>1.0</td>\n",
       "      <td>0.0</td>\n",
       "      <td>0.0</td>\n",
       "      <td>0.0</td>\n",
       "      <td>test</td>\n",
       "      <td>0.419042</td>\n",
       "      <td>1</td>\n",
       "      <td>1</td>\n",
       "      <td>1</td>\n",
       "      <td>0</td>\n",
       "      <td>0</td>\n",
       "      <td>0</td>\n",
       "    </tr>\n",
       "    <tr>\n",
       "      <th>10331</th>\n",
       "      <td>2020-12-16 22:15:00+00:00</td>\n",
       "      <td>1.0</td>\n",
       "      <td>1.0</td>\n",
       "      <td>0.0</td>\n",
       "      <td>0.0</td>\n",
       "      <td>0.0</td>\n",
       "      <td>test</td>\n",
       "      <td>0.419042</td>\n",
       "      <td>1</td>\n",
       "      <td>1</td>\n",
       "      <td>1</td>\n",
       "      <td>0</td>\n",
       "      <td>0</td>\n",
       "      <td>0</td>\n",
       "    </tr>\n",
       "  </tbody>\n",
       "</table>\n",
       "<p>5261 rows × 14 columns</p>\n",
       "</div>"
      ],
      "text/plain": [
       "                       timestamp  image_gt  image_pred  goes16_pred  \\\n",
       "0      2020-07-09 19:14:00+00:00       0.0         0.0          0.0   \n",
       "1      2020-07-09 19:15:00+00:00       0.0         0.0          0.0   \n",
       "2      2020-07-09 19:16:00+00:00       0.0         0.0          0.0   \n",
       "3      2020-07-09 19:17:00+00:00       0.0         0.0          0.0   \n",
       "4      2020-07-09 19:18:00+00:00       0.0         0.0          0.0   \n",
       "...                          ...       ...         ...          ...   \n",
       "10327  2020-12-16 22:11:00+00:00       1.0         1.0          0.0   \n",
       "10328  2020-12-16 22:12:00+00:00       1.0         1.0          0.0   \n",
       "10329  2020-12-16 22:13:00+00:00       1.0         1.0          0.0   \n",
       "10330  2020-12-16 22:14:00+00:00       1.0         1.0          0.0   \n",
       "10331  2020-12-16 22:15:00+00:00       1.0         1.0          0.0   \n",
       "\n",
       "       goes17_pred  final_pred  type  weighted_avg  thresh2  thresh3  thresh4  \\\n",
       "0              0.0         0.0  test      0.000000        0        0        0   \n",
       "1              0.0         0.0  test      0.000000        0        0        0   \n",
       "2              0.0         0.0  test      0.000000        0        0        0   \n",
       "3              0.0         0.0  test      0.000000        0        0        0   \n",
       "4              0.0         0.0  test      0.000000        0        0        0   \n",
       "...            ...         ...   ...           ...      ...      ...      ...   \n",
       "10327          0.0         0.0  test      0.419042        1        1        1   \n",
       "10328          0.0         0.0  test      0.419042        1        1        1   \n",
       "10329          0.0         0.0  test      0.419042        1        1        1   \n",
       "10330          0.0         0.0  test      0.419042        1        1        1   \n",
       "10331          0.0         0.0  test      0.419042        1        1        1   \n",
       "\n",
       "       thresh5  thresh6  thresh7  \n",
       "0            0        0        0  \n",
       "1            0        0        0  \n",
       "2            0        0        0  \n",
       "3            0        0        0  \n",
       "4            0        0        0  \n",
       "...        ...      ...      ...  \n",
       "10327        0        0        0  \n",
       "10328        0        0        0  \n",
       "10329        0        0        0  \n",
       "10330        0        0        0  \n",
       "10331        0        0        0  \n",
       "\n",
       "[5261 rows x 14 columns]"
      ]
     },
     "execution_count": 12,
     "metadata": {},
     "output_type": "execute_result"
    }
   ],
   "source": [
    "master_copy_df[\"weighted_avg\"]  = ((0.7907061836809367 * smokeynet_preds) + (0.5181119648737651 * goes16_preds) + (0.5781192828393706 * goes17_preds)) / (0.7907061836809367 + 0.5181119648737651 + 0.5781192828393706)\n",
    "\n",
    "master_copy_df[\"thresh2\"] = master_copy_df[\"weighted_avg\"] >= 0.2\n",
    "master_copy_df[\"thresh2\"] = master_copy_df[\"thresh2\"].astype(int)\n",
    "\n",
    "#ideally we would need > ~0.275  and <= ~0.306 for the threshold\n",
    "#we can listen to either SmokeyNet and GOES17\n",
    "master_copy_df[\"thresh3\"] = master_copy_df[\"weighted_avg\"] >= 0.3\n",
    "master_copy_df[\"thresh3\"] = master_copy_df[\"thresh3\"].astype(int)\n",
    "\n",
    "master_copy_df[\"thresh4\"] = master_copy_df[\"weighted_avg\"] >= 0.4\n",
    "master_copy_df[\"thresh4\"] = master_copy_df[\"thresh4\"].astype(int)\n",
    "\n",
    "master_copy_df[\"thresh5\"] = master_copy_df[\"weighted_avg\"] >= 0.5\n",
    "master_copy_df[\"thresh5\"] = master_copy_df[\"thresh5\"].astype(int)\n",
    "\n",
    "master_copy_df[\"thresh6\"] = master_copy_df[\"weighted_avg\"] >= 0.6\n",
    "master_copy_df[\"thresh6\"] = master_copy_df[\"thresh6\"].astype(int)\n",
    "\n",
    "master_copy_df[\"thresh7\"] = master_copy_df[\"weighted_avg\"] >= 0.7\n",
    "master_copy_df[\"thresh7\"] = master_copy_df[\"thresh7\"].astype(int)\n",
    "\n",
    "master_copy_df\n"
   ]
  },
  {
   "cell_type": "code",
   "execution_count": 13,
   "id": "21cb5957",
   "metadata": {},
   "outputs": [
    {
     "data": {
      "text/plain": [
       "0.7966166128112526"
      ]
     },
     "execution_count": 13,
     "metadata": {},
     "output_type": "execute_result"
    }
   ],
   "source": [
    "#ideally we would need 0.306 for the threshold\n",
    "accuracy_score(image_labels, master_copy_df[\"thresh2\"])"
   ]
  },
  {
   "cell_type": "code",
   "execution_count": 14,
   "id": "b4730438",
   "metadata": {},
   "outputs": [
    {
     "data": {
      "text/plain": [
       "(0.8573309920983319, 0.7238695329873981, 0.7849678456591641, None)"
      ]
     },
     "execution_count": 14,
     "metadata": {},
     "output_type": "execute_result"
    }
   ],
   "source": [
    "precision_recall_fscore_support(image_labels, master_copy_df[\"thresh2\"], average = 'binary')"
   ]
  },
  {
   "cell_type": "code",
   "execution_count": 15,
   "id": "0ec101f3",
   "metadata": {},
   "outputs": [
    {
     "data": {
      "text/plain": [
       "0.7962364569473485"
      ]
     },
     "execution_count": 15,
     "metadata": {},
     "output_type": "execute_result"
    }
   ],
   "source": [
    "#ideally we would need 0.306 for the threshold\n",
    "accuracy_score(image_labels, master_copy_df[\"thresh3\"])"
   ]
  },
  {
   "cell_type": "code",
   "execution_count": 16,
   "id": "e3bd3266",
   "metadata": {},
   "outputs": [
    {
     "data": {
      "text/plain": [
       "(0.8572056239015817, 0.7231282431430689, 0.7844792923200643, None)"
      ]
     },
     "execution_count": 16,
     "metadata": {},
     "output_type": "execute_result"
    }
   ],
   "source": [
    "precision_recall_fscore_support(image_labels, master_copy_df[\"thresh3\"], average = 'binary')"
   ]
  },
  {
   "cell_type": "code",
   "execution_count": 17,
   "id": "4eec15a1",
   "metadata": {},
   "outputs": [
    {
     "data": {
      "text/plain": [
       "0.789773807260977"
      ]
     },
     "execution_count": 17,
     "metadata": {},
     "output_type": "execute_result"
    }
   ],
   "source": [
    "accuracy_score(image_labels, master_copy_df[\"thresh4\"])"
   ]
  },
  {
   "cell_type": "code",
   "execution_count": 18,
   "id": "5aa816f1",
   "metadata": {},
   "outputs": [
    {
     "data": {
      "text/plain": [
       "(0.8566308243727598, 0.7086730911786508, 0.7756592292089249, None)"
      ]
     },
     "execution_count": 18,
     "metadata": {},
     "output_type": "execute_result"
    }
   ],
   "source": [
    "precision_recall_fscore_support(image_labels, master_copy_df[\"thresh4\"], average = 'binary')"
   ]
  },
  {
   "cell_type": "code",
   "execution_count": 19,
   "id": "ebdb2bcf",
   "metadata": {},
   "outputs": [
    {
     "data": {
      "text/plain": [
       "0.568142938604828"
      ]
     },
     "execution_count": 19,
     "metadata": {},
     "output_type": "execute_result"
    }
   ],
   "source": [
    "accuracy_score(image_labels, master_copy_df[\"thresh5\"])"
   ]
  },
  {
   "cell_type": "code",
   "execution_count": 20,
   "id": "05d985d2",
   "metadata": {},
   "outputs": [
    {
     "data": {
      "text/plain": [
       "(0.9976635514018691, 0.15826538176426982, 0.27319257837492006, None)"
      ]
     },
     "execution_count": 20,
     "metadata": {},
     "output_type": "execute_result"
    }
   ],
   "source": [
    "precision_recall_fscore_support(image_labels, master_copy_df[\"thresh5\"], average = 'binary')"
   ]
  },
  {
   "cell_type": "code",
   "execution_count": 21,
   "id": "afe0b953",
   "metadata": {},
   "outputs": [
    {
     "data": {
      "text/plain": [
       "0.5664322372172591"
      ]
     },
     "execution_count": 21,
     "metadata": {},
     "output_type": "execute_result"
    }
   ],
   "source": [
    "accuracy_score(image_labels, master_copy_df[\"thresh6\"])"
   ]
  },
  {
   "cell_type": "code",
   "execution_count": 22,
   "id": "0ff3418b",
   "metadata": {},
   "outputs": [
    {
     "data": {
      "text/plain": [
       "(1.0, 0.15455893254262418, 0.2677367576243981, None)"
      ]
     },
     "execution_count": 22,
     "metadata": {},
     "output_type": "execute_result"
    }
   ],
   "source": [
    "precision_recall_fscore_support(image_labels, master_copy_df[\"thresh6\"], average = 'binary')"
   ]
  },
  {
   "cell_type": "code",
   "execution_count": 23,
   "id": "a0ef24ec",
   "metadata": {},
   "outputs": [
    {
     "data": {
      "text/plain": [
       "0.562630678578217"
      ]
     },
     "execution_count": 23,
     "metadata": {},
     "output_type": "execute_result"
    }
   ],
   "source": [
    "accuracy_score(image_labels, master_copy_df[\"thresh7\"])"
   ]
  },
  {
   "cell_type": "code",
   "execution_count": 24,
   "id": "37e01c2b",
   "metadata": {},
   "outputs": [
    {
     "data": {
      "text/plain": [
       "(1.0, 0.14714603409933283, 0.2565428109854604, None)"
      ]
     },
     "execution_count": 24,
     "metadata": {},
     "output_type": "execute_result"
    }
   ],
   "source": [
    "precision_recall_fscore_support(image_labels, master_copy_df[\"thresh7\"], average = 'binary')"
   ]
  },
  {
   "cell_type": "code",
   "execution_count": null,
   "id": "692e049a",
   "metadata": {},
   "outputs": [],
   "source": []
  },
  {
   "cell_type": "code",
   "execution_count": null,
   "id": "00a21cad",
   "metadata": {},
   "outputs": [],
   "source": []
  },
  {
   "cell_type": "code",
   "execution_count": 25,
   "id": "f5bcdea1",
   "metadata": {},
   "outputs": [],
   "source": [
    "# precision_recall_fscore_support(image_labels, smokeynet_preds)"
   ]
  },
  {
   "cell_type": "code",
   "execution_count": 26,
   "id": "00446d89",
   "metadata": {},
   "outputs": [],
   "source": [
    "# precision_recall_fscore_support(image_labels, ensemble_preds)"
   ]
  },
  {
   "cell_type": "code",
   "execution_count": null,
   "id": "7fe60bfb",
   "metadata": {},
   "outputs": [],
   "source": []
  }
 ],
 "metadata": {
  "kernelspec": {
   "display_name": "Python 3 (ipykernel)",
   "language": "python",
   "name": "python3"
  },
  "language_info": {
   "codemirror_mode": {
    "name": "ipython",
    "version": 3
   },
   "file_extension": ".py",
   "mimetype": "text/x-python",
   "name": "python",
   "nbconvert_exporter": "python",
   "pygments_lexer": "ipython3",
   "version": "3.8.2"
  }
 },
 "nbformat": 4,
 "nbformat_minor": 5
}
