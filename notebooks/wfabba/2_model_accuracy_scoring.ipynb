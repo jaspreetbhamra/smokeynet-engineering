{
 "cells": [
  {
   "cell_type": "code",
   "execution_count": 1,
   "id": "fc8efde1",
   "metadata": {},
   "outputs": [],
   "source": [
    "import pandas as pd\n",
    "import urllib.request\n",
    "import datetime as dt\n",
    "import requests\n",
    "from bs4 import BeautifulSoup\n",
    "from datetime import datetime, timedelta\n",
    "from haversine import haversine, Unit\n",
    "from shapely.geometry import Point\n",
    "import geopandas as gpd\n",
    "from geopandas import GeoDataFrame\n",
    "import pytz\n",
    "from sklearn.metrics import accuracy_score, precision_recall_fscore_support, precision_score\n",
    "import os\n",
    "import glob"
   ]
  },
  {
   "cell_type": "markdown",
   "id": "c52eaead",
   "metadata": {},
   "source": [
    "## 1) Baseline and Hard Vote Ensemble Accuracies"
   ]
  },
  {
   "cell_type": "code",
   "execution_count": 2,
   "id": "94ba3235",
   "metadata": {},
   "outputs": [
    {
     "data": {
      "text/html": [
       "<div>\n",
       "<style scoped>\n",
       "    .dataframe tbody tr th:only-of-type {\n",
       "        vertical-align: middle;\n",
       "    }\n",
       "\n",
       "    .dataframe tbody tr th {\n",
       "        vertical-align: top;\n",
       "    }\n",
       "\n",
       "    .dataframe thead th {\n",
       "        text-align: right;\n",
       "    }\n",
       "</style>\n",
       "<table border=\"1\" class=\"dataframe\">\n",
       "  <thead>\n",
       "    <tr style=\"text-align: right;\">\n",
       "      <th></th>\n",
       "      <th>timestamp</th>\n",
       "      <th>image_gt</th>\n",
       "      <th>image_pred</th>\n",
       "      <th>goes16_pred</th>\n",
       "      <th>goes17_pred</th>\n",
       "      <th>final_pred</th>\n",
       "      <th>type</th>\n",
       "      <th>file</th>\n",
       "    </tr>\n",
       "  </thead>\n",
       "  <tbody>\n",
       "    <tr>\n",
       "      <th>0</th>\n",
       "      <td>2020-08-29 17:13:00+00:00</td>\n",
       "      <td>0.0</td>\n",
       "      <td>0.0</td>\n",
       "      <td>0.0</td>\n",
       "      <td>0.0</td>\n",
       "      <td>0.0</td>\n",
       "      <td>test</td>\n",
       "      <td>/home/ezen/Documents/DSE/2020-ezen/DSE260/smok...</td>\n",
       "    </tr>\n",
       "    <tr>\n",
       "      <th>1</th>\n",
       "      <td>2020-08-29 17:14:00+00:00</td>\n",
       "      <td>0.0</td>\n",
       "      <td>0.0</td>\n",
       "      <td>0.0</td>\n",
       "      <td>0.0</td>\n",
       "      <td>0.0</td>\n",
       "      <td>test</td>\n",
       "      <td>/home/ezen/Documents/DSE/2020-ezen/DSE260/smok...</td>\n",
       "    </tr>\n",
       "    <tr>\n",
       "      <th>2</th>\n",
       "      <td>2020-08-29 17:15:00+00:00</td>\n",
       "      <td>0.0</td>\n",
       "      <td>0.0</td>\n",
       "      <td>0.0</td>\n",
       "      <td>0.0</td>\n",
       "      <td>0.0</td>\n",
       "      <td>test</td>\n",
       "      <td>/home/ezen/Documents/DSE/2020-ezen/DSE260/smok...</td>\n",
       "    </tr>\n",
       "    <tr>\n",
       "      <th>3</th>\n",
       "      <td>2020-08-29 17:16:00+00:00</td>\n",
       "      <td>0.0</td>\n",
       "      <td>0.0</td>\n",
       "      <td>0.0</td>\n",
       "      <td>0.0</td>\n",
       "      <td>0.0</td>\n",
       "      <td>test</td>\n",
       "      <td>/home/ezen/Documents/DSE/2020-ezen/DSE260/smok...</td>\n",
       "    </tr>\n",
       "    <tr>\n",
       "      <th>4</th>\n",
       "      <td>2020-08-29 17:17:00+00:00</td>\n",
       "      <td>0.0</td>\n",
       "      <td>0.0</td>\n",
       "      <td>0.0</td>\n",
       "      <td>0.0</td>\n",
       "      <td>0.0</td>\n",
       "      <td>test</td>\n",
       "      <td>/home/ezen/Documents/DSE/2020-ezen/DSE260/smok...</td>\n",
       "    </tr>\n",
       "    <tr>\n",
       "      <th>...</th>\n",
       "      <td>...</td>\n",
       "      <td>...</td>\n",
       "      <td>...</td>\n",
       "      <td>...</td>\n",
       "      <td>...</td>\n",
       "      <td>...</td>\n",
       "      <td>...</td>\n",
       "      <td>...</td>\n",
       "    </tr>\n",
       "    <tr>\n",
       "      <th>8513</th>\n",
       "      <td>2020-08-28 16:16:00+00:00</td>\n",
       "      <td>1.0</td>\n",
       "      <td>1.0</td>\n",
       "      <td>0.0</td>\n",
       "      <td>0.0</td>\n",
       "      <td>0.0</td>\n",
       "      <td>test</td>\n",
       "      <td>/home/ezen/Documents/DSE/2020-ezen/DSE260/smok...</td>\n",
       "    </tr>\n",
       "    <tr>\n",
       "      <th>8514</th>\n",
       "      <td>2020-08-28 16:17:00+00:00</td>\n",
       "      <td>1.0</td>\n",
       "      <td>1.0</td>\n",
       "      <td>0.0</td>\n",
       "      <td>0.0</td>\n",
       "      <td>0.0</td>\n",
       "      <td>test</td>\n",
       "      <td>/home/ezen/Documents/DSE/2020-ezen/DSE260/smok...</td>\n",
       "    </tr>\n",
       "    <tr>\n",
       "      <th>8515</th>\n",
       "      <td>2020-08-28 16:18:00+00:00</td>\n",
       "      <td>1.0</td>\n",
       "      <td>1.0</td>\n",
       "      <td>0.0</td>\n",
       "      <td>0.0</td>\n",
       "      <td>0.0</td>\n",
       "      <td>test</td>\n",
       "      <td>/home/ezen/Documents/DSE/2020-ezen/DSE260/smok...</td>\n",
       "    </tr>\n",
       "    <tr>\n",
       "      <th>8516</th>\n",
       "      <td>2020-08-28 16:19:00+00:00</td>\n",
       "      <td>1.0</td>\n",
       "      <td>1.0</td>\n",
       "      <td>0.0</td>\n",
       "      <td>0.0</td>\n",
       "      <td>0.0</td>\n",
       "      <td>test</td>\n",
       "      <td>/home/ezen/Documents/DSE/2020-ezen/DSE260/smok...</td>\n",
       "    </tr>\n",
       "    <tr>\n",
       "      <th>8517</th>\n",
       "      <td>2020-08-28 16:20:00+00:00</td>\n",
       "      <td>1.0</td>\n",
       "      <td>1.0</td>\n",
       "      <td>0.0</td>\n",
       "      <td>0.0</td>\n",
       "      <td>0.0</td>\n",
       "      <td>test</td>\n",
       "      <td>/home/ezen/Documents/DSE/2020-ezen/DSE260/smok...</td>\n",
       "    </tr>\n",
       "  </tbody>\n",
       "</table>\n",
       "<p>8518 rows × 8 columns</p>\n",
       "</div>"
      ],
      "text/plain": [
       "                      timestamp  image_gt  image_pred  goes16_pred  \\\n",
       "0     2020-08-29 17:13:00+00:00       0.0         0.0          0.0   \n",
       "1     2020-08-29 17:14:00+00:00       0.0         0.0          0.0   \n",
       "2     2020-08-29 17:15:00+00:00       0.0         0.0          0.0   \n",
       "3     2020-08-29 17:16:00+00:00       0.0         0.0          0.0   \n",
       "4     2020-08-29 17:17:00+00:00       0.0         0.0          0.0   \n",
       "...                         ...       ...         ...          ...   \n",
       "8513  2020-08-28 16:16:00+00:00       1.0         1.0          0.0   \n",
       "8514  2020-08-28 16:17:00+00:00       1.0         1.0          0.0   \n",
       "8515  2020-08-28 16:18:00+00:00       1.0         1.0          0.0   \n",
       "8516  2020-08-28 16:19:00+00:00       1.0         1.0          0.0   \n",
       "8517  2020-08-28 16:20:00+00:00       1.0         1.0          0.0   \n",
       "\n",
       "      goes17_pred  final_pred  type  \\\n",
       "0             0.0         0.0  test   \n",
       "1             0.0         0.0  test   \n",
       "2             0.0         0.0  test   \n",
       "3             0.0         0.0  test   \n",
       "4             0.0         0.0  test   \n",
       "...           ...         ...   ...   \n",
       "8513          0.0         0.0  test   \n",
       "8514          0.0         0.0  test   \n",
       "8515          0.0         0.0  test   \n",
       "8516          0.0         0.0  test   \n",
       "8517          0.0         0.0  test   \n",
       "\n",
       "                                                   file  \n",
       "0     /home/ezen/Documents/DSE/2020-ezen/DSE260/smok...  \n",
       "1     /home/ezen/Documents/DSE/2020-ezen/DSE260/smok...  \n",
       "2     /home/ezen/Documents/DSE/2020-ezen/DSE260/smok...  \n",
       "3     /home/ezen/Documents/DSE/2020-ezen/DSE260/smok...  \n",
       "4     /home/ezen/Documents/DSE/2020-ezen/DSE260/smok...  \n",
       "...                                                 ...  \n",
       "8513  /home/ezen/Documents/DSE/2020-ezen/DSE260/smok...  \n",
       "8514  /home/ezen/Documents/DSE/2020-ezen/DSE260/smok...  \n",
       "8515  /home/ezen/Documents/DSE/2020-ezen/DSE260/smok...  \n",
       "8516  /home/ezen/Documents/DSE/2020-ezen/DSE260/smok...  \n",
       "8517  /home/ezen/Documents/DSE/2020-ezen/DSE260/smok...  \n",
       "\n",
       "[8518 rows x 8 columns]"
      ]
     },
     "execution_count": 2,
     "metadata": {},
     "output_type": "execute_result"
    }
   ],
   "source": [
    "path = os.getcwd()\n",
    "csv_files = glob.glob(os.path.join(path, \"*_all_hard_voting_35.csv\"))\n",
    "  \n",
    "master_df = pd.DataFrame()\n",
    "    \n",
    "# loop over the list of csv files\n",
    "for f in csv_files:\n",
    "    df = pd.read_csv(f)\n",
    "    df[\"file\"] = f\n",
    "    master_df = pd.concat([master_df, df])\n",
    "    \n",
    "master_df = master_df.reset_index()\n",
    "master_df = master_df.drop(columns=[\"index\", \"Unnamed: 0\"])\n",
    "master_df"
   ]
  },
  {
   "cell_type": "code",
   "execution_count": 3,
   "id": "9314e8ec",
   "metadata": {},
   "outputs": [
    {
     "data": {
      "text/html": [
       "<div>\n",
       "<style scoped>\n",
       "    .dataframe tbody tr th:only-of-type {\n",
       "        vertical-align: middle;\n",
       "    }\n",
       "\n",
       "    .dataframe tbody tr th {\n",
       "        vertical-align: top;\n",
       "    }\n",
       "\n",
       "    .dataframe thead th {\n",
       "        text-align: right;\n",
       "    }\n",
       "</style>\n",
       "<table border=\"1\" class=\"dataframe\">\n",
       "  <thead>\n",
       "    <tr style=\"text-align: right;\">\n",
       "      <th></th>\n",
       "      <th>timestamp</th>\n",
       "      <th>image_gt</th>\n",
       "      <th>smokeynet_pred</th>\n",
       "      <th>goes16_pred</th>\n",
       "      <th>goes17_pred</th>\n",
       "      <th>hard_vote_pred</th>\n",
       "      <th>type</th>\n",
       "      <th>file</th>\n",
       "    </tr>\n",
       "  </thead>\n",
       "  <tbody>\n",
       "    <tr>\n",
       "      <th>0</th>\n",
       "      <td>2020-08-29 17:13:00+00:00</td>\n",
       "      <td>0.0</td>\n",
       "      <td>0.0</td>\n",
       "      <td>0.0</td>\n",
       "      <td>0.0</td>\n",
       "      <td>0.0</td>\n",
       "      <td>test</td>\n",
       "      <td>/home/ezen/Documents/DSE/2020-ezen/DSE260/smok...</td>\n",
       "    </tr>\n",
       "    <tr>\n",
       "      <th>1</th>\n",
       "      <td>2020-08-29 17:14:00+00:00</td>\n",
       "      <td>0.0</td>\n",
       "      <td>0.0</td>\n",
       "      <td>0.0</td>\n",
       "      <td>0.0</td>\n",
       "      <td>0.0</td>\n",
       "      <td>test</td>\n",
       "      <td>/home/ezen/Documents/DSE/2020-ezen/DSE260/smok...</td>\n",
       "    </tr>\n",
       "    <tr>\n",
       "      <th>2</th>\n",
       "      <td>2020-08-29 17:15:00+00:00</td>\n",
       "      <td>0.0</td>\n",
       "      <td>0.0</td>\n",
       "      <td>0.0</td>\n",
       "      <td>0.0</td>\n",
       "      <td>0.0</td>\n",
       "      <td>test</td>\n",
       "      <td>/home/ezen/Documents/DSE/2020-ezen/DSE260/smok...</td>\n",
       "    </tr>\n",
       "    <tr>\n",
       "      <th>3</th>\n",
       "      <td>2020-08-29 17:16:00+00:00</td>\n",
       "      <td>0.0</td>\n",
       "      <td>0.0</td>\n",
       "      <td>0.0</td>\n",
       "      <td>0.0</td>\n",
       "      <td>0.0</td>\n",
       "      <td>test</td>\n",
       "      <td>/home/ezen/Documents/DSE/2020-ezen/DSE260/smok...</td>\n",
       "    </tr>\n",
       "    <tr>\n",
       "      <th>4</th>\n",
       "      <td>2020-08-29 17:17:00+00:00</td>\n",
       "      <td>0.0</td>\n",
       "      <td>0.0</td>\n",
       "      <td>0.0</td>\n",
       "      <td>0.0</td>\n",
       "      <td>0.0</td>\n",
       "      <td>test</td>\n",
       "      <td>/home/ezen/Documents/DSE/2020-ezen/DSE260/smok...</td>\n",
       "    </tr>\n",
       "    <tr>\n",
       "      <th>...</th>\n",
       "      <td>...</td>\n",
       "      <td>...</td>\n",
       "      <td>...</td>\n",
       "      <td>...</td>\n",
       "      <td>...</td>\n",
       "      <td>...</td>\n",
       "      <td>...</td>\n",
       "      <td>...</td>\n",
       "    </tr>\n",
       "    <tr>\n",
       "      <th>8513</th>\n",
       "      <td>2020-08-28 16:16:00+00:00</td>\n",
       "      <td>1.0</td>\n",
       "      <td>1.0</td>\n",
       "      <td>0.0</td>\n",
       "      <td>0.0</td>\n",
       "      <td>0.0</td>\n",
       "      <td>test</td>\n",
       "      <td>/home/ezen/Documents/DSE/2020-ezen/DSE260/smok...</td>\n",
       "    </tr>\n",
       "    <tr>\n",
       "      <th>8514</th>\n",
       "      <td>2020-08-28 16:17:00+00:00</td>\n",
       "      <td>1.0</td>\n",
       "      <td>1.0</td>\n",
       "      <td>0.0</td>\n",
       "      <td>0.0</td>\n",
       "      <td>0.0</td>\n",
       "      <td>test</td>\n",
       "      <td>/home/ezen/Documents/DSE/2020-ezen/DSE260/smok...</td>\n",
       "    </tr>\n",
       "    <tr>\n",
       "      <th>8515</th>\n",
       "      <td>2020-08-28 16:18:00+00:00</td>\n",
       "      <td>1.0</td>\n",
       "      <td>1.0</td>\n",
       "      <td>0.0</td>\n",
       "      <td>0.0</td>\n",
       "      <td>0.0</td>\n",
       "      <td>test</td>\n",
       "      <td>/home/ezen/Documents/DSE/2020-ezen/DSE260/smok...</td>\n",
       "    </tr>\n",
       "    <tr>\n",
       "      <th>8516</th>\n",
       "      <td>2020-08-28 16:19:00+00:00</td>\n",
       "      <td>1.0</td>\n",
       "      <td>1.0</td>\n",
       "      <td>0.0</td>\n",
       "      <td>0.0</td>\n",
       "      <td>0.0</td>\n",
       "      <td>test</td>\n",
       "      <td>/home/ezen/Documents/DSE/2020-ezen/DSE260/smok...</td>\n",
       "    </tr>\n",
       "    <tr>\n",
       "      <th>8517</th>\n",
       "      <td>2020-08-28 16:20:00+00:00</td>\n",
       "      <td>1.0</td>\n",
       "      <td>1.0</td>\n",
       "      <td>0.0</td>\n",
       "      <td>0.0</td>\n",
       "      <td>0.0</td>\n",
       "      <td>test</td>\n",
       "      <td>/home/ezen/Documents/DSE/2020-ezen/DSE260/smok...</td>\n",
       "    </tr>\n",
       "  </tbody>\n",
       "</table>\n",
       "<p>8518 rows × 8 columns</p>\n",
       "</div>"
      ],
      "text/plain": [
       "                      timestamp  image_gt  smokeynet_pred  goes16_pred  \\\n",
       "0     2020-08-29 17:13:00+00:00       0.0             0.0          0.0   \n",
       "1     2020-08-29 17:14:00+00:00       0.0             0.0          0.0   \n",
       "2     2020-08-29 17:15:00+00:00       0.0             0.0          0.0   \n",
       "3     2020-08-29 17:16:00+00:00       0.0             0.0          0.0   \n",
       "4     2020-08-29 17:17:00+00:00       0.0             0.0          0.0   \n",
       "...                         ...       ...             ...          ...   \n",
       "8513  2020-08-28 16:16:00+00:00       1.0             1.0          0.0   \n",
       "8514  2020-08-28 16:17:00+00:00       1.0             1.0          0.0   \n",
       "8515  2020-08-28 16:18:00+00:00       1.0             1.0          0.0   \n",
       "8516  2020-08-28 16:19:00+00:00       1.0             1.0          0.0   \n",
       "8517  2020-08-28 16:20:00+00:00       1.0             1.0          0.0   \n",
       "\n",
       "      goes17_pred  hard_vote_pred  type  \\\n",
       "0             0.0             0.0  test   \n",
       "1             0.0             0.0  test   \n",
       "2             0.0             0.0  test   \n",
       "3             0.0             0.0  test   \n",
       "4             0.0             0.0  test   \n",
       "...           ...             ...   ...   \n",
       "8513          0.0             0.0  test   \n",
       "8514          0.0             0.0  test   \n",
       "8515          0.0             0.0  test   \n",
       "8516          0.0             0.0  test   \n",
       "8517          0.0             0.0  test   \n",
       "\n",
       "                                                   file  \n",
       "0     /home/ezen/Documents/DSE/2020-ezen/DSE260/smok...  \n",
       "1     /home/ezen/Documents/DSE/2020-ezen/DSE260/smok...  \n",
       "2     /home/ezen/Documents/DSE/2020-ezen/DSE260/smok...  \n",
       "3     /home/ezen/Documents/DSE/2020-ezen/DSE260/smok...  \n",
       "4     /home/ezen/Documents/DSE/2020-ezen/DSE260/smok...  \n",
       "...                                                 ...  \n",
       "8513  /home/ezen/Documents/DSE/2020-ezen/DSE260/smok...  \n",
       "8514  /home/ezen/Documents/DSE/2020-ezen/DSE260/smok...  \n",
       "8515  /home/ezen/Documents/DSE/2020-ezen/DSE260/smok...  \n",
       "8516  /home/ezen/Documents/DSE/2020-ezen/DSE260/smok...  \n",
       "8517  /home/ezen/Documents/DSE/2020-ezen/DSE260/smok...  \n",
       "\n",
       "[8518 rows x 8 columns]"
      ]
     },
     "execution_count": 3,
     "metadata": {},
     "output_type": "execute_result"
    }
   ],
   "source": [
    "master_df = master_df.rename(columns={\"image_pred\":\"smokeynet_pred\", \"final_pred\":\"hard_vote_pred\"})\n",
    "master_df"
   ]
  },
  {
   "cell_type": "code",
   "execution_count": 4,
   "id": "4541c4c0",
   "metadata": {},
   "outputs": [],
   "source": [
    "# get only the test data\n",
    "master_copy_df = master_df[master_df[\"type\"] == \"test\"].copy()"
   ]
  },
  {
   "cell_type": "code",
   "execution_count": 5,
   "id": "c2cae304",
   "metadata": {},
   "outputs": [
    {
     "name": "stdout",
     "output_type": "stream",
     "text": [
      "Baseline score SmokeyNet: 0.7857481060606061\n",
      "Baseline score GOES-16: 0.5165719696969697\n",
      "Baseline score GOES-17: 0.5717329545454546\n",
      "Hard Vote Ensemble score: 0.5674715909090909\n"
     ]
    }
   ],
   "source": [
    "# Calculate the baseline accuracies of the individual models and the hard vote ensemble\n",
    "image_labels = master_copy_df[~master_copy_df[\"image_gt\"].isna()][\"image_gt\"]\n",
    "smokeynet_preds = master_copy_df[~master_copy_df[\"image_gt\"].isna()][\"smokeynet_pred\"]\n",
    "goes16_preds = master_copy_df[~master_copy_df[\"image_gt\"].isna()][\"goes16_pred\"]\n",
    "goes17_preds = master_copy_df[~master_copy_df[\"image_gt\"].isna()][\"goes17_pred\"]\n",
    "hard_vote_ensemble_preds = master_copy_df[~master_copy_df[\"image_gt\"].isna()][\"hard_vote_pred\"]\n",
    "\n",
    "smokeynet_baseline_score = accuracy_score(image_labels, smokeynet_preds)\n",
    "goes16_baseline_score = accuracy_score(image_labels, goes16_preds)\n",
    "goes17_baseline_score = accuracy_score(image_labels, goes17_preds)\n",
    "hard_vote_ensemble_score = accuracy_score(image_labels, hard_vote_ensemble_preds)\n",
    "\n",
    "print(\"Baseline score SmokeyNet:\", smokeynet_baseline_score)\n",
    "print(\"Baseline score GOES-16:\", goes16_baseline_score)\n",
    "print(\"Baseline score GOES-17:\", goes17_baseline_score)\n",
    "print(\"Hard Vote Ensemble score:\", hard_vote_ensemble_score)"
   ]
  },
  {
   "cell_type": "code",
   "execution_count": 6,
   "id": "55e16f88",
   "metadata": {},
   "outputs": [
    {
     "data": {
      "text/plain": [
       "(0.8540145985401459, 0.7022160664819944, 0.7707119331137572, None)"
      ]
     },
     "execution_count": 6,
     "metadata": {},
     "output_type": "execute_result"
    }
   ],
   "source": [
    "# smokeynet baseline precision, recall, F1\n",
    "precision_recall_fscore_support(image_labels, smokeynet_preds, average = 'binary')"
   ]
  },
  {
   "cell_type": "code",
   "execution_count": 7,
   "id": "228cb268",
   "metadata": {},
   "outputs": [
    {
     "data": {
      "text/plain": [
       "(0.9920634920634921, 0.05771006463527239, 0.10907504363001745, None)"
      ]
     },
     "execution_count": 7,
     "metadata": {},
     "output_type": "execute_result"
    }
   ],
   "source": [
    "# goes16 baseline precision, recall, F1\n",
    "precision_recall_fscore_support(image_labels, goes16_preds, average = 'binary')"
   ]
  },
  {
   "cell_type": "code",
   "execution_count": 8,
   "id": "2c57bd38",
   "metadata": {},
   "outputs": [
    {
     "data": {
      "text/plain": [
       "(0.9863760217983651, 0.16712834718374883, 0.28582708251085664, None)"
      ]
     },
     "execution_count": 8,
     "metadata": {},
     "output_type": "execute_result"
    }
   ],
   "source": [
    "# goes17 baseline precision, recall, F1\n",
    "precision_recall_fscore_support(image_labels, goes17_preds, average = 'binary')"
   ]
  },
  {
   "cell_type": "code",
   "execution_count": 9,
   "id": "f6b05bc3",
   "metadata": {},
   "outputs": [
    {
     "data": {
      "text/plain": [
       "(0.9970674486803519, 0.1569713758079409, 0.27124052652572794, None)"
      ]
     },
     "execution_count": 9,
     "metadata": {},
     "output_type": "execute_result"
    }
   ],
   "source": [
    "#hard voting ensemble precision, recall, F1\n",
    "precision_recall_fscore_support(image_labels, hard_vote_ensemble_preds, average = 'binary')"
   ]
  },
  {
   "cell_type": "markdown",
   "id": "e48cc633",
   "metadata": {},
   "source": [
    "## 2) Weighted Voting Ensemble Model Accuracies"
   ]
  },
  {
   "cell_type": "code",
   "execution_count": 10,
   "id": "69a3fddf",
   "metadata": {},
   "outputs": [
    {
     "data": {
      "text/html": [
       "<div>\n",
       "<style scoped>\n",
       "    .dataframe tbody tr th:only-of-type {\n",
       "        vertical-align: middle;\n",
       "    }\n",
       "\n",
       "    .dataframe tbody tr th {\n",
       "        vertical-align: top;\n",
       "    }\n",
       "\n",
       "    .dataframe thead th {\n",
       "        text-align: right;\n",
       "    }\n",
       "</style>\n",
       "<table border=\"1\" class=\"dataframe\">\n",
       "  <thead>\n",
       "    <tr style=\"text-align: right;\">\n",
       "      <th></th>\n",
       "      <th>timestamp</th>\n",
       "      <th>image_gt</th>\n",
       "      <th>smokeynet_pred</th>\n",
       "      <th>goes16_pred</th>\n",
       "      <th>goes17_pred</th>\n",
       "      <th>hard_vote_pred</th>\n",
       "      <th>type</th>\n",
       "      <th>file</th>\n",
       "      <th>weighted_avg</th>\n",
       "      <th>thresh2</th>\n",
       "      <th>thresh3</th>\n",
       "      <th>thresh4</th>\n",
       "      <th>thresh5</th>\n",
       "      <th>thresh6</th>\n",
       "      <th>thresh7</th>\n",
       "    </tr>\n",
       "  </thead>\n",
       "  <tbody>\n",
       "    <tr>\n",
       "      <th>0</th>\n",
       "      <td>2020-08-29 17:13:00+00:00</td>\n",
       "      <td>0.0</td>\n",
       "      <td>0.0</td>\n",
       "      <td>0.0</td>\n",
       "      <td>0.0</td>\n",
       "      <td>0.0</td>\n",
       "      <td>test</td>\n",
       "      <td>/home/ezen/Documents/DSE/2020-ezen/DSE260/smok...</td>\n",
       "      <td>0.000000</td>\n",
       "      <td>0</td>\n",
       "      <td>0</td>\n",
       "      <td>0</td>\n",
       "      <td>0</td>\n",
       "      <td>0</td>\n",
       "      <td>0</td>\n",
       "    </tr>\n",
       "    <tr>\n",
       "      <th>1</th>\n",
       "      <td>2020-08-29 17:14:00+00:00</td>\n",
       "      <td>0.0</td>\n",
       "      <td>0.0</td>\n",
       "      <td>0.0</td>\n",
       "      <td>0.0</td>\n",
       "      <td>0.0</td>\n",
       "      <td>test</td>\n",
       "      <td>/home/ezen/Documents/DSE/2020-ezen/DSE260/smok...</td>\n",
       "      <td>0.000000</td>\n",
       "      <td>0</td>\n",
       "      <td>0</td>\n",
       "      <td>0</td>\n",
       "      <td>0</td>\n",
       "      <td>0</td>\n",
       "      <td>0</td>\n",
       "    </tr>\n",
       "    <tr>\n",
       "      <th>2</th>\n",
       "      <td>2020-08-29 17:15:00+00:00</td>\n",
       "      <td>0.0</td>\n",
       "      <td>0.0</td>\n",
       "      <td>0.0</td>\n",
       "      <td>0.0</td>\n",
       "      <td>0.0</td>\n",
       "      <td>test</td>\n",
       "      <td>/home/ezen/Documents/DSE/2020-ezen/DSE260/smok...</td>\n",
       "      <td>0.000000</td>\n",
       "      <td>0</td>\n",
       "      <td>0</td>\n",
       "      <td>0</td>\n",
       "      <td>0</td>\n",
       "      <td>0</td>\n",
       "      <td>0</td>\n",
       "    </tr>\n",
       "    <tr>\n",
       "      <th>3</th>\n",
       "      <td>2020-08-29 17:16:00+00:00</td>\n",
       "      <td>0.0</td>\n",
       "      <td>0.0</td>\n",
       "      <td>0.0</td>\n",
       "      <td>0.0</td>\n",
       "      <td>0.0</td>\n",
       "      <td>test</td>\n",
       "      <td>/home/ezen/Documents/DSE/2020-ezen/DSE260/smok...</td>\n",
       "      <td>0.000000</td>\n",
       "      <td>0</td>\n",
       "      <td>0</td>\n",
       "      <td>0</td>\n",
       "      <td>0</td>\n",
       "      <td>0</td>\n",
       "      <td>0</td>\n",
       "    </tr>\n",
       "    <tr>\n",
       "      <th>4</th>\n",
       "      <td>2020-08-29 17:17:00+00:00</td>\n",
       "      <td>0.0</td>\n",
       "      <td>0.0</td>\n",
       "      <td>0.0</td>\n",
       "      <td>0.0</td>\n",
       "      <td>0.0</td>\n",
       "      <td>test</td>\n",
       "      <td>/home/ezen/Documents/DSE/2020-ezen/DSE260/smok...</td>\n",
       "      <td>0.000000</td>\n",
       "      <td>0</td>\n",
       "      <td>0</td>\n",
       "      <td>0</td>\n",
       "      <td>0</td>\n",
       "      <td>0</td>\n",
       "      <td>0</td>\n",
       "    </tr>\n",
       "    <tr>\n",
       "      <th>...</th>\n",
       "      <td>...</td>\n",
       "      <td>...</td>\n",
       "      <td>...</td>\n",
       "      <td>...</td>\n",
       "      <td>...</td>\n",
       "      <td>...</td>\n",
       "      <td>...</td>\n",
       "      <td>...</td>\n",
       "      <td>...</td>\n",
       "      <td>...</td>\n",
       "      <td>...</td>\n",
       "      <td>...</td>\n",
       "      <td>...</td>\n",
       "      <td>...</td>\n",
       "      <td>...</td>\n",
       "    </tr>\n",
       "    <tr>\n",
       "      <th>8513</th>\n",
       "      <td>2020-08-28 16:16:00+00:00</td>\n",
       "      <td>1.0</td>\n",
       "      <td>1.0</td>\n",
       "      <td>0.0</td>\n",
       "      <td>0.0</td>\n",
       "      <td>0.0</td>\n",
       "      <td>test</td>\n",
       "      <td>/home/ezen/Documents/DSE/2020-ezen/DSE260/smok...</td>\n",
       "      <td>0.419277</td>\n",
       "      <td>1</td>\n",
       "      <td>1</td>\n",
       "      <td>1</td>\n",
       "      <td>0</td>\n",
       "      <td>0</td>\n",
       "      <td>0</td>\n",
       "    </tr>\n",
       "    <tr>\n",
       "      <th>8514</th>\n",
       "      <td>2020-08-28 16:17:00+00:00</td>\n",
       "      <td>1.0</td>\n",
       "      <td>1.0</td>\n",
       "      <td>0.0</td>\n",
       "      <td>0.0</td>\n",
       "      <td>0.0</td>\n",
       "      <td>test</td>\n",
       "      <td>/home/ezen/Documents/DSE/2020-ezen/DSE260/smok...</td>\n",
       "      <td>0.419277</td>\n",
       "      <td>1</td>\n",
       "      <td>1</td>\n",
       "      <td>1</td>\n",
       "      <td>0</td>\n",
       "      <td>0</td>\n",
       "      <td>0</td>\n",
       "    </tr>\n",
       "    <tr>\n",
       "      <th>8515</th>\n",
       "      <td>2020-08-28 16:18:00+00:00</td>\n",
       "      <td>1.0</td>\n",
       "      <td>1.0</td>\n",
       "      <td>0.0</td>\n",
       "      <td>0.0</td>\n",
       "      <td>0.0</td>\n",
       "      <td>test</td>\n",
       "      <td>/home/ezen/Documents/DSE/2020-ezen/DSE260/smok...</td>\n",
       "      <td>0.419277</td>\n",
       "      <td>1</td>\n",
       "      <td>1</td>\n",
       "      <td>1</td>\n",
       "      <td>0</td>\n",
       "      <td>0</td>\n",
       "      <td>0</td>\n",
       "    </tr>\n",
       "    <tr>\n",
       "      <th>8516</th>\n",
       "      <td>2020-08-28 16:19:00+00:00</td>\n",
       "      <td>1.0</td>\n",
       "      <td>1.0</td>\n",
       "      <td>0.0</td>\n",
       "      <td>0.0</td>\n",
       "      <td>0.0</td>\n",
       "      <td>test</td>\n",
       "      <td>/home/ezen/Documents/DSE/2020-ezen/DSE260/smok...</td>\n",
       "      <td>0.419277</td>\n",
       "      <td>1</td>\n",
       "      <td>1</td>\n",
       "      <td>1</td>\n",
       "      <td>0</td>\n",
       "      <td>0</td>\n",
       "      <td>0</td>\n",
       "    </tr>\n",
       "    <tr>\n",
       "      <th>8517</th>\n",
       "      <td>2020-08-28 16:20:00+00:00</td>\n",
       "      <td>1.0</td>\n",
       "      <td>1.0</td>\n",
       "      <td>0.0</td>\n",
       "      <td>0.0</td>\n",
       "      <td>0.0</td>\n",
       "      <td>test</td>\n",
       "      <td>/home/ezen/Documents/DSE/2020-ezen/DSE260/smok...</td>\n",
       "      <td>0.419277</td>\n",
       "      <td>1</td>\n",
       "      <td>1</td>\n",
       "      <td>1</td>\n",
       "      <td>0</td>\n",
       "      <td>0</td>\n",
       "      <td>0</td>\n",
       "    </tr>\n",
       "  </tbody>\n",
       "</table>\n",
       "<p>4224 rows × 15 columns</p>\n",
       "</div>"
      ],
      "text/plain": [
       "                      timestamp  image_gt  smokeynet_pred  goes16_pred  \\\n",
       "0     2020-08-29 17:13:00+00:00       0.0             0.0          0.0   \n",
       "1     2020-08-29 17:14:00+00:00       0.0             0.0          0.0   \n",
       "2     2020-08-29 17:15:00+00:00       0.0             0.0          0.0   \n",
       "3     2020-08-29 17:16:00+00:00       0.0             0.0          0.0   \n",
       "4     2020-08-29 17:17:00+00:00       0.0             0.0          0.0   \n",
       "...                         ...       ...             ...          ...   \n",
       "8513  2020-08-28 16:16:00+00:00       1.0             1.0          0.0   \n",
       "8514  2020-08-28 16:17:00+00:00       1.0             1.0          0.0   \n",
       "8515  2020-08-28 16:18:00+00:00       1.0             1.0          0.0   \n",
       "8516  2020-08-28 16:19:00+00:00       1.0             1.0          0.0   \n",
       "8517  2020-08-28 16:20:00+00:00       1.0             1.0          0.0   \n",
       "\n",
       "      goes17_pred  hard_vote_pred  type  \\\n",
       "0             0.0             0.0  test   \n",
       "1             0.0             0.0  test   \n",
       "2             0.0             0.0  test   \n",
       "3             0.0             0.0  test   \n",
       "4             0.0             0.0  test   \n",
       "...           ...             ...   ...   \n",
       "8513          0.0             0.0  test   \n",
       "8514          0.0             0.0  test   \n",
       "8515          0.0             0.0  test   \n",
       "8516          0.0             0.0  test   \n",
       "8517          0.0             0.0  test   \n",
       "\n",
       "                                                   file  weighted_avg  \\\n",
       "0     /home/ezen/Documents/DSE/2020-ezen/DSE260/smok...      0.000000   \n",
       "1     /home/ezen/Documents/DSE/2020-ezen/DSE260/smok...      0.000000   \n",
       "2     /home/ezen/Documents/DSE/2020-ezen/DSE260/smok...      0.000000   \n",
       "3     /home/ezen/Documents/DSE/2020-ezen/DSE260/smok...      0.000000   \n",
       "4     /home/ezen/Documents/DSE/2020-ezen/DSE260/smok...      0.000000   \n",
       "...                                                 ...           ...   \n",
       "8513  /home/ezen/Documents/DSE/2020-ezen/DSE260/smok...      0.419277   \n",
       "8514  /home/ezen/Documents/DSE/2020-ezen/DSE260/smok...      0.419277   \n",
       "8515  /home/ezen/Documents/DSE/2020-ezen/DSE260/smok...      0.419277   \n",
       "8516  /home/ezen/Documents/DSE/2020-ezen/DSE260/smok...      0.419277   \n",
       "8517  /home/ezen/Documents/DSE/2020-ezen/DSE260/smok...      0.419277   \n",
       "\n",
       "      thresh2  thresh3  thresh4  thresh5  thresh6  thresh7  \n",
       "0           0        0        0        0        0        0  \n",
       "1           0        0        0        0        0        0  \n",
       "2           0        0        0        0        0        0  \n",
       "3           0        0        0        0        0        0  \n",
       "4           0        0        0        0        0        0  \n",
       "...       ...      ...      ...      ...      ...      ...  \n",
       "8513        1        1        1        0        0        0  \n",
       "8514        1        1        1        0        0        0  \n",
       "8515        1        1        1        0        0        0  \n",
       "8516        1        1        1        0        0        0  \n",
       "8517        1        1        1        0        0        0  \n",
       "\n",
       "[4224 rows x 15 columns]"
      ]
     },
     "execution_count": 10,
     "metadata": {},
     "output_type": "execute_result"
    }
   ],
   "source": [
    "# weighted average voting\n",
    "\n",
    "#Voting weights based off of the accuracies of the baseline SmokeyNet, WFABBA GOES-16, & WFABBA GOES-17 models\n",
    "smokeynet_weight = 0.7857481060606061\n",
    "goes16_weight = 0.5165719696969697\n",
    "goes17_weight = 0.5717329545454546\n",
    "\n",
    "master_copy_df[\"weighted_avg\"]  = \\\n",
    "    ((smokeynet_weight * smokeynet_preds) + (goes16_weight * goes16_preds) + (goes17_weight * goes17_preds)) \\\n",
    "    / (smokeynet_weight + goes16_weight + goes17_weight)\n",
    "\n",
    "# voting threshold 0.2\n",
    "master_copy_df[\"thresh2\"] = master_copy_df[\"weighted_avg\"] >= 0.2\n",
    "master_copy_df[\"thresh2\"] = master_copy_df[\"thresh2\"].astype(int)\n",
    "\n",
    "# voting threshold 0.3\n",
    "master_copy_df[\"thresh3\"] = master_copy_df[\"weighted_avg\"] >= 0.3\n",
    "master_copy_df[\"thresh3\"] = master_copy_df[\"thresh3\"].astype(int)\n",
    "\n",
    "# voting threshold 0.4\n",
    "master_copy_df[\"thresh4\"] = master_copy_df[\"weighted_avg\"] >= 0.4\n",
    "master_copy_df[\"thresh4\"] = master_copy_df[\"thresh4\"].astype(int)\n",
    "\n",
    "# voting threshold 0.5\n",
    "master_copy_df[\"thresh5\"] = master_copy_df[\"weighted_avg\"] >= 0.5\n",
    "master_copy_df[\"thresh5\"] = master_copy_df[\"thresh5\"].astype(int)\n",
    "\n",
    "# voting threshold 0.6\n",
    "master_copy_df[\"thresh6\"] = master_copy_df[\"weighted_avg\"] >= 0.6\n",
    "master_copy_df[\"thresh6\"] = master_copy_df[\"thresh6\"].astype(int)\n",
    "\n",
    "# voting threshold 0.7\n",
    "master_copy_df[\"thresh7\"] = master_copy_df[\"weighted_avg\"] >= 0.7\n",
    "master_copy_df[\"thresh7\"] = master_copy_df[\"thresh7\"].astype(int)\n",
    "\n",
    "master_copy_df"
   ]
  },
  {
   "cell_type": "code",
   "execution_count": null,
   "id": "9a13658d",
   "metadata": {},
   "outputs": [],
   "source": []
  },
  {
   "cell_type": "markdown",
   "id": "cf44c4fa",
   "metadata": {},
   "source": [
    "### 0.2 voting threshold accuracy, precision, recall, F1"
   ]
  },
  {
   "cell_type": "code",
   "execution_count": 11,
   "id": "21cb5957",
   "metadata": {},
   "outputs": [
    {
     "data": {
      "text/plain": [
       "0.7964015151515151"
      ]
     },
     "execution_count": 11,
     "metadata": {},
     "output_type": "execute_result"
    }
   ],
   "source": [
    "accuracy_score(image_labels, master_copy_df[\"thresh2\"])"
   ]
  },
  {
   "cell_type": "code",
   "execution_count": 12,
   "id": "b4730438",
   "metadata": {},
   "outputs": [
    {
     "data": {
      "text/plain": [
       "(0.8556644880174292, 0.7253000923361034, 0.7851074462768616, None)"
      ]
     },
     "execution_count": 12,
     "metadata": {},
     "output_type": "execute_result"
    }
   ],
   "source": [
    "precision_recall_fscore_support(image_labels, master_copy_df[\"thresh2\"], average = 'binary')"
   ]
  },
  {
   "cell_type": "markdown",
   "id": "e20f2ff1",
   "metadata": {},
   "source": [
    "### 0.3 voting threshold accuracy, precision, recall, F1"
   ]
  },
  {
   "cell_type": "code",
   "execution_count": 13,
   "id": "0ec101f3",
   "metadata": {},
   "outputs": [
    {
     "data": {
      "text/plain": [
       "0.7959280303030303"
      ]
     },
     "execution_count": 13,
     "metadata": {},
     "output_type": "execute_result"
    }
   ],
   "source": [
    "accuracy_score(image_labels, master_copy_df[\"thresh3\"])"
   ]
  },
  {
   "cell_type": "code",
   "execution_count": 14,
   "id": "e3bd3266",
   "metadata": {},
   "outputs": [
    {
     "data": {
      "text/plain": [
       "(0.8555070883315158, 0.724376731301939, 0.7845, None)"
      ]
     },
     "execution_count": 14,
     "metadata": {},
     "output_type": "execute_result"
    }
   ],
   "source": [
    "precision_recall_fscore_support(image_labels, master_copy_df[\"thresh3\"], average = 'binary')"
   ]
  },
  {
   "cell_type": "markdown",
   "id": "40ff3e02",
   "metadata": {},
   "source": [
    "### 0.4 voting threshold accuracy, precision, recall, F1"
   ]
  },
  {
   "cell_type": "code",
   "execution_count": 15,
   "id": "4eec15a1",
   "metadata": {},
   "outputs": [
    {
     "data": {
      "text/plain": [
       "0.7878787878787878"
      ]
     },
     "execution_count": 15,
     "metadata": {},
     "output_type": "execute_result"
    }
   ],
   "source": [
    "accuracy_score(image_labels, master_copy_df[\"thresh4\"])"
   ]
  },
  {
   "cell_type": "code",
   "execution_count": 16,
   "id": "5aa816f1",
   "metadata": {},
   "outputs": [
    {
     "data": {
      "text/plain": [
       "(0.8543526785714286, 0.7068328716528163, 0.773623041940374, None)"
      ]
     },
     "execution_count": 16,
     "metadata": {},
     "output_type": "execute_result"
    }
   ],
   "source": [
    "precision_recall_fscore_support(image_labels, master_copy_df[\"thresh4\"], average = 'binary')"
   ]
  },
  {
   "cell_type": "markdown",
   "id": "e546125e",
   "metadata": {},
   "source": [
    "### 0.5 voting threshold accuracy, precision, recall, F1"
   ]
  },
  {
   "cell_type": "code",
   "execution_count": 17,
   "id": "ebdb2bcf",
   "metadata": {},
   "outputs": [
    {
     "data": {
      "text/plain": [
       "0.5674715909090909"
      ]
     },
     "execution_count": 17,
     "metadata": {},
     "output_type": "execute_result"
    }
   ],
   "source": [
    "accuracy_score(image_labels, master_copy_df[\"thresh5\"])"
   ]
  },
  {
   "cell_type": "code",
   "execution_count": 18,
   "id": "05d985d2",
   "metadata": {},
   "outputs": [
    {
     "data": {
      "text/plain": [
       "(0.9970674486803519, 0.1569713758079409, 0.27124052652572794, None)"
      ]
     },
     "execution_count": 18,
     "metadata": {},
     "output_type": "execute_result"
    }
   ],
   "source": [
    "precision_recall_fscore_support(image_labels, master_copy_df[\"thresh5\"], average = 'binary')"
   ]
  },
  {
   "cell_type": "markdown",
   "id": "0b4f0556",
   "metadata": {},
   "source": [
    "### 0.6 voting threshold accuracy, precision, recall, F1"
   ]
  },
  {
   "cell_type": "code",
   "execution_count": 19,
   "id": "afe0b953",
   "metadata": {},
   "outputs": [
    {
     "data": {
      "text/plain": [
       "0.5653409090909091"
      ]
     },
     "execution_count": 19,
     "metadata": {},
     "output_type": "execute_result"
    }
   ],
   "source": [
    "accuracy_score(image_labels, master_copy_df[\"thresh6\"])"
   ]
  },
  {
   "cell_type": "code",
   "execution_count": 20,
   "id": "0ff3418b",
   "metadata": {},
   "outputs": [
    {
     "data": {
      "text/plain": [
       "(1.0, 0.1523545706371191, 0.26442307692307687, None)"
      ]
     },
     "execution_count": 20,
     "metadata": {},
     "output_type": "execute_result"
    }
   ],
   "source": [
    "precision_recall_fscore_support(image_labels, master_copy_df[\"thresh6\"], average = 'binary')"
   ]
  },
  {
   "cell_type": "markdown",
   "id": "c35deed1",
   "metadata": {},
   "source": [
    "### 0.7 voting threshold accuracy, precision, recall, F1"
   ]
  },
  {
   "cell_type": "code",
   "execution_count": 21,
   "id": "a0ef24ec",
   "metadata": {},
   "outputs": [
    {
     "data": {
      "text/plain": [
       "0.5615530303030303"
      ]
     },
     "execution_count": 21,
     "metadata": {},
     "output_type": "execute_result"
    }
   ],
   "source": [
    "accuracy_score(image_labels, master_copy_df[\"thresh7\"])"
   ]
  },
  {
   "cell_type": "code",
   "execution_count": 22,
   "id": "37e01c2b",
   "metadata": {},
   "outputs": [
    {
     "data": {
      "text/plain": [
       "(1.0, 0.14496768236380425, 0.2532258064516129, None)"
      ]
     },
     "execution_count": 22,
     "metadata": {},
     "output_type": "execute_result"
    }
   ],
   "source": [
    "precision_recall_fscore_support(image_labels, master_copy_df[\"thresh7\"], average = 'binary')"
   ]
  },
  {
   "cell_type": "code",
   "execution_count": null,
   "id": "d71bd4d7",
   "metadata": {},
   "outputs": [],
   "source": []
  }
 ],
 "metadata": {
  "kernelspec": {
   "display_name": "Python 3 (ipykernel)",
   "language": "python",
   "name": "python3"
  },
  "language_info": {
   "codemirror_mode": {
    "name": "ipython",
    "version": 3
   },
   "file_extension": ".py",
   "mimetype": "text/x-python",
   "name": "python",
   "nbconvert_exporter": "python",
   "pygments_lexer": "ipython3",
   "version": "3.8.2"
  }
 },
 "nbformat": 4,
 "nbformat_minor": 5
}
