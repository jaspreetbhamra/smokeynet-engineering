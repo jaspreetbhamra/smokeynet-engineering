{
 "cells": [
  {
   "cell_type": "markdown",
   "id": "e6587b28",
   "metadata": {},
   "source": [
    "# Model Accuracy Scoring"
   ]
  },
  {
   "cell_type": "markdown",
   "id": "ea49d9dd",
   "metadata": {},
   "source": [
    "<b>Summary:</b><br>\n",
    "Reads in SmokeyNet, WFABBA GOES-16, WFABBA GOES-17 prediction csv files created by 2_process_wfabba_figlib_join.ipynb. Evaluates the accuracy, precision, recall, and F1 of baseline SmokeyNet, baseline WFABBA GOES-16, baseline WFABBA GOES-17, and the hard vote ensemble model. Then uses the accuracy scores of the baseline models as weights for each individual model for the weighted vote model. Then runs the weighted vote model (a weighted average of each of the baseline model predictions) against accuracy thresholds from 0.2 to 0.7. If weighted average >= threshold, then the weighted vote ensemble model outputs a positive detection prediction<br>\n",
    "\n",
    "- Get SmokeyNet, WFABBA GOES-16, WFABBA GOES-17 predictions from csv files created by 2_process_wfabba_figlib_join.ipynb.\n",
    "- Calculate accuracy metrics of baseline SmokeyNet, WFABBA GOES-16, WFABBA GOES-17, and hard voting ensemble model\n",
    "- Use baseline accuracies of each baseline model for weighted vote model (weighted average calculation)\n",
    "- Calculate weighted vote model accuracy metrics using various thresholds [0.2, 0.7]\n"
   ]
  },
  {
   "cell_type": "code",
   "execution_count": 27,
   "id": "fc8efde1",
   "metadata": {},
   "outputs": [],
   "source": [
    "import pandas as pd\n",
    "import urllib.request\n",
    "import datetime as dt\n",
    "import requests\n",
    "from bs4 import BeautifulSoup\n",
    "from datetime import datetime, timedelta\n",
    "from haversine import haversine, Unit\n",
    "from shapely.geometry import Point\n",
    "import geopandas as gpd\n",
    "from geopandas import GeoDataFrame\n",
    "import pytz\n",
    "from sklearn.metrics import accuracy_score, precision_recall_fscore_support, precision_score\n",
    "import os\n",
    "import glob\n",
    "import matplotlib.pyplot as plt"
   ]
  },
  {
   "cell_type": "markdown",
   "id": "c52eaead",
   "metadata": {},
   "source": [
    "## 1) Baseline and Hard Vote Ensemble Accuracies"
   ]
  },
  {
   "cell_type": "code",
   "execution_count": 28,
   "id": "94ba3235",
   "metadata": {},
   "outputs": [
    {
     "data": {
      "text/html": [
       "<div>\n",
       "<style scoped>\n",
       "    .dataframe tbody tr th:only-of-type {\n",
       "        vertical-align: middle;\n",
       "    }\n",
       "\n",
       "    .dataframe tbody tr th {\n",
       "        vertical-align: top;\n",
       "    }\n",
       "\n",
       "    .dataframe thead th {\n",
       "        text-align: right;\n",
       "    }\n",
       "</style>\n",
       "<table border=\"1\" class=\"dataframe\">\n",
       "  <thead>\n",
       "    <tr style=\"text-align: right;\">\n",
       "      <th></th>\n",
       "      <th>timestamp</th>\n",
       "      <th>image_gt</th>\n",
       "      <th>image_pred</th>\n",
       "      <th>goes16_pred</th>\n",
       "      <th>goes17_pred</th>\n",
       "      <th>final_pred</th>\n",
       "      <th>type</th>\n",
       "      <th>file</th>\n",
       "    </tr>\n",
       "  </thead>\n",
       "  <tbody>\n",
       "    <tr>\n",
       "      <th>0</th>\n",
       "      <td>2019-08-13 20:41:00+00:00</td>\n",
       "      <td>0.0</td>\n",
       "      <td>0.0</td>\n",
       "      <td>0.0</td>\n",
       "      <td>0.0</td>\n",
       "      <td>0.0</td>\n",
       "      <td>valid</td>\n",
       "      <td>../../data/processed/wfabba\\69bravo-e-mobo-c_a...</td>\n",
       "    </tr>\n",
       "    <tr>\n",
       "      <th>1</th>\n",
       "      <td>2019-08-13 20:42:00+00:00</td>\n",
       "      <td>0.0</td>\n",
       "      <td>0.0</td>\n",
       "      <td>0.0</td>\n",
       "      <td>0.0</td>\n",
       "      <td>0.0</td>\n",
       "      <td>valid</td>\n",
       "      <td>../../data/processed/wfabba\\69bravo-e-mobo-c_a...</td>\n",
       "    </tr>\n",
       "    <tr>\n",
       "      <th>2</th>\n",
       "      <td>2019-08-13 20:43:00+00:00</td>\n",
       "      <td>0.0</td>\n",
       "      <td>0.0</td>\n",
       "      <td>0.0</td>\n",
       "      <td>0.0</td>\n",
       "      <td>0.0</td>\n",
       "      <td>valid</td>\n",
       "      <td>../../data/processed/wfabba\\69bravo-e-mobo-c_a...</td>\n",
       "    </tr>\n",
       "    <tr>\n",
       "      <th>3</th>\n",
       "      <td>2019-08-13 20:44:00+00:00</td>\n",
       "      <td>0.0</td>\n",
       "      <td>0.0</td>\n",
       "      <td>0.0</td>\n",
       "      <td>0.0</td>\n",
       "      <td>0.0</td>\n",
       "      <td>valid</td>\n",
       "      <td>../../data/processed/wfabba\\69bravo-e-mobo-c_a...</td>\n",
       "    </tr>\n",
       "    <tr>\n",
       "      <th>4</th>\n",
       "      <td>2019-08-13 20:45:00+00:00</td>\n",
       "      <td>0.0</td>\n",
       "      <td>0.0</td>\n",
       "      <td>0.0</td>\n",
       "      <td>0.0</td>\n",
       "      <td>0.0</td>\n",
       "      <td>valid</td>\n",
       "      <td>../../data/processed/wfabba\\69bravo-e-mobo-c_a...</td>\n",
       "    </tr>\n",
       "    <tr>\n",
       "      <th>...</th>\n",
       "      <td>...</td>\n",
       "      <td>...</td>\n",
       "      <td>...</td>\n",
       "      <td>...</td>\n",
       "      <td>...</td>\n",
       "      <td>...</td>\n",
       "      <td>...</td>\n",
       "      <td>...</td>\n",
       "    </tr>\n",
       "    <tr>\n",
       "      <th>10718</th>\n",
       "      <td>2019-09-25 20:50:00+00:00</td>\n",
       "      <td>1.0</td>\n",
       "      <td>1.0</td>\n",
       "      <td>0.0</td>\n",
       "      <td>0.0</td>\n",
       "      <td>0.0</td>\n",
       "      <td>test</td>\n",
       "      <td>../../data/processed/wfabba\\wc-s-mobo-c_all_ha...</td>\n",
       "    </tr>\n",
       "    <tr>\n",
       "      <th>10719</th>\n",
       "      <td>2019-09-25 20:51:00+00:00</td>\n",
       "      <td>1.0</td>\n",
       "      <td>1.0</td>\n",
       "      <td>0.0</td>\n",
       "      <td>0.0</td>\n",
       "      <td>0.0</td>\n",
       "      <td>test</td>\n",
       "      <td>../../data/processed/wfabba\\wc-s-mobo-c_all_ha...</td>\n",
       "    </tr>\n",
       "    <tr>\n",
       "      <th>10720</th>\n",
       "      <td>2019-09-25 20:52:00+00:00</td>\n",
       "      <td>1.0</td>\n",
       "      <td>0.0</td>\n",
       "      <td>0.0</td>\n",
       "      <td>0.0</td>\n",
       "      <td>0.0</td>\n",
       "      <td>test</td>\n",
       "      <td>../../data/processed/wfabba\\wc-s-mobo-c_all_ha...</td>\n",
       "    </tr>\n",
       "    <tr>\n",
       "      <th>10721</th>\n",
       "      <td>2019-09-25 20:53:00+00:00</td>\n",
       "      <td>1.0</td>\n",
       "      <td>0.0</td>\n",
       "      <td>0.0</td>\n",
       "      <td>0.0</td>\n",
       "      <td>0.0</td>\n",
       "      <td>test</td>\n",
       "      <td>../../data/processed/wfabba\\wc-s-mobo-c_all_ha...</td>\n",
       "    </tr>\n",
       "    <tr>\n",
       "      <th>10722</th>\n",
       "      <td>2019-09-25 20:54:00+00:00</td>\n",
       "      <td>1.0</td>\n",
       "      <td>0.0</td>\n",
       "      <td>0.0</td>\n",
       "      <td>0.0</td>\n",
       "      <td>0.0</td>\n",
       "      <td>test</td>\n",
       "      <td>../../data/processed/wfabba\\wc-s-mobo-c_all_ha...</td>\n",
       "    </tr>\n",
       "  </tbody>\n",
       "</table>\n",
       "<p>10723 rows × 8 columns</p>\n",
       "</div>"
      ],
      "text/plain": [
       "                       timestamp  image_gt  image_pred  goes16_pred  \\\n",
       "0      2019-08-13 20:41:00+00:00       0.0         0.0          0.0   \n",
       "1      2019-08-13 20:42:00+00:00       0.0         0.0          0.0   \n",
       "2      2019-08-13 20:43:00+00:00       0.0         0.0          0.0   \n",
       "3      2019-08-13 20:44:00+00:00       0.0         0.0          0.0   \n",
       "4      2019-08-13 20:45:00+00:00       0.0         0.0          0.0   \n",
       "...                          ...       ...         ...          ...   \n",
       "10718  2019-09-25 20:50:00+00:00       1.0         1.0          0.0   \n",
       "10719  2019-09-25 20:51:00+00:00       1.0         1.0          0.0   \n",
       "10720  2019-09-25 20:52:00+00:00       1.0         0.0          0.0   \n",
       "10721  2019-09-25 20:53:00+00:00       1.0         0.0          0.0   \n",
       "10722  2019-09-25 20:54:00+00:00       1.0         0.0          0.0   \n",
       "\n",
       "       goes17_pred  final_pred   type  \\\n",
       "0              0.0         0.0  valid   \n",
       "1              0.0         0.0  valid   \n",
       "2              0.0         0.0  valid   \n",
       "3              0.0         0.0  valid   \n",
       "4              0.0         0.0  valid   \n",
       "...            ...         ...    ...   \n",
       "10718          0.0         0.0   test   \n",
       "10719          0.0         0.0   test   \n",
       "10720          0.0         0.0   test   \n",
       "10721          0.0         0.0   test   \n",
       "10722          0.0         0.0   test   \n",
       "\n",
       "                                                    file  \n",
       "0      ../../data/processed/wfabba\\69bravo-e-mobo-c_a...  \n",
       "1      ../../data/processed/wfabba\\69bravo-e-mobo-c_a...  \n",
       "2      ../../data/processed/wfabba\\69bravo-e-mobo-c_a...  \n",
       "3      ../../data/processed/wfabba\\69bravo-e-mobo-c_a...  \n",
       "4      ../../data/processed/wfabba\\69bravo-e-mobo-c_a...  \n",
       "...                                                  ...  \n",
       "10718  ../../data/processed/wfabba\\wc-s-mobo-c_all_ha...  \n",
       "10719  ../../data/processed/wfabba\\wc-s-mobo-c_all_ha...  \n",
       "10720  ../../data/processed/wfabba\\wc-s-mobo-c_all_ha...  \n",
       "10721  ../../data/processed/wfabba\\wc-s-mobo-c_all_ha...  \n",
       "10722  ../../data/processed/wfabba\\wc-s-mobo-c_all_ha...  \n",
       "\n",
       "[10723 rows x 8 columns]"
      ]
     },
     "execution_count": 28,
     "metadata": {},
     "output_type": "execute_result"
    }
   ],
   "source": [
    "processed_data_dir = \"../../data/processed/wfabba\"\n",
    "csv_suffix = \"_all_hard_voting_35.csv\"\n",
    "csv_files = glob.glob(os.path.join(processed_data_dir, f\"*{csv_suffix}\"))\n",
    "  \n",
    "master_df = pd.DataFrame()\n",
    "    \n",
    "# loop over the list of csv files\n",
    "for f in csv_files:\n",
    "    df = pd.read_csv(f)\n",
    "    df[\"file\"] = f\n",
    "    master_df = pd.concat([master_df, df])\n",
    "    \n",
    "master_df = master_df.reset_index()\n",
    "master_df = master_df.drop(columns=[\"index\", \"Unnamed: 0\"])\n",
    "# master_df"
   ]
  },
  {
   "cell_type": "code",
   "execution_count": null,
   "id": "0ca0ae66",
   "metadata": {},
   "outputs": [],
   "source": []
  },
  {
   "cell_type": "markdown",
   "id": "ec1c652e",
   "metadata": {},
   "source": []
  },
  {
   "cell_type": "code",
   "execution_count": 29,
   "id": "9314e8ec",
   "metadata": {},
   "outputs": [
    {
     "data": {
      "text/html": [
       "<div>\n",
       "<style scoped>\n",
       "    .dataframe tbody tr th:only-of-type {\n",
       "        vertical-align: middle;\n",
       "    }\n",
       "\n",
       "    .dataframe tbody tr th {\n",
       "        vertical-align: top;\n",
       "    }\n",
       "\n",
       "    .dataframe thead th {\n",
       "        text-align: right;\n",
       "    }\n",
       "</style>\n",
       "<table border=\"1\" class=\"dataframe\">\n",
       "  <thead>\n",
       "    <tr style=\"text-align: right;\">\n",
       "      <th></th>\n",
       "      <th>timestamp</th>\n",
       "      <th>image_gt</th>\n",
       "      <th>smokeynet_pred</th>\n",
       "      <th>goes16_pred</th>\n",
       "      <th>goes17_pred</th>\n",
       "      <th>hard_vote_pred</th>\n",
       "      <th>type</th>\n",
       "      <th>file</th>\n",
       "    </tr>\n",
       "  </thead>\n",
       "  <tbody>\n",
       "    <tr>\n",
       "      <th>0</th>\n",
       "      <td>2019-08-13 20:41:00+00:00</td>\n",
       "      <td>0.0</td>\n",
       "      <td>0.0</td>\n",
       "      <td>0.0</td>\n",
       "      <td>0.0</td>\n",
       "      <td>0.0</td>\n",
       "      <td>valid</td>\n",
       "      <td>../../data/processed/wfabba\\69bravo-e-mobo-c_a...</td>\n",
       "    </tr>\n",
       "    <tr>\n",
       "      <th>1</th>\n",
       "      <td>2019-08-13 20:42:00+00:00</td>\n",
       "      <td>0.0</td>\n",
       "      <td>0.0</td>\n",
       "      <td>0.0</td>\n",
       "      <td>0.0</td>\n",
       "      <td>0.0</td>\n",
       "      <td>valid</td>\n",
       "      <td>../../data/processed/wfabba\\69bravo-e-mobo-c_a...</td>\n",
       "    </tr>\n",
       "    <tr>\n",
       "      <th>2</th>\n",
       "      <td>2019-08-13 20:43:00+00:00</td>\n",
       "      <td>0.0</td>\n",
       "      <td>0.0</td>\n",
       "      <td>0.0</td>\n",
       "      <td>0.0</td>\n",
       "      <td>0.0</td>\n",
       "      <td>valid</td>\n",
       "      <td>../../data/processed/wfabba\\69bravo-e-mobo-c_a...</td>\n",
       "    </tr>\n",
       "    <tr>\n",
       "      <th>3</th>\n",
       "      <td>2019-08-13 20:44:00+00:00</td>\n",
       "      <td>0.0</td>\n",
       "      <td>0.0</td>\n",
       "      <td>0.0</td>\n",
       "      <td>0.0</td>\n",
       "      <td>0.0</td>\n",
       "      <td>valid</td>\n",
       "      <td>../../data/processed/wfabba\\69bravo-e-mobo-c_a...</td>\n",
       "    </tr>\n",
       "    <tr>\n",
       "      <th>4</th>\n",
       "      <td>2019-08-13 20:45:00+00:00</td>\n",
       "      <td>0.0</td>\n",
       "      <td>0.0</td>\n",
       "      <td>0.0</td>\n",
       "      <td>0.0</td>\n",
       "      <td>0.0</td>\n",
       "      <td>valid</td>\n",
       "      <td>../../data/processed/wfabba\\69bravo-e-mobo-c_a...</td>\n",
       "    </tr>\n",
       "    <tr>\n",
       "      <th>...</th>\n",
       "      <td>...</td>\n",
       "      <td>...</td>\n",
       "      <td>...</td>\n",
       "      <td>...</td>\n",
       "      <td>...</td>\n",
       "      <td>...</td>\n",
       "      <td>...</td>\n",
       "      <td>...</td>\n",
       "    </tr>\n",
       "    <tr>\n",
       "      <th>10718</th>\n",
       "      <td>2019-09-25 20:50:00+00:00</td>\n",
       "      <td>1.0</td>\n",
       "      <td>1.0</td>\n",
       "      <td>0.0</td>\n",
       "      <td>0.0</td>\n",
       "      <td>0.0</td>\n",
       "      <td>test</td>\n",
       "      <td>../../data/processed/wfabba\\wc-s-mobo-c_all_ha...</td>\n",
       "    </tr>\n",
       "    <tr>\n",
       "      <th>10719</th>\n",
       "      <td>2019-09-25 20:51:00+00:00</td>\n",
       "      <td>1.0</td>\n",
       "      <td>1.0</td>\n",
       "      <td>0.0</td>\n",
       "      <td>0.0</td>\n",
       "      <td>0.0</td>\n",
       "      <td>test</td>\n",
       "      <td>../../data/processed/wfabba\\wc-s-mobo-c_all_ha...</td>\n",
       "    </tr>\n",
       "    <tr>\n",
       "      <th>10720</th>\n",
       "      <td>2019-09-25 20:52:00+00:00</td>\n",
       "      <td>1.0</td>\n",
       "      <td>0.0</td>\n",
       "      <td>0.0</td>\n",
       "      <td>0.0</td>\n",
       "      <td>0.0</td>\n",
       "      <td>test</td>\n",
       "      <td>../../data/processed/wfabba\\wc-s-mobo-c_all_ha...</td>\n",
       "    </tr>\n",
       "    <tr>\n",
       "      <th>10721</th>\n",
       "      <td>2019-09-25 20:53:00+00:00</td>\n",
       "      <td>1.0</td>\n",
       "      <td>0.0</td>\n",
       "      <td>0.0</td>\n",
       "      <td>0.0</td>\n",
       "      <td>0.0</td>\n",
       "      <td>test</td>\n",
       "      <td>../../data/processed/wfabba\\wc-s-mobo-c_all_ha...</td>\n",
       "    </tr>\n",
       "    <tr>\n",
       "      <th>10722</th>\n",
       "      <td>2019-09-25 20:54:00+00:00</td>\n",
       "      <td>1.0</td>\n",
       "      <td>0.0</td>\n",
       "      <td>0.0</td>\n",
       "      <td>0.0</td>\n",
       "      <td>0.0</td>\n",
       "      <td>test</td>\n",
       "      <td>../../data/processed/wfabba\\wc-s-mobo-c_all_ha...</td>\n",
       "    </tr>\n",
       "  </tbody>\n",
       "</table>\n",
       "<p>10723 rows × 8 columns</p>\n",
       "</div>"
      ],
      "text/plain": [
       "                       timestamp  image_gt  smokeynet_pred  goes16_pred  \\\n",
       "0      2019-08-13 20:41:00+00:00       0.0             0.0          0.0   \n",
       "1      2019-08-13 20:42:00+00:00       0.0             0.0          0.0   \n",
       "2      2019-08-13 20:43:00+00:00       0.0             0.0          0.0   \n",
       "3      2019-08-13 20:44:00+00:00       0.0             0.0          0.0   \n",
       "4      2019-08-13 20:45:00+00:00       0.0             0.0          0.0   \n",
       "...                          ...       ...             ...          ...   \n",
       "10718  2019-09-25 20:50:00+00:00       1.0             1.0          0.0   \n",
       "10719  2019-09-25 20:51:00+00:00       1.0             1.0          0.0   \n",
       "10720  2019-09-25 20:52:00+00:00       1.0             0.0          0.0   \n",
       "10721  2019-09-25 20:53:00+00:00       1.0             0.0          0.0   \n",
       "10722  2019-09-25 20:54:00+00:00       1.0             0.0          0.0   \n",
       "\n",
       "       goes17_pred  hard_vote_pred   type  \\\n",
       "0              0.0             0.0  valid   \n",
       "1              0.0             0.0  valid   \n",
       "2              0.0             0.0  valid   \n",
       "3              0.0             0.0  valid   \n",
       "4              0.0             0.0  valid   \n",
       "...            ...             ...    ...   \n",
       "10718          0.0             0.0   test   \n",
       "10719          0.0             0.0   test   \n",
       "10720          0.0             0.0   test   \n",
       "10721          0.0             0.0   test   \n",
       "10722          0.0             0.0   test   \n",
       "\n",
       "                                                    file  \n",
       "0      ../../data/processed/wfabba\\69bravo-e-mobo-c_a...  \n",
       "1      ../../data/processed/wfabba\\69bravo-e-mobo-c_a...  \n",
       "2      ../../data/processed/wfabba\\69bravo-e-mobo-c_a...  \n",
       "3      ../../data/processed/wfabba\\69bravo-e-mobo-c_a...  \n",
       "4      ../../data/processed/wfabba\\69bravo-e-mobo-c_a...  \n",
       "...                                                  ...  \n",
       "10718  ../../data/processed/wfabba\\wc-s-mobo-c_all_ha...  \n",
       "10719  ../../data/processed/wfabba\\wc-s-mobo-c_all_ha...  \n",
       "10720  ../../data/processed/wfabba\\wc-s-mobo-c_all_ha...  \n",
       "10721  ../../data/processed/wfabba\\wc-s-mobo-c_all_ha...  \n",
       "10722  ../../data/processed/wfabba\\wc-s-mobo-c_all_ha...  \n",
       "\n",
       "[10723 rows x 8 columns]"
      ]
     },
     "execution_count": 29,
     "metadata": {},
     "output_type": "execute_result"
    }
   ],
   "source": [
    "master_df = master_df.rename(columns={\"image_pred\":\"smokeynet_pred\", \"final_pred\":\"majority_vote_pred\"})\n",
    "# master_df"
   ]
  },
  {
   "cell_type": "code",
   "execution_count": 30,
   "id": "4541c4c0",
   "metadata": {},
   "outputs": [],
   "source": [
    "# get only the test data\n",
    "master_copy_df = master_df[master_df[\"type\"] == \"test\"].copy()"
   ]
  },
  {
   "cell_type": "code",
   "execution_count": 32,
   "id": "c2cae304",
   "metadata": {},
   "outputs": [
    {
     "name": "stdout",
     "output_type": "stream",
     "text": [
      "Baseline score SmokeyNet: 0.7832575068243858\n",
      "Baseline score GOES-16: 0.5179253867151956\n",
      "Baseline score GOES-17: 0.5666969972702457\n",
      "Hard Vote Ensemble score: 0.5652411282984532\n"
     ]
    }
   ],
   "source": [
    "# Calculate the baseline accuracies of the individual models and the hard vote ensemble\n",
    "image_labels = master_copy_df[~master_copy_df[\"image_gt\"].isna()][\"image_gt\"]\n",
    "smokeynet_preds = master_copy_df[~master_copy_df[\"image_gt\"].isna()][\"smokeynet_pred\"]\n",
    "goes16_preds = master_copy_df[~master_copy_df[\"image_gt\"].isna()][\"goes16_pred\"]\n",
    "goes17_preds = master_copy_df[~master_copy_df[\"image_gt\"].isna()][\"goes17_pred\"]\n",
    "hard_vote_ensemble_preds = master_copy_df[~master_copy_df[\"image_gt\"].isna()][\"hard_vote_pred\"]\n",
    "\n",
    "smokeynet_baseline_score = accuracy_score(image_labels, smokeynet_preds)\n",
    "goes16_baseline_score = accuracy_score(image_labels, goes16_preds)\n",
    "goes17_baseline_score = accuracy_score(image_labels, goes17_preds)\n",
    "hard_vote_ensemble_score = accuracy_score(image_labels, hard_vote_ensemble_preds)\n",
    "\n",
    "print(\"Baseline score SmokeyNet:\", smokeynet_baseline_score)\n",
    "print(\"Baseline score GOES-16:\", goes16_baseline_score)\n",
    "print(\"Baseline score GOES-17:\", goes17_baseline_score)\n",
    "print(\"Hard Vote Ensemble score:\", hard_vote_ensemble_score)"
   ]
  },
  {
   "cell_type": "code",
   "execution_count": 33,
   "id": "55e16f88",
   "metadata": {},
   "outputs": [
    {
     "data": {
      "text/plain": [
       "(0.8464818763326226, 0.7049005681818182, 0.7692307692307693, None)"
      ]
     },
     "execution_count": 33,
     "metadata": {},
     "output_type": "execute_result"
    }
   ],
   "source": [
    "# smokeynet baseline precision, recall, F1\n",
    "precision_recall_fscore_support(image_labels, smokeynet_preds, average = 'binary')"
   ]
  },
  {
   "cell_type": "code",
   "execution_count": 34,
   "id": "228cb268",
   "metadata": {},
   "outputs": [
    {
     "data": {
      "text/plain": [
       "(0.9826589595375722, 0.060369318181818184, 0.11375041820006691, None)"
      ]
     },
     "execution_count": 34,
     "metadata": {},
     "output_type": "execute_result"
    }
   ],
   "source": [
    "# goes16 baseline precision, recall, F1\n",
    "precision_recall_fscore_support(image_labels, goes16_preds, average = 'binary')"
   ]
  },
  {
   "cell_type": "code",
   "execution_count": 35,
   "id": "2c57bd38",
   "metadata": {},
   "outputs": [
    {
     "data": {
      "text/plain": [
       "(0.9559748427672956, 0.16193181818181818, 0.2769511084117826, None)"
      ]
     },
     "execution_count": 35,
     "metadata": {},
     "output_type": "execute_result"
    }
   ],
   "source": [
    "# goes17 baseline precision, recall, F1\n",
    "precision_recall_fscore_support(image_labels, goes17_preds, average = 'binary')"
   ]
  },
  {
   "cell_type": "code",
   "execution_count": 36,
   "id": "f6b05bc3",
   "metadata": {},
   "outputs": [
    {
     "data": {
      "text/plain": [
       "(0.9908045977011494, 0.15305397727272727, 0.26514918486619504, None)"
      ]
     },
     "execution_count": 36,
     "metadata": {},
     "output_type": "execute_result"
    }
   ],
   "source": [
    "#hard voting ensemble precision, recall, F1\n",
    "precision_recall_fscore_support(image_labels, hard_vote_ensemble_preds, average = 'binary')"
   ]
  },
  {
   "cell_type": "markdown",
   "id": "e48cc633",
   "metadata": {},
   "source": [
    "## 2) Weighted Voting Ensemble Model Accuracies"
   ]
  },
  {
   "cell_type": "code",
   "execution_count": 37,
   "id": "69a3fddf",
   "metadata": {},
   "outputs": [
    {
     "data": {
      "text/html": [
       "<div>\n",
       "<style scoped>\n",
       "    .dataframe tbody tr th:only-of-type {\n",
       "        vertical-align: middle;\n",
       "    }\n",
       "\n",
       "    .dataframe tbody tr th {\n",
       "        vertical-align: top;\n",
       "    }\n",
       "\n",
       "    .dataframe thead th {\n",
       "        text-align: right;\n",
       "    }\n",
       "</style>\n",
       "<table border=\"1\" class=\"dataframe\">\n",
       "  <thead>\n",
       "    <tr style=\"text-align: right;\">\n",
       "      <th></th>\n",
       "      <th>timestamp</th>\n",
       "      <th>image_gt</th>\n",
       "      <th>smokeynet_pred</th>\n",
       "      <th>goes16_pred</th>\n",
       "      <th>goes17_pred</th>\n",
       "      <th>hard_vote_pred</th>\n",
       "      <th>type</th>\n",
       "      <th>file</th>\n",
       "      <th>weighted_avg</th>\n",
       "      <th>thresh2</th>\n",
       "      <th>thresh3</th>\n",
       "      <th>thresh4</th>\n",
       "      <th>thresh5</th>\n",
       "      <th>thresh6</th>\n",
       "      <th>thresh7</th>\n",
       "    </tr>\n",
       "  </thead>\n",
       "  <tbody>\n",
       "    <tr>\n",
       "      <th>80</th>\n",
       "      <td>2019-06-10 19:44:00+00:00</td>\n",
       "      <td>0.0</td>\n",
       "      <td>0.0</td>\n",
       "      <td>0.0</td>\n",
       "      <td>0.0</td>\n",
       "      <td>0.0</td>\n",
       "      <td>test</td>\n",
       "      <td>../../data/processed/wfabba\\bh-w-mobo-c_all_ha...</td>\n",
       "      <td>0.000000</td>\n",
       "      <td>0</td>\n",
       "      <td>0</td>\n",
       "      <td>0</td>\n",
       "      <td>0</td>\n",
       "      <td>0</td>\n",
       "      <td>0</td>\n",
       "    </tr>\n",
       "    <tr>\n",
       "      <th>81</th>\n",
       "      <td>2019-06-10 19:45:00+00:00</td>\n",
       "      <td>0.0</td>\n",
       "      <td>0.0</td>\n",
       "      <td>0.0</td>\n",
       "      <td>0.0</td>\n",
       "      <td>0.0</td>\n",
       "      <td>test</td>\n",
       "      <td>../../data/processed/wfabba\\bh-w-mobo-c_all_ha...</td>\n",
       "      <td>0.000000</td>\n",
       "      <td>0</td>\n",
       "      <td>0</td>\n",
       "      <td>0</td>\n",
       "      <td>0</td>\n",
       "      <td>0</td>\n",
       "      <td>0</td>\n",
       "    </tr>\n",
       "    <tr>\n",
       "      <th>82</th>\n",
       "      <td>2019-06-10 19:46:00+00:00</td>\n",
       "      <td>0.0</td>\n",
       "      <td>0.0</td>\n",
       "      <td>0.0</td>\n",
       "      <td>0.0</td>\n",
       "      <td>0.0</td>\n",
       "      <td>test</td>\n",
       "      <td>../../data/processed/wfabba\\bh-w-mobo-c_all_ha...</td>\n",
       "      <td>0.000000</td>\n",
       "      <td>0</td>\n",
       "      <td>0</td>\n",
       "      <td>0</td>\n",
       "      <td>0</td>\n",
       "      <td>0</td>\n",
       "      <td>0</td>\n",
       "    </tr>\n",
       "    <tr>\n",
       "      <th>83</th>\n",
       "      <td>2019-06-10 19:47:00+00:00</td>\n",
       "      <td>0.0</td>\n",
       "      <td>0.0</td>\n",
       "      <td>0.0</td>\n",
       "      <td>0.0</td>\n",
       "      <td>0.0</td>\n",
       "      <td>test</td>\n",
       "      <td>../../data/processed/wfabba\\bh-w-mobo-c_all_ha...</td>\n",
       "      <td>0.000000</td>\n",
       "      <td>0</td>\n",
       "      <td>0</td>\n",
       "      <td>0</td>\n",
       "      <td>0</td>\n",
       "      <td>0</td>\n",
       "      <td>0</td>\n",
       "    </tr>\n",
       "    <tr>\n",
       "      <th>84</th>\n",
       "      <td>2019-06-10 19:48:00+00:00</td>\n",
       "      <td>0.0</td>\n",
       "      <td>0.0</td>\n",
       "      <td>0.0</td>\n",
       "      <td>0.0</td>\n",
       "      <td>0.0</td>\n",
       "      <td>test</td>\n",
       "      <td>../../data/processed/wfabba\\bh-w-mobo-c_all_ha...</td>\n",
       "      <td>0.000000</td>\n",
       "      <td>0</td>\n",
       "      <td>0</td>\n",
       "      <td>0</td>\n",
       "      <td>0</td>\n",
       "      <td>0</td>\n",
       "      <td>0</td>\n",
       "    </tr>\n",
       "    <tr>\n",
       "      <th>...</th>\n",
       "      <td>...</td>\n",
       "      <td>...</td>\n",
       "      <td>...</td>\n",
       "      <td>...</td>\n",
       "      <td>...</td>\n",
       "      <td>...</td>\n",
       "      <td>...</td>\n",
       "      <td>...</td>\n",
       "      <td>...</td>\n",
       "      <td>...</td>\n",
       "      <td>...</td>\n",
       "      <td>...</td>\n",
       "      <td>...</td>\n",
       "      <td>...</td>\n",
       "      <td>...</td>\n",
       "    </tr>\n",
       "    <tr>\n",
       "      <th>10718</th>\n",
       "      <td>2019-09-25 20:50:00+00:00</td>\n",
       "      <td>1.0</td>\n",
       "      <td>1.0</td>\n",
       "      <td>0.0</td>\n",
       "      <td>0.0</td>\n",
       "      <td>0.0</td>\n",
       "      <td>test</td>\n",
       "      <td>../../data/processed/wfabba\\wc-s-mobo-c_all_ha...</td>\n",
       "      <td>0.420007</td>\n",
       "      <td>1</td>\n",
       "      <td>1</td>\n",
       "      <td>1</td>\n",
       "      <td>0</td>\n",
       "      <td>0</td>\n",
       "      <td>0</td>\n",
       "    </tr>\n",
       "    <tr>\n",
       "      <th>10719</th>\n",
       "      <td>2019-09-25 20:51:00+00:00</td>\n",
       "      <td>1.0</td>\n",
       "      <td>1.0</td>\n",
       "      <td>0.0</td>\n",
       "      <td>0.0</td>\n",
       "      <td>0.0</td>\n",
       "      <td>test</td>\n",
       "      <td>../../data/processed/wfabba\\wc-s-mobo-c_all_ha...</td>\n",
       "      <td>0.420007</td>\n",
       "      <td>1</td>\n",
       "      <td>1</td>\n",
       "      <td>1</td>\n",
       "      <td>0</td>\n",
       "      <td>0</td>\n",
       "      <td>0</td>\n",
       "    </tr>\n",
       "    <tr>\n",
       "      <th>10720</th>\n",
       "      <td>2019-09-25 20:52:00+00:00</td>\n",
       "      <td>1.0</td>\n",
       "      <td>0.0</td>\n",
       "      <td>0.0</td>\n",
       "      <td>0.0</td>\n",
       "      <td>0.0</td>\n",
       "      <td>test</td>\n",
       "      <td>../../data/processed/wfabba\\wc-s-mobo-c_all_ha...</td>\n",
       "      <td>0.000000</td>\n",
       "      <td>0</td>\n",
       "      <td>0</td>\n",
       "      <td>0</td>\n",
       "      <td>0</td>\n",
       "      <td>0</td>\n",
       "      <td>0</td>\n",
       "    </tr>\n",
       "    <tr>\n",
       "      <th>10721</th>\n",
       "      <td>2019-09-25 20:53:00+00:00</td>\n",
       "      <td>1.0</td>\n",
       "      <td>0.0</td>\n",
       "      <td>0.0</td>\n",
       "      <td>0.0</td>\n",
       "      <td>0.0</td>\n",
       "      <td>test</td>\n",
       "      <td>../../data/processed/wfabba\\wc-s-mobo-c_all_ha...</td>\n",
       "      <td>0.000000</td>\n",
       "      <td>0</td>\n",
       "      <td>0</td>\n",
       "      <td>0</td>\n",
       "      <td>0</td>\n",
       "      <td>0</td>\n",
       "      <td>0</td>\n",
       "    </tr>\n",
       "    <tr>\n",
       "      <th>10722</th>\n",
       "      <td>2019-09-25 20:54:00+00:00</td>\n",
       "      <td>1.0</td>\n",
       "      <td>0.0</td>\n",
       "      <td>0.0</td>\n",
       "      <td>0.0</td>\n",
       "      <td>0.0</td>\n",
       "      <td>test</td>\n",
       "      <td>../../data/processed/wfabba\\wc-s-mobo-c_all_ha...</td>\n",
       "      <td>0.000000</td>\n",
       "      <td>0</td>\n",
       "      <td>0</td>\n",
       "      <td>0</td>\n",
       "      <td>0</td>\n",
       "      <td>0</td>\n",
       "      <td>0</td>\n",
       "    </tr>\n",
       "  </tbody>\n",
       "</table>\n",
       "<p>5495 rows × 15 columns</p>\n",
       "</div>"
      ],
      "text/plain": [
       "                       timestamp  image_gt  smokeynet_pred  goes16_pred  \\\n",
       "80     2019-06-10 19:44:00+00:00       0.0             0.0          0.0   \n",
       "81     2019-06-10 19:45:00+00:00       0.0             0.0          0.0   \n",
       "82     2019-06-10 19:46:00+00:00       0.0             0.0          0.0   \n",
       "83     2019-06-10 19:47:00+00:00       0.0             0.0          0.0   \n",
       "84     2019-06-10 19:48:00+00:00       0.0             0.0          0.0   \n",
       "...                          ...       ...             ...          ...   \n",
       "10718  2019-09-25 20:50:00+00:00       1.0             1.0          0.0   \n",
       "10719  2019-09-25 20:51:00+00:00       1.0             1.0          0.0   \n",
       "10720  2019-09-25 20:52:00+00:00       1.0             0.0          0.0   \n",
       "10721  2019-09-25 20:53:00+00:00       1.0             0.0          0.0   \n",
       "10722  2019-09-25 20:54:00+00:00       1.0             0.0          0.0   \n",
       "\n",
       "       goes17_pred  hard_vote_pred  type  \\\n",
       "80             0.0             0.0  test   \n",
       "81             0.0             0.0  test   \n",
       "82             0.0             0.0  test   \n",
       "83             0.0             0.0  test   \n",
       "84             0.0             0.0  test   \n",
       "...            ...             ...   ...   \n",
       "10718          0.0             0.0  test   \n",
       "10719          0.0             0.0  test   \n",
       "10720          0.0             0.0  test   \n",
       "10721          0.0             0.0  test   \n",
       "10722          0.0             0.0  test   \n",
       "\n",
       "                                                    file  weighted_avg  \\\n",
       "80     ../../data/processed/wfabba\\bh-w-mobo-c_all_ha...      0.000000   \n",
       "81     ../../data/processed/wfabba\\bh-w-mobo-c_all_ha...      0.000000   \n",
       "82     ../../data/processed/wfabba\\bh-w-mobo-c_all_ha...      0.000000   \n",
       "83     ../../data/processed/wfabba\\bh-w-mobo-c_all_ha...      0.000000   \n",
       "84     ../../data/processed/wfabba\\bh-w-mobo-c_all_ha...      0.000000   \n",
       "...                                                  ...           ...   \n",
       "10718  ../../data/processed/wfabba\\wc-s-mobo-c_all_ha...      0.420007   \n",
       "10719  ../../data/processed/wfabba\\wc-s-mobo-c_all_ha...      0.420007   \n",
       "10720  ../../data/processed/wfabba\\wc-s-mobo-c_all_ha...      0.000000   \n",
       "10721  ../../data/processed/wfabba\\wc-s-mobo-c_all_ha...      0.000000   \n",
       "10722  ../../data/processed/wfabba\\wc-s-mobo-c_all_ha...      0.000000   \n",
       "\n",
       "       thresh2  thresh3  thresh4  thresh5  thresh6  thresh7  \n",
       "80           0        0        0        0        0        0  \n",
       "81           0        0        0        0        0        0  \n",
       "82           0        0        0        0        0        0  \n",
       "83           0        0        0        0        0        0  \n",
       "84           0        0        0        0        0        0  \n",
       "...        ...      ...      ...      ...      ...      ...  \n",
       "10718        1        1        1        0        0        0  \n",
       "10719        1        1        1        0        0        0  \n",
       "10720        0        0        0        0        0        0  \n",
       "10721        0        0        0        0        0        0  \n",
       "10722        0        0        0        0        0        0  \n",
       "\n",
       "[5495 rows x 15 columns]"
      ]
     },
     "execution_count": 37,
     "metadata": {},
     "output_type": "execute_result"
    }
   ],
   "source": [
    "# weighted average voting\n",
    "\n",
    "#Voting weights based off of the accuracies of the baseline SmokeyNet, WFABBA GOES-16, & WFABBA GOES-17 models\n",
    "smokeynet_weight = 0.7797790994052677\n",
    "goes16_weight = 0.513338997451147\n",
    "goes17_weight = 0.5634664401019541\n",
    "\n",
    "master_copy_df[\"weighted_avg\"]  = \\\n",
    "    ((smokeynet_weight * smokeynet_preds) + (goes16_weight * goes16_preds) + (goes17_weight * goes17_preds)) \\\n",
    "    / (smokeynet_weight + goes16_weight + goes17_weight)\n",
    "\n",
    "# voting threshold 0.2\n",
    "master_copy_df[\"thresh2\"] = master_copy_df[\"weighted_avg\"] >= 0.2\n",
    "master_copy_df[\"thresh2\"] = master_copy_df[\"thresh2\"].astype(int)\n",
    "\n",
    "# voting threshold 0.3\n",
    "master_copy_df[\"thresh3\"] = master_copy_df[\"weighted_avg\"] >= 0.3\n",
    "master_copy_df[\"thresh3\"] = master_copy_df[\"thresh3\"].astype(int)\n",
    "\n",
    "# voting threshold 0.4\n",
    "master_copy_df[\"thresh4\"] = master_copy_df[\"weighted_avg\"] >= 0.4\n",
    "master_copy_df[\"thresh4\"] = master_copy_df[\"thresh4\"].astype(int)\n",
    "\n",
    "# voting threshold 0.5\n",
    "master_copy_df[\"thresh5\"] = master_copy_df[\"weighted_avg\"] >= 0.5\n",
    "master_copy_df[\"thresh5\"] = master_copy_df[\"thresh5\"].astype(int)\n",
    "\n",
    "# voting threshold 0.6\n",
    "master_copy_df[\"thresh6\"] = master_copy_df[\"weighted_avg\"] >= 0.6\n",
    "master_copy_df[\"thresh6\"] = master_copy_df[\"thresh6\"].astype(int)\n",
    "\n",
    "# voting threshold 0.7\n",
    "master_copy_df[\"thresh7\"] = master_copy_df[\"weighted_avg\"] >= 0.7\n",
    "master_copy_df[\"thresh7\"] = master_copy_df[\"thresh7\"].astype(int)\n",
    "\n",
    "master_copy_df"
   ]
  },
  {
   "cell_type": "code",
   "execution_count": null,
   "id": "9a13658d",
   "metadata": {},
   "outputs": [],
   "source": []
  },
  {
   "cell_type": "markdown",
   "id": "cf44c4fa",
   "metadata": {},
   "source": [
    "### 0.2 voting threshold accuracy, precision, recall, F1"
   ]
  },
  {
   "cell_type": "code",
   "execution_count": 38,
   "id": "21cb5957",
   "metadata": {},
   "outputs": [],
   "source": [
    "acc_thresh2 = accuracy_score(image_labels, master_copy_df[\"thresh2\"])"
   ]
  },
  {
   "cell_type": "code",
   "execution_count": 39,
   "id": "b4730438",
   "metadata": {},
   "outputs": [],
   "source": [
    "p_thresh2, r_thresh2, f_thresh2, s_thresh2 = precision_recall_fscore_support(image_labels, master_copy_df[\"thresh2\"], average = 'binary')"
   ]
  },
  {
   "cell_type": "markdown",
   "id": "e20f2ff1",
   "metadata": {},
   "source": [
    "### 0.3 voting threshold accuracy, precision, recall, F1"
   ]
  },
  {
   "cell_type": "code",
   "execution_count": 40,
   "id": "0ec101f3",
   "metadata": {},
   "outputs": [],
   "source": [
    "acc_thresh3 = accuracy_score(image_labels, master_copy_df[\"thresh3\"])"
   ]
  },
  {
   "cell_type": "code",
   "execution_count": 41,
   "id": "e3bd3266",
   "metadata": {},
   "outputs": [],
   "source": [
    "p_thresh3, r_thresh3, f_thresh3, s_thresh3 = precision_recall_fscore_support(image_labels, master_copy_df[\"thresh3\"], average = 'binary')"
   ]
  },
  {
   "cell_type": "markdown",
   "id": "40ff3e02",
   "metadata": {},
   "source": [
    "### 0.4 voting threshold accuracy, precision, recall, F1"
   ]
  },
  {
   "cell_type": "code",
   "execution_count": 42,
   "id": "4eec15a1",
   "metadata": {},
   "outputs": [],
   "source": [
    "acc_thresh4 = accuracy_score(image_labels, master_copy_df[\"thresh4\"])"
   ]
  },
  {
   "cell_type": "code",
   "execution_count": 43,
   "id": "5aa816f1",
   "metadata": {},
   "outputs": [],
   "source": [
    "p_thresh4, r_thresh4, f_thresh4, s_thresh4 = precision_recall_fscore_support(image_labels, master_copy_df[\"thresh4\"], average = 'binary')"
   ]
  },
  {
   "cell_type": "markdown",
   "id": "e546125e",
   "metadata": {},
   "source": [
    "### 0.5 voting threshold accuracy, precision, recall, F1"
   ]
  },
  {
   "cell_type": "code",
   "execution_count": 44,
   "id": "ebdb2bcf",
   "metadata": {},
   "outputs": [],
   "source": [
    "acc_thresh5 = accuracy_score(image_labels, master_copy_df[\"thresh5\"])"
   ]
  },
  {
   "cell_type": "code",
   "execution_count": 45,
   "id": "05d985d2",
   "metadata": {},
   "outputs": [],
   "source": [
    "p_thresh5, r_thresh5, f_thresh5, s_thresh5 = precision_recall_fscore_support(image_labels, master_copy_df[\"thresh5\"], average = 'binary')"
   ]
  },
  {
   "cell_type": "markdown",
   "id": "0b4f0556",
   "metadata": {},
   "source": [
    "### 0.6 voting threshold accuracy, precision, recall, F1"
   ]
  },
  {
   "cell_type": "code",
   "execution_count": 46,
   "id": "afe0b953",
   "metadata": {},
   "outputs": [],
   "source": [
    "acc_thresh6 = accuracy_score(image_labels, master_copy_df[\"thresh6\"])"
   ]
  },
  {
   "cell_type": "code",
   "execution_count": 47,
   "id": "0ff3418b",
   "metadata": {},
   "outputs": [],
   "source": [
    "p_thresh6, r_thresh6, f_thresh6, s_thresh6 = precision_recall_fscore_support(image_labels, master_copy_df[\"thresh6\"], average = 'binary')"
   ]
  },
  {
   "cell_type": "markdown",
   "id": "c35deed1",
   "metadata": {},
   "source": [
    "### 0.7 voting threshold accuracy, precision, recall, F1"
   ]
  },
  {
   "cell_type": "code",
   "execution_count": 48,
   "id": "a0ef24ec",
   "metadata": {},
   "outputs": [],
   "source": [
    "acc_thresh7 = accuracy_score(image_labels, master_copy_df[\"thresh7\"])"
   ]
  },
  {
   "cell_type": "code",
   "execution_count": 49,
   "id": "37e01c2b",
   "metadata": {},
   "outputs": [],
   "source": [
    "p_thresh7, r_thresh7, f_thresh7, s_thresh7 = precision_recall_fscore_support(image_labels, master_copy_df[\"thresh7\"], average = 'binary')"
   ]
  },
  {
   "cell_type": "markdown",
   "id": "2fcced13",
   "metadata": {},
   "source": [
    "### Ploting Accuracy & F1 of Weighted Vote Ensemble with Various Thresholds"
   ]
  },
  {
   "cell_type": "code",
   "execution_count": 50,
   "id": "c75463a0",
   "metadata": {},
   "outputs": [],
   "source": [
    "thresholds = [0.2,0.3,0.4,0.5,0.6,0.7]\n",
    "accuracies =  [acc_thresh2, acc_thresh3, acc_thresh4, acc_thresh5, acc_thresh6, acc_thresh7]\n",
    "f1s = [f_thresh2, f_thresh3, f_thresh4, f_thresh5, f_thresh6, f_thresh7]"
   ]
  },
  {
   "cell_type": "code",
   "execution_count": 24,
   "id": "2bf1c1e3",
   "metadata": {},
   "outputs": [
    {
     "data": {
      "text/plain": [
       "[0.7909008189262966,\n",
       " 0.7907188353048226,\n",
       " 0.7847133757961784,\n",
       " 0.5623293903548681,\n",
       " 0.5608735213830756,\n",
       " 0.5575978161965424]"
      ]
     },
     "execution_count": 24,
     "metadata": {},
     "output_type": "execute_result"
    }
   ],
   "source": [
    "accuracies"
   ]
  },
  {
   "cell_type": "code",
   "execution_count": 25,
   "id": "4d7b03d0",
   "metadata": {},
   "outputs": [
    {
     "data": {
      "text/plain": [
       "[0.7796740172579099,\n",
       " 0.7794399693133871,\n",
       " 0.7712241345967897,\n",
       " 0.2551873645091359,\n",
       " 0.2503883193538366,\n",
       " 0.24054982817869416]"
      ]
     },
     "execution_count": 25,
     "metadata": {},
     "output_type": "execute_result"
    }
   ],
   "source": [
    "f1s"
   ]
  },
  {
   "cell_type": "code",
   "execution_count": 54,
   "id": "681e1f35",
   "metadata": {},
   "outputs": [
    {
     "data": {
      "image/png": "[encoded data removed]",
      "text/plain": [
       "<Figure size 432x288 with 1 Axes>"
      ]
     },
     "metadata": {
      "needs_background": "light"
     },
     "output_type": "display_data"
    }
   ],
   "source": [
    "x_range = range(len(thresholds))\n",
    "plt.bar(x_range, accuracies, width = 0.5)\n",
    "plt.xlabel(\"Threshold\")\n",
    "plt.ylabel(\"Accuracy\")\n",
    "plt.xticks(x_range, thresholds)\n",
    "plt.show()"
   ]
  },
  {
   "cell_type": "code",
   "execution_count": 55,
   "id": "d71bd4d7",
   "metadata": {},
   "outputs": [
    {
     "data": {
      "image/png": "[encoded data removed]",
      "text/plain": [
       "<Figure size 432x288 with 1 Axes>"
      ]
     },
     "metadata": {
      "needs_background": "light"
     },
     "output_type": "display_data"
    }
   ],
   "source": [
    "x_range = range(len(thresholds))\n",
    "plt.bar(x_range, f1s, width = 0.5)\n",
    "plt.xlabel(\"Threshold\")\n",
    "plt.ylabel(\"F1\")\n",
    "plt.xticks(x_range, thresholds)\n",
    "plt.show()"
   ]
  },
  {
   "cell_type": "code",
   "execution_count": null,
   "id": "ca7d7590",
   "metadata": {},
   "outputs": [],
   "source": []
  }
 ],
 "metadata": {
  "kernelspec": {
   "display_name": "Python 3.8.8 ('smokey')",
   "language": "python",
   "name": "python3"
  },
  "language_info": {
   "codemirror_mode": {
    "name": "ipython",
    "version": 3
   },
   "file_extension": ".py",
   "mimetype": "text/x-python",
   "name": "python",
   "nbconvert_exporter": "python",
   "pygments_lexer": "ipython3",
   "version": "3.8.8"
  },
  "vscode": {
   "interpreter": {
    "hash": "afe615d3e7b8e36a1b63b69c45193ee0f50b2887d76ad336f7f33d5b9a253dea"
   }
  }
 },
 "nbformat": 4,
 "nbformat_minor": 5
}
