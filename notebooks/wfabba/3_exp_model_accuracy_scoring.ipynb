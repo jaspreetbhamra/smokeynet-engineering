{
 "cells": [
  {
   "cell_type": "markdown",
   "id": "e6587b28",
   "metadata": {},
   "source": [
    "# Model Accuracy Scoring"
   ]
  },
  {
   "cell_type": "markdown",
   "id": "ea49d9dd",
   "metadata": {},
   "source": [
    "<b>Summary:</b><br>\n",
    "Reads in SmokeyNet, WFABBA GOES-16, WFABBA GOES-17 prediction csv files created by 2_process_wfabba_figlib_join.ipynb. Evaluates the accuracy, precision, recall, and F1 of baseline SmokeyNet, baseline WFABBA GOES-16, baseline WFABBA GOES-17, and the hard vote ensemble model. Then uses the accuracy scores of the baseline models as weights for each individual model for the weighted vote model. Then runs the weighted vote model (a weighted average of each of the baseline model predictions) against accuracy thresholds from 0.2 to 0.7. If weighted average >= threshold, then the weighted vote ensemble model outputs a positive detection prediction<br>\n",
    "\n",
    "- Get SmokeyNet, WFABBA GOES-16, WFABBA GOES-17 predictions from csv files created by 2_process_wfabba_figlib_join.ipynb.\n",
    "- Calculate accuracy metrics of baseline SmokeyNet, WFABBA GOES-16, WFABBA GOES-17, and hard voting ensemble model\n",
    "- Use baseline accuracies of each baseline model for weighted vote model (weighted average calculation)\n",
    "- Calculate weighted vote model accuracy metrics using various thresholds [0.2, 0.7]\n"
   ]
  },
  {
   "cell_type": "code",
   "execution_count": 7,
   "id": "fc8efde1",
   "metadata": {},
   "outputs": [],
   "source": [
    "import pandas as pd\n",
    "import urllib.request\n",
    "import datetime as dt\n",
    "import requests\n",
    "from bs4 import BeautifulSoup\n",
    "from datetime import datetime, timedelta\n",
    "from haversine import haversine, Unit\n",
    "from shapely.geometry import Point\n",
    "import geopandas as gpd\n",
    "from geopandas import GeoDataFrame\n",
    "import pytz\n",
    "from sklearn.metrics import accuracy_score, precision_recall_fscore_support, precision_score\n",
    "import os\n",
    "import glob\n",
    "import matplotlib.pyplot as plt"
   ]
  },
  {
   "cell_type": "markdown",
   "id": "c52eaead",
   "metadata": {},
   "source": [
    "## 1) Baseline and Hard Vote Ensemble using Original Join Methodology"
   ]
  },
  {
   "cell_type": "code",
   "execution_count": 217,
   "id": "94ba3235",
   "metadata": {},
   "outputs": [],
   "source": [
    "# processed_data_dir = \"../../data/processed/wfabba\"\n",
    "# processed_data_dir = \"../../data/processed/wfabba_sliding/\"\n",
    "# processed_data_dir = \"../../data/processed/wfabba_sliding_time_offset_120/\"\n",
    "# processed_data_dir = \"../../data/processed/wfabba_sliding_window_nearest/\"\n",
    "processed_data_dir = \"../../data/processed/wfabba_sliding_window_new_data/\"\n",
    "# processed_data_dir = \"../../data/processed/wfabba_sliding_window_nearest_without_code_15/\"\n",
    "csv_suffix = \"_all_hard_voting_35_window_15.csv\"\n",
    "# csv_suffix = \"_all_hard_voting_35.csv\"\n",
    "csv_files = glob.glob(os.path.join(processed_data_dir, f\"*{csv_suffix}\"))\n",
    "\n",
    "master_df = pd.DataFrame()\n",
    "    \n",
    "# loop over the list of csv files\n",
    "for f in csv_files:\n",
    "    df = pd.read_csv(f)\n",
    "    df[\"file\"] = f\n",
    "    master_df = pd.concat([master_df, df])\n",
    "    \n",
    "master_df = master_df.reset_index()\n",
    "# master_df = master_df.drop(columns=[\"index\", \"Unnamed: 0\"])\n",
    "# master_df"
   ]
  },
  {
   "cell_type": "code",
   "execution_count": 218,
   "id": "9314e8ec",
   "metadata": {},
   "outputs": [],
   "source": [
    "master_df = master_df.rename(columns={\"image_pred\":\"smokeynet_pred\", \"final_pred\":\"majority_vote_pred\"})\n",
    "# master_df"
   ]
  },
  {
   "cell_type": "code",
   "execution_count": 123,
   "id": "cebfe705",
   "metadata": {},
   "outputs": [
    {
     "name": "stdout",
     "output_type": "stream",
     "text": [
      "1711 2595 10861 \n",
      "\n",
      "\n",
      "0.0    9150\n",
      "1.0    1711\n",
      "Name: goes16_pred, dtype: int64 \n",
      " 1.0    5506\n",
      "0.0    5355\n",
      "Name: image_gt, dtype: int64 \n",
      "\n",
      "\n",
      "0.0    8266\n",
      "1.0    2595\n",
      "Name: goes17_pred, dtype: int64 \n",
      " 1.0    5506\n",
      "0.0    5355\n",
      "Name: image_gt, dtype: int64\n"
     ]
    }
   ],
   "source": [
    "print (master_df[\"WFABBA_GOES16_Code\"].count(), master_df[\"WFABBA_GOES17_Code\"].count(), master_df.shape[0], \"\\n\\n\")\n",
    "print (master_df[\"goes16_pred\"].value_counts(), \"\\n\", master_df[\"image_gt\"].value_counts(), \"\\n\\n\")\n",
    "print (master_df[\"goes17_pred\"].value_counts(), \"\\n\", master_df[\"image_gt\"].value_counts())"
   ]
  },
  {
   "cell_type": "code",
   "execution_count": 12,
   "id": "65ccfbd2",
   "metadata": {},
   "outputs": [
    {
     "name": "stdout",
     "output_type": "stream",
     "text": [
      "(10270, 30)\n",
      "(494, 30)\n",
      "(980, 30)\n"
     ]
    }
   ],
   "source": [
    "print (master_df.shape)\n",
    "print (master_df[(master_df[\"image_gt\"] == 0) & (master_df[\"goes16_pred\"] == 1)].shape)\n",
    "print (master_df[(master_df[\"image_gt\"] == 0) & (master_df[\"goes17_pred\"] == 1)].shape)"
   ]
  },
  {
   "cell_type": "code",
   "execution_count": 12,
   "id": "82d81ad5",
   "metadata": {},
   "outputs": [],
   "source": [
    "# # where goes 16 pred does not match ground truth\n",
    "# master_df[(master_df[\"image_gt\"] == 1) & (master_df[\"goes16_pred\"] == 0) & (master_df[\"timestamp\"] > \"2020-09-29 17:57:00+00:00\")].head()\n",
    "\n",
    "# # range of values around a sample timestamp from the above\n",
    "# # master_df[(master_df[\"timestamp\"] >= \"2019-08-13 21:00:00+00:00\") & (master_df[\"timestamp\"] <= \"2019-08-13 22:00:00+00:00\")][master_df.columns[:5]].head(100)\n",
    "# # master_df[(master_df[\"timestamp\"] >= \"2020-08-29 17:57:00+00:00\") & (master_df[\"timestamp\"] <= \"2020-08-29 17:57:00+00:00\")][master_df.columns[:5]].head(100)\n",
    "# master_df[(master_df[\"timestamp\"] >= \"2020-10-13 23:30:00+00:00\") & (master_df[\"timestamp\"] <= \"2020-10-13 23:59:00+00:00\")][master_df.columns[:5]].head(100)\n",
    "# # master_df.columns"
   ]
  },
  {
   "cell_type": "code",
   "execution_count": 13,
   "id": "e8b7e0d9",
   "metadata": {},
   "outputs": [
    {
     "data": {
      "text/html": [
       "<div>\n",
       "<style scoped>\n",
       "    .dataframe tbody tr th:only-of-type {\n",
       "        vertical-align: middle;\n",
       "    }\n",
       "\n",
       "    .dataframe tbody tr th {\n",
       "        vertical-align: top;\n",
       "    }\n",
       "\n",
       "    .dataframe thead th {\n",
       "        text-align: right;\n",
       "    }\n",
       "</style>\n",
       "<table border=\"1\" class=\"dataframe\">\n",
       "  <thead>\n",
       "    <tr style=\"text-align: right;\">\n",
       "      <th></th>\n",
       "      <th>timestamp</th>\n",
       "      <th>image_gt</th>\n",
       "      <th>smokeynet_pred</th>\n",
       "      <th>goes16_pred</th>\n",
       "      <th>goes17_pred</th>\n",
       "      <th>majority_vote_pred</th>\n",
       "      <th>type</th>\n",
       "      <th>WFABBA_GOES16_Code</th>\n",
       "      <th>WFABBA_GOES17_Code</th>\n",
       "      <th>file</th>\n",
       "    </tr>\n",
       "  </thead>\n",
       "  <tbody>\n",
       "    <tr>\n",
       "      <th>672</th>\n",
       "      <td>2020-10-13 23:45:00+00:00</td>\n",
       "      <td>1.0</td>\n",
       "      <td>0.0</td>\n",
       "      <td>0.0</td>\n",
       "      <td>0.0</td>\n",
       "      <td>0.0</td>\n",
       "      <td>test</td>\n",
       "      <td>NaN</td>\n",
       "      <td>NaN</td>\n",
       "      <td>../../data/processed/wfabba_sliding_window_nea...</td>\n",
       "    </tr>\n",
       "    <tr>\n",
       "      <th>673</th>\n",
       "      <td>2020-10-13 23:45:00+00:00</td>\n",
       "      <td>1.0</td>\n",
       "      <td>0.0</td>\n",
       "      <td>0.0</td>\n",
       "      <td>0.0</td>\n",
       "      <td>0.0</td>\n",
       "      <td>test</td>\n",
       "      <td>NaN</td>\n",
       "      <td>NaN</td>\n",
       "      <td>../../data/processed/wfabba_sliding_window_nea...</td>\n",
       "    </tr>\n",
       "    <tr>\n",
       "      <th>674</th>\n",
       "      <td>2020-10-13 23:47:00+00:00</td>\n",
       "      <td>1.0</td>\n",
       "      <td>1.0</td>\n",
       "      <td>0.0</td>\n",
       "      <td>0.0</td>\n",
       "      <td>0.0</td>\n",
       "      <td>test</td>\n",
       "      <td>NaN</td>\n",
       "      <td>NaN</td>\n",
       "      <td>../../data/processed/wfabba_sliding_window_nea...</td>\n",
       "    </tr>\n",
       "    <tr>\n",
       "      <th>675</th>\n",
       "      <td>2020-10-13 23:47:00+00:00</td>\n",
       "      <td>1.0</td>\n",
       "      <td>1.0</td>\n",
       "      <td>0.0</td>\n",
       "      <td>0.0</td>\n",
       "      <td>0.0</td>\n",
       "      <td>test</td>\n",
       "      <td>NaN</td>\n",
       "      <td>NaN</td>\n",
       "      <td>../../data/processed/wfabba_sliding_window_nea...</td>\n",
       "    </tr>\n",
       "    <tr>\n",
       "      <th>676</th>\n",
       "      <td>2020-10-13 23:49:00+00:00</td>\n",
       "      <td>1.0</td>\n",
       "      <td>1.0</td>\n",
       "      <td>0.0</td>\n",
       "      <td>0.0</td>\n",
       "      <td>0.0</td>\n",
       "      <td>test</td>\n",
       "      <td>NaN</td>\n",
       "      <td>NaN</td>\n",
       "      <td>../../data/processed/wfabba_sliding_window_nea...</td>\n",
       "    </tr>\n",
       "  </tbody>\n",
       "</table>\n",
       "</div>"
      ],
      "text/plain": [
       "                     timestamp  image_gt  smokeynet_pred  goes16_pred  \\\n",
       "672  2020-10-13 23:45:00+00:00       1.0             0.0          0.0   \n",
       "673  2020-10-13 23:45:00+00:00       1.0             0.0          0.0   \n",
       "674  2020-10-13 23:47:00+00:00       1.0             1.0          0.0   \n",
       "675  2020-10-13 23:47:00+00:00       1.0             1.0          0.0   \n",
       "676  2020-10-13 23:49:00+00:00       1.0             1.0          0.0   \n",
       "\n",
       "     goes17_pred  majority_vote_pred  type  WFABBA_GOES16_Code  \\\n",
       "672          0.0                 0.0  test                 NaN   \n",
       "673          0.0                 0.0  test                 NaN   \n",
       "674          0.0                 0.0  test                 NaN   \n",
       "675          0.0                 0.0  test                 NaN   \n",
       "676          0.0                 0.0  test                 NaN   \n",
       "\n",
       "     WFABBA_GOES17_Code                                               file  \n",
       "672                 NaN  ../../data/processed/wfabba_sliding_window_nea...  \n",
       "673                 NaN  ../../data/processed/wfabba_sliding_window_nea...  \n",
       "674                 NaN  ../../data/processed/wfabba_sliding_window_nea...  \n",
       "675                 NaN  ../../data/processed/wfabba_sliding_window_nea...  \n",
       "676                 NaN  ../../data/processed/wfabba_sliding_window_nea...  "
      ]
     },
     "execution_count": 13,
     "metadata": {},
     "output_type": "execute_result"
    }
   ],
   "source": [
    "# Why does the following output duplicate timestamps, seems to be from the same file?\n",
    "master_df[(master_df[\"image_gt\"] == 1) & (master_df[\"goes16_pred\"] == 0) & (master_df[\"timestamp\"] > \"2020-09-29 17:57:00+00:00\")].head()"
   ]
  },
  {
   "cell_type": "code",
   "execution_count": 195,
   "id": "4541c4c0",
   "metadata": {},
   "outputs": [],
   "source": [
    "# get only the test data\n",
    "master_copy_df = master_df[master_df[\"type\"] == \"test\"].copy()"
   ]
  },
  {
   "cell_type": "code",
   "execution_count": 219,
   "id": "c2cae304",
   "metadata": {},
   "outputs": [
    {
     "name": "stdout",
     "output_type": "stream",
     "text": [
      "Baseline score SmokeyNet: 0.8300089847259658\n",
      "Baseline score GOES-16: 0.5863432165318958\n",
      "Baseline score GOES-17: 0.5759209344115005\n",
      "Hard Vote Ensemble score: 0.6258760107816712\n",
      "0.8300089847259658 0.5863432165318958 0.5759209344115005 0.6258760107816712\n"
     ]
    }
   ],
   "source": [
    "# Calculate the baseline accuracies of the individual models and the hard vote ensemble\n",
    "image_labels = master_copy_df[~master_copy_df[\"image_gt\"].isna()][\"image_gt\"]\n",
    "smokeynet_preds = master_copy_df[~master_copy_df[\"image_gt\"].isna()][\"smokeynet_pred\"]\n",
    "goes16_preds = master_copy_df[~master_copy_df[\"image_gt\"].isna()][\"goes16_pred\"]\n",
    "goes17_preds = master_copy_df[~master_copy_df[\"image_gt\"].isna()][\"goes17_pred\"]\n",
    "hard_vote_ensemble_preds = master_copy_df[~master_copy_df[\"image_gt\"].isna()][\"majority_vote_pred\"]\n",
    "\n",
    "smokeynet_baseline_score = accuracy_score(image_labels, smokeynet_preds)\n",
    "goes16_baseline_score = accuracy_score(image_labels, goes16_preds)\n",
    "goes17_baseline_score = accuracy_score(image_labels, goes17_preds)\n",
    "hard_vote_ensemble_score = accuracy_score(image_labels, hard_vote_ensemble_preds)\n",
    "\n",
    "print(\"Baseline score SmokeyNet:\", smokeynet_baseline_score)\n",
    "print(\"Baseline score GOES-16:\", goes16_baseline_score)\n",
    "print(\"Baseline score GOES-17:\", goes17_baseline_score)\n",
    "print(\"Hard Vote Ensemble score:\", hard_vote_ensemble_score)\n",
    "print (smokeynet_baseline_score, goes16_baseline_score, goes17_baseline_score, hard_vote_ensemble_score)"
   ]
  },
  {
   "cell_type": "code",
   "execution_count": 220,
   "id": "6f710956",
   "metadata": {},
   "outputs": [
    {
     "data": {
      "text/plain": [
       "Text(0.5, 1.0, 'GOES 17')"
      ]
     },
     "execution_count": 220,
     "metadata": {},
     "output_type": "execute_result"
    },
    {
     "data": {
      "image/png": "[encoded data removed]",
      "text/plain": [
       "<Figure size 1080x288 with 6 Axes>"
      ]
     },
     "metadata": {
      "needs_background": "light"
     },
     "output_type": "display_data"
    },
    {
     "data": {
      "text/plain": [
       "<Figure size 720x2880 with 0 Axes>"
      ]
     },
     "metadata": {},
     "output_type": "display_data"
    }
   ],
   "source": [
    "from matplotlib import pyplot as plt\n",
    "import seaborn as sn\n",
    "from sklearn.metrics import confusion_matrix\n",
    "\n",
    "# print (help(ConfusionMatrixDisplay))\n",
    "fig, (ax1, ax2, ax3) = plt.subplots(1, 3, figsize=(15, 4))\n",
    "fig.suptitle('Confusion Matrices')\n",
    "plt.figure(figsize=[10,40])\n",
    "\n",
    "sn.heatmap(confusion_matrix(image_labels, smokeynet_preds), annot=True, fmt='g', ax=ax1)\n",
    "sn.heatmap(confusion_matrix(image_labels, goes16_preds), annot=True, fmt='g', ax=ax2)\n",
    "sn.heatmap(confusion_matrix(image_labels, goes17_preds), annot=True, fmt='g', ax=ax3)\n",
    "\n",
    "# labels, title and ticks\n",
    "ax1.set_xlabel('Predicted labels')\n",
    "ax1.set_ylabel('True labels') \n",
    "ax1.set_title('SmokeyNet') \n",
    "ax2.set_xlabel('Predicted labels')\n",
    "ax2.set_ylabel('True labels') \n",
    "ax2.set_title('GOES 16')\n",
    "ax3.set_xlabel('Predicted labels')\n",
    "ax3.set_ylabel('True labels') \n",
    "ax3.set_title('GOES 17')\n",
    "# plt.show()"
   ]
  },
  {
   "cell_type": "code",
   "execution_count": 221,
   "id": "55e16f88",
   "metadata": {},
   "outputs": [
    {
     "data": {
      "text/plain": [
       "(0.9170383586083853, 0.7301136363636364, 0.8129695531830763, None)"
      ]
     },
     "execution_count": 221,
     "metadata": {},
     "output_type": "execute_result"
    }
   ],
   "source": [
    "# smokeynet baseline precision, recall, F1\n",
    "precision_recall_fscore_support(image_labels, smokeynet_preds, average = 'binary')"
   ]
  },
  {
   "cell_type": "code",
   "execution_count": 222,
   "id": "228cb268",
   "metadata": {},
   "outputs": [
    {
     "data": {
      "text/plain": [
       "(0.6540767386091128, 0.3874289772727273, 0.48661909009812676, None)"
      ]
     },
     "execution_count": 222,
     "metadata": {},
     "output_type": "execute_result"
    }
   ],
   "source": [
    "# goes16 baseline precision, recall, F1\n",
    "precision_recall_fscore_support(image_labels, goes16_preds, average = 'binary')"
   ]
  },
  {
   "cell_type": "code",
   "execution_count": 223,
   "id": "2c57bd38",
   "metadata": {},
   "outputs": [
    {
     "data": {
      "text/plain": [
       "(0.5997375328083989, 0.48686079545454547, 0.537436299490396, None)"
      ]
     },
     "execution_count": 223,
     "metadata": {},
     "output_type": "execute_result"
    }
   ],
   "source": [
    "# goes17 baseline precision, recall, F1\n",
    "precision_recall_fscore_support(image_labels, goes17_preds, average = 'binary')"
   ]
  },
  {
   "cell_type": "code",
   "execution_count": 224,
   "id": "f6b05bc3",
   "metadata": {},
   "outputs": [
    {
     "data": {
      "text/plain": [
       "(0.6977370689655172, 0.4598721590909091, 0.5543664383561644, None)"
      ]
     },
     "execution_count": 224,
     "metadata": {},
     "output_type": "execute_result"
    }
   ],
   "source": [
    "#hard voting ensemble precision, recall, F1\n",
    "precision_recall_fscore_support(image_labels, hard_vote_ensemble_preds, average = 'binary')"
   ]
  },
  {
   "cell_type": "markdown",
   "id": "e48cc633",
   "metadata": {},
   "source": [
    "## 2) Weighted Voting Ensemble Model Accuracies"
   ]
  },
  {
   "cell_type": "code",
   "execution_count": 225,
   "id": "69a3fddf",
   "metadata": {},
   "outputs": [
    {
     "data": {
      "text/html": [
       "<div>\n",
       "<style scoped>\n",
       "    .dataframe tbody tr th:only-of-type {\n",
       "        vertical-align: middle;\n",
       "    }\n",
       "\n",
       "    .dataframe tbody tr th {\n",
       "        vertical-align: top;\n",
       "    }\n",
       "\n",
       "    .dataframe thead th {\n",
       "        text-align: right;\n",
       "    }\n",
       "</style>\n",
       "<table border=\"1\" class=\"dataframe\">\n",
       "  <thead>\n",
       "    <tr style=\"text-align: right;\">\n",
       "      <th></th>\n",
       "      <th>index</th>\n",
       "      <th>Unnamed: 0</th>\n",
       "      <th>timestamp</th>\n",
       "      <th>camera_name</th>\n",
       "      <th>image_gt</th>\n",
       "      <th>smokeynet_pred</th>\n",
       "      <th>image_prob</th>\n",
       "      <th>type</th>\n",
       "      <th>WFABBA_GOES16_timestamp_converted_rounded</th>\n",
       "      <th>WFABBA_GOES16_geometry</th>\n",
       "      <th>...</th>\n",
       "      <th>final_vote</th>\n",
       "      <th>majority_vote_pred</th>\n",
       "      <th>file</th>\n",
       "      <th>weighted_avg</th>\n",
       "      <th>thresh2</th>\n",
       "      <th>thresh3</th>\n",
       "      <th>thresh4</th>\n",
       "      <th>thresh5</th>\n",
       "      <th>thresh6</th>\n",
       "      <th>thresh7</th>\n",
       "    </tr>\n",
       "  </thead>\n",
       "  <tbody>\n",
       "    <tr>\n",
       "      <th>81</th>\n",
       "      <td>0</td>\n",
       "      <td>14143</td>\n",
       "      <td>2019-06-10 19:43:00+00:00</td>\n",
       "      <td>bh-w-mobo-c</td>\n",
       "      <td>0.0</td>\n",
       "      <td>0.0</td>\n",
       "      <td>0.036438</td>\n",
       "      <td>test</td>\n",
       "      <td>NaN</td>\n",
       "      <td>NaN</td>\n",
       "      <td>...</td>\n",
       "      <td>0.0</td>\n",
       "      <td>0.0</td>\n",
       "      <td>../../data/processed/wfabba_sliding_window_new...</td>\n",
       "      <td>0.000000</td>\n",
       "      <td>0</td>\n",
       "      <td>0</td>\n",
       "      <td>0</td>\n",
       "      <td>0</td>\n",
       "      <td>0</td>\n",
       "      <td>0</td>\n",
       "    </tr>\n",
       "    <tr>\n",
       "      <th>82</th>\n",
       "      <td>1</td>\n",
       "      <td>14144</td>\n",
       "      <td>2019-06-10 19:44:00+00:00</td>\n",
       "      <td>bh-w-mobo-c</td>\n",
       "      <td>0.0</td>\n",
       "      <td>0.0</td>\n",
       "      <td>0.036499</td>\n",
       "      <td>test</td>\n",
       "      <td>NaN</td>\n",
       "      <td>NaN</td>\n",
       "      <td>...</td>\n",
       "      <td>0.0</td>\n",
       "      <td>0.0</td>\n",
       "      <td>../../data/processed/wfabba_sliding_window_new...</td>\n",
       "      <td>0.000000</td>\n",
       "      <td>0</td>\n",
       "      <td>0</td>\n",
       "      <td>0</td>\n",
       "      <td>0</td>\n",
       "      <td>0</td>\n",
       "      <td>0</td>\n",
       "    </tr>\n",
       "    <tr>\n",
       "      <th>83</th>\n",
       "      <td>2</td>\n",
       "      <td>14145</td>\n",
       "      <td>2019-06-10 19:45:00+00:00</td>\n",
       "      <td>bh-w-mobo-c</td>\n",
       "      <td>0.0</td>\n",
       "      <td>0.0</td>\n",
       "      <td>0.041779</td>\n",
       "      <td>test</td>\n",
       "      <td>NaN</td>\n",
       "      <td>NaN</td>\n",
       "      <td>...</td>\n",
       "      <td>0.0</td>\n",
       "      <td>0.0</td>\n",
       "      <td>../../data/processed/wfabba_sliding_window_new...</td>\n",
       "      <td>0.000000</td>\n",
       "      <td>0</td>\n",
       "      <td>0</td>\n",
       "      <td>0</td>\n",
       "      <td>0</td>\n",
       "      <td>0</td>\n",
       "      <td>0</td>\n",
       "    </tr>\n",
       "    <tr>\n",
       "      <th>84</th>\n",
       "      <td>3</td>\n",
       "      <td>14146</td>\n",
       "      <td>2019-06-10 19:46:00+00:00</td>\n",
       "      <td>bh-w-mobo-c</td>\n",
       "      <td>0.0</td>\n",
       "      <td>0.0</td>\n",
       "      <td>0.045441</td>\n",
       "      <td>test</td>\n",
       "      <td>NaN</td>\n",
       "      <td>NaN</td>\n",
       "      <td>...</td>\n",
       "      <td>0.0</td>\n",
       "      <td>0.0</td>\n",
       "      <td>../../data/processed/wfabba_sliding_window_new...</td>\n",
       "      <td>0.000000</td>\n",
       "      <td>0</td>\n",
       "      <td>0</td>\n",
       "      <td>0</td>\n",
       "      <td>0</td>\n",
       "      <td>0</td>\n",
       "      <td>0</td>\n",
       "    </tr>\n",
       "    <tr>\n",
       "      <th>85</th>\n",
       "      <td>4</td>\n",
       "      <td>14147</td>\n",
       "      <td>2019-06-10 19:47:00+00:00</td>\n",
       "      <td>bh-w-mobo-c</td>\n",
       "      <td>0.0</td>\n",
       "      <td>0.0</td>\n",
       "      <td>0.041626</td>\n",
       "      <td>test</td>\n",
       "      <td>NaN</td>\n",
       "      <td>NaN</td>\n",
       "      <td>...</td>\n",
       "      <td>0.0</td>\n",
       "      <td>0.0</td>\n",
       "      <td>../../data/processed/wfabba_sliding_window_new...</td>\n",
       "      <td>0.000000</td>\n",
       "      <td>0</td>\n",
       "      <td>0</td>\n",
       "      <td>0</td>\n",
       "      <td>0</td>\n",
       "      <td>0</td>\n",
       "      <td>0</td>\n",
       "    </tr>\n",
       "    <tr>\n",
       "      <th>...</th>\n",
       "      <td>...</td>\n",
       "      <td>...</td>\n",
       "      <td>...</td>\n",
       "      <td>...</td>\n",
       "      <td>...</td>\n",
       "      <td>...</td>\n",
       "      <td>...</td>\n",
       "      <td>...</td>\n",
       "      <td>...</td>\n",
       "      <td>...</td>\n",
       "      <td>...</td>\n",
       "      <td>...</td>\n",
       "      <td>...</td>\n",
       "      <td>...</td>\n",
       "      <td>...</td>\n",
       "      <td>...</td>\n",
       "      <td>...</td>\n",
       "      <td>...</td>\n",
       "      <td>...</td>\n",
       "      <td>...</td>\n",
       "      <td>...</td>\n",
       "    </tr>\n",
       "    <tr>\n",
       "      <th>10856</th>\n",
       "      <td>146</td>\n",
       "      <td>168290</td>\n",
       "      <td>2019-09-25 20:50:00+00:00</td>\n",
       "      <td>wc-s-mobo-c</td>\n",
       "      <td>1.0</td>\n",
       "      <td>0.0</td>\n",
       "      <td>0.048492</td>\n",
       "      <td>test</td>\n",
       "      <td>NaN</td>\n",
       "      <td>NaN</td>\n",
       "      <td>...</td>\n",
       "      <td>1.0</td>\n",
       "      <td>0.0</td>\n",
       "      <td>../../data/processed/wfabba_sliding_window_new...</td>\n",
       "      <td>0.298365</td>\n",
       "      <td>1</td>\n",
       "      <td>0</td>\n",
       "      <td>0</td>\n",
       "      <td>0</td>\n",
       "      <td>0</td>\n",
       "      <td>0</td>\n",
       "    </tr>\n",
       "    <tr>\n",
       "      <th>10857</th>\n",
       "      <td>147</td>\n",
       "      <td>168291</td>\n",
       "      <td>2019-09-25 20:51:00+00:00</td>\n",
       "      <td>wc-s-mobo-c</td>\n",
       "      <td>1.0</td>\n",
       "      <td>0.0</td>\n",
       "      <td>0.040527</td>\n",
       "      <td>test</td>\n",
       "      <td>NaN</td>\n",
       "      <td>NaN</td>\n",
       "      <td>...</td>\n",
       "      <td>1.0</td>\n",
       "      <td>0.0</td>\n",
       "      <td>../../data/processed/wfabba_sliding_window_new...</td>\n",
       "      <td>0.298365</td>\n",
       "      <td>1</td>\n",
       "      <td>0</td>\n",
       "      <td>0</td>\n",
       "      <td>0</td>\n",
       "      <td>0</td>\n",
       "      <td>0</td>\n",
       "    </tr>\n",
       "    <tr>\n",
       "      <th>10858</th>\n",
       "      <td>148</td>\n",
       "      <td>168292</td>\n",
       "      <td>2019-09-25 20:52:00+00:00</td>\n",
       "      <td>wc-s-mobo-c</td>\n",
       "      <td>1.0</td>\n",
       "      <td>0.0</td>\n",
       "      <td>0.046112</td>\n",
       "      <td>test</td>\n",
       "      <td>NaN</td>\n",
       "      <td>NaN</td>\n",
       "      <td>...</td>\n",
       "      <td>1.0</td>\n",
       "      <td>0.0</td>\n",
       "      <td>../../data/processed/wfabba_sliding_window_new...</td>\n",
       "      <td>0.298365</td>\n",
       "      <td>1</td>\n",
       "      <td>0</td>\n",
       "      <td>0</td>\n",
       "      <td>0</td>\n",
       "      <td>0</td>\n",
       "      <td>0</td>\n",
       "    </tr>\n",
       "    <tr>\n",
       "      <th>10859</th>\n",
       "      <td>149</td>\n",
       "      <td>168293</td>\n",
       "      <td>2019-09-25 20:53:00+00:00</td>\n",
       "      <td>wc-s-mobo-c</td>\n",
       "      <td>1.0</td>\n",
       "      <td>0.0</td>\n",
       "      <td>0.049866</td>\n",
       "      <td>test</td>\n",
       "      <td>NaN</td>\n",
       "      <td>NaN</td>\n",
       "      <td>...</td>\n",
       "      <td>1.0</td>\n",
       "      <td>0.0</td>\n",
       "      <td>../../data/processed/wfabba_sliding_window_new...</td>\n",
       "      <td>0.298365</td>\n",
       "      <td>1</td>\n",
       "      <td>0</td>\n",
       "      <td>0</td>\n",
       "      <td>0</td>\n",
       "      <td>0</td>\n",
       "      <td>0</td>\n",
       "    </tr>\n",
       "    <tr>\n",
       "      <th>10860</th>\n",
       "      <td>150</td>\n",
       "      <td>168294</td>\n",
       "      <td>2019-09-25 20:54:00+00:00</td>\n",
       "      <td>wc-s-mobo-c</td>\n",
       "      <td>1.0</td>\n",
       "      <td>0.0</td>\n",
       "      <td>0.044342</td>\n",
       "      <td>test</td>\n",
       "      <td>NaN</td>\n",
       "      <td>NaN</td>\n",
       "      <td>...</td>\n",
       "      <td>1.0</td>\n",
       "      <td>0.0</td>\n",
       "      <td>../../data/processed/wfabba_sliding_window_new...</td>\n",
       "      <td>0.298365</td>\n",
       "      <td>1</td>\n",
       "      <td>0</td>\n",
       "      <td>0</td>\n",
       "      <td>0</td>\n",
       "      <td>0</td>\n",
       "      <td>0</td>\n",
       "    </tr>\n",
       "  </tbody>\n",
       "</table>\n",
       "<p>5565 rows × 40 columns</p>\n",
       "</div>"
      ],
      "text/plain": [
       "       index  Unnamed: 0                  timestamp  camera_name  image_gt  \\\n",
       "81         0       14143  2019-06-10 19:43:00+00:00  bh-w-mobo-c       0.0   \n",
       "82         1       14144  2019-06-10 19:44:00+00:00  bh-w-mobo-c       0.0   \n",
       "83         2       14145  2019-06-10 19:45:00+00:00  bh-w-mobo-c       0.0   \n",
       "84         3       14146  2019-06-10 19:46:00+00:00  bh-w-mobo-c       0.0   \n",
       "85         4       14147  2019-06-10 19:47:00+00:00  bh-w-mobo-c       0.0   \n",
       "...      ...         ...                        ...          ...       ...   \n",
       "10856    146      168290  2019-09-25 20:50:00+00:00  wc-s-mobo-c       1.0   \n",
       "10857    147      168291  2019-09-25 20:51:00+00:00  wc-s-mobo-c       1.0   \n",
       "10858    148      168292  2019-09-25 20:52:00+00:00  wc-s-mobo-c       1.0   \n",
       "10859    149      168293  2019-09-25 20:53:00+00:00  wc-s-mobo-c       1.0   \n",
       "10860    150      168294  2019-09-25 20:54:00+00:00  wc-s-mobo-c       1.0   \n",
       "\n",
       "       smokeynet_pred  image_prob  type  \\\n",
       "81                0.0    0.036438  test   \n",
       "82                0.0    0.036499  test   \n",
       "83                0.0    0.041779  test   \n",
       "84                0.0    0.045441  test   \n",
       "85                0.0    0.041626  test   \n",
       "...               ...         ...   ...   \n",
       "10856             0.0    0.048492  test   \n",
       "10857             0.0    0.040527  test   \n",
       "10858             0.0    0.046112  test   \n",
       "10859             0.0    0.049866  test   \n",
       "10860             0.0    0.044342  test   \n",
       "\n",
       "      WFABBA_GOES16_timestamp_converted_rounded WFABBA_GOES16_geometry  ...  \\\n",
       "81                                          NaN                    NaN  ...   \n",
       "82                                          NaN                    NaN  ...   \n",
       "83                                          NaN                    NaN  ...   \n",
       "84                                          NaN                    NaN  ...   \n",
       "85                                          NaN                    NaN  ...   \n",
       "...                                         ...                    ...  ...   \n",
       "10856                                       NaN                    NaN  ...   \n",
       "10857                                       NaN                    NaN  ...   \n",
       "10858                                       NaN                    NaN  ...   \n",
       "10859                                       NaN                    NaN  ...   \n",
       "10860                                       NaN                    NaN  ...   \n",
       "\n",
       "       final_vote  majority_vote_pred  \\\n",
       "81            0.0                 0.0   \n",
       "82            0.0                 0.0   \n",
       "83            0.0                 0.0   \n",
       "84            0.0                 0.0   \n",
       "85            0.0                 0.0   \n",
       "...           ...                 ...   \n",
       "10856         1.0                 0.0   \n",
       "10857         1.0                 0.0   \n",
       "10858         1.0                 0.0   \n",
       "10859         1.0                 0.0   \n",
       "10860         1.0                 0.0   \n",
       "\n",
       "                                                    file  weighted_avg  \\\n",
       "81     ../../data/processed/wfabba_sliding_window_new...      0.000000   \n",
       "82     ../../data/processed/wfabba_sliding_window_new...      0.000000   \n",
       "83     ../../data/processed/wfabba_sliding_window_new...      0.000000   \n",
       "84     ../../data/processed/wfabba_sliding_window_new...      0.000000   \n",
       "85     ../../data/processed/wfabba_sliding_window_new...      0.000000   \n",
       "...                                                  ...           ...   \n",
       "10856  ../../data/processed/wfabba_sliding_window_new...      0.298365   \n",
       "10857  ../../data/processed/wfabba_sliding_window_new...      0.298365   \n",
       "10858  ../../data/processed/wfabba_sliding_window_new...      0.298365   \n",
       "10859  ../../data/processed/wfabba_sliding_window_new...      0.298365   \n",
       "10860  ../../data/processed/wfabba_sliding_window_new...      0.298365   \n",
       "\n",
       "       thresh2  thresh3  thresh4  thresh5  thresh6 thresh7  \n",
       "81           0        0        0        0        0       0  \n",
       "82           0        0        0        0        0       0  \n",
       "83           0        0        0        0        0       0  \n",
       "84           0        0        0        0        0       0  \n",
       "85           0        0        0        0        0       0  \n",
       "...        ...      ...      ...      ...      ...     ...  \n",
       "10856        1        0        0        0        0       0  \n",
       "10857        1        0        0        0        0       0  \n",
       "10858        1        0        0        0        0       0  \n",
       "10859        1        0        0        0        0       0  \n",
       "10860        1        0        0        0        0       0  \n",
       "\n",
       "[5565 rows x 40 columns]"
      ]
     },
     "execution_count": 225,
     "metadata": {},
     "output_type": "execute_result"
    }
   ],
   "source": [
    "# weighted average voting\n",
    "\n",
    "#Voting weights based off of the accuracies of the baseline SmokeyNet, WFABBA GOES-16, & WFABBA GOES-17 models\n",
    "# smokeynet_weight = 0.7797790994052677\n",
    "# goes16_weight = 0.513338997451147\n",
    "# goes17_weight = 0.5634664401019541\n",
    "\n",
    "smokeynet_weight = 0.8300089847259658\n",
    "goes16_weight = 0.5268643306379155\n",
    "goes17_weight = 0.5769991015274034\n",
    "\n",
    "master_copy_df[\"weighted_avg\"]  = \\\n",
    "    ((smokeynet_weight * smokeynet_preds) + (goes16_weight * goes16_preds) + (goes17_weight * goes17_preds)) \\\n",
    "    / (smokeynet_weight + goes16_weight + goes17_weight)\n",
    "\n",
    "# voting threshold 0.2\n",
    "master_copy_df[\"thresh2\"] = master_copy_df[\"weighted_avg\"] >= 0.2\n",
    "master_copy_df[\"thresh2\"] = master_copy_df[\"thresh2\"].astype(int)\n",
    "\n",
    "# voting threshold 0.3\n",
    "master_copy_df[\"thresh3\"] = master_copy_df[\"weighted_avg\"] >= 0.3\n",
    "master_copy_df[\"thresh3\"] = master_copy_df[\"thresh3\"].astype(int)\n",
    "\n",
    "# voting threshold 0.4\n",
    "master_copy_df[\"thresh4\"] = master_copy_df[\"weighted_avg\"] >= 0.4\n",
    "master_copy_df[\"thresh4\"] = master_copy_df[\"thresh4\"].astype(int)\n",
    "\n",
    "# voting threshold 0.5\n",
    "master_copy_df[\"thresh5\"] = master_copy_df[\"weighted_avg\"] >= 0.5\n",
    "master_copy_df[\"thresh5\"] = master_copy_df[\"thresh5\"].astype(int)\n",
    "\n",
    "# voting threshold 0.6\n",
    "master_copy_df[\"thresh6\"] = master_copy_df[\"weighted_avg\"] >= 0.6\n",
    "master_copy_df[\"thresh6\"] = master_copy_df[\"thresh6\"].astype(int)\n",
    "\n",
    "# voting threshold 0.7\n",
    "master_copy_df[\"thresh7\"] = master_copy_df[\"weighted_avg\"] >= 0.7\n",
    "master_copy_df[\"thresh7\"] = master_copy_df[\"thresh7\"].astype(int)\n",
    "\n",
    "master_copy_df"
   ]
  },
  {
   "cell_type": "code",
   "execution_count": null,
   "id": "9a13658d",
   "metadata": {},
   "outputs": [],
   "source": []
  },
  {
   "cell_type": "markdown",
   "id": "cf44c4fa",
   "metadata": {},
   "source": [
    "### 0.2 voting threshold accuracy, precision, recall, F1"
   ]
  },
  {
   "cell_type": "code",
   "execution_count": 226,
   "id": "21cb5957",
   "metadata": {},
   "outputs": [],
   "source": [
    "acc_thresh2 = accuracy_score(image_labels, master_copy_df[\"thresh2\"])"
   ]
  },
  {
   "cell_type": "code",
   "execution_count": 227,
   "id": "b4730438",
   "metadata": {},
   "outputs": [],
   "source": [
    "p_thresh2, r_thresh2, f_thresh2, s_thresh2 = precision_recall_fscore_support(image_labels, master_copy_df[\"thresh2\"], average = 'binary')"
   ]
  },
  {
   "cell_type": "markdown",
   "id": "e20f2ff1",
   "metadata": {},
   "source": [
    "### 0.3 voting threshold accuracy, precision, recall, F1"
   ]
  },
  {
   "cell_type": "code",
   "execution_count": 228,
   "id": "0ec101f3",
   "metadata": {},
   "outputs": [],
   "source": [
    "acc_thresh3 = accuracy_score(image_labels, master_copy_df[\"thresh3\"])"
   ]
  },
  {
   "cell_type": "code",
   "execution_count": 229,
   "id": "e3bd3266",
   "metadata": {},
   "outputs": [],
   "source": [
    "p_thresh3, r_thresh3, f_thresh3, s_thresh3 = precision_recall_fscore_support(image_labels, master_copy_df[\"thresh3\"], average = 'binary')"
   ]
  },
  {
   "cell_type": "markdown",
   "id": "40ff3e02",
   "metadata": {},
   "source": [
    "### 0.4 voting threshold accuracy, precision, recall, F1"
   ]
  },
  {
   "cell_type": "code",
   "execution_count": 230,
   "id": "4eec15a1",
   "metadata": {},
   "outputs": [],
   "source": [
    "acc_thresh4 = accuracy_score(image_labels, master_copy_df[\"thresh4\"])"
   ]
  },
  {
   "cell_type": "code",
   "execution_count": 231,
   "id": "5aa816f1",
   "metadata": {},
   "outputs": [],
   "source": [
    "p_thresh4, r_thresh4, f_thresh4, s_thresh4 = precision_recall_fscore_support(image_labels, master_copy_df[\"thresh4\"], average = 'binary')"
   ]
  },
  {
   "cell_type": "markdown",
   "id": "e546125e",
   "metadata": {},
   "source": [
    "### 0.5 voting threshold accuracy, precision, recall, F1"
   ]
  },
  {
   "cell_type": "code",
   "execution_count": 232,
   "id": "ebdb2bcf",
   "metadata": {},
   "outputs": [],
   "source": [
    "acc_thresh5 = accuracy_score(image_labels, master_copy_df[\"thresh5\"])"
   ]
  },
  {
   "cell_type": "code",
   "execution_count": 233,
   "id": "05d985d2",
   "metadata": {},
   "outputs": [],
   "source": [
    "p_thresh5, r_thresh5, f_thresh5, s_thresh5 = precision_recall_fscore_support(image_labels, master_copy_df[\"thresh5\"], average = 'binary')"
   ]
  },
  {
   "cell_type": "markdown",
   "id": "0b4f0556",
   "metadata": {},
   "source": [
    "### 0.6 voting threshold accuracy, precision, recall, F1"
   ]
  },
  {
   "cell_type": "code",
   "execution_count": 234,
   "id": "afe0b953",
   "metadata": {},
   "outputs": [],
   "source": [
    "acc_thresh6 = accuracy_score(image_labels, master_copy_df[\"thresh6\"])"
   ]
  },
  {
   "cell_type": "code",
   "execution_count": 235,
   "id": "0ff3418b",
   "metadata": {},
   "outputs": [],
   "source": [
    "p_thresh6, r_thresh6, f_thresh6, s_thresh6 = precision_recall_fscore_support(image_labels, master_copy_df[\"thresh6\"], average = 'binary')"
   ]
  },
  {
   "cell_type": "markdown",
   "id": "c35deed1",
   "metadata": {},
   "source": [
    "### 0.7 voting threshold accuracy, precision, recall, F1"
   ]
  },
  {
   "cell_type": "code",
   "execution_count": 236,
   "id": "a0ef24ec",
   "metadata": {},
   "outputs": [],
   "source": [
    "acc_thresh7 = accuracy_score(image_labels, master_copy_df[\"thresh7\"])"
   ]
  },
  {
   "cell_type": "code",
   "execution_count": 237,
   "id": "37e01c2b",
   "metadata": {},
   "outputs": [],
   "source": [
    "p_thresh7, r_thresh7, f_thresh7, s_thresh7 = precision_recall_fscore_support(image_labels, master_copy_df[\"thresh7\"], average = 'binary')"
   ]
  },
  {
   "cell_type": "markdown",
   "id": "2fcced13",
   "metadata": {},
   "source": [
    "### Ploting Accuracy & F1 of Weighted Vote Ensemble with Various Thresholds"
   ]
  },
  {
   "cell_type": "code",
   "execution_count": 238,
   "id": "c75463a0",
   "metadata": {},
   "outputs": [],
   "source": [
    "thresholds = [0.2,0.3,0.4,0.5,0.6,0.7]\n",
    "accuracies =  [acc_thresh2, acc_thresh3, acc_thresh4, acc_thresh5, acc_thresh6, acc_thresh7]\n",
    "f1s = [f_thresh2, f_thresh3, f_thresh4, f_thresh5, f_thresh6, f_thresh7]"
   ]
  },
  {
   "cell_type": "code",
   "execution_count": 27,
   "id": "2bf1c1e3",
   "metadata": {},
   "outputs": [
    {
     "data": {
      "text/plain": [
       "[0.7636032757051865,\n",
       " 0.7856232939035487,\n",
       " 0.7856232939035487,\n",
       " 0.6303912647861692,\n",
       " 0.6280254777070063,\n",
       " 0.6280254777070063]"
      ]
     },
     "execution_count": 27,
     "metadata": {},
     "output_type": "execute_result"
    }
   ],
   "source": [
    "accuracies"
   ]
  },
  {
   "cell_type": "code",
   "execution_count": 28,
   "id": "4d7b03d0",
   "metadata": {},
   "outputs": [
    {
     "data": {
      "text/plain": [
       "[0.7699663538161856,\n",
       " 0.7792353823088455,\n",
       " 0.7792353823088455,\n",
       " 0.47123145014319184,\n",
       " 0.44244408074195307,\n",
       " 0.44244408074195307]"
      ]
     },
     "execution_count": 28,
     "metadata": {},
     "output_type": "execute_result"
    }
   ],
   "source": [
    "f1s"
   ]
  },
  {
   "cell_type": "code",
   "execution_count": 239,
   "id": "7cb3c750",
   "metadata": {},
   "outputs": [
    {
     "name": "stdout",
     "output_type": "stream",
     "text": [
      "+-----------+--------------------+--------------------+---------+--------+\n",
      "| threshold |      accuracy      |         f1         | max_acc | max_f1 |\n",
      "+-----------+--------------------+--------------------+---------+--------+\n",
      "|    0.2    | 0.7243486073674753 | 0.7551085568326947 |         |        |\n",
      "|    0.3    | 0.7739442946990117 | 0.7813694820994093 |   max   |  max   |\n",
      "|    0.4    | 0.7739442946990117 | 0.7813694820994093 |         |        |\n",
      "|    0.5    | 0.6258760107816712 | 0.5543664383561644 |         |        |\n",
      "|    0.6    | 0.6819407008086253 | 0.5548289738430583 |         |        |\n",
      "|    0.7    | 0.6819407008086253 | 0.5548289738430583 |         |        |\n",
      "+-----------+--------------------+--------------------+---------+--------+\n"
     ]
    }
   ],
   "source": [
    "from prettytable import PrettyTable\n",
    "import numpy as np\n",
    "\n",
    "results_table = PrettyTable(['threshold', 'accuracy', 'f1', 'max_acc', 'max_f1'])\n",
    "max_acc_ind = accuracies.index(max(accuracies))\n",
    "max_acc = ['' if x != max_acc_ind else 'max' for x in range(len(accuracies))]\n",
    "max_f1_ind = f1s.index(max(f1s))\n",
    "max_f1 = ['' if x != max_f1_ind else 'max' for x in range(len(f1s))]\n",
    "results_table.add_rows(list(zip(thresholds, accuracies, f1s, max_acc, max_f1)))\n",
    "print (results_table)"
   ]
  },
  {
   "cell_type": "code",
   "execution_count": 68,
   "id": "681e1f35",
   "metadata": {},
   "outputs": [
    {
     "data": {
      "image/png": "[encoded data removed]",
      "text/plain": [
       "<Figure size 432x288 with 1 Axes>"
      ]
     },
     "metadata": {
      "needs_background": "light"
     },
     "output_type": "display_data"
    }
   ],
   "source": [
    "x_range = range(len(thresholds))\n",
    "plt.bar(x_range, accuracies, width = 0.5)\n",
    "plt.xlabel(\"Threshold\")\n",
    "plt.ylabel(\"Accuracy\")\n",
    "plt.xticks(x_range, thresholds)\n",
    "plt.show()"
   ]
  },
  {
   "cell_type": "code",
   "execution_count": 69,
   "id": "d71bd4d7",
   "metadata": {},
   "outputs": [
    {
     "data": {
      "image/png": "[encoded data removed]",
      "text/plain": [
       "<Figure size 432x288 with 1 Axes>"
      ]
     },
     "metadata": {
      "needs_background": "light"
     },
     "output_type": "display_data"
    }
   ],
   "source": [
    "x_range = range(len(thresholds))\n",
    "plt.bar(x_range, f1s, width = 0.5)\n",
    "plt.xlabel(\"Threshold\")\n",
    "plt.ylabel(\"F1\")\n",
    "plt.xticks(x_range, thresholds)\n",
    "plt.show()"
   ]
  },
  {
   "cell_type": "code",
   "execution_count": null,
   "id": "ca7d7590",
   "metadata": {},
   "outputs": [],
   "source": []
  }
 ],
 "metadata": {
  "kernelspec": {
   "display_name": "Python 3.8.8 ('smokey')",
   "language": "python",
   "name": "python3"
  },
  "language_info": {
   "codemirror_mode": {
    "name": "ipython",
    "version": 3
   },
   "file_extension": ".py",
   "mimetype": "text/x-python",
   "name": "python",
   "nbconvert_exporter": "python",
   "pygments_lexer": "ipython3",
   "version": "3.8.8"
  },
  "vscode": {
   "interpreter": {
    "hash": "afe615d3e7b8e36a1b63b69c45193ee0f50b2887d76ad336f7f33d5b9a253dea"
   }
  }
 },
 "nbformat": 4,
 "nbformat_minor": 5
}
