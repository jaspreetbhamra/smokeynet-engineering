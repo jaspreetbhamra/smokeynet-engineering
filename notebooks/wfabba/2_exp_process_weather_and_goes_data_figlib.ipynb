{
 "cells": [
  {
   "cell_type": "code",
   "execution_count": 169,
   "id": "3db0f3ce",
   "metadata": {},
   "outputs": [],
   "source": [
    "import pandas as pd\n",
    "import urllib.request\n",
    "import datetime as dt\n",
    "import requests\n",
    "import os\n",
    "from bs4 import BeautifulSoup\n",
    "from datetime import datetime, timedelta\n",
    "from haversine import haversine, Unit\n",
    "from shapely.geometry import Point\n",
    "import geopandas as gpd\n",
    "from geopandas import GeoDataFrame\n",
    "import pytz\n",
    "from sklearn.metrics import accuracy_score\n",
    "import numpy as np\n",
    "from prettytable import PrettyTable\n",
    "from tqdm import tqdm\n",
    "from matplotlib import pyplot as plt\n",
    "import seaborn as sn\n",
    "from sklearn.metrics import confusion_matrix\n",
    "import hts\n",
    "import glob\n",
    "from statistics import mean\n",
    "\n",
    "from xgboost import XGBClassifier, XGBRegressor\n",
    "from sklearn.metrics import accuracy_score\n",
    "from sklearn.model_selection import train_test_split, RepeatedStratifiedKFold, RepeatedKFold\n",
    "from sklearn.linear_model import LogisticRegression\n",
    "from sklearn.linear_model import SGDClassifier\n",
    "from sklearn import svm\n",
    "from sklearn.ensemble import AdaBoostClassifier\n",
    "from sklearn.ensemble import GradientBoostingClassifier\n",
    "from sklearn.model_selection import cross_val_score\n",
    "from sklearn.neighbors import KNeighborsClassifier\n",
    "from numpy import mean, std\n",
    "from sklearn.preprocessing import OneHotEncoder\n",
    "import numpy as np\n",
    "from scipy.stats import zscore\n",
    "\n",
    "pd.set_option('display.max_columns', None)\n",
    "p = print"
   ]
  },
  {
   "cell_type": "markdown",
   "id": "ff2eb2cc-feb2-4002-934a-3bc2e6b0946d",
   "metadata": {},
   "source": [
    "## 1) Read in the Weather Data"
   ]
  },
  {
   "cell_type": "code",
   "execution_count": 170,
   "id": "dda350b5",
   "metadata": {},
   "outputs": [],
   "source": [
    "# definte the processed and raw data directories\n",
    "processed_data_dir = \"../../data/processed/weather/\"\n",
    "raw_data_dir = \"../../data/raw/\""
   ]
  },
  {
   "cell_type": "code",
   "execution_count": 171,
   "id": "bc821454",
   "metadata": {},
   "outputs": [],
   "source": [
    "weather_df = pd.read_csv(os.path.join(raw_data_dir, \"weather_data\", \"weather_vectors_intrapolated.csv\"))"
   ]
  },
  {
   "cell_type": "code",
   "execution_count": 172,
   "id": "37701a7f",
   "metadata": {},
   "outputs": [
    {
     "data": {
      "text/html": [
       "<div>\n",
       "<style scoped>\n",
       "    .dataframe tbody tr th:only-of-type {\n",
       "        vertical-align: middle;\n",
       "    }\n",
       "\n",
       "    .dataframe tbody tr th {\n",
       "        vertical-align: top;\n",
       "    }\n",
       "\n",
       "    .dataframe thead th {\n",
       "        text-align: right;\n",
       "    }\n",
       "</style>\n",
       "<table border=\"1\" class=\"dataframe\">\n",
       "  <thead>\n",
       "    <tr style=\"text-align: right;\">\n",
       "      <th></th>\n",
       "      <th>image_name</th>\n",
       "      <th>air_temp_set_1</th>\n",
       "      <th>relative_humidity_set_1</th>\n",
       "      <th>wind_speed_set_1</th>\n",
       "      <th>wind_gust_set_1</th>\n",
       "      <th>wind_direction_set_1</th>\n",
       "      <th>dew_point_temperature_set_1d</th>\n",
       "      <th>u</th>\n",
       "      <th>v</th>\n",
       "      <th>fire_name</th>\n",
       "    </tr>\n",
       "  </thead>\n",
       "  <tbody>\n",
       "    <tr>\n",
       "      <th>0</th>\n",
       "      <td>20190813_Topanga_69bravo-n-mobo/1565728842_-02400</td>\n",
       "      <td>-0.24240</td>\n",
       "      <td>0.29580</td>\n",
       "      <td>-1.43280</td>\n",
       "      <td>-1.37160</td>\n",
       "      <td>-0.495405</td>\n",
       "      <td>0.27720</td>\n",
       "      <td>-0.801122</td>\n",
       "      <td>0.283772</td>\n",
       "      <td>20190813_Topanga_69bravo-n-mobo</td>\n",
       "    </tr>\n",
       "    <tr>\n",
       "      <th>1</th>\n",
       "      <td>20190813_Topanga_69bravo-n-mobo/1565728902_-02340</td>\n",
       "      <td>-0.24678</td>\n",
       "      <td>0.29886</td>\n",
       "      <td>-1.42254</td>\n",
       "      <td>-1.38012</td>\n",
       "      <td>-0.489574</td>\n",
       "      <td>0.27522</td>\n",
       "      <td>-0.805174</td>\n",
       "      <td>0.279306</td>\n",
       "      <td>20190813_Topanga_69bravo-n-mobo</td>\n",
       "    </tr>\n",
       "    <tr>\n",
       "      <th>2</th>\n",
       "      <td>20190813_Topanga_69bravo-n-mobo/1565728962_-02280</td>\n",
       "      <td>-0.25116</td>\n",
       "      <td>0.30192</td>\n",
       "      <td>-1.41228</td>\n",
       "      <td>-1.38864</td>\n",
       "      <td>-0.483743</td>\n",
       "      <td>0.27324</td>\n",
       "      <td>-0.809226</td>\n",
       "      <td>0.274841</td>\n",
       "      <td>20190813_Topanga_69bravo-n-mobo</td>\n",
       "    </tr>\n",
       "    <tr>\n",
       "      <th>3</th>\n",
       "      <td>20190813_Topanga_69bravo-n-mobo/1565729022_-02220</td>\n",
       "      <td>-0.25554</td>\n",
       "      <td>0.30498</td>\n",
       "      <td>-1.40202</td>\n",
       "      <td>-1.39716</td>\n",
       "      <td>-0.477912</td>\n",
       "      <td>0.27126</td>\n",
       "      <td>-0.813278</td>\n",
       "      <td>0.270375</td>\n",
       "      <td>20190813_Topanga_69bravo-n-mobo</td>\n",
       "    </tr>\n",
       "    <tr>\n",
       "      <th>4</th>\n",
       "      <td>20190813_Topanga_69bravo-n-mobo/1565729082_-02160</td>\n",
       "      <td>-0.25992</td>\n",
       "      <td>0.30804</td>\n",
       "      <td>-1.39176</td>\n",
       "      <td>-1.40568</td>\n",
       "      <td>-0.472081</td>\n",
       "      <td>0.26928</td>\n",
       "      <td>-0.817330</td>\n",
       "      <td>0.265910</td>\n",
       "      <td>20190813_Topanga_69bravo-n-mobo</td>\n",
       "    </tr>\n",
       "  </tbody>\n",
       "</table>\n",
       "</div>"
      ],
      "text/plain": [
       "                                          image_name  air_temp_set_1  \\\n",
       "0  20190813_Topanga_69bravo-n-mobo/1565728842_-02400        -0.24240   \n",
       "1  20190813_Topanga_69bravo-n-mobo/1565728902_-02340        -0.24678   \n",
       "2  20190813_Topanga_69bravo-n-mobo/1565728962_-02280        -0.25116   \n",
       "3  20190813_Topanga_69bravo-n-mobo/1565729022_-02220        -0.25554   \n",
       "4  20190813_Topanga_69bravo-n-mobo/1565729082_-02160        -0.25992   \n",
       "\n",
       "   relative_humidity_set_1  wind_speed_set_1  wind_gust_set_1  \\\n",
       "0                  0.29580          -1.43280         -1.37160   \n",
       "1                  0.29886          -1.42254         -1.38012   \n",
       "2                  0.30192          -1.41228         -1.38864   \n",
       "3                  0.30498          -1.40202         -1.39716   \n",
       "4                  0.30804          -1.39176         -1.40568   \n",
       "\n",
       "   wind_direction_set_1  dew_point_temperature_set_1d         u         v  \\\n",
       "0             -0.495405                       0.27720 -0.801122  0.283772   \n",
       "1             -0.489574                       0.27522 -0.805174  0.279306   \n",
       "2             -0.483743                       0.27324 -0.809226  0.274841   \n",
       "3             -0.477912                       0.27126 -0.813278  0.270375   \n",
       "4             -0.472081                       0.26928 -0.817330  0.265910   \n",
       "\n",
       "                         fire_name  \n",
       "0  20190813_Topanga_69bravo-n-mobo  \n",
       "1  20190813_Topanga_69bravo-n-mobo  \n",
       "2  20190813_Topanga_69bravo-n-mobo  \n",
       "3  20190813_Topanga_69bravo-n-mobo  \n",
       "4  20190813_Topanga_69bravo-n-mobo  "
      ]
     },
     "execution_count": 172,
     "metadata": {},
     "output_type": "execute_result"
    }
   ],
   "source": [
    "weather_df.head()\n",
    "# weather_df.shape"
   ]
  },
  {
   "cell_type": "code",
   "execution_count": 173,
   "id": "e3666767",
   "metadata": {},
   "outputs": [],
   "source": [
    "# read in camera metadata\n",
    "# camera_metadata_df = pd.read_csv(\"../../data/processed/camera_metadata_hpwren.csv\")\n",
    "# read in camera metadata\n",
    "camera_metadata_df = pd.read_csv(\"../../data/processed/camera_image_id_mappings.csv\")\n",
    "# camera_metadata_df"
   ]
  },
  {
   "cell_type": "markdown",
   "id": "ca2eedd5",
   "metadata": {},
   "source": [
    "## GOES data"
   ]
  },
  {
   "cell_type": "code",
   "execution_count": null,
   "id": "08fbe077",
   "metadata": {},
   "outputs": [],
   "source": [
    "# processed_data_dir = \"../../data/processed/wfabba\"\n",
    "# processed_data_dir = \"../../data/processed/wfabba_sliding/\"\n",
    "# processed_data_dir = \"../../data/processed/wfabba_sliding_window_nearest_20min/\"\n",
    "processed_data_dir = \"../../data/processed/wfabba_sliding_window_new_data/\"\n",
    "# processed_data_dir = \"../../data/processed/wfabba_sliding_window_nearest_without_code_15/\"\n",
    "csv_suffix = \"_all_hard_voting_35_window_20.csv\"\n",
    "# csv_suffix = \"_all_hard_voting_35.csv\"\n",
    "\n",
    "csv_files = glob.glob(os.path.join(processed_data_dir, f\"*{csv_suffix}\"))\n",
    "  \n",
    "master_df = pd.DataFrame()\n",
    "    \n",
    "# loop over the list of csv files\n",
    "for f in csv_files:\n",
    "    df = pd.read_csv(f)\n",
    "    df[\"file\"] = f\n",
    "    master_df = pd.concat([master_df, df])\n",
    "    \n",
    "master_df = master_df.reset_index()\n",
    "master_df = master_df.drop(columns=[\"index\", \"Unnamed: 0\"])\n",
    "# master_df\n",
    "master_df = master_df.rename(columns={\"image_pred\":\"smokeynet_pred\", \"final_pred\":\"majority_vote_pred\"})\n",
    "# master_df\n",
    "# get only the test data\n",
    "master_copy_df = master_df[master_df[\"type\"] == \"test\"].copy()\n",
    "valid_copy_df = master_df[master_df[\"type\"] == \"valid\"].copy()\n",
    "\n",
    "# if either one of the 2 has code 15, let it remain in the df\n",
    "condition = ((~master_copy_df[\"image_gt\"].isna()) \n",
    "            # & (master_copy_df[\"WFABBA_GOES16_Code\"] != 15) \n",
    "            # & (master_copy_df[\"WFABBA_GOES17_Code\"] != 15)\n",
    ")\n",
    "valid_condition = ((~valid_copy_df[\"image_gt\"].isna()) \n",
    "            # & (master_copy_df[\"WFABBA_GOES16_Code\"] != 15) \n",
    "            # & (master_copy_df[\"WFABBA_GOES17_Code\"] != 15)\n",
    ")\n",
    "\n",
    "# Calculate the baseline accuracies of the individual models and the hard vote ensemble\n",
    "image_labels = master_copy_df[condition][\"image_gt\"]\n",
    "smokeynet_preds = master_copy_df[condition][\"smokeynet_pred\"]\n",
    "goes16_preds = master_copy_df[condition][\"goes16_pred\"]\n",
    "goes17_preds = master_copy_df[condition][\"goes17_pred\"]\n",
    "hard_vote_ensemble_preds = master_copy_df[condition][\"majority_vote_pred\"]"
   ]
  },
  {
   "cell_type": "markdown",
   "id": "26bcf73d",
   "metadata": {},
   "source": [
    "## Match Time DF with SmokeyNet"
   ]
  },
  {
   "cell_type": "code",
   "execution_count": 174,
   "id": "37c97395",
   "metadata": {},
   "outputs": [],
   "source": [
    "#Create dataframe for every minute of specified time period\n",
    "times = []\n",
    "start = datetime(2019, 6 , 1, 0, 0, 0, 0, pytz.UTC)\n",
    "end = datetime(2021, 7, 11, 23, 59, 0, 0, pytz.UTC)\n",
    "\n",
    "while start <= end:\n",
    "    times.append(start)\n",
    "    start = start + timedelta(minutes = 1)\n",
    "\n",
    "minutes_df = pd.DataFrame(times, columns = [\"timestamp\"])\n",
    "# minutes_df"
   ]
  },
  {
   "cell_type": "code",
   "execution_count": 175,
   "id": "67f0b450",
   "metadata": {},
   "outputs": [],
   "source": [
    "# Create training SmokeyNet df\n",
    "# df_test = pd.read_json(raw_data_dir + \"smokeynet_test.json\", orient=\"index\").reset_index().rename(columns={\"index\":\"filepath\"})\n",
    "header = ['index', 'image_pred', 'image_prob', 'image_loss']\n",
    "df_train = pd.read_csv(\"../../data/raw/smokeynet_outputs/image_preds_train.csv\", names=header).rename(columns={\"index\":\"filepath\"})\n",
    "# df_test = pd.read_csv(\"../../data/raw/smokeynet_outputs/test_paper_baseline_version4_last_model_image_preds.csv\", names=header).rename(columns={\"index\":\"filepath\"})\n",
    "df_train[\"type\"] = \"train\"\n",
    "# df_test"
   ]
  },
  {
   "cell_type": "code",
   "execution_count": 176,
   "id": "ca69db18",
   "metadata": {},
   "outputs": [],
   "source": [
    "# Create testing SmokeyNet df\n",
    "# df_test = pd.read_json(raw_data_dir + \"smokeynet_test.json\", orient=\"index\").reset_index().rename(columns={\"index\":\"filepath\"})\n",
    "header = ['index', 'image_pred', 'image_prob', 'image_loss']\n",
    "df_test = pd.read_csv(\"../../data/raw/smokeynet_outputs/image_preds_test.csv\", names=header).rename(columns={\"index\":\"filepath\"})\n",
    "# df_test = pd.read_csv(\"../../data/raw/smokeynet_outputs/test_paper_baseline_version4_last_model_image_preds.csv\", names=header).rename(columns={\"index\":\"filepath\"})\n",
    "df_test[\"type\"] = \"test\"\n",
    "# df_test"
   ]
  },
  {
   "cell_type": "code",
   "execution_count": 177,
   "id": "dcc7dfc4",
   "metadata": {},
   "outputs": [],
   "source": [
    "#Create validating SmokeyNet df\n",
    "# df_valid = pd.read_json(raw_data_dir + \"smokeynet_valid.json\", orient=\"index\").reset_index().rename(columns={\"index\":\"filepath\"})\n",
    "header = ['index', 'image_pred', 'image_prob']\n",
    "df_valid = pd.read_csv(\"../../data/raw/smokeynet_outputs/image_preds_valid.csv\", names=header).rename(columns={\"index\":\"filepath\"})\n",
    "# df_valid = pd.read_csv(\"../../data/raw/smokeynet_outputs/val_paper_baseline_version4_last_model_image_preds.csv\", names=header).rename(columns={\"index\":\"filepath\"})\n",
    "df_valid[\"type\"] = \"valid\"\n",
    "# df_valid"
   ]
  },
  {
   "cell_type": "code",
   "execution_count": 178,
   "id": "883fb678",
   "metadata": {},
   "outputs": [],
   "source": [
    "#Join the SmokeyNet DFs together. For now just joining validation and test DFs\n",
    "df_labels = pd.concat([df_train, df_valid]).reset_index().drop(columns = [\"index\"])\n",
    "# df_labels = pd.concat([df_test, df_valid]).reset_index().drop(columns = [\"index\"])\n",
    "# df_labels"
   ]
  },
  {
   "cell_type": "code",
   "execution_count": 179,
   "id": "6c36a2cc",
   "metadata": {},
   "outputs": [
    {
     "data": {
      "text/plain": [
       "Index(['filepath', 'image_pred', 'image_prob', 'image_loss', 'type'], dtype='object')"
      ]
     },
     "execution_count": 179,
     "metadata": {},
     "output_type": "execute_result"
    }
   ],
   "source": [
    "df_labels.columns"
   ]
  },
  {
   "cell_type": "code",
   "execution_count": 180,
   "id": "bbc6f952",
   "metadata": {},
   "outputs": [
    {
     "data": {
      "text/html": [
       "<div>\n",
       "<style scoped>\n",
       "    .dataframe tbody tr th:only-of-type {\n",
       "        vertical-align: middle;\n",
       "    }\n",
       "\n",
       "    .dataframe tbody tr th {\n",
       "        vertical-align: top;\n",
       "    }\n",
       "\n",
       "    .dataframe thead th {\n",
       "        text-align: right;\n",
       "    }\n",
       "</style>\n",
       "<table border=\"1\" class=\"dataframe\">\n",
       "  <thead>\n",
       "    <tr style=\"text-align: right;\">\n",
       "      <th></th>\n",
       "      <th>filepath</th>\n",
       "      <th>image_pred</th>\n",
       "      <th>image_prob</th>\n",
       "      <th>image_loss</th>\n",
       "      <th>type</th>\n",
       "    </tr>\n",
       "  </thead>\n",
       "  <tbody>\n",
       "    <tr>\n",
       "      <th>0</th>\n",
       "      <td>20160722_FIRE_mw-e-mobo-c/1469220721_-02400</td>\n",
       "      <td>0</td>\n",
       "      <td>0.10</td>\n",
       "      <td>NaN</td>\n",
       "      <td>train</td>\n",
       "    </tr>\n",
       "    <tr>\n",
       "      <th>1</th>\n",
       "      <td>20160722_FIRE_mw-e-mobo-c/1469220781_-02340</td>\n",
       "      <td>0</td>\n",
       "      <td>0.09</td>\n",
       "      <td>NaN</td>\n",
       "      <td>train</td>\n",
       "    </tr>\n",
       "    <tr>\n",
       "      <th>2</th>\n",
       "      <td>20160722_FIRE_mw-e-mobo-c/1469220841_-02280</td>\n",
       "      <td>0</td>\n",
       "      <td>0.10</td>\n",
       "      <td>NaN</td>\n",
       "      <td>train</td>\n",
       "    </tr>\n",
       "    <tr>\n",
       "      <th>3</th>\n",
       "      <td>20160722_FIRE_mw-e-mobo-c/1469220901_-02220</td>\n",
       "      <td>0</td>\n",
       "      <td>0.10</td>\n",
       "      <td>NaN</td>\n",
       "      <td>train</td>\n",
       "    </tr>\n",
       "    <tr>\n",
       "      <th>4</th>\n",
       "      <td>20160722_FIRE_mw-e-mobo-c/1469220961_-02160</td>\n",
       "      <td>0</td>\n",
       "      <td>0.08</td>\n",
       "      <td>NaN</td>\n",
       "      <td>train</td>\n",
       "    </tr>\n",
       "    <tr>\n",
       "      <th>...</th>\n",
       "      <td>...</td>\n",
       "      <td>...</td>\n",
       "      <td>...</td>\n",
       "      <td>...</td>\n",
       "      <td>...</td>\n",
       "    </tr>\n",
       "    <tr>\n",
       "      <th>16317</th>\n",
       "      <td>20180806_FIRE_mg-s-mobo-c/1533578618_+02160</td>\n",
       "      <td>1</td>\n",
       "      <td>1.00</td>\n",
       "      <td>NaN</td>\n",
       "      <td>valid</td>\n",
       "    </tr>\n",
       "    <tr>\n",
       "      <th>16318</th>\n",
       "      <td>20180806_FIRE_mg-s-mobo-c/1533578678_+02220</td>\n",
       "      <td>1</td>\n",
       "      <td>1.00</td>\n",
       "      <td>NaN</td>\n",
       "      <td>valid</td>\n",
       "    </tr>\n",
       "    <tr>\n",
       "      <th>16319</th>\n",
       "      <td>20180806_FIRE_mg-s-mobo-c/1533578738_+02280</td>\n",
       "      <td>1</td>\n",
       "      <td>1.00</td>\n",
       "      <td>NaN</td>\n",
       "      <td>valid</td>\n",
       "    </tr>\n",
       "    <tr>\n",
       "      <th>16320</th>\n",
       "      <td>20180806_FIRE_mg-s-mobo-c/1533578798_+02340</td>\n",
       "      <td>1</td>\n",
       "      <td>1.00</td>\n",
       "      <td>NaN</td>\n",
       "      <td>valid</td>\n",
       "    </tr>\n",
       "    <tr>\n",
       "      <th>16321</th>\n",
       "      <td>20180806_FIRE_mg-s-mobo-c/1533578858_+02400</td>\n",
       "      <td>1</td>\n",
       "      <td>1.00</td>\n",
       "      <td>NaN</td>\n",
       "      <td>valid</td>\n",
       "    </tr>\n",
       "  </tbody>\n",
       "</table>\n",
       "<p>16322 rows × 5 columns</p>\n",
       "</div>"
      ],
      "text/plain": [
       "                                          filepath  image_pred  image_prob  \\\n",
       "0      20160722_FIRE_mw-e-mobo-c/1469220721_-02400           0        0.10   \n",
       "1      20160722_FIRE_mw-e-mobo-c/1469220781_-02340           0        0.09   \n",
       "2      20160722_FIRE_mw-e-mobo-c/1469220841_-02280           0        0.10   \n",
       "3      20160722_FIRE_mw-e-mobo-c/1469220901_-02220           0        0.10   \n",
       "4      20160722_FIRE_mw-e-mobo-c/1469220961_-02160           0        0.08   \n",
       "...                                            ...         ...         ...   \n",
       "16317  20180806_FIRE_mg-s-mobo-c/1533578618_+02160           1        1.00   \n",
       "16318  20180806_FIRE_mg-s-mobo-c/1533578678_+02220           1        1.00   \n",
       "16319  20180806_FIRE_mg-s-mobo-c/1533578738_+02280           1        1.00   \n",
       "16320  20180806_FIRE_mg-s-mobo-c/1533578798_+02340           1        1.00   \n",
       "16321  20180806_FIRE_mg-s-mobo-c/1533578858_+02400           1        1.00   \n",
       "\n",
       "       image_loss   type  \n",
       "0             NaN  train  \n",
       "1             NaN  train  \n",
       "2             NaN  train  \n",
       "3             NaN  train  \n",
       "4             NaN  train  \n",
       "...           ...    ...  \n",
       "16317         NaN  valid  \n",
       "16318         NaN  valid  \n",
       "16319         NaN  valid  \n",
       "16320         NaN  valid  \n",
       "16321         NaN  valid  \n",
       "\n",
       "[16322 rows x 5 columns]"
      ]
     },
     "execution_count": 180,
     "metadata": {},
     "output_type": "execute_result"
    }
   ],
   "source": [
    "df_labels"
   ]
  },
  {
   "cell_type": "code",
   "execution_count": 181,
   "id": "8463172e",
   "metadata": {},
   "outputs": [],
   "source": [
    "df_labels['camera_name'] = df_labels.filepath.str.split(\"/\").str[0]\n",
    "df_test['camera_name'] = df_test.filepath.str.split(\"/\").str[0]"
   ]
  },
  {
   "cell_type": "code",
   "execution_count": 182,
   "id": "07a6d991",
   "metadata": {},
   "outputs": [],
   "source": [
    "def get_ground_truth_label(image_name):\n",
    "    \"\"\"Description: Returns 1 if image_name has a + in it (ie. is a positive) or 0 otherwise\"\"\"\n",
    "    ground_truth_label = 1 if \"+\" in image_name else 0\n",
    "    return ground_truth_label\n",
    "\n",
    "df_labels['image_gt'] = df_labels.filepath.apply(get_ground_truth_label)\n",
    "df_test['image_gt'] = df_test.filepath.apply(get_ground_truth_label)"
   ]
  },
  {
   "cell_type": "code",
   "execution_count": 183,
   "id": "c1eaf3a4",
   "metadata": {},
   "outputs": [
    {
     "data": {
      "text/plain": [
       "(4880, 7)"
      ]
     },
     "execution_count": 183,
     "metadata": {},
     "output_type": "execute_result"
    }
   ],
   "source": [
    "accuracy_score(df_test['image_gt'], df_test['image_pred'])\n",
    "df_test.shape"
   ]
  },
  {
   "cell_type": "code",
   "execution_count": 106,
   "id": "56b9f188",
   "metadata": {},
   "outputs": [
    {
     "data": {
      "text/html": [
       "<div>\n",
       "<style scoped>\n",
       "    .dataframe tbody tr th:only-of-type {\n",
       "        vertical-align: middle;\n",
       "    }\n",
       "\n",
       "    .dataframe tbody tr th {\n",
       "        vertical-align: top;\n",
       "    }\n",
       "\n",
       "    .dataframe thead th {\n",
       "        text-align: right;\n",
       "    }\n",
       "</style>\n",
       "<table border=\"1\" class=\"dataframe\">\n",
       "  <thead>\n",
       "    <tr style=\"text-align: right;\">\n",
       "      <th></th>\n",
       "      <th>filepath</th>\n",
       "      <th>image_pred</th>\n",
       "      <th>image_prob</th>\n",
       "      <th>image_loss</th>\n",
       "      <th>type</th>\n",
       "      <th>camera_name</th>\n",
       "      <th>image_gt</th>\n",
       "    </tr>\n",
       "  </thead>\n",
       "  <tbody>\n",
       "    <tr>\n",
       "      <th>0</th>\n",
       "      <td>20160722_FIRE_mw-e-mobo-c/1469220721_-02400</td>\n",
       "      <td>0</td>\n",
       "      <td>0.10</td>\n",
       "      <td>NaN</td>\n",
       "      <td>train</td>\n",
       "      <td>20160722_FIRE_mw-e-mobo-c</td>\n",
       "      <td>0</td>\n",
       "    </tr>\n",
       "    <tr>\n",
       "      <th>1</th>\n",
       "      <td>20160722_FIRE_mw-e-mobo-c/1469220781_-02340</td>\n",
       "      <td>0</td>\n",
       "      <td>0.09</td>\n",
       "      <td>NaN</td>\n",
       "      <td>train</td>\n",
       "      <td>20160722_FIRE_mw-e-mobo-c</td>\n",
       "      <td>0</td>\n",
       "    </tr>\n",
       "    <tr>\n",
       "      <th>2</th>\n",
       "      <td>20160722_FIRE_mw-e-mobo-c/1469220841_-02280</td>\n",
       "      <td>0</td>\n",
       "      <td>0.10</td>\n",
       "      <td>NaN</td>\n",
       "      <td>train</td>\n",
       "      <td>20160722_FIRE_mw-e-mobo-c</td>\n",
       "      <td>0</td>\n",
       "    </tr>\n",
       "    <tr>\n",
       "      <th>3</th>\n",
       "      <td>20160722_FIRE_mw-e-mobo-c/1469220901_-02220</td>\n",
       "      <td>0</td>\n",
       "      <td>0.10</td>\n",
       "      <td>NaN</td>\n",
       "      <td>train</td>\n",
       "      <td>20160722_FIRE_mw-e-mobo-c</td>\n",
       "      <td>0</td>\n",
       "    </tr>\n",
       "    <tr>\n",
       "      <th>4</th>\n",
       "      <td>20160722_FIRE_mw-e-mobo-c/1469220961_-02160</td>\n",
       "      <td>0</td>\n",
       "      <td>0.08</td>\n",
       "      <td>NaN</td>\n",
       "      <td>train</td>\n",
       "      <td>20160722_FIRE_mw-e-mobo-c</td>\n",
       "      <td>0</td>\n",
       "    </tr>\n",
       "  </tbody>\n",
       "</table>\n",
       "</div>"
      ],
      "text/plain": [
       "                                      filepath  image_pred  image_prob  \\\n",
       "0  20160722_FIRE_mw-e-mobo-c/1469220721_-02400           0        0.10   \n",
       "1  20160722_FIRE_mw-e-mobo-c/1469220781_-02340           0        0.09   \n",
       "2  20160722_FIRE_mw-e-mobo-c/1469220841_-02280           0        0.10   \n",
       "3  20160722_FIRE_mw-e-mobo-c/1469220901_-02220           0        0.10   \n",
       "4  20160722_FIRE_mw-e-mobo-c/1469220961_-02160           0        0.08   \n",
       "\n",
       "   image_loss   type                camera_name  image_gt  \n",
       "0         NaN  train  20160722_FIRE_mw-e-mobo-c         0  \n",
       "1         NaN  train  20160722_FIRE_mw-e-mobo-c         0  \n",
       "2         NaN  train  20160722_FIRE_mw-e-mobo-c         0  \n",
       "3         NaN  train  20160722_FIRE_mw-e-mobo-c         0  \n",
       "4         NaN  train  20160722_FIRE_mw-e-mobo-c         0  "
      ]
     },
     "execution_count": 106,
     "metadata": {},
     "output_type": "execute_result"
    }
   ],
   "source": [
    "df_labels.head()"
   ]
  },
  {
   "cell_type": "code",
   "execution_count": 184,
   "id": "937024d2",
   "metadata": {},
   "outputs": [],
   "source": [
    "# set the date and year columns\n",
    "df_labels[\"date\"] = df_labels[\"camera_name\"].str.split(\"_\", n=1, expand=True)[0]\n",
    "df_labels[\"year\"] = df_labels[\"date\"].str[:4]\n",
    "df_labels[\"date\"] = pd.to_datetime(df_labels[\"date\"])\n",
    "# df_labels\n",
    "\n",
    "# keeping only entries from 2019-06-01 onwards\n",
    "# df_labels_filtered = df_labels[df_labels[\"date\"] >= \"2019-06-01\"].reset_index().drop(columns=[\"index\"])\n",
    "df_labels_filtered = df_labels.reset_index().drop(columns=[\"index\"])\n",
    "# df_labels_filtered\n",
    "\n",
    "#create time, datetime, event_name, camera_name attributes\n",
    "df_labels_filtered[\"time\"] = df_labels_filtered[\"filepath\"].str.split(\"/\").str[1]\n",
    "df_labels_filtered[\"time\"] = df_labels_filtered[\"time\"].str.split(\"_\").str[0]\n",
    "df_labels_filtered[\"datetime\"] = pd.to_datetime(df_labels_filtered[\"time\"], unit=\"s\", origin=\"unix\", utc=True)\n",
    "df_labels_filtered[\"event_name\"] = df_labels_filtered[\"filepath\"].str.split(\"/\").str[0]\n",
    "df_labels_filtered[\"camera_name\"] = df_labels_filtered[\"camera_name\"].str.split(\"_\").str[-1]\n",
    "# df_labels_filtered\n",
    "\n",
    "# join SmokeyNet data with camera metadata\n",
    "# df_labels_filtered = df_labels_filtered.merge(camera_metadata_df, left_on=\"camera_name\", right_on=\"image_id\", how=\"left\")\n",
    "# df_labels_filtered\n",
    "\n",
    "# convert joined SmokeyNet-camera metadata dataframe's coordinates from EPSG 4326 to EPSG 3310\n",
    "# coords = [Point(xy) for xy in zip(df_labels_filtered['long'], df_labels_filtered['lat'])]\n",
    "# df_labels_filtered = GeoDataFrame(df_labels_filtered, crs = \"EPSG:4326\", geometry = coords) \n",
    "# df_labels_filtered = df_labels_filtered.to_crs('EPSG:3310')\n",
    "# df_labels_filtered"
   ]
  },
  {
   "cell_type": "code",
   "execution_count": 185,
   "id": "066b0c60",
   "metadata": {},
   "outputs": [],
   "source": [
    "# set the date and year columns\n",
    "df_test[\"date\"] = df_test[\"camera_name\"].str.split(\"_\", n=1, expand=True)[0]\n",
    "df_test[\"year\"] = df_test[\"date\"].str[:4]\n",
    "df_test[\"date\"] = pd.to_datetime(df_test[\"date\"])\n",
    "# df_test\n",
    "\n",
    "# keeping only entries from 2019-06-01 onwards\n",
    "# df_test_filtered = df_test[df_test[\"date\"] >= \"2019-06-01\"].reset_index().drop(columns=[\"index\"])\n",
    "df_test_filtered = df_test.reset_index().drop(columns=[\"index\"])\n",
    "# df_test_filtered\n",
    "\n",
    "#create time, datetime, event_name, camera_name attributes\n",
    "df_test_filtered[\"time\"] = df_test_filtered[\"filepath\"].str.split(\"/\").str[1]\n",
    "df_test_filtered[\"time\"] = df_test_filtered[\"time\"].str.split(\"_\").str[0]\n",
    "df_test_filtered[\"datetime\"] = pd.to_datetime(df_test_filtered[\"time\"], unit=\"s\", origin=\"unix\", utc=True)\n",
    "df_test_filtered[\"event_name\"] = df_test_filtered[\"filepath\"].str.split(\"/\").str[0]\n",
    "df_test_filtered[\"camera_name\"] = df_test_filtered[\"camera_name\"].str.split(\"_\").str[-1]\n",
    "# df_test_filtered\n",
    "\n",
    "# join SmokeyNet data with camera metadata\n",
    "# df_test_filtered = df_test_filtered.merge(camera_metadata_df, left_on=\"camera_name\", right_on=\"image_id\", how=\"left\")\n",
    "# df_test_filtered\n",
    "\n",
    "# convert joined SmokeyNet-camera metadata dataframe's coordinates from EPSG 4326 to EPSG 3310\n",
    "# coords = [Point(xy) for xy in zip(df_test_filtered['long'], df_test_filtered['lat'])]\n",
    "# df_test_filtered = GeoDataFrame(df_test_filtered, crs = \"EPSG:4326\", geometry = coords) \n",
    "# df_test_filtered = df_test_filtered.to_crs('EPSG:3310')\n",
    "# df_test_filtered"
   ]
  },
  {
   "cell_type": "code",
   "execution_count": 16,
   "id": "98ced76a",
   "metadata": {},
   "outputs": [
    {
     "name": "stdout",
     "output_type": "stream",
     "text": [
      "(16322, 12)\n"
     ]
    },
    {
     "data": {
      "text/html": [
       "<div>\n",
       "<style scoped>\n",
       "    .dataframe tbody tr th:only-of-type {\n",
       "        vertical-align: middle;\n",
       "    }\n",
       "\n",
       "    .dataframe tbody tr th {\n",
       "        vertical-align: top;\n",
       "    }\n",
       "\n",
       "    .dataframe thead th {\n",
       "        text-align: right;\n",
       "    }\n",
       "</style>\n",
       "<table border=\"1\" class=\"dataframe\">\n",
       "  <thead>\n",
       "    <tr style=\"text-align: right;\">\n",
       "      <th></th>\n",
       "      <th>filepath</th>\n",
       "      <th>image_pred</th>\n",
       "      <th>image_prob</th>\n",
       "      <th>image_loss</th>\n",
       "      <th>type</th>\n",
       "      <th>camera_name</th>\n",
       "      <th>image_gt</th>\n",
       "      <th>date</th>\n",
       "      <th>year</th>\n",
       "      <th>time</th>\n",
       "      <th>datetime</th>\n",
       "      <th>event_name</th>\n",
       "    </tr>\n",
       "  </thead>\n",
       "  <tbody>\n",
       "    <tr>\n",
       "      <th>0</th>\n",
       "      <td>20160722_FIRE_mw-e-mobo-c/1469220721_-02400</td>\n",
       "      <td>0</td>\n",
       "      <td>0.10</td>\n",
       "      <td>NaN</td>\n",
       "      <td>train</td>\n",
       "      <td>mw-e-mobo-c</td>\n",
       "      <td>0</td>\n",
       "      <td>2016-07-22</td>\n",
       "      <td>2016</td>\n",
       "      <td>1469220721</td>\n",
       "      <td>2016-07-22 20:52:01+00:00</td>\n",
       "      <td>20160722_FIRE_mw-e-mobo-c</td>\n",
       "    </tr>\n",
       "    <tr>\n",
       "      <th>1</th>\n",
       "      <td>20160722_FIRE_mw-e-mobo-c/1469220781_-02340</td>\n",
       "      <td>0</td>\n",
       "      <td>0.09</td>\n",
       "      <td>NaN</td>\n",
       "      <td>train</td>\n",
       "      <td>mw-e-mobo-c</td>\n",
       "      <td>0</td>\n",
       "      <td>2016-07-22</td>\n",
       "      <td>2016</td>\n",
       "      <td>1469220781</td>\n",
       "      <td>2016-07-22 20:53:01+00:00</td>\n",
       "      <td>20160722_FIRE_mw-e-mobo-c</td>\n",
       "    </tr>\n",
       "    <tr>\n",
       "      <th>2</th>\n",
       "      <td>20160722_FIRE_mw-e-mobo-c/1469220841_-02280</td>\n",
       "      <td>0</td>\n",
       "      <td>0.10</td>\n",
       "      <td>NaN</td>\n",
       "      <td>train</td>\n",
       "      <td>mw-e-mobo-c</td>\n",
       "      <td>0</td>\n",
       "      <td>2016-07-22</td>\n",
       "      <td>2016</td>\n",
       "      <td>1469220841</td>\n",
       "      <td>2016-07-22 20:54:01+00:00</td>\n",
       "      <td>20160722_FIRE_mw-e-mobo-c</td>\n",
       "    </tr>\n",
       "    <tr>\n",
       "      <th>3</th>\n",
       "      <td>20160722_FIRE_mw-e-mobo-c/1469220901_-02220</td>\n",
       "      <td>0</td>\n",
       "      <td>0.10</td>\n",
       "      <td>NaN</td>\n",
       "      <td>train</td>\n",
       "      <td>mw-e-mobo-c</td>\n",
       "      <td>0</td>\n",
       "      <td>2016-07-22</td>\n",
       "      <td>2016</td>\n",
       "      <td>1469220901</td>\n",
       "      <td>2016-07-22 20:55:01+00:00</td>\n",
       "      <td>20160722_FIRE_mw-e-mobo-c</td>\n",
       "    </tr>\n",
       "    <tr>\n",
       "      <th>4</th>\n",
       "      <td>20160722_FIRE_mw-e-mobo-c/1469220961_-02160</td>\n",
       "      <td>0</td>\n",
       "      <td>0.08</td>\n",
       "      <td>NaN</td>\n",
       "      <td>train</td>\n",
       "      <td>mw-e-mobo-c</td>\n",
       "      <td>0</td>\n",
       "      <td>2016-07-22</td>\n",
       "      <td>2016</td>\n",
       "      <td>1469220961</td>\n",
       "      <td>2016-07-22 20:56:01+00:00</td>\n",
       "      <td>20160722_FIRE_mw-e-mobo-c</td>\n",
       "    </tr>\n",
       "  </tbody>\n",
       "</table>\n",
       "</div>"
      ],
      "text/plain": [
       "                                      filepath  image_pred  image_prob  \\\n",
       "0  20160722_FIRE_mw-e-mobo-c/1469220721_-02400           0        0.10   \n",
       "1  20160722_FIRE_mw-e-mobo-c/1469220781_-02340           0        0.09   \n",
       "2  20160722_FIRE_mw-e-mobo-c/1469220841_-02280           0        0.10   \n",
       "3  20160722_FIRE_mw-e-mobo-c/1469220901_-02220           0        0.10   \n",
       "4  20160722_FIRE_mw-e-mobo-c/1469220961_-02160           0        0.08   \n",
       "\n",
       "   image_loss   type  camera_name  image_gt       date  year        time  \\\n",
       "0         NaN  train  mw-e-mobo-c         0 2016-07-22  2016  1469220721   \n",
       "1         NaN  train  mw-e-mobo-c         0 2016-07-22  2016  1469220781   \n",
       "2         NaN  train  mw-e-mobo-c         0 2016-07-22  2016  1469220841   \n",
       "3         NaN  train  mw-e-mobo-c         0 2016-07-22  2016  1469220901   \n",
       "4         NaN  train  mw-e-mobo-c         0 2016-07-22  2016  1469220961   \n",
       "\n",
       "                   datetime                 event_name  \n",
       "0 2016-07-22 20:52:01+00:00  20160722_FIRE_mw-e-mobo-c  \n",
       "1 2016-07-22 20:53:01+00:00  20160722_FIRE_mw-e-mobo-c  \n",
       "2 2016-07-22 20:54:01+00:00  20160722_FIRE_mw-e-mobo-c  \n",
       "3 2016-07-22 20:55:01+00:00  20160722_FIRE_mw-e-mobo-c  \n",
       "4 2016-07-22 20:56:01+00:00  20160722_FIRE_mw-e-mobo-c  "
      ]
     },
     "execution_count": 16,
     "metadata": {},
     "output_type": "execute_result"
    }
   ],
   "source": [
    "p (df_labels_filtered.shape)\n",
    "df_labels_filtered.head()"
   ]
  },
  {
   "cell_type": "markdown",
   "id": "d4afde96",
   "metadata": {},
   "source": [
    "## Join SmokeyNet with Weather Data"
   ]
  },
  {
   "cell_type": "code",
   "execution_count": 186,
   "id": "9a9b0850",
   "metadata": {},
   "outputs": [],
   "source": [
    "df_smokey_and_weather = df_labels_filtered.merge(weather_df, left_on=\"filepath\", right_on=\"image_name\", how=\"inner\")\n",
    "df_test_smokey_and_weather = df_test_filtered.merge(weather_df, left_on=\"filepath\", right_on=\"image_name\", how=\"inner\")"
   ]
  },
  {
   "cell_type": "code",
   "execution_count": 187,
   "id": "abe89853",
   "metadata": {},
   "outputs": [
    {
     "name": "stdout",
     "output_type": "stream",
     "text": [
      "(15196, 22)\n",
      "(4799, 22) (4880, 12)\n"
     ]
    }
   ],
   "source": [
    "p (df_smokey_and_weather.loc[(df_smokey_and_weather.filepath == df_smokey_and_weather.image_name)].shape)\n",
    "df_smokey_and_weather.loc[(df_smokey_and_weather.filepath != df_smokey_and_weather.image_name)].head()\n",
    "\n",
    "p (df_test_smokey_and_weather.shape, df_test_filtered.shape)"
   ]
  },
  {
   "cell_type": "code",
   "execution_count": 188,
   "id": "f326e6fd",
   "metadata": {},
   "outputs": [
    {
     "name": "stdout",
     "output_type": "stream",
     "text": [
      "(15196, 22)\n",
      "(19995, 10)\n"
     ]
    },
    {
     "data": {
      "text/html": [
       "<div>\n",
       "<style scoped>\n",
       "    .dataframe tbody tr th:only-of-type {\n",
       "        vertical-align: middle;\n",
       "    }\n",
       "\n",
       "    .dataframe tbody tr th {\n",
       "        vertical-align: top;\n",
       "    }\n",
       "\n",
       "    .dataframe thead th {\n",
       "        text-align: right;\n",
       "    }\n",
       "</style>\n",
       "<table border=\"1\" class=\"dataframe\">\n",
       "  <thead>\n",
       "    <tr style=\"text-align: right;\">\n",
       "      <th></th>\n",
       "      <th>filepath</th>\n",
       "      <th>image_pred</th>\n",
       "      <th>image_prob</th>\n",
       "      <th>image_loss</th>\n",
       "      <th>type</th>\n",
       "      <th>camera_name</th>\n",
       "      <th>image_gt</th>\n",
       "      <th>date</th>\n",
       "      <th>year</th>\n",
       "      <th>time</th>\n",
       "      <th>datetime</th>\n",
       "      <th>event_name</th>\n",
       "      <th>image_name</th>\n",
       "      <th>air_temp_set_1</th>\n",
       "      <th>relative_humidity_set_1</th>\n",
       "      <th>wind_speed_set_1</th>\n",
       "      <th>wind_gust_set_1</th>\n",
       "      <th>wind_direction_set_1</th>\n",
       "      <th>dew_point_temperature_set_1d</th>\n",
       "      <th>u</th>\n",
       "      <th>v</th>\n",
       "      <th>fire_name</th>\n",
       "    </tr>\n",
       "  </thead>\n",
       "  <tbody>\n",
       "    <tr>\n",
       "      <th>0</th>\n",
       "      <td>20160722_FIRE_mw-e-mobo-c/1469220721_-02400</td>\n",
       "      <td>0</td>\n",
       "      <td>0.10</td>\n",
       "      <td>NaN</td>\n",
       "      <td>train</td>\n",
       "      <td>mw-e-mobo-c</td>\n",
       "      <td>0</td>\n",
       "      <td>2016-07-22</td>\n",
       "      <td>2016</td>\n",
       "      <td>1469220721</td>\n",
       "      <td>2016-07-22 20:52:01+00:00</td>\n",
       "      <td>20160722_FIRE_mw-e-mobo-c</td>\n",
       "      <td>20160722_FIRE_mw-e-mobo-c/1469220721_-02400</td>\n",
       "      <td>2.3790</td>\n",
       "      <td>-2.407800</td>\n",
       "      <td>0.1956</td>\n",
       "      <td>-0.027600</td>\n",
       "      <td>0.779526</td>\n",
       "      <td>-2.1906</td>\n",
       "      <td>1.061387</td>\n",
       "      <td>-0.138761</td>\n",
       "      <td>20160722_FIRE_mw-e-mobo-c</td>\n",
       "    </tr>\n",
       "    <tr>\n",
       "      <th>1</th>\n",
       "      <td>20160722_FIRE_mw-e-mobo-c/1469220781_-02340</td>\n",
       "      <td>0</td>\n",
       "      <td>0.09</td>\n",
       "      <td>NaN</td>\n",
       "      <td>train</td>\n",
       "      <td>mw-e-mobo-c</td>\n",
       "      <td>0</td>\n",
       "      <td>2016-07-22</td>\n",
       "      <td>2016</td>\n",
       "      <td>1469220781</td>\n",
       "      <td>2016-07-22 20:53:01+00:00</td>\n",
       "      <td>20160722_FIRE_mw-e-mobo-c</td>\n",
       "      <td>20160722_FIRE_mw-e-mobo-c/1469220781_-02340</td>\n",
       "      <td>2.3796</td>\n",
       "      <td>-2.393325</td>\n",
       "      <td>0.1431</td>\n",
       "      <td>-0.008625</td>\n",
       "      <td>0.775922</td>\n",
       "      <td>-2.1954</td>\n",
       "      <td>1.052444</td>\n",
       "      <td>-0.154334</td>\n",
       "      <td>20160722_FIRE_mw-e-mobo-c</td>\n",
       "    </tr>\n",
       "    <tr>\n",
       "      <th>2</th>\n",
       "      <td>20160722_FIRE_mw-e-mobo-c/1469220841_-02280</td>\n",
       "      <td>0</td>\n",
       "      <td>0.10</td>\n",
       "      <td>NaN</td>\n",
       "      <td>train</td>\n",
       "      <td>mw-e-mobo-c</td>\n",
       "      <td>0</td>\n",
       "      <td>2016-07-22</td>\n",
       "      <td>2016</td>\n",
       "      <td>1469220841</td>\n",
       "      <td>2016-07-22 20:54:01+00:00</td>\n",
       "      <td>20160722_FIRE_mw-e-mobo-c</td>\n",
       "      <td>20160722_FIRE_mw-e-mobo-c/1469220841_-02280</td>\n",
       "      <td>2.3802</td>\n",
       "      <td>-2.378850</td>\n",
       "      <td>0.0906</td>\n",
       "      <td>0.010350</td>\n",
       "      <td>0.772317</td>\n",
       "      <td>-2.2002</td>\n",
       "      <td>1.043501</td>\n",
       "      <td>-0.169907</td>\n",
       "      <td>20160722_FIRE_mw-e-mobo-c</td>\n",
       "    </tr>\n",
       "    <tr>\n",
       "      <th>3</th>\n",
       "      <td>20160722_FIRE_mw-e-mobo-c/1469220901_-02220</td>\n",
       "      <td>0</td>\n",
       "      <td>0.10</td>\n",
       "      <td>NaN</td>\n",
       "      <td>train</td>\n",
       "      <td>mw-e-mobo-c</td>\n",
       "      <td>0</td>\n",
       "      <td>2016-07-22</td>\n",
       "      <td>2016</td>\n",
       "      <td>1469220901</td>\n",
       "      <td>2016-07-22 20:55:01+00:00</td>\n",
       "      <td>20160722_FIRE_mw-e-mobo-c</td>\n",
       "      <td>20160722_FIRE_mw-e-mobo-c/1469220901_-02220</td>\n",
       "      <td>2.3808</td>\n",
       "      <td>-2.364375</td>\n",
       "      <td>0.0381</td>\n",
       "      <td>0.029325</td>\n",
       "      <td>0.768713</td>\n",
       "      <td>-2.2050</td>\n",
       "      <td>1.034558</td>\n",
       "      <td>-0.185480</td>\n",
       "      <td>20160722_FIRE_mw-e-mobo-c</td>\n",
       "    </tr>\n",
       "    <tr>\n",
       "      <th>4</th>\n",
       "      <td>20160722_FIRE_mw-e-mobo-c/1469220961_-02160</td>\n",
       "      <td>0</td>\n",
       "      <td>0.08</td>\n",
       "      <td>NaN</td>\n",
       "      <td>train</td>\n",
       "      <td>mw-e-mobo-c</td>\n",
       "      <td>0</td>\n",
       "      <td>2016-07-22</td>\n",
       "      <td>2016</td>\n",
       "      <td>1469220961</td>\n",
       "      <td>2016-07-22 20:56:01+00:00</td>\n",
       "      <td>20160722_FIRE_mw-e-mobo-c</td>\n",
       "      <td>20160722_FIRE_mw-e-mobo-c/1469220961_-02160</td>\n",
       "      <td>2.3814</td>\n",
       "      <td>-2.349900</td>\n",
       "      <td>-0.0144</td>\n",
       "      <td>0.048300</td>\n",
       "      <td>0.765108</td>\n",
       "      <td>-2.2098</td>\n",
       "      <td>1.025615</td>\n",
       "      <td>-0.201053</td>\n",
       "      <td>20160722_FIRE_mw-e-mobo-c</td>\n",
       "    </tr>\n",
       "  </tbody>\n",
       "</table>\n",
       "</div>"
      ],
      "text/plain": [
       "                                      filepath  image_pred  image_prob  \\\n",
       "0  20160722_FIRE_mw-e-mobo-c/1469220721_-02400           0        0.10   \n",
       "1  20160722_FIRE_mw-e-mobo-c/1469220781_-02340           0        0.09   \n",
       "2  20160722_FIRE_mw-e-mobo-c/1469220841_-02280           0        0.10   \n",
       "3  20160722_FIRE_mw-e-mobo-c/1469220901_-02220           0        0.10   \n",
       "4  20160722_FIRE_mw-e-mobo-c/1469220961_-02160           0        0.08   \n",
       "\n",
       "   image_loss   type  camera_name  image_gt       date  year        time  \\\n",
       "0         NaN  train  mw-e-mobo-c         0 2016-07-22  2016  1469220721   \n",
       "1         NaN  train  mw-e-mobo-c         0 2016-07-22  2016  1469220781   \n",
       "2         NaN  train  mw-e-mobo-c         0 2016-07-22  2016  1469220841   \n",
       "3         NaN  train  mw-e-mobo-c         0 2016-07-22  2016  1469220901   \n",
       "4         NaN  train  mw-e-mobo-c         0 2016-07-22  2016  1469220961   \n",
       "\n",
       "                   datetime                 event_name  \\\n",
       "0 2016-07-22 20:52:01+00:00  20160722_FIRE_mw-e-mobo-c   \n",
       "1 2016-07-22 20:53:01+00:00  20160722_FIRE_mw-e-mobo-c   \n",
       "2 2016-07-22 20:54:01+00:00  20160722_FIRE_mw-e-mobo-c   \n",
       "3 2016-07-22 20:55:01+00:00  20160722_FIRE_mw-e-mobo-c   \n",
       "4 2016-07-22 20:56:01+00:00  20160722_FIRE_mw-e-mobo-c   \n",
       "\n",
       "                                    image_name  air_temp_set_1  \\\n",
       "0  20160722_FIRE_mw-e-mobo-c/1469220721_-02400          2.3790   \n",
       "1  20160722_FIRE_mw-e-mobo-c/1469220781_-02340          2.3796   \n",
       "2  20160722_FIRE_mw-e-mobo-c/1469220841_-02280          2.3802   \n",
       "3  20160722_FIRE_mw-e-mobo-c/1469220901_-02220          2.3808   \n",
       "4  20160722_FIRE_mw-e-mobo-c/1469220961_-02160          2.3814   \n",
       "\n",
       "   relative_humidity_set_1  wind_speed_set_1  wind_gust_set_1  \\\n",
       "0                -2.407800            0.1956        -0.027600   \n",
       "1                -2.393325            0.1431        -0.008625   \n",
       "2                -2.378850            0.0906         0.010350   \n",
       "3                -2.364375            0.0381         0.029325   \n",
       "4                -2.349900           -0.0144         0.048300   \n",
       "\n",
       "   wind_direction_set_1  dew_point_temperature_set_1d         u         v  \\\n",
       "0              0.779526                       -2.1906  1.061387 -0.138761   \n",
       "1              0.775922                       -2.1954  1.052444 -0.154334   \n",
       "2              0.772317                       -2.2002  1.043501 -0.169907   \n",
       "3              0.768713                       -2.2050  1.034558 -0.185480   \n",
       "4              0.765108                       -2.2098  1.025615 -0.201053   \n",
       "\n",
       "                   fire_name  \n",
       "0  20160722_FIRE_mw-e-mobo-c  \n",
       "1  20160722_FIRE_mw-e-mobo-c  \n",
       "2  20160722_FIRE_mw-e-mobo-c  \n",
       "3  20160722_FIRE_mw-e-mobo-c  \n",
       "4  20160722_FIRE_mw-e-mobo-c  "
      ]
     },
     "execution_count": 188,
     "metadata": {},
     "output_type": "execute_result"
    }
   ],
   "source": [
    "p (df_smokey_and_weather.shape)\n",
    "p (weather_df.shape)\n",
    "df_smokey_and_weather.head()"
   ]
  },
  {
   "cell_type": "code",
   "execution_count": 20,
   "id": "23598b88",
   "metadata": {},
   "outputs": [
    {
     "data": {
      "text/plain": [
       "0"
      ]
     },
     "execution_count": 20,
     "metadata": {},
     "output_type": "execute_result"
    }
   ],
   "source": [
    "len([x for x,y in dict(df_smokey_and_weather.filepath.value_counts()).items() if y > 1])\n",
    "# df_smokey_and_weather.loc[df_smokey_and_weather.filepath == \"20190801_Caliente_om-w-mobo/1564683161_-02040\"]\n",
    "# weather_df.loc[weather_df.image_name == \"20190801_Caliente_om-w-mobo/1564683161_-02040\"]"
   ]
  },
  {
   "cell_type": "code",
   "execution_count": 189,
   "id": "38ea2443",
   "metadata": {},
   "outputs": [],
   "source": []
  },
  {
   "cell_type": "code",
   "execution_count": null,
   "id": "b132c13a",
   "metadata": {},
   "outputs": [],
   "source": []
  },
  {
   "cell_type": "code",
   "execution_count": null,
   "id": "957e9b51",
   "metadata": {},
   "outputs": [],
   "source": []
  },
  {
   "cell_type": "markdown",
   "id": "25a17c35",
   "metadata": {},
   "source": [
    "## Create test splits based on fires"
   ]
  },
  {
   "cell_type": "code",
   "execution_count": 252,
   "id": "c3079ff3",
   "metadata": {},
   "outputs": [],
   "source": [
    "df_combined = pd.concat([\n",
    "       df_smokey_and_weather.loc[df_smokey_and_weather[\"type\"] != \"train\"],\n",
    "       df_test_smokey_and_weather\n",
    "]).reset_index().drop(columns = [\"index\"])\n",
    "# df_combined = df_test_smokey_and_weather.copy()"
   ]
  },
  {
   "cell_type": "code",
   "execution_count": 253,
   "id": "608104bf",
   "metadata": {},
   "outputs": [],
   "source": [
    "def train(scale = 1, multiplication_factor = 1, repetitions = 10):\n",
    "    xgb = []\n",
    "    smokey = []\n",
    "    for i in range(repetitions):\n",
    "\n",
    "        # fires = df_combined.event_name.unique()\n",
    "        fires = df_combined.event_name.unique()\n",
    "\n",
    "        train_fires, test_fires = train_test_split(\n",
    "            fires,\n",
    "            test_size=0.1\n",
    "        )\n",
    "\n",
    "        train_df = df_combined.loc[(df_combined[\"event_name\"].isin(train_fires))].drop(\"image_loss\", axis='columns')\n",
    "        # train_df = df_combined.filter(lambda x: x if x[\"event_name\"] in train_fires)\n",
    "        test_df = df_combined.loc[(df_combined[\"event_name\"].isin(test_fires))].drop(\"image_loss\", axis='columns')\n",
    "\n",
    "        weather_cols = weather_df.columns[1:-1].to_list()\n",
    "        train_df[weather_cols] = train_df[weather_cols] * multiplication_factor\n",
    "\n",
    "        feature_columns = ['image_prob', 'air_temp_set_1', 'relative_humidity_set_1',\n",
    "            'wind_speed_set_1', 'wind_gust_set_1', 'wind_direction_set_1',\n",
    "            'dew_point_temperature_set_1d', 'u', 'v']\n",
    "        gt_label = 'image_gt'\n",
    "\n",
    "        for j in range(scale-1):\n",
    "            train_df = train_df.merge(weather_df, left_on=\"filepath\", right_on=\"image_name\", how=\"inner\", suffixes=(None, f\"_{j}\"))\n",
    "            test_df = test_df.merge(weather_df, left_on=\"filepath\", right_on=\"image_name\", how=\"inner\", suffixes=(None, f\"_{j}\"))\n",
    "            # drop_cols = [x for x in train_df.columns if \"fire_name\" in x or \"image_name\" in x]\n",
    "            # train_df = train_df.drop(drop_cols, axis=\"columns\")\n",
    "            feature_columns += [f\"{x}_{j}\" for x in weather_cols]\n",
    "\n",
    "        x_train = train_df[feature_columns].astype(float)\n",
    "        y_train = train_df['image_gt'].astype(int)\n",
    "        x_test = test_df[feature_columns].astype(float)\n",
    "        y_test = test_df['image_gt'].astype(int)\n",
    "\n",
    "        model = XGBClassifier(use_label_encoder=False)\n",
    "        # model = XGBClassifier(use_label_encoder=False, booster=\"gbtree\", eta=0.05, max_depth=8, subsample=0.5,\n",
    "        #                             tree_method=\"auto\", reg_lambda=1, grow_policy=\"depthwise\")\n",
    "        model.fit(x_train, y_train)\n",
    "        y_pred = model.predict(x_test)\n",
    "        accuracy = accuracy_score(y_test, y_pred)\n",
    "        # p (f\"Accuracy XGB = {accuracy}\")\n",
    "        xgb.append(accuracy)\n",
    "        smokeynet_pred = x_test['image_prob'].apply(lambda x: 0 if x < 0.5 else 1).tolist()\n",
    "        accuracy = accuracy_score(y_test, smokeynet_pred)\n",
    "        # p (f\"Accuracy only smokey = {accuracy}\")\n",
    "        smokey.append(accuracy)\n",
    "        p (len(y_test), len([x for x in y_test if x == 1]))\n",
    "    print (f\"Mean XGB accuracy: {mean(xgb)}\")\n",
    "    print (f\"Mean Smokey accuracy: {mean(smokey)}\")"
   ]
  },
  {
   "cell_type": "code",
   "execution_count": 254,
   "id": "8b548ed2",
   "metadata": {},
   "outputs": [
    {
     "name": "stdout",
     "output_type": "stream",
     "text": [
      "1027 510\n",
      "1038 521\n",
      "1034 519\n",
      "1014 510\n",
      "1044 528\n",
      "1022 511\n",
      "1019 509\n",
      "1000 503\n",
      "1042 524\n",
      "994 499\n",
      "Mean XGB accuracy: 0.7646354153955188\n",
      "Mean Smokey accuracy: 0.8075698794905929\n"
     ]
    }
   ],
   "source": [
    "scale = 1\n",
    "multiplication_factor = 1\n",
    "\n",
    "train(scale, multiplication_factor, 10)\n",
    "\n",
    "# print (help(ConfusionMatrixDisplay))\n",
    "# fig, (ax1, ax2) = plt.subplots(1, 2, figsize=(15, 4))\n",
    "# fig.suptitle('Confusion Matrices')\n",
    "# plt.figure(figsize=[10,40])\n",
    "\n",
    "# sn.heatmap(confusion_matrix(y_test, smokeynet_pred), annot=True, fmt='g', ax=ax1)\n",
    "# sn.heatmap(confusion_matrix(y_test, y_pred), annot=True, fmt='g', ax=ax2)\n",
    "\n",
    "# # labels, title and ticks\n",
    "# ax1.set_xlabel('Predicted labels')\n",
    "# ax1.set_ylabel('True labels') \n",
    "# ax1.set_title('SmokeyNet')\n",
    "# ax2.set_xlabel('Predicted labels')\n",
    "# ax2.set_ylabel('True labels') \n",
    "# ax2.set_title('XGB')"
   ]
  },
  {
   "cell_type": "code",
   "execution_count": 271,
   "metadata": {},
   "outputs": [
    {
     "name": "stdout",
     "output_type": "stream",
     "text": [
      "Model: logistic, Mean Model: 0.7862244897959184, Mean Smokey: 0.7846938775510204\n",
      "Model: sgd_squared_hinge, Mean Model: 0.7887755102040817, Mean Smokey: 0.7846938775510204\n",
      "Model: sgd_hinge, Mean Model: 0.7872448979591836, Mean Smokey: 0.7846938775510204\n",
      "Model: svm, Mean Model: 0.753061224489796, Mean Smokey: 0.7846938775510204\n",
      "Model: adaboost, Mean Model: 0.7857142857142857, Mean Smokey: 0.7846938775510204\n",
      "Model: k_nearest_7, Mean Model: 0.6607142857142857, Mean Smokey: 0.7846938775510204\n",
      "Model: k_nearest_5, Mean Model: 0.6556122448979592, Mean Smokey: 0.7846938775510204\n",
      "Model: k_nearest_10, Mean Model: 0.6887755102040817, Mean Smokey: 0.7846938775510204\n",
      "Model: xgboost, Mean Model: 0.7515306122448979, Mean Smokey: 0.7846938775510204\n"
     ]
    }
   ],
   "source": [
    "scale = 1\n",
    "multiplication_factor = 1\n",
    "repetitions = 1\n",
    "\n",
    "xgb = []\n",
    "smokey = []\n",
    "\n",
    "models = {\n",
    "    'logistic': LogisticRegression(),\n",
    "    'sgd_squared_hinge': SGDClassifier(loss='squared_hinge', learning_rate='adaptive', eta0=0.0001),\n",
    "    'sgd_hinge': SGDClassifier(loss='hinge'),\n",
    "    'svm': svm.SVC(),\n",
    "    'adaboost': AdaBoostClassifier(learning_rate=0.0001),\n",
    "    'k_nearest_7': KNeighborsClassifier(n_neighbors=7),\n",
    "    'k_nearest_5': KNeighborsClassifier(n_neighbors=5),\n",
    "    'k_nearest_10': KNeighborsClassifier(n_neighbors=10),\n",
    "    'xgboost': XGBClassifier(use_label_encoder=False)\n",
    "}\n",
    "\n",
    "from collections import defaultdict\n",
    "results = defaultdict(list)\n",
    "\n",
    "for i in range(repetitions):\n",
    "\n",
    "    # fires = df_combined.event_name.unique()\n",
    "    fires = df_combined.event_name.unique()\n",
    "\n",
    "    train_fires, test_fires = train_test_split(\n",
    "        fires,\n",
    "        test_size=0.2\n",
    "    )\n",
    "\n",
    "    train_df = df_combined.loc[(df_combined[\"event_name\"].isin(train_fires))].drop(\"image_loss\", axis='columns')\n",
    "    # train_df = df_combined.filter(lambda x: x if x[\"event_name\"] in train_fires)\n",
    "    test_df = df_combined.loc[(df_combined[\"event_name\"].isin(test_fires))].drop(\"image_loss\", axis='columns')\n",
    "\n",
    "    weather_cols = weather_df.columns[1:-1].to_list()\n",
    "    train_df[weather_cols] = train_df[weather_cols] * multiplication_factor\n",
    "\n",
    "    feature_columns = ['image_prob', 'air_temp_set_1', 'relative_humidity_set_1',\n",
    "        'wind_speed_set_1', 'wind_gust_set_1', 'wind_direction_set_1',\n",
    "        'dew_point_temperature_set_1d', 'u', 'v']\n",
    "    gt_label = 'image_gt'\n",
    "\n",
    "    for j in range(scale-1):\n",
    "        train_df = train_df.merge(weather_df, left_on=\"filepath\", right_on=\"image_name\", how=\"inner\", suffixes=(None, f\"_{j}\"))\n",
    "        test_df = test_df.merge(weather_df, left_on=\"filepath\", right_on=\"image_name\", how=\"inner\", suffixes=(None, f\"_{j}\"))\n",
    "        # drop_cols = [x for x in train_df.columns if \"fire_name\" in x or \"image_name\" in x]\n",
    "        # train_df = train_df.drop(drop_cols, axis=\"columns\")\n",
    "        feature_columns += [f\"{x}_{j}\" for x in weather_cols]\n",
    "\n",
    "    x_train = train_df[feature_columns].astype(float)\n",
    "    y_train = train_df['image_gt'].astype(int)\n",
    "    x_test = test_df[feature_columns].astype(float)\n",
    "    y_test = test_df['image_gt'].astype(int)\n",
    "\n",
    "    for name, model in models.items():\n",
    "        model.fit(x_train, y_train)\n",
    "        y_pred = model.predict(x_test)\n",
    "        xgb_accuracy = accuracy_score(y_test, y_pred)\n",
    "        # p (f\"Accuracy XGB = {accuracy}\")\n",
    "        smokeynet_pred = x_test['image_prob'].apply(lambda x: 0 if x < 0.5 else 1).tolist()\n",
    "        smokey_accuracy = accuracy_score(y_test, smokeynet_pred)\n",
    "        # p (f\"Accuracy only smokey = {accuracy}\")\n",
    "        results[name].append((xgb_accuracy, smokey_accuracy))\n",
    "\n",
    "for name in models.keys():\n",
    "    # print (results[name])\n",
    "    print (f\"Model: {name}, Mean Model: {mean([x[0] for x in results[name]])}, Mean Smokey: {mean([x[1] for x in results[name]])}\")"
   ]
  },
  {
   "cell_type": "code",
   "execution_count": null,
   "id": "b188d98b",
   "metadata": {},
   "outputs": [],
   "source": []
  },
  {
   "cell_type": "code",
   "execution_count": null,
   "id": "ed40902d",
   "metadata": {},
   "outputs": [],
   "source": []
  },
  {
   "cell_type": "code",
   "execution_count": null,
   "id": "b9dc1262",
   "metadata": {},
   "outputs": [],
   "source": []
  },
  {
   "cell_type": "markdown",
   "id": "68976819",
   "metadata": {},
   "source": [
    "## Ensemble of SmokeyNet Probabilities with Weather Data"
   ]
  },
  {
   "cell_type": "code",
   "execution_count": 191,
   "id": "d525d6df",
   "metadata": {},
   "outputs": [
    {
     "data": {
      "text/plain": [
       "Index(['filepath', 'image_pred', 'image_prob', 'image_loss', 'type',\n",
       "       'camera_name', 'image_gt', 'date', 'year', 'time', 'datetime',\n",
       "       'event_name', 'image_name', 'air_temp_set_1', 'relative_humidity_set_1',\n",
       "       'wind_speed_set_1', 'wind_gust_set_1', 'wind_direction_set_1',\n",
       "       'dew_point_temperature_set_1d', 'u', 'v', 'fire_name'],\n",
       "      dtype='object')"
      ]
     },
     "execution_count": 191,
     "metadata": {},
     "output_type": "execute_result"
    }
   ],
   "source": [
    "df_smokey_and_weather.columns"
   ]
  },
  {
   "cell_type": "code",
   "execution_count": 192,
   "id": "94e8946a",
   "metadata": {},
   "outputs": [
    {
     "name": "stdout",
     "output_type": "stream",
     "text": [
      "0\n",
      "[('filepath', 0), ('image_pred', 0), ('image_prob', 0), ('image_loss', 15196), ('type', 0), ('camera_name', 0), ('image_gt', 0), ('date', 0), ('year', 0), ('time', 0), ('datetime', 0), ('event_name', 0), ('image_name', 0), ('air_temp_set_1', 0), ('relative_humidity_set_1', 0), ('wind_speed_set_1', 0), ('wind_gust_set_1', 0), ('wind_direction_set_1', 0), ('dew_point_temperature_set_1d', 0), ('u', 0), ('v', 0), ('fire_name', 0)]\n"
     ]
    }
   ],
   "source": [
    "# EDA\n",
    "# check for nulls post join, since left join\n",
    "p (sum(df_smokey_and_weather.image_name.isna()))\n",
    "\n",
    "# weather data is z-score normalized, check for nulls\n",
    "p ([(col, sum(df_smokey_and_weather[col].isna())) for col in df_smokey_and_weather.columns])"
   ]
  },
  {
   "cell_type": "code",
   "execution_count": 115,
   "id": "4e1cbe9f",
   "metadata": {},
   "outputs": [
    {
     "name": "stdout",
     "output_type": "stream",
     "text": [
      ">logistic 0.917 (0.005)\n",
      ">sgd_squared_hinge 0.918 (0.005)\n",
      ">sgd_hinge 0.918 (0.004)\n",
      ">svm 0.929 (0.005)\n",
      ">adaboost 0.922 (0.005)\n",
      ">k_nearest_7 0.978 (0.003)\n",
      ">k_nearest_5 0.981 (0.003)\n",
      ">k_nearest_10 0.973 (0.003)\n",
      ">xgboost 0.984 (0.003)\n"
     ]
    }
   ],
   "source": [
    "feature_columns = ['image_prob', 'air_temp_set_1', 'relative_humidity_set_1',\n",
    "       'wind_speed_set_1', 'wind_gust_set_1', 'wind_direction_set_1',\n",
    "       'dew_point_temperature_set_1d', 'u', 'v']\n",
    "gt_label = 'image_gt'\n",
    "\n",
    "# Using SmokeyNet train + validation data to train using cross validation\n",
    "x = df_smokey_and_weather[feature_columns].astype(float)\n",
    "y = df_smokey_and_weather['image_gt'].astype(int)\n",
    "\n",
    "models = {\n",
    "    'logistic': LogisticRegression(),\n",
    "    'sgd_squared_hinge': SGDClassifier(loss='squared_hinge', learning_rate='adaptive', eta0=0.0001),\n",
    "    'sgd_hinge': SGDClassifier(loss='hinge'),\n",
    "    'svm': svm.SVC(),\n",
    "    'adaboost': AdaBoostClassifier(learning_rate=0.0001),\n",
    "    'k_nearest_7': KNeighborsClassifier(n_neighbors=7),\n",
    "    'k_nearest_5': KNeighborsClassifier(n_neighbors=5),\n",
    "    'k_nearest_10': KNeighborsClassifier(n_neighbors=10),\n",
    "    'xgboost': XGBClassifier(use_label_encoder=False),\n",
    "    # 'xgboost_tuned': XGBClassifier(use_label_encoder=False, booster=\"gbtree\", eta=0.1, max_depth=8, subsample=0.7,\n",
    "    #                         tree_method=\"auto\", reg_lambda=1, grow_policy=\"depthwise\", gamma=0),\n",
    "    # 'xgboost_tuned': XGBClassifier(use_label_encoder=False, booster=\"gbtree\", eta=0.05, max_depth=8, subsample=0.5,\n",
    "    #                         tree_method=\"gpu_hist\", sampling_method=\"gradient_based\", reg_lambda=1, grow_policy=\"lossguide\", \n",
    "    #                         gamma=0, objective=\"reg:squaredlogerror\", eval_metric=\"rmsle\")\n",
    "}\n",
    "\n",
    "results = {}\n",
    "\n",
    "for name, model in models.items():\n",
    "    cv = RepeatedStratifiedKFold(n_splits=10, n_repeats=5, random_state=1)\n",
    "    # cv = RepeatedKFold(n_splits=10, n_repeats=5, random_state=1)\n",
    "    scores = cross_val_score(model, x, y, scoring='accuracy', cv=cv, n_jobs=-1, error_score='raise')\n",
    "    results[name] = scores\n",
    "    p ('>%s %.3f (%.3f)' % (name, mean(scores), std(scores)))"
   ]
  },
  {
   "cell_type": "code",
   "execution_count": 116,
   "id": "12bc10c2",
   "metadata": {},
   "outputs": [
    {
     "name": "stdout",
     "output_type": "stream",
     "text": [
      ">logistic 0.820 (0.012)\n",
      ">sgd_squared_hinge 0.820 (0.012)\n",
      ">sgd_hinge 0.818 (0.013)\n",
      ">svm 0.860 (0.011)\n",
      ">adaboost 0.818 (0.013)\n",
      ">k_nearest_7 0.959 (0.006)\n",
      ">k_nearest_5 0.966 (0.006)\n",
      ">k_nearest_10 0.947 (0.007)\n",
      ">xgboost 0.973 (0.005)\n"
     ]
    }
   ],
   "source": [
    "feature_columns = ['image_prob', 'air_temp_set_1', 'relative_humidity_set_1',\n",
    "       'wind_speed_set_1', 'wind_gust_set_1', 'wind_direction_set_1',\n",
    "       'dew_point_temperature_set_1d', 'u', 'v']\n",
    "gt_label = 'image_gt'\n",
    "\n",
    "# Using SmokeyNet train + validation data to train using cross validation\n",
    "# x = df_smokey_and_weather[feature_columns].astype(float)\n",
    "# y = df_smokey_and_weather['image_gt'].astype(int)\n",
    "df_combined = pd.concat([\n",
    "       df_smokey_and_weather.loc[df_smokey_and_weather[\"type\"] != \"train\"],\n",
    "       df_test_smokey_and_weather\n",
    "]).reset_index().drop(columns = [\"index\"])\n",
    "\n",
    "x = df_combined[feature_columns].astype(float)\n",
    "y = df_combined['image_gt'].astype(int)\n",
    "\n",
    "models = {\n",
    "    'logistic': LogisticRegression(),\n",
    "    'sgd_squared_hinge': SGDClassifier(loss='squared_hinge', learning_rate='adaptive', eta0=0.0001),\n",
    "    'sgd_hinge': SGDClassifier(loss='hinge'),\n",
    "    'svm': svm.SVC(),\n",
    "    'adaboost': AdaBoostClassifier(learning_rate=0.0001),\n",
    "    'k_nearest_7': KNeighborsClassifier(n_neighbors=7),\n",
    "    'k_nearest_5': KNeighborsClassifier(n_neighbors=5),\n",
    "    'k_nearest_10': KNeighborsClassifier(n_neighbors=10),\n",
    "    'xgboost': XGBClassifier(use_label_encoder=False),\n",
    "    # 'xgboost_tuned': XGBClassifier(use_label_encoder=False, booster=\"gbtree\", eta=0.1, max_depth=8, subsample=0.7,\n",
    "    #                         tree_method=\"auto\", reg_lambda=1, grow_policy=\"depthwise\", gamma=0),\n",
    "    # 'xgboost_tuned': XGBClassifier(use_label_encoder=False, booster=\"gbtree\", eta=0.05, max_depth=8, subsample=0.5,\n",
    "    #                         tree_method=\"gpu_hist\", sampling_method=\"gradient_based\", reg_lambda=1, grow_policy=\"lossguide\", \n",
    "    #                         gamma=0, objective=\"reg:squaredlogerror\", eval_metric=\"rmsle\")\n",
    "}\n",
    "\n",
    "results = {}\n",
    "\n",
    "for name, model in models.items():\n",
    "    cv = RepeatedStratifiedKFold(n_splits=10, n_repeats=5, random_state=1)\n",
    "    # cv = RepeatedKFold(n_splits=10, n_repeats=5, random_state=1)\n",
    "    scores = cross_val_score(model, x, y, scoring='accuracy', cv=cv, n_jobs=-1, error_score='raise')\n",
    "    results[name] = scores\n",
    "    p ('>%s %.3f (%.3f)' % (name, mean(scores), std(scores)))"
   ]
  },
  {
   "cell_type": "markdown",
   "id": "0e0c040b",
   "metadata": {},
   "source": [
    "## Using SmokeyNet training data for training and validation+testing data as test set"
   ]
  },
  {
   "cell_type": "code",
   "execution_count": 25,
   "id": "885e52fd",
   "metadata": {},
   "outputs": [
    {
     "name": "stdout",
     "output_type": "stream",
     "text": [
      "Accuracy XGB = 0.8019189105540081\n",
      "Accuracy only smokey = 0.8184256680078407\n"
     ]
    },
    {
     "data": {
      "text/plain": [
       "Text(0.5, 1.0, 'XGB')"
      ]
     },
     "execution_count": 25,
     "metadata": {},
     "output_type": "execute_result"
    },
    {
     "data": {
      "image/png": "[encoded data removed]",
      "text/plain": [
       "<Figure size 1080x288 with 4 Axes>"
      ]
     },
     "metadata": {
      "needs_background": "light"
     },
     "output_type": "display_data"
    },
    {
     "data": {
      "text/plain": [
       "<Figure size 720x2880 with 0 Axes>"
      ]
     },
     "metadata": {},
     "output_type": "display_data"
    }
   ],
   "source": [
    "feature_columns = ['image_prob', 'air_temp_set_1', 'relative_humidity_set_1',\n",
    "       'wind_speed_set_1', 'wind_gust_set_1', 'wind_direction_set_1',\n",
    "       'dew_point_temperature_set_1d', 'u', 'v']\n",
    "gt_label = 'image_gt'\n",
    "\n",
    "# SmokeyNet training data used for training\n",
    "x_train = df_smokey_and_weather.loc[df_smokey_and_weather[\"type\"] == \"train\"][feature_columns].astype(float)\n",
    "y_train = df_smokey_and_weather.loc[df_smokey_and_weather[\"type\"] == \"train\"]['image_gt'].astype(int)\n",
    "# SmokeyNet validation + testing data used for testing\n",
    "# x_test = df_smokey_and_weather.loc[df_smokey_and_weather[\"type\"] != \"train\"][feature_columns].astype(float)\n",
    "# y_test = df_smokey_and_weather.loc[df_smokey_and_weather[\"type\"] != \"train\"]['image_gt'].astype(int)\n",
    "df_test_merged = pd.concat([\n",
    "       df_smokey_and_weather.loc[df_smokey_and_weather[\"type\"] != \"train\"],\n",
    "       df_test_smokey_and_weather\n",
    "]).reset_index().drop(columns = [\"index\"])\n",
    "x_test = df_test_merged[feature_columns].astype(float)\n",
    "y_test = df_test_merged['image_gt'].astype(float)\n",
    "\n",
    "# x_train, x_test, y_train, y_test = train_test_split(\n",
    "#     x,\n",
    "#     y,\n",
    "#     test_size=0.2\n",
    "# )\n",
    "model = XGBClassifier(use_label_encoder=False)\n",
    "# model = XGBClassifier(use_label_encoder=False, booster=\"gbtree\", eta=0.05, max_depth=8, subsample=0.5,\n",
    "#                             tree_method=\"auto\", reg_lambda=1, grow_policy=\"depthwise\")\n",
    "model.fit(x_train, y_train)\n",
    "y_pred = model.predict(x_test)\n",
    "accuracy = accuracy_score(y_test, y_pred)\n",
    "p (f\"Accuracy XGB = {accuracy}\")\n",
    "smokeynet_pred = x_test['image_prob'].apply(lambda x: 0 if x < 0.5 else 1).tolist()\n",
    "accuracy = accuracy_score(y_test, smokeynet_pred)\n",
    "p (f\"Accuracy only smokey = {accuracy}\")\n",
    "\n",
    "# print (help(ConfusionMatrixDisplay))\n",
    "fig, (ax1, ax2) = plt.subplots(1, 2, figsize=(15, 4))\n",
    "fig.suptitle('Confusion Matrices')\n",
    "plt.figure(figsize=[10,40])\n",
    "\n",
    "sn.heatmap(confusion_matrix(y_test, smokeynet_pred), annot=True, fmt='g', ax=ax1)\n",
    "sn.heatmap(confusion_matrix(y_test, y_pred), annot=True, fmt='g', ax=ax2)\n",
    "\n",
    "# labels, title and ticks\n",
    "ax1.set_xlabel('Predicted labels')\n",
    "ax1.set_ylabel('True labels') \n",
    "ax1.set_title('SmokeyNet')\n",
    "ax2.set_xlabel('Predicted labels')\n",
    "ax2.set_ylabel('True labels') \n",
    "ax2.set_title('XGB')"
   ]
  },
  {
   "cell_type": "markdown",
   "id": "99123b83",
   "metadata": {},
   "source": [
    "## Using SmokeyNet training + validation data for training and testing data for test"
   ]
  },
  {
   "cell_type": "code",
   "execution_count": 26,
   "id": "110ecf30",
   "metadata": {},
   "outputs": [
    {
     "name": "stdout",
     "output_type": "stream",
     "text": [
      "Accuracy XGB = 0.8170452177536986\n",
      "Accuracy only smokey = 0.8360075015628256\n"
     ]
    },
    {
     "data": {
      "text/plain": [
       "Text(0.5, 1.0, 'XGB')"
      ]
     },
     "execution_count": 26,
     "metadata": {},
     "output_type": "execute_result"
    },
    {
     "data": {
      "image/png": "[encoded data removed]",
      "text/plain": [
       "<Figure size 1080x288 with 4 Axes>"
      ]
     },
     "metadata": {
      "needs_background": "light"
     },
     "output_type": "display_data"
    },
    {
     "data": {
      "text/plain": [
       "<Figure size 720x2880 with 0 Axes>"
      ]
     },
     "metadata": {},
     "output_type": "display_data"
    }
   ],
   "source": [
    "feature_columns = ['image_prob', 'air_temp_set_1', 'relative_humidity_set_1',\n",
    "       'wind_speed_set_1', 'wind_gust_set_1', 'wind_direction_set_1',\n",
    "       'dew_point_temperature_set_1d', 'u', 'v']\n",
    "gt_label = 'image_gt'\n",
    "\n",
    "# SmokeyNet training data used for training\n",
    "x_train = df_smokey_and_weather[feature_columns].astype(float)\n",
    "y_train = df_smokey_and_weather['image_gt'].astype(int)\n",
    "# SmokeyNet validation + testing data used for testing\n",
    "# x_test = df_smokey_and_weather.loc[df_smokey_and_weather[\"type\"] != \"train\"][feature_columns].astype(float)\n",
    "# y_test = df_smokey_and_weather.loc[df_smokey_and_weather[\"type\"] != \"train\"]['image_gt'].astype(int)\n",
    "x_test = df_test_smokey_and_weather[feature_columns].astype(float)\n",
    "y_test = df_test_smokey_and_weather['image_gt'].astype(float)\n",
    "# smokeynet_pred = df_test_smokey_and_weather['image_pred'].astype(float)\n",
    "\n",
    "# x_train, x_test, y_train, y_test = train_test_split(\n",
    "#     x,\n",
    "#     y,\n",
    "#     test_size=0.2\n",
    "# )\n",
    "model = XGBClassifier(use_label_encoder=False)\n",
    "# model = XGBClassifier(use_label_encoder=False, booster=\"gbtree\", eta=0.05, max_depth=8, subsample=0.5,\n",
    "#                             tree_method=\"auto\", reg_lambda=1, grow_policy=\"depthwise\")\n",
    "model.fit(x_train, y_train)\n",
    "y_pred = model.predict(x_test)\n",
    "accuracy = accuracy_score(y_test, y_pred)\n",
    "p (f\"Accuracy XGB = {accuracy}\")\n",
    "smokeynet_pred = x_test['image_prob'].apply(lambda x: 0 if x < 0.5 else 1).tolist()\n",
    "accuracy = accuracy_score(y_test, smokeynet_pred)\n",
    "p (f\"Accuracy only smokey = {accuracy}\")\n",
    "\n",
    "# print (help(ConfusionMatrixDisplay))\n",
    "fig, (ax1, ax2) = plt.subplots(1, 2, figsize=(15, 4))\n",
    "fig.suptitle('Confusion Matrices')\n",
    "plt.figure(figsize=[10,40])\n",
    "\n",
    "sn.heatmap(confusion_matrix(y_test, smokeynet_pred), annot=True, fmt='g', ax=ax1)\n",
    "sn.heatmap(confusion_matrix(y_test, y_pred), annot=True, fmt='g', ax=ax2)\n",
    "\n",
    "# labels, title and ticks\n",
    "ax1.set_xlabel('Predicted labels')\n",
    "ax1.set_ylabel('True labels') \n",
    "ax1.set_title('SmokeyNet')\n",
    "ax2.set_xlabel('Predicted labels')\n",
    "ax2.set_ylabel('True labels') \n",
    "ax2.set_title('XGB')"
   ]
  },
  {
   "cell_type": "markdown",
   "id": "13825b89",
   "metadata": {},
   "source": [
    "## Using SmokeyNet Validation data for training and Testing data for testing"
   ]
  },
  {
   "cell_type": "code",
   "execution_count": 27,
   "id": "8e79e6f1",
   "metadata": {},
   "outputs": [
    {
     "name": "stdout",
     "output_type": "stream",
     "text": [
      "Accuracy XGB = 0.759324859345697\n",
      "Accuracy only smokey = 0.8360075015628256\n"
     ]
    },
    {
     "data": {
      "text/plain": [
       "Text(0.5, 1.0, 'XGB')"
      ]
     },
     "execution_count": 27,
     "metadata": {},
     "output_type": "execute_result"
    },
    {
     "data": {
      "image/png": "[encoded data removed]",
      "text/plain": [
       "<Figure size 1080x288 with 4 Axes>"
      ]
     },
     "metadata": {
      "needs_background": "light"
     },
     "output_type": "display_data"
    },
    {
     "data": {
      "text/plain": [
       "<Figure size 720x2880 with 0 Axes>"
      ]
     },
     "metadata": {},
     "output_type": "display_data"
    }
   ],
   "source": [
    "feature_columns = ['image_prob', 'air_temp_set_1', 'relative_humidity_set_1',\n",
    "       'wind_speed_set_1', 'wind_gust_set_1', 'wind_direction_set_1',\n",
    "       'dew_point_temperature_set_1d', 'u', 'v']\n",
    "gt_label = 'image_gt'\n",
    "\n",
    "# SmokeyNet validation + testing data used for testing\n",
    "x_train = df_smokey_and_weather.loc[df_smokey_and_weather[\"type\"] != \"train\"][feature_columns].astype(float)\n",
    "y_train = df_smokey_and_weather.loc[df_smokey_and_weather[\"type\"] != \"train\"]['image_gt'].astype(int)\n",
    "x_test = df_test_smokey_and_weather[feature_columns].astype(float)\n",
    "y_test = df_test_smokey_and_weather['image_gt'].astype(float)\n",
    "# smokeynet_pred = df_test_smokey_and_weather['image_pred'].astype(float)\n",
    "\n",
    "# x_train, x_test, y_train, y_test = train_test_split(\n",
    "#     x,\n",
    "#     y,\n",
    "#     test_size=0.2\n",
    "# )\n",
    "model = XGBClassifier(use_label_encoder=False)\n",
    "# model = XGBClassifier(use_label_encoder=False, booster=\"gbtree\", eta=0.05, max_depth=8, subsample=0.5,\n",
    "#                             tree_method=\"auto\", reg_lambda=1, grow_policy=\"depthwise\")\n",
    "model.fit(x_train, y_train)\n",
    "y_pred = model.predict(x_test)\n",
    "accuracy = accuracy_score(y_test, y_pred)\n",
    "p (f\"Accuracy XGB = {accuracy}\")\n",
    "smokeynet_pred = x_test['image_prob'].apply(lambda x: 0 if x < 0.5 else 1).tolist()\n",
    "accuracy = accuracy_score(y_test, smokeynet_pred)\n",
    "p (f\"Accuracy only smokey = {accuracy}\")\n",
    "\n",
    "# print (help(ConfusionMatrixDisplay))\n",
    "fig, (ax1, ax2) = plt.subplots(1, 2, figsize=(15, 4))\n",
    "fig.suptitle('Confusion Matrices')\n",
    "plt.figure(figsize=[10,40])\n",
    "\n",
    "sn.heatmap(confusion_matrix(y_test, smokeynet_pred), annot=True, fmt='g', ax=ax1)\n",
    "sn.heatmap(confusion_matrix(y_test, y_pred), annot=True, fmt='g', ax=ax2)\n",
    "\n",
    "# labels, title and ticks\n",
    "ax1.set_xlabel('Predicted labels')\n",
    "ax1.set_ylabel('True labels') \n",
    "ax1.set_title('SmokeyNet')\n",
    "ax2.set_xlabel('Predicted labels')\n",
    "ax2.set_ylabel('True labels') \n",
    "ax2.set_title('XGB')"
   ]
  },
  {
   "cell_type": "markdown",
   "id": "a0d851c0",
   "metadata": {},
   "source": [
    "## Using SmokeyNet validation + testing data for training and testing"
   ]
  },
  {
   "cell_type": "code",
   "execution_count": 193,
   "id": "ce587470",
   "metadata": {},
   "outputs": [
    {
     "name": "stdout",
     "output_type": "stream",
     "text": [
      "Accuracy XGB = 0.9706034038164002\n",
      "Accuracy only smokey = 0.8194945848375451\n"
     ]
    },
    {
     "data": {
      "text/plain": [
       "Text(0.5, 1.0, 'XGB')"
      ]
     },
     "execution_count": 193,
     "metadata": {},
     "output_type": "execute_result"
    },
    {
     "data": {
      "image/png": "[encoded data removed]",
      "text/plain": [
       "<Figure size 1080x288 with 4 Axes>"
      ]
     },
     "metadata": {
      "needs_background": "light"
     },
     "output_type": "display_data"
    },
    {
     "data": {
      "text/plain": [
       "<Figure size 720x2880 with 0 Axes>"
      ]
     },
     "metadata": {},
     "output_type": "display_data"
    }
   ],
   "source": [
    "feature_columns = ['image_prob', 'air_temp_set_1', 'relative_humidity_set_1',\n",
    "       'wind_speed_set_1', 'wind_gust_set_1', 'wind_direction_set_1',\n",
    "       'dew_point_temperature_set_1d', 'u', 'v']\n",
    "gt_label = 'image_gt'\n",
    "\n",
    "df_combined = pd.concat([\n",
    "       df_smokey_and_weather.loc[df_smokey_and_weather[\"type\"] != \"train\"],\n",
    "       df_test_smokey_and_weather\n",
    "]).reset_index().drop(columns = [\"index\"])\n",
    "\n",
    "x = df_combined[feature_columns].astype(float)\n",
    "y = df_combined['image_gt'].astype(int)\n",
    "\n",
    "x_train, x_test, y_train, y_test = train_test_split(\n",
    "    x,\n",
    "    y,\n",
    "    test_size=0.2\n",
    ")\n",
    "model = XGBClassifier(use_label_encoder=False)\n",
    "# model = XGBClassifier(use_label_encoder=False, booster=\"gbtree\", eta=0.05, max_depth=8, subsample=0.5,\n",
    "#                             tree_method=\"auto\", reg_lambda=1, grow_policy=\"depthwise\")\n",
    "model.fit(x_train, y_train)\n",
    "y_pred = model.predict(x_test)\n",
    "accuracy = accuracy_score(y_test, y_pred)\n",
    "p (f\"Accuracy XGB = {accuracy}\")\n",
    "smokeynet_pred = x_test['image_prob'].apply(lambda x: 0 if x < 0.5 else 1).tolist()\n",
    "accuracy = accuracy_score(y_test, smokeynet_pred)\n",
    "p (f\"Accuracy only smokey = {accuracy}\")\n",
    "\n",
    "# print (help(ConfusionMatrixDisplay))\n",
    "fig, (ax1, ax2) = plt.subplots(1, 2, figsize=(15, 4))\n",
    "fig.suptitle('Confusion Matrices')\n",
    "plt.figure(figsize=[10,40])\n",
    "\n",
    "sn.heatmap(confusion_matrix(y_test, smokeynet_pred), annot=True, fmt='g', ax=ax1)\n",
    "sn.heatmap(confusion_matrix(y_test, y_pred), annot=True, fmt='g', ax=ax2)\n",
    "\n",
    "# labels, title and ticks\n",
    "ax1.set_xlabel('Predicted labels')\n",
    "ax1.set_ylabel('True labels') \n",
    "ax1.set_title('SmokeyNet')\n",
    "ax2.set_xlabel('Predicted labels')\n",
    "ax2.set_ylabel('True labels') \n",
    "ax2.set_title('XGB')"
   ]
  },
  {
   "cell_type": "code",
   "execution_count": 195,
   "id": "cb54445a",
   "metadata": {},
   "outputs": [
    {
     "name": "stdout",
     "output_type": "stream",
     "text": [
      "986\n"
     ]
    },
    {
     "data": {
      "text/plain": [
       "1939"
      ]
     },
     "execution_count": 195,
     "metadata": {},
     "output_type": "execute_result"
    }
   ],
   "source": [
    "p (len([1 for x in y_test if x == 1]))\n",
    "len(y_test)"
   ]
  },
  {
   "cell_type": "markdown",
   "id": "3994315c",
   "metadata": {},
   "source": [
    "SmokeyNet -> Train, val  test\n",
    "|\n",
    "(val, test) + weather -> XGB"
   ]
  },
  {
   "cell_type": "code",
   "execution_count": 58,
   "id": "9f3edc8c",
   "metadata": {},
   "outputs": [
    {
     "data": {
      "text/plain": [
       "30"
      ]
     },
     "execution_count": 58,
     "metadata": {},
     "output_type": "execute_result"
    }
   ],
   "source": [
    "test_df = x_test.copy()\n",
    "test_df['image_gt'] = y_test\n",
    "test_df = test_df.reset_index()\n",
    "\n",
    "# these indices have image_pred = 1\n",
    "blah = test_df.loc[test_df.image_prob >= 0.5].index\n",
    "# fetch corresponding values from the xgb y_pred list\n",
    "duh = [y_pred[i] for i in blah]\n",
    "\n",
    "# how many zeros in duh?\n",
    "sum([1 if i == 0 else 0 for i in duh])"
   ]
  },
  {
   "cell_type": "code",
   "execution_count": null,
   "id": "771749a3",
   "metadata": {},
   "outputs": [],
   "source": []
  },
  {
   "cell_type": "code",
   "execution_count": null,
   "id": "93511bbb",
   "metadata": {},
   "outputs": [],
   "source": []
  },
  {
   "cell_type": "markdown",
   "id": "e2ad60bd",
   "metadata": {},
   "source": [
    "## Time Series Classification? (LSTM?)"
   ]
  },
  {
   "cell_type": "code",
   "execution_count": 50,
   "id": "d313fe66",
   "metadata": {},
   "outputs": [],
   "source": [
    "work_df = pd.concat([df_valid, df_test]).reset_index().drop(columns = [\"index\"])\n",
    "work_df['image_gt'] = work_df[\"filepath\"].apply(get_ground_truth_label)\n",
    "# set the date and year columns\n",
    "# work_df[\"date\"] = work_df[\"camera_name\"].str.split(\"_\", n=1, expand=True)[0]\n",
    "# work_df[\"year\"] = work_df[\"date\"].str[:4]\n",
    "# work_df[\"date\"] = pd.to_datetime(work_df[\"date\"])\n",
    "# df_labels\n",
    "\n",
    "# keeping only entries from 2019-06-01 onwards\n",
    "# df_labels_filtered = df_labels[df_labels[\"date\"] >= \"2019-06-01\"].reset_index().drop(columns=[\"index\"])\n",
    "work_df = work_df.reset_index().drop(columns=[\"index\"])\n",
    "# df_labels_filtered\n",
    "\n",
    "#create time, datetime, event_name, camera_name attributes\n",
    "work_df[\"time\"] = work_df[\"filepath\"].str.split(\"/\").str[1]\n",
    "work_df[\"time\"] = work_df[\"time\"].str.split(\"_\").str[0]\n",
    "work_df[\"datetime\"] = pd.to_datetime(work_df[\"time\"], unit=\"s\", origin=\"unix\", utc=True)\n",
    "work_df[\"event_name\"] = work_df[\"filepath\"].str.split(\"/\").str[0]\n",
    "# work_df[\"camera_name\"] = work_df[\"camera_name\"].str.split(\"_\").str[-1]\n",
    "\n",
    "work_df = work_df.merge(weather_df, left_on=\"filepath\", right_on=\"image_name\", how=\"inner\")\n",
    "work_df = work_df.drop([\"date\", \"year\", \"image_loss\", \"camera_name\"], axis='columns')"
   ]
  },
  {
   "cell_type": "code",
   "execution_count": 52,
   "id": "763e7b60",
   "metadata": {},
   "outputs": [
    {
     "name": "stdout",
     "output_type": "stream",
     "text": [
      "0\n",
      "0\n",
      "[0, 0, 0, 0, 0, 0, 0, 0, 0, 0]\n"
     ]
    }
   ],
   "source": [
    "p (sum(work_df.time.isna()))\n",
    "p (sum(work_df.datetime.isna()))\n",
    "cols = weather_df.columns\n",
    "p ([sum(work_df[col].isna()) for col in cols])"
   ]
  },
  {
   "cell_type": "code",
   "execution_count": 64,
   "id": "447949a2",
   "metadata": {},
   "outputs": [
    {
     "data": {
      "text/plain": [
       "Index(['air_temp_set_1image_prob', 'relative_humidity_set_1image_prob',\n",
       "       'wind_speed_set_1image_prob', 'wind_gust_set_1image_prob',\n",
       "       'wind_direction_set_1image_prob',\n",
       "       'dew_point_temperature_set_1dimage_prob', 'uimage_prob', 'vimage_prob'],\n",
       "      dtype='object')"
      ]
     },
     "execution_count": 64,
     "metadata": {},
     "output_type": "execute_result"
    }
   ],
   "source": [
    "weather_df.columns[1:-1].to_list() + [\"image_prob\"]"
   ]
  },
  {
   "cell_type": "code",
   "execution_count": 65,
   "id": "90b25e89",
   "metadata": {},
   "outputs": [
    {
     "data": {
      "text/plain": [
       "[('air_temp_set_1', -0.011812780661802037),\n",
       " ('relative_humidity_set_1', 0.0023644817350916016),\n",
       " ('wind_speed_set_1', 0.0028580908389441127),\n",
       " ('wind_gust_set_1', 0.009948633251561199),\n",
       " ('wind_direction_set_1', 0.013644459246424302),\n",
       " ('dew_point_temperature_set_1d', -0.014902340795993549),\n",
       " ('u', 0.05701349512498276),\n",
       " ('v', 0.006465014026343243),\n",
       " ('image_prob', 0.6759793151658141)]"
      ]
     },
     "execution_count": 65,
     "metadata": {},
     "output_type": "execute_result"
    }
   ],
   "source": [
    "# Compute correlation of individual weather features with the image_gt\n",
    "cols = weather_df.columns[1:-1].to_list() + [\"image_prob\"]\n",
    "[(col, work_df[col].corr(work_df.image_gt)) for col in cols]"
   ]
  },
  {
   "cell_type": "code",
   "execution_count": 78,
   "id": "6eb4d6bb",
   "metadata": {},
   "outputs": [
    {
     "data": {
      "image/png": "[encoded data removed]",
      "text/plain": [
       "<Figure size 432x288 with 1 Axes>"
      ]
     },
     "metadata": {
      "needs_background": "light"
     },
     "output_type": "display_data"
    }
   ],
   "source": [
    "# work_df[work_df.event_name == \"20191007_FIRE_sm-s-mobo-c\"].air_temp_set_1.plot()\n",
    "# work_df[work_df.event_name == \"20210209_FIRE_hp-e-mobo-c\"].air_temp_set_1.plot()\n",
    "plt.show()"
   ]
  },
  {
   "cell_type": "code",
   "execution_count": 86,
   "id": "759d851f",
   "metadata": {},
   "outputs": [
    {
     "data": {
      "text/plain": [
       "1116"
      ]
     },
     "execution_count": 86,
     "metadata": {},
     "output_type": "execute_result"
    }
   ],
   "source": [
    "p (len(list(work_df.event_name.unique())) * 9) # 9 = shape of weather tensor + image_prob\n",
    "work_df.pivot(index=[\"datetime\"], columns=\"event_name\", values=weather_df.columns[1:-1].to_list() + [\"image_prob\"]).shape[1]"
   ]
  },
  {
   "cell_type": "code",
   "execution_count": 88,
   "id": "c1cf8b88",
   "metadata": {},
   "outputs": [
    {
     "data": {
      "text/plain": [
       "1116"
      ]
     },
     "execution_count": 88,
     "metadata": {},
     "output_type": "execute_result"
    }
   ],
   "source": [
    "work_df.groupby(\"event_name\", )"
   ]
  },
  {
   "cell_type": "code",
   "execution_count": 80,
   "id": "8284f4a5",
   "metadata": {},
   "outputs": [
    {
     "data": {
      "text/html": [
       "<div>\n",
       "<style scoped>\n",
       "    .dataframe tbody tr th:only-of-type {\n",
       "        vertical-align: middle;\n",
       "    }\n",
       "\n",
       "    .dataframe tbody tr th {\n",
       "        vertical-align: top;\n",
       "    }\n",
       "\n",
       "    .dataframe thead th {\n",
       "        text-align: right;\n",
       "    }\n",
       "</style>\n",
       "<table border=\"1\" class=\"dataframe\">\n",
       "  <thead>\n",
       "    <tr style=\"text-align: right;\">\n",
       "      <th></th>\n",
       "      <th>filepath</th>\n",
       "      <th>image_pred</th>\n",
       "      <th>image_prob</th>\n",
       "      <th>type</th>\n",
       "      <th>image_gt</th>\n",
       "      <th>time</th>\n",
       "      <th>datetime</th>\n",
       "      <th>event_name</th>\n",
       "      <th>image_name</th>\n",
       "      <th>air_temp_set_1</th>\n",
       "      <th>relative_humidity_set_1</th>\n",
       "      <th>wind_speed_set_1</th>\n",
       "      <th>wind_gust_set_1</th>\n",
       "      <th>wind_direction_set_1</th>\n",
       "      <th>dew_point_temperature_set_1d</th>\n",
       "      <th>u</th>\n",
       "      <th>v</th>\n",
       "      <th>fire_name</th>\n",
       "    </tr>\n",
       "  </thead>\n",
       "  <tbody>\n",
       "    <tr>\n",
       "      <th>0</th>\n",
       "      <td>20191007_FIRE_sm-s-mobo-c/1570473811_-02400</td>\n",
       "      <td>0</td>\n",
       "      <td>0.040000</td>\n",
       "      <td>valid</td>\n",
       "      <td>0</td>\n",
       "      <td>1570473811</td>\n",
       "      <td>2019-10-07 18:43:31+00:00</td>\n",
       "      <td>20191007_FIRE_sm-s-mobo-c</td>\n",
       "      <td>20191007_FIRE_sm-s-mobo-c/1570473811_-02400</td>\n",
       "      <td>0.893400</td>\n",
       "      <td>-0.757200</td>\n",
       "      <td>-0.3918</td>\n",
       "      <td>-0.424200</td>\n",
       "      <td>0.101620</td>\n",
       "      <td>-0.270600</td>\n",
       "      <td>0.106052</td>\n",
       "      <td>0.181328</td>\n",
       "      <td>20191007_FIRE_sm-s-mobo-c</td>\n",
       "    </tr>\n",
       "    <tr>\n",
       "      <th>1</th>\n",
       "      <td>20191007_FIRE_sm-s-mobo-c/1570473871_-02340</td>\n",
       "      <td>0</td>\n",
       "      <td>0.040000</td>\n",
       "      <td>valid</td>\n",
       "      <td>0</td>\n",
       "      <td>1570473871</td>\n",
       "      <td>2019-10-07 18:44:31+00:00</td>\n",
       "      <td>20191007_FIRE_sm-s-mobo-c</td>\n",
       "      <td>20191007_FIRE_sm-s-mobo-c/1570473871_-02340</td>\n",
       "      <td>0.899486</td>\n",
       "      <td>-0.752829</td>\n",
       "      <td>-0.3378</td>\n",
       "      <td>-0.383057</td>\n",
       "      <td>0.102696</td>\n",
       "      <td>-0.258343</td>\n",
       "      <td>0.122988</td>\n",
       "      <td>0.194355</td>\n",
       "      <td>20191007_FIRE_sm-s-mobo-c</td>\n",
       "    </tr>\n",
       "    <tr>\n",
       "      <th>2</th>\n",
       "      <td>20191007_FIRE_sm-s-mobo-c/1570473931_-02280</td>\n",
       "      <td>0</td>\n",
       "      <td>0.050000</td>\n",
       "      <td>valid</td>\n",
       "      <td>0</td>\n",
       "      <td>1570473931</td>\n",
       "      <td>2019-10-07 18:45:31+00:00</td>\n",
       "      <td>20191007_FIRE_sm-s-mobo-c</td>\n",
       "      <td>20191007_FIRE_sm-s-mobo-c/1570473931_-02280</td>\n",
       "      <td>0.905571</td>\n",
       "      <td>-0.748457</td>\n",
       "      <td>-0.2838</td>\n",
       "      <td>-0.341914</td>\n",
       "      <td>0.103772</td>\n",
       "      <td>-0.246086</td>\n",
       "      <td>0.139923</td>\n",
       "      <td>0.207381</td>\n",
       "      <td>20191007_FIRE_sm-s-mobo-c</td>\n",
       "    </tr>\n",
       "    <tr>\n",
       "      <th>3</th>\n",
       "      <td>20191007_FIRE_sm-s-mobo-c/1570473991_-02220</td>\n",
       "      <td>0</td>\n",
       "      <td>0.040000</td>\n",
       "      <td>valid</td>\n",
       "      <td>0</td>\n",
       "      <td>1570473991</td>\n",
       "      <td>2019-10-07 18:46:31+00:00</td>\n",
       "      <td>20191007_FIRE_sm-s-mobo-c</td>\n",
       "      <td>20191007_FIRE_sm-s-mobo-c/1570473991_-02220</td>\n",
       "      <td>0.911657</td>\n",
       "      <td>-0.744086</td>\n",
       "      <td>-0.2298</td>\n",
       "      <td>-0.300771</td>\n",
       "      <td>0.104848</td>\n",
       "      <td>-0.233829</td>\n",
       "      <td>0.156859</td>\n",
       "      <td>0.220408</td>\n",
       "      <td>20191007_FIRE_sm-s-mobo-c</td>\n",
       "    </tr>\n",
       "    <tr>\n",
       "      <th>4</th>\n",
       "      <td>20191007_FIRE_sm-s-mobo-c/1570474051_-02160</td>\n",
       "      <td>0</td>\n",
       "      <td>0.230000</td>\n",
       "      <td>valid</td>\n",
       "      <td>0</td>\n",
       "      <td>1570474051</td>\n",
       "      <td>2019-10-07 18:47:31+00:00</td>\n",
       "      <td>20191007_FIRE_sm-s-mobo-c</td>\n",
       "      <td>20191007_FIRE_sm-s-mobo-c/1570474051_-02160</td>\n",
       "      <td>0.917743</td>\n",
       "      <td>-0.739714</td>\n",
       "      <td>-0.1758</td>\n",
       "      <td>-0.259629</td>\n",
       "      <td>0.105924</td>\n",
       "      <td>-0.221571</td>\n",
       "      <td>0.173794</td>\n",
       "      <td>0.233435</td>\n",
       "      <td>20191007_FIRE_sm-s-mobo-c</td>\n",
       "    </tr>\n",
       "    <tr>\n",
       "      <th>...</th>\n",
       "      <td>...</td>\n",
       "      <td>...</td>\n",
       "      <td>...</td>\n",
       "      <td>...</td>\n",
       "      <td>...</td>\n",
       "      <td>...</td>\n",
       "      <td>...</td>\n",
       "      <td>...</td>\n",
       "      <td>...</td>\n",
       "      <td>...</td>\n",
       "      <td>...</td>\n",
       "      <td>...</td>\n",
       "      <td>...</td>\n",
       "      <td>...</td>\n",
       "      <td>...</td>\n",
       "      <td>...</td>\n",
       "      <td>...</td>\n",
       "      <td>...</td>\n",
       "    </tr>\n",
       "    <tr>\n",
       "      <th>9688</th>\n",
       "      <td>20210209_FIRE_hp-e-mobo-c/1612895127_+02160</td>\n",
       "      <td>1</td>\n",
       "      <td>0.999512</td>\n",
       "      <td>test</td>\n",
       "      <td>1</td>\n",
       "      <td>1612895127</td>\n",
       "      <td>2021-02-09 18:25:27+00:00</td>\n",
       "      <td>20210209_FIRE_hp-e-mobo-c</td>\n",
       "      <td>20210209_FIRE_hp-e-mobo-c/1612895127_+02160</td>\n",
       "      <td>-0.644700</td>\n",
       "      <td>0.280800</td>\n",
       "      <td>0.4266</td>\n",
       "      <td>0.242100</td>\n",
       "      <td>1.177603</td>\n",
       "      <td>0.180900</td>\n",
       "      <td>0.648204</td>\n",
       "      <td>-0.274039</td>\n",
       "      <td>20210209_FIRE_hp-e-mobo-c</td>\n",
       "    </tr>\n",
       "    <tr>\n",
       "      <th>9689</th>\n",
       "      <td>20210209_FIRE_hp-e-mobo-c/1612895187_+02220</td>\n",
       "      <td>1</td>\n",
       "      <td>0.999512</td>\n",
       "      <td>test</td>\n",
       "      <td>1</td>\n",
       "      <td>1612895187</td>\n",
       "      <td>2021-02-09 18:26:27+00:00</td>\n",
       "      <td>20210209_FIRE_hp-e-mobo-c</td>\n",
       "      <td>20210209_FIRE_hp-e-mobo-c/1612895187_+02220</td>\n",
       "      <td>-0.637440</td>\n",
       "      <td>0.275760</td>\n",
       "      <td>0.4332</td>\n",
       "      <td>0.238320</td>\n",
       "      <td>1.264287</td>\n",
       "      <td>0.181920</td>\n",
       "      <td>0.651422</td>\n",
       "      <td>-0.276253</td>\n",
       "      <td>20210209_FIRE_hp-e-mobo-c</td>\n",
       "    </tr>\n",
       "    <tr>\n",
       "      <th>9690</th>\n",
       "      <td>20210209_FIRE_hp-e-mobo-c/1612895247_+02280</td>\n",
       "      <td>1</td>\n",
       "      <td>0.999512</td>\n",
       "      <td>test</td>\n",
       "      <td>1</td>\n",
       "      <td>1612895247</td>\n",
       "      <td>2021-02-09 18:27:27+00:00</td>\n",
       "      <td>20210209_FIRE_hp-e-mobo-c</td>\n",
       "      <td>20210209_FIRE_hp-e-mobo-c/1612895247_+02280</td>\n",
       "      <td>-0.630180</td>\n",
       "      <td>0.270720</td>\n",
       "      <td>0.4398</td>\n",
       "      <td>0.234540</td>\n",
       "      <td>1.350971</td>\n",
       "      <td>0.182940</td>\n",
       "      <td>0.654641</td>\n",
       "      <td>-0.278467</td>\n",
       "      <td>20210209_FIRE_hp-e-mobo-c</td>\n",
       "    </tr>\n",
       "    <tr>\n",
       "      <th>9691</th>\n",
       "      <td>20210209_FIRE_hp-e-mobo-c/1612895307_+02340</td>\n",
       "      <td>1</td>\n",
       "      <td>0.999512</td>\n",
       "      <td>test</td>\n",
       "      <td>1</td>\n",
       "      <td>1612895307</td>\n",
       "      <td>2021-02-09 18:28:27+00:00</td>\n",
       "      <td>20210209_FIRE_hp-e-mobo-c</td>\n",
       "      <td>20210209_FIRE_hp-e-mobo-c/1612895307_+02340</td>\n",
       "      <td>-0.622920</td>\n",
       "      <td>0.265680</td>\n",
       "      <td>0.4464</td>\n",
       "      <td>0.230760</td>\n",
       "      <td>1.437655</td>\n",
       "      <td>0.183960</td>\n",
       "      <td>0.657859</td>\n",
       "      <td>-0.280681</td>\n",
       "      <td>20210209_FIRE_hp-e-mobo-c</td>\n",
       "    </tr>\n",
       "    <tr>\n",
       "      <th>9692</th>\n",
       "      <td>20210209_FIRE_hp-e-mobo-c/1612895367_+02400</td>\n",
       "      <td>1</td>\n",
       "      <td>0.999023</td>\n",
       "      <td>test</td>\n",
       "      <td>1</td>\n",
       "      <td>1612895367</td>\n",
       "      <td>2021-02-09 18:29:27+00:00</td>\n",
       "      <td>20210209_FIRE_hp-e-mobo-c</td>\n",
       "      <td>20210209_FIRE_hp-e-mobo-c/1612895367_+02400</td>\n",
       "      <td>-0.615660</td>\n",
       "      <td>0.260640</td>\n",
       "      <td>0.4530</td>\n",
       "      <td>0.226980</td>\n",
       "      <td>1.524339</td>\n",
       "      <td>0.184980</td>\n",
       "      <td>0.661078</td>\n",
       "      <td>-0.282895</td>\n",
       "      <td>20210209_FIRE_hp-e-mobo-c</td>\n",
       "    </tr>\n",
       "  </tbody>\n",
       "</table>\n",
       "<p>9693 rows × 18 columns</p>\n",
       "</div>"
      ],
      "text/plain": [
       "                                         filepath  image_pred  image_prob  \\\n",
       "0     20191007_FIRE_sm-s-mobo-c/1570473811_-02400           0    0.040000   \n",
       "1     20191007_FIRE_sm-s-mobo-c/1570473871_-02340           0    0.040000   \n",
       "2     20191007_FIRE_sm-s-mobo-c/1570473931_-02280           0    0.050000   \n",
       "3     20191007_FIRE_sm-s-mobo-c/1570473991_-02220           0    0.040000   \n",
       "4     20191007_FIRE_sm-s-mobo-c/1570474051_-02160           0    0.230000   \n",
       "...                                           ...         ...         ...   \n",
       "9688  20210209_FIRE_hp-e-mobo-c/1612895127_+02160           1    0.999512   \n",
       "9689  20210209_FIRE_hp-e-mobo-c/1612895187_+02220           1    0.999512   \n",
       "9690  20210209_FIRE_hp-e-mobo-c/1612895247_+02280           1    0.999512   \n",
       "9691  20210209_FIRE_hp-e-mobo-c/1612895307_+02340           1    0.999512   \n",
       "9692  20210209_FIRE_hp-e-mobo-c/1612895367_+02400           1    0.999023   \n",
       "\n",
       "       type  image_gt        time                  datetime  \\\n",
       "0     valid         0  1570473811 2019-10-07 18:43:31+00:00   \n",
       "1     valid         0  1570473871 2019-10-07 18:44:31+00:00   \n",
       "2     valid         0  1570473931 2019-10-07 18:45:31+00:00   \n",
       "3     valid         0  1570473991 2019-10-07 18:46:31+00:00   \n",
       "4     valid         0  1570474051 2019-10-07 18:47:31+00:00   \n",
       "...     ...       ...         ...                       ...   \n",
       "9688   test         1  1612895127 2021-02-09 18:25:27+00:00   \n",
       "9689   test         1  1612895187 2021-02-09 18:26:27+00:00   \n",
       "9690   test         1  1612895247 2021-02-09 18:27:27+00:00   \n",
       "9691   test         1  1612895307 2021-02-09 18:28:27+00:00   \n",
       "9692   test         1  1612895367 2021-02-09 18:29:27+00:00   \n",
       "\n",
       "                     event_name                                   image_name  \\\n",
       "0     20191007_FIRE_sm-s-mobo-c  20191007_FIRE_sm-s-mobo-c/1570473811_-02400   \n",
       "1     20191007_FIRE_sm-s-mobo-c  20191007_FIRE_sm-s-mobo-c/1570473871_-02340   \n",
       "2     20191007_FIRE_sm-s-mobo-c  20191007_FIRE_sm-s-mobo-c/1570473931_-02280   \n",
       "3     20191007_FIRE_sm-s-mobo-c  20191007_FIRE_sm-s-mobo-c/1570473991_-02220   \n",
       "4     20191007_FIRE_sm-s-mobo-c  20191007_FIRE_sm-s-mobo-c/1570474051_-02160   \n",
       "...                         ...                                          ...   \n",
       "9688  20210209_FIRE_hp-e-mobo-c  20210209_FIRE_hp-e-mobo-c/1612895127_+02160   \n",
       "9689  20210209_FIRE_hp-e-mobo-c  20210209_FIRE_hp-e-mobo-c/1612895187_+02220   \n",
       "9690  20210209_FIRE_hp-e-mobo-c  20210209_FIRE_hp-e-mobo-c/1612895247_+02280   \n",
       "9691  20210209_FIRE_hp-e-mobo-c  20210209_FIRE_hp-e-mobo-c/1612895307_+02340   \n",
       "9692  20210209_FIRE_hp-e-mobo-c  20210209_FIRE_hp-e-mobo-c/1612895367_+02400   \n",
       "\n",
       "      air_temp_set_1  relative_humidity_set_1  wind_speed_set_1  \\\n",
       "0           0.893400                -0.757200           -0.3918   \n",
       "1           0.899486                -0.752829           -0.3378   \n",
       "2           0.905571                -0.748457           -0.2838   \n",
       "3           0.911657                -0.744086           -0.2298   \n",
       "4           0.917743                -0.739714           -0.1758   \n",
       "...              ...                      ...               ...   \n",
       "9688       -0.644700                 0.280800            0.4266   \n",
       "9689       -0.637440                 0.275760            0.4332   \n",
       "9690       -0.630180                 0.270720            0.4398   \n",
       "9691       -0.622920                 0.265680            0.4464   \n",
       "9692       -0.615660                 0.260640            0.4530   \n",
       "\n",
       "      wind_gust_set_1  wind_direction_set_1  dew_point_temperature_set_1d  \\\n",
       "0           -0.424200              0.101620                     -0.270600   \n",
       "1           -0.383057              0.102696                     -0.258343   \n",
       "2           -0.341914              0.103772                     -0.246086   \n",
       "3           -0.300771              0.104848                     -0.233829   \n",
       "4           -0.259629              0.105924                     -0.221571   \n",
       "...               ...                   ...                           ...   \n",
       "9688         0.242100              1.177603                      0.180900   \n",
       "9689         0.238320              1.264287                      0.181920   \n",
       "9690         0.234540              1.350971                      0.182940   \n",
       "9691         0.230760              1.437655                      0.183960   \n",
       "9692         0.226980              1.524339                      0.184980   \n",
       "\n",
       "             u         v                  fire_name  \n",
       "0     0.106052  0.181328  20191007_FIRE_sm-s-mobo-c  \n",
       "1     0.122988  0.194355  20191007_FIRE_sm-s-mobo-c  \n",
       "2     0.139923  0.207381  20191007_FIRE_sm-s-mobo-c  \n",
       "3     0.156859  0.220408  20191007_FIRE_sm-s-mobo-c  \n",
       "4     0.173794  0.233435  20191007_FIRE_sm-s-mobo-c  \n",
       "...        ...       ...                        ...  \n",
       "9688  0.648204 -0.274039  20210209_FIRE_hp-e-mobo-c  \n",
       "9689  0.651422 -0.276253  20210209_FIRE_hp-e-mobo-c  \n",
       "9690  0.654641 -0.278467  20210209_FIRE_hp-e-mobo-c  \n",
       "9691  0.657859 -0.280681  20210209_FIRE_hp-e-mobo-c  \n",
       "9692  0.661078 -0.282895  20210209_FIRE_hp-e-mobo-c  \n",
       "\n",
       "[9693 rows x 18 columns]"
      ]
     },
     "execution_count": 80,
     "metadata": {},
     "output_type": "execute_result"
    }
   ],
   "source": [
    "work_df"
   ]
  },
  {
   "cell_type": "code",
   "execution_count": null,
   "id": "f08c0c7e",
   "metadata": {},
   "outputs": [],
   "source": []
  }
 ],
 "metadata": {
  "kernelspec": {
   "display_name": "Python 3.8.8 ('smokey_gpu')",
   "language": "python",
   "name": "python3"
  },
  "language_info": {
   "codemirror_mode": {
    "name": "ipython",
    "version": 3
   },
   "file_extension": ".py",
   "mimetype": "text/x-python",
   "name": "python",
   "nbconvert_exporter": "python",
   "pygments_lexer": "ipython3",
   "version": "3.8.8"
  },
  "vscode": {
   "interpreter": {
    "hash": "d07f9fb20341f4a563fd750781cc541022ce28d03ce04a073d864a548cee3322"
   }
  }
 },
 "nbformat": 4,
 "nbformat_minor": 5
}
