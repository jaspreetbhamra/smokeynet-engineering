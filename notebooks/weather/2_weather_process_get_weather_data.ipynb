{
 "cells": [
  {
   "cell_type": "markdown",
   "id": "73d00a2c-4e3e-409d-9c74-8f2b5a7a0650",
   "metadata": {},
   "source": [
    "# Step 2 - Weather Data Process - Get Weather Station Data for Mapped Weather Stations"
   ]
  },
  {
   "cell_type": "markdown",
   "id": "37554061-1f85-4d4f-aaee-e80d0aa3409c",
   "metadata": {},
   "source": [
    "<b>Summary:</b><br>\n",
    "Uses Synoptic Weather Data API to grab weather station data for the mapped weather stations to cameras.<br>\n",
    "Synoptic is partner of SDG&E, helping store and serve their weather station data--accessible via API.\n",
    "\n",
    "- Read in processed camera weather station mappings\n",
    "- Get all station data for input timerange\n",
    "- Save weater station data by network\n",
    "\n",
    "<b>Output:</b><br>\n",
    ".<br>\n",
    "├── data<br>\n",
    "&emsp;&emsp;&emsp;└── raw<br>\n",
    "&emsp;&emsp;&emsp;&emsp;&emsp;&emsp;├── weather_HPWREN.csv<br>\n",
    "&emsp;&emsp;&emsp;&emsp;&emsp;&emsp;├── weather_SC-EDISON.csv<br>\n",
    "&emsp;&emsp;&emsp;&emsp;&emsp;&emsp;└── weather_SDGE.csv\n",
    "\n",
    "<b>Instructions:</b><br>\n",
    "- Create a copy of `config.json.example` and remove the `.example`\n",
    "- Update the `synoptic_api_token` value"
   ]
  },
  {
   "cell_type": "code",
   "execution_count": 1,
   "id": "cc535e7e-1921-4829-aee5-c048bdd5ecc7",
   "metadata": {},
   "outputs": [],
   "source": [
    "import json\n",
    "import os\n",
    "from ast import literal_eval\n",
    "from io import StringIO\n",
    "\n",
    "import fastparquet\n",
    "import geopandas\n",
    "import matplotlib.pyplot as plt\n",
    "import pandas as pd\n",
    "import requests\n",
    "import rtree\n",
    "from geopandas import GeoDataFrame\n",
    "from shapely.geometry import Point, Polygon\n",
    "from tqdm.notebook import tqdm, trange"
   ]
  },
  {
   "cell_type": "markdown",
   "id": "56c341ad-7196-46d6-91ae-11f32565325a",
   "metadata": {},
   "source": [
    "## Parameters"
   ]
  },
  {
   "cell_type": "code",
   "execution_count": 2,
   "id": "e446b1dc-0bca-495b-9f69-e6532de01e6f",
   "metadata": {},
   "outputs": [],
   "source": [
    "# Base url and API token\n",
    "with open(\"config.json\") as config_file:\n",
    "    cfg = json.load(config_file)\n",
    "\n",
    "API_BASE_URL = \"https://api.synopticdata.com/v2/\"\n",
    "API_TOKEN = cfg[\"synoptic_api_token\"]\n",
    "\n",
    "# should be SHORTNAME values from mesonet - should align to notebook 1\n",
    "WEATHER_NETWORKS = {139: \"SDGE\", 81: \"HPWREN\", 231: \"SC-EDISON\"}\n",
    "\n",
    "# figlib start = 2016-06-04 (assume PST)\n",
    "# figlib end = 2021-07-11 (assume PST)\n",
    "# YYYYmmddHHMM (format needed for api)\n",
    "START_DATETIME = \"201606030000\"\n",
    "END_DATETIME = \"202107120000\"\n",
    "# END_DATETIME = \"202112311159\""
   ]
  },
  {
   "cell_type": "markdown",
   "id": "777831a7-57fd-4eb1-b221-f3bf65dd5aeb",
   "metadata": {},
   "source": [
    "## 1. Get data for matched weather stations"
   ]
  },
  {
   "cell_type": "markdown",
   "id": "c5231f1e-12de-43de-b26c-c5b84f635ca3",
   "metadata": {},
   "source": [
    "### Read weather station mappings"
   ]
  },
  {
   "cell_type": "code",
   "execution_count": 29,
   "id": "87fcc292-fa85-43a2-b7d6-00676f585c4b",
   "metadata": {},
   "outputs": [
    {
     "name": "stdout",
     "output_type": "stream",
     "text": [
      "(309, 7)\n"
     ]
    }
   ],
   "source": [
    "station_mappings_df = pd.read_csv(\"../../data/processed/camera_station_mappings.csv\")\n",
    "print(station_mappings_df.shape)"
   ]
  },
  {
   "cell_type": "code",
   "execution_count": 30,
   "id": "c80807c6-4ced-4caa-b2c1-acd910b92b7b",
   "metadata": {},
   "outputs": [
    {
     "data": {
      "text/html": [
       "<div>\n",
       "<style scoped>\n",
       "    .dataframe tbody tr th:only-of-type {\n",
       "        vertical-align: middle;\n",
       "    }\n",
       "\n",
       "    .dataframe tbody tr th {\n",
       "        vertical-align: top;\n",
       "    }\n",
       "\n",
       "    .dataframe thead th {\n",
       "        text-align: right;\n",
       "    }\n",
       "</style>\n",
       "<table border=\"1\" class=\"dataframe\">\n",
       "  <thead>\n",
       "    <tr style=\"text-align: right;\">\n",
       "      <th></th>\n",
       "      <th>properties.description.id</th>\n",
       "      <th>stid</th>\n",
       "      <th>shortname</th>\n",
       "      <th>distance_m</th>\n",
       "      <th>distance_mi</th>\n",
       "      <th>is_in_direction</th>\n",
       "      <th>rn</th>\n",
       "    </tr>\n",
       "  </thead>\n",
       "  <tbody>\n",
       "    <tr>\n",
       "      <th>0</th>\n",
       "      <td>hpwren0_unknown direction</td>\n",
       "      <td>BFDSD</td>\n",
       "      <td>SDGE</td>\n",
       "      <td>2362.963219</td>\n",
       "      <td>1.468277</td>\n",
       "      <td>NaN</td>\n",
       "      <td>1</td>\n",
       "    </tr>\n",
       "    <tr>\n",
       "      <th>1</th>\n",
       "      <td>hpwren0_unknown direction</td>\n",
       "      <td>CVXSD</td>\n",
       "      <td>SDGE</td>\n",
       "      <td>8161.908209</td>\n",
       "      <td>5.071575</td>\n",
       "      <td>NaN</td>\n",
       "      <td>2</td>\n",
       "    </tr>\n",
       "    <tr>\n",
       "      <th>2</th>\n",
       "      <td>hpwren0_unknown direction</td>\n",
       "      <td>DJZSD</td>\n",
       "      <td>SDGE</td>\n",
       "      <td>10216.081526</td>\n",
       "      <td>6.347979</td>\n",
       "      <td>NaN</td>\n",
       "      <td>3</td>\n",
       "    </tr>\n",
       "    <tr>\n",
       "      <th>3</th>\n",
       "      <td>hpwren1_north</td>\n",
       "      <td>HP016</td>\n",
       "      <td>HPWREN</td>\n",
       "      <td>0.000000</td>\n",
       "      <td>0.000000</td>\n",
       "      <td>True</td>\n",
       "      <td>1</td>\n",
       "    </tr>\n",
       "    <tr>\n",
       "      <th>4</th>\n",
       "      <td>hpwren1_north</td>\n",
       "      <td>MGDSD</td>\n",
       "      <td>SDGE</td>\n",
       "      <td>4637.139293</td>\n",
       "      <td>2.881385</td>\n",
       "      <td>True</td>\n",
       "      <td>2</td>\n",
       "    </tr>\n",
       "    <tr>\n",
       "      <th>...</th>\n",
       "      <td>...</td>\n",
       "      <td>...</td>\n",
       "      <td>...</td>\n",
       "      <td>...</td>\n",
       "      <td>...</td>\n",
       "      <td>...</td>\n",
       "      <td>...</td>\n",
       "    </tr>\n",
       "    <tr>\n",
       "      <th>304</th>\n",
       "      <td>hpwren30_south</td>\n",
       "      <td>TLGSD</td>\n",
       "      <td>SDGE</td>\n",
       "      <td>4521.722898</td>\n",
       "      <td>2.809668</td>\n",
       "      <td>True</td>\n",
       "      <td>2</td>\n",
       "    </tr>\n",
       "    <tr>\n",
       "      <th>305</th>\n",
       "      <td>hpwren30_south</td>\n",
       "      <td>CRISD</td>\n",
       "      <td>SDGE</td>\n",
       "      <td>8167.055431</td>\n",
       "      <td>5.074773</td>\n",
       "      <td>True</td>\n",
       "      <td>3</td>\n",
       "    </tr>\n",
       "    <tr>\n",
       "      <th>306</th>\n",
       "      <td>hpwren30_west</td>\n",
       "      <td>HP024</td>\n",
       "      <td>HPWREN</td>\n",
       "      <td>0.000000</td>\n",
       "      <td>0.000000</td>\n",
       "      <td>True</td>\n",
       "      <td>1</td>\n",
       "    </tr>\n",
       "    <tr>\n",
       "      <th>307</th>\n",
       "      <td>hpwren30_west</td>\n",
       "      <td>TLGSD</td>\n",
       "      <td>SDGE</td>\n",
       "      <td>4521.722898</td>\n",
       "      <td>2.809668</td>\n",
       "      <td>True</td>\n",
       "      <td>2</td>\n",
       "    </tr>\n",
       "    <tr>\n",
       "      <th>308</th>\n",
       "      <td>hpwren30_west</td>\n",
       "      <td>ORTSD</td>\n",
       "      <td>SDGE</td>\n",
       "      <td>6373.242626</td>\n",
       "      <td>3.960149</td>\n",
       "      <td>True</td>\n",
       "      <td>3</td>\n",
       "    </tr>\n",
       "  </tbody>\n",
       "</table>\n",
       "<p>309 rows × 7 columns</p>\n",
       "</div>"
      ],
      "text/plain": [
       "     properties.description.id   stid shortname    distance_m  distance_mi  \\\n",
       "0    hpwren0_unknown direction  BFDSD      SDGE   2362.963219     1.468277   \n",
       "1    hpwren0_unknown direction  CVXSD      SDGE   8161.908209     5.071575   \n",
       "2    hpwren0_unknown direction  DJZSD      SDGE  10216.081526     6.347979   \n",
       "3                hpwren1_north  HP016    HPWREN      0.000000     0.000000   \n",
       "4                hpwren1_north  MGDSD      SDGE   4637.139293     2.881385   \n",
       "..                         ...    ...       ...           ...          ...   \n",
       "304             hpwren30_south  TLGSD      SDGE   4521.722898     2.809668   \n",
       "305             hpwren30_south  CRISD      SDGE   8167.055431     5.074773   \n",
       "306              hpwren30_west  HP024    HPWREN      0.000000     0.000000   \n",
       "307              hpwren30_west  TLGSD      SDGE   4521.722898     2.809668   \n",
       "308              hpwren30_west  ORTSD      SDGE   6373.242626     3.960149   \n",
       "\n",
       "    is_in_direction  rn  \n",
       "0               NaN   1  \n",
       "1               NaN   2  \n",
       "2               NaN   3  \n",
       "3              True   1  \n",
       "4              True   2  \n",
       "..              ...  ..  \n",
       "304            True   2  \n",
       "305            True   3  \n",
       "306            True   1  \n",
       "307            True   2  \n",
       "308            True   3  \n",
       "\n",
       "[309 rows x 7 columns]"
      ]
     },
     "execution_count": 30,
     "metadata": {},
     "output_type": "execute_result"
    }
   ],
   "source": [
    "station_mappings_df"
   ]
  },
  {
   "cell_type": "markdown",
   "id": "eda6d509-e7ee-4d71-b5cd-00fd407d9570",
   "metadata": {},
   "source": [
    "### Helper function to get weather station data given stid and start/end time"
   ]
  },
  {
   "cell_type": "code",
   "execution_count": 31,
   "id": "a7dcb6c7-0f90-473a-b71c-76a598e3e8ab",
   "metadata": {},
   "outputs": [],
   "source": [
    "def get_historical_station_readings(stid: str, start: str, end: str) -> str:\n",
    "    \"\"\"\n",
    "    Return csv string of station readings given station id(s) and timeframe.\n",
    "    Start and end format = YYYYmmddHHMM.\n",
    "\n",
    "    Note:\n",
    "    For multiple stids, would need to remove output csv, but would be in json format.\n",
    "    \"\"\"\n",
    "    # All times are requested in UTC, but may be returned in either UTC or Local time\n",
    "    endpoint = f\"{API_BASE_URL}stations/timeseries\"\n",
    "    params = {\n",
    "        \"token\": API_TOKEN,\n",
    "        \"stid\": stid,\n",
    "        \"start\": start,\n",
    "        \"end\": end,\n",
    "        \"obtimezone\": \"UTC\",\n",
    "        \"output\": \"csv\",\n",
    "    }\n",
    "    r = requests.get(endpoint, params=params)\n",
    "    if r.status_code not in range(200, 299):\n",
    "        # TODO: add error handling\n",
    "        print(\"Error!\")\n",
    "        return {}\n",
    "    # return r.json()\n",
    "    return r.text"
   ]
  },
  {
   "cell_type": "markdown",
   "id": "c00eb584-5585-4234-aa43-588cbb643d6d",
   "metadata": {},
   "source": [
    "### Get all data for time range given station network shortname"
   ]
  },
  {
   "cell_type": "code",
   "execution_count": 33,
   "id": "08ad77af-2d57-486c-9d68-015dcbf23a0f",
   "metadata": {},
   "outputs": [],
   "source": [
    "def get_network_station_data(df: pd.DataFrame, shortname: str) -> pd.DataFrame:\n",
    "    df = df[df[\"shortname\"] == shortname]\n",
    "    stations = df[\"stid\"].dropna().unique().tolist()\n",
    "\n",
    "    weather_df_created = 0\n",
    "\n",
    "    for idx, station in enumerate(tqdm(stations)):\n",
    "        # print(station)\n",
    "        # get csv string\n",
    "        csv_string_io = StringIO(\n",
    "            get_historical_station_readings(\n",
    "                stid=station,\n",
    "                start=START_DATETIME,\n",
    "                end=END_DATETIME\n",
    "                # start=\"201606030000\",\n",
    "                # end=\"201606030100\",\n",
    "            )\n",
    "        )\n",
    "        # initial creation of df\n",
    "        if not weather_df_created:\n",
    "            weather_df = pd.read_csv(csv_string_io, skiprows=6, header=[0, 1])\n",
    "            weather_df_created = 1\n",
    "        # additional appends to df\n",
    "        else:\n",
    "            temp_df = pd.read_csv(csv_string_io, skiprows=6, header=[0, 1])\n",
    "            weather_df = pd.concat([weather_df, temp_df])\n",
    "\n",
    "    return weather_df"
   ]
  },
  {
   "cell_type": "code",
   "execution_count": 34,
   "id": "bd92c877-dcb8-4165-bc25-871b31cd5d2d",
   "metadata": {},
   "outputs": [
    {
     "data": {
      "application/vnd.jupyter.widget-view+json": {
       "model_id": "ae74f6bc9a234ff2a01b7a48877feb79",
       "version_major": 2,
       "version_minor": 0
      },
      "text/plain": [
       "  0%|          | 0/87 [00:00<?, ?it/s]"
      ]
     },
     "metadata": {},
     "output_type": "display_data"
    },
    {
     "data": {
      "application/vnd.jupyter.widget-view+json": {
       "model_id": "28d66f93bff14229ad99d18a165cb2b8",
       "version_major": 2,
       "version_minor": 0
      },
      "text/plain": [
       "  0%|          | 0/15 [00:00<?, ?it/s]"
      ]
     },
     "metadata": {},
     "output_type": "display_data"
    },
    {
     "data": {
      "application/vnd.jupyter.widget-view+json": {
       "model_id": "d5ea7b0d007e45758767e2827e9634ad",
       "version_major": 2,
       "version_minor": 0
      },
      "text/plain": [
       "  0%|          | 0/40 [00:00<?, ?it/s]"
      ]
     },
     "metadata": {},
     "output_type": "display_data"
    }
   ],
   "source": [
    "for key in WEATHER_NETWORKS:\n",
    "    # if key == 139:\n",
    "    #     continue\n",
    "    # print(WEATHER_NETWORKS[key])\n",
    "    network_station_df = get_network_station_data(\n",
    "        station_mappings_df, WEATHER_NETWORKS[key]\n",
    "    )\n",
    "    network_station_df.to_csv(\n",
    "        f\"../../data/raw/weather_{WEATHER_NETWORKS[key]}.csv\", index=False\n",
    "    )\n",
    "    # break"
   ]
  },
  {
   "cell_type": "code",
   "execution_count": 35,
   "id": "d6afbe54-f17b-4099-a13a-c44fba379f37",
   "metadata": {},
   "outputs": [],
   "source": [
    "# %%time\n",
    "\n",
    "# weather_df_created = 0\n",
    "\n",
    "# for idx, station in enumerate(tqdm(stations)):\n",
    "#     # print(station)\n",
    "#     # get csv string\n",
    "#     csv_string_io = StringIO(\n",
    "#         get_historical_station_readings(\n",
    "#             stid=station,\n",
    "#             start=START_DATETIME,\n",
    "#             end=END_DATETIME\n",
    "#             # start=\"201606030000\",\n",
    "#             # end=\"201606030100\",\n",
    "#         )\n",
    "#     )\n",
    "#     # initial creation of df\n",
    "#     if not weather_df_created:\n",
    "#         weather_df = pd.read_csv(csv_string_io, skiprows=6, header=[0, 1])\n",
    "#         weather_df_created = 1\n",
    "#     # additional appends to df\n",
    "#     else:\n",
    "#         temp_df = pd.read_csv(csv_string_io, skiprows=6, header=[0, 1])\n",
    "#         weather_df = pd.concat([weather_df, temp_df])\n",
    "\n",
    "# # prev runtime: 1h 6min 56s"
   ]
  },
  {
   "cell_type": "code",
   "execution_count": 36,
   "id": "7bea434f-cd48-4fcf-beb5-4740f557bdfd",
   "metadata": {},
   "outputs": [],
   "source": [
    "# weather_df.shape"
   ]
  },
  {
   "cell_type": "code",
   "execution_count": 37,
   "id": "0d492401-0d7e-4a86-8977-7c9ccc03f194",
   "metadata": {},
   "outputs": [],
   "source": [
    "# weather_df.to_csv(\"../../data/raw/weather.csv\", index=False)"
   ]
  },
  {
   "cell_type": "code",
   "execution_count": null,
   "id": "be79f115-e79c-4966-8ae9-dd041cf11ca0",
   "metadata": {},
   "outputs": [],
   "source": []
  },
  {
   "cell_type": "code",
   "execution_count": null,
   "id": "4f09ec45-e6cf-4c30-b749-39497760b89c",
   "metadata": {},
   "outputs": [],
   "source": []
  },
  {
   "cell_type": "code",
   "execution_count": null,
   "id": "17f58880-ee69-443e-8c28-9b8beeba6bbe",
   "metadata": {},
   "outputs": [],
   "source": []
  },
  {
   "cell_type": "code",
   "execution_count": null,
   "id": "d4c9ae76-7ca8-4b62-b283-a37189f8547e",
   "metadata": {},
   "outputs": [],
   "source": []
  }
 ],
 "metadata": {
  "kernelspec": {
   "display_name": "Python 3 (ipykernel)",
   "language": "python",
   "name": "python3"
  },
  "language_info": {
   "codemirror_mode": {
    "name": "ipython",
    "version": 3
   },
   "file_extension": ".py",
   "mimetype": "text/x-python",
   "name": "python",
   "nbconvert_exporter": "python",
   "pygments_lexer": "ipython3",
   "version": "3.8.9"
  }
 },
 "nbformat": 4,
 "nbformat_minor": 5
}
