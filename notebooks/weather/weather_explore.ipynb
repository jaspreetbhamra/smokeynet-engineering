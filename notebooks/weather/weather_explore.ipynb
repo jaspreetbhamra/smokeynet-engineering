{
 "cells": [
  {
   "cell_type": "markdown",
   "id": "39a8b0b7-1d34-4572-aaa7-b3e0f8fbffa7",
   "metadata": {},
   "source": [
    "# Exploratory: Check column null percentage"
   ]
  },
  {
   "cell_type": "markdown",
   "id": "56b85317-85c8-492c-94aa-20975391835a",
   "metadata": {},
   "source": [
    "Summary: <br>\n",
    "This notebook is used to explore the SDG&E weather station data that was extracted via Synopic API.\n",
    "\n",
    "Open Questions: <br>"
   ]
  },
  {
   "cell_type": "code",
   "execution_count": 1,
   "id": "d5d8bbe0-b842-4580-b0fe-1482f5559619",
   "metadata": {},
   "outputs": [],
   "source": [
    "import pandas as pd"
   ]
  },
  {
   "cell_type": "markdown",
   "id": "3197a2d9-05c5-43a9-891f-2ac6073cac4f",
   "metadata": {},
   "source": [
    "### Read in data"
   ]
  },
  {
   "cell_type": "code",
   "execution_count": 2,
   "id": "4257059b-4210-4592-bcd6-83abc256ee9c",
   "metadata": {},
   "outputs": [
    {
     "name": "stdout",
     "output_type": "stream",
     "text": [
      "CPU times: user 54.2 s, sys: 13.7 s, total: 1min 7s\n",
      "Wall time: 1min 8s\n"
     ]
    }
   ],
   "source": [
    "%%time\n",
    "weather_df = pd.read_csv(\"../../data/raw/weather_sdge.csv\", header=[0, 1])"
   ]
  },
  {
   "cell_type": "markdown",
   "id": "75e866ce-1970-4eb9-acba-1d567b673cc3",
   "metadata": {},
   "source": [
    "### Calculate attribute null percentage"
   ]
  },
  {
   "cell_type": "code",
   "execution_count": 3,
   "id": "7694c71b-fce3-4364-b47e-ed6349519815",
   "metadata": {},
   "outputs": [
    {
     "data": {
      "text/plain": [
       "(45797111, 23)"
      ]
     },
     "execution_count": 3,
     "metadata": {},
     "output_type": "execute_result"
    }
   ],
   "source": [
    "rows = weather_df.shape[0]\n",
    "weather_df.shape"
   ]
  },
  {
   "cell_type": "code",
   "execution_count": 4,
   "id": "015a0885-b7aa-44d6-9ce1-11fc968c9a08",
   "metadata": {},
   "outputs": [
    {
     "name": "stdout",
     "output_type": "stream",
     "text": [
      "CPU times: user 14.9 s, sys: 557 ms, total: 15.5 s\n",
      "Wall time: 15.5 s\n"
     ]
    },
    {
     "data": {
      "text/html": [
       "<div>\n",
       "<style scoped>\n",
       "    .dataframe tbody tr th:only-of-type {\n",
       "        vertical-align: middle;\n",
       "    }\n",
       "\n",
       "    .dataframe tbody tr th {\n",
       "        vertical-align: top;\n",
       "    }\n",
       "\n",
       "    .dataframe thead th {\n",
       "        text-align: right;\n",
       "    }\n",
       "</style>\n",
       "<table border=\"1\" class=\"dataframe\">\n",
       "  <thead>\n",
       "    <tr style=\"text-align: right;\">\n",
       "      <th></th>\n",
       "      <th></th>\n",
       "      <th>null_percentage</th>\n",
       "    </tr>\n",
       "  </thead>\n",
       "  <tbody>\n",
       "    <tr>\n",
       "      <th>Station_ID</th>\n",
       "      <th>Unnamed: 0_level_1</th>\n",
       "      <td>0.000000</td>\n",
       "    </tr>\n",
       "    <tr>\n",
       "      <th>Date_Time</th>\n",
       "      <th>Unnamed: 1_level_1</th>\n",
       "      <td>0.000000</td>\n",
       "    </tr>\n",
       "    <tr>\n",
       "      <th>air_temp_set_1</th>\n",
       "      <th>Celsius</th>\n",
       "      <td>0.318103</td>\n",
       "    </tr>\n",
       "    <tr>\n",
       "      <th>relative_humidity_set_1</th>\n",
       "      <th>%</th>\n",
       "      <td>0.280882</td>\n",
       "    </tr>\n",
       "    <tr>\n",
       "      <th>wind_speed_set_1</th>\n",
       "      <th>m/s</th>\n",
       "      <td>0.029757</td>\n",
       "    </tr>\n",
       "    <tr>\n",
       "      <th>wind_direction_set_1</th>\n",
       "      <th>Degrees</th>\n",
       "      <td>4.179626</td>\n",
       "    </tr>\n",
       "    <tr>\n",
       "      <th>wind_gust_set_1</th>\n",
       "      <th>m/s</th>\n",
       "      <td>0.024185</td>\n",
       "    </tr>\n",
       "    <tr>\n",
       "      <th>volt_set_1</th>\n",
       "      <th>volts</th>\n",
       "      <td>63.005819</td>\n",
       "    </tr>\n",
       "    <tr>\n",
       "      <th>solar_radiation_set_1</th>\n",
       "      <th>W/m**2</th>\n",
       "      <td>98.297144</td>\n",
       "    </tr>\n",
       "    <tr>\n",
       "      <th>dew_point_temperature_set_1d</th>\n",
       "      <th>Celsius</th>\n",
       "      <td>0.322815</td>\n",
       "    </tr>\n",
       "    <tr>\n",
       "      <th>wind_chill_set_1d</th>\n",
       "      <th>Celsius</th>\n",
       "      <td>98.413854</td>\n",
       "    </tr>\n",
       "    <tr>\n",
       "      <th>wind_cardinal_direction_set_1d</th>\n",
       "      <th>code</th>\n",
       "      <td>4.179626</td>\n",
       "    </tr>\n",
       "    <tr>\n",
       "      <th>heat_index_set_1d</th>\n",
       "      <th>Celsius</th>\n",
       "      <td>89.413195</td>\n",
       "    </tr>\n",
       "    <tr>\n",
       "      <th>altimeter_set_1</th>\n",
       "      <th>Pascals</th>\n",
       "      <td>100.000000</td>\n",
       "    </tr>\n",
       "    <tr>\n",
       "      <th>pressure_set_1</th>\n",
       "      <th>Pascals</th>\n",
       "      <td>100.000000</td>\n",
       "    </tr>\n",
       "    <tr>\n",
       "      <th>pressure_set_1d</th>\n",
       "      <th>Pascals</th>\n",
       "      <td>100.000000</td>\n",
       "    </tr>\n",
       "    <tr>\n",
       "      <th rowspan=\"2\" valign=\"top\">sea_level_pressure_set_1d</th>\n",
       "      <th>Pascals</th>\n",
       "      <td>100.000000</td>\n",
       "    </tr>\n",
       "    <tr>\n",
       "      <th>Pascals.1</th>\n",
       "      <td>100.000000</td>\n",
       "    </tr>\n",
       "    <tr>\n",
       "      <th>wet_bulb_temperature_set_1d</th>\n",
       "      <th>Celsius</th>\n",
       "      <td>100.000000</td>\n",
       "    </tr>\n",
       "    <tr>\n",
       "      <th>altimeter_set_1d</th>\n",
       "      <th>Pascals</th>\n",
       "      <td>100.000000</td>\n",
       "    </tr>\n",
       "    <tr>\n",
       "      <th>precip_accum_ten_minute_set_1</th>\n",
       "      <th>Millimeters</th>\n",
       "      <td>100.000000</td>\n",
       "    </tr>\n",
       "    <tr>\n",
       "      <th>fuel_temp_set_1</th>\n",
       "      <th>Celsius</th>\n",
       "      <td>100.000000</td>\n",
       "    </tr>\n",
       "    <tr>\n",
       "      <th>precip_accum_one_hour_set_1</th>\n",
       "      <th>Millimeters</th>\n",
       "      <td>100.000000</td>\n",
       "    </tr>\n",
       "  </tbody>\n",
       "</table>\n",
       "</div>"
      ],
      "text/plain": [
       "                                                   null_percentage\n",
       "Station_ID                     Unnamed: 0_level_1         0.000000\n",
       "Date_Time                      Unnamed: 1_level_1         0.000000\n",
       "air_temp_set_1                 Celsius                    0.318103\n",
       "relative_humidity_set_1        %                          0.280882\n",
       "wind_speed_set_1               m/s                        0.029757\n",
       "wind_direction_set_1           Degrees                    4.179626\n",
       "wind_gust_set_1                m/s                        0.024185\n",
       "volt_set_1                     volts                     63.005819\n",
       "solar_radiation_set_1          W/m**2                    98.297144\n",
       "dew_point_temperature_set_1d   Celsius                    0.322815\n",
       "wind_chill_set_1d              Celsius                   98.413854\n",
       "wind_cardinal_direction_set_1d code                       4.179626\n",
       "heat_index_set_1d              Celsius                   89.413195\n",
       "altimeter_set_1                Pascals                  100.000000\n",
       "pressure_set_1                 Pascals                  100.000000\n",
       "pressure_set_1d                Pascals                  100.000000\n",
       "sea_level_pressure_set_1d      Pascals                  100.000000\n",
       "                               Pascals.1                100.000000\n",
       "wet_bulb_temperature_set_1d    Celsius                  100.000000\n",
       "altimeter_set_1d               Pascals                  100.000000\n",
       "precip_accum_ten_minute_set_1  Millimeters              100.000000\n",
       "fuel_temp_set_1                Celsius                  100.000000\n",
       "precip_accum_one_hour_set_1    Millimeters              100.000000"
      ]
     },
     "execution_count": 4,
     "metadata": {},
     "output_type": "execute_result"
    }
   ],
   "source": [
    "%%time\n",
    "pd.DataFrame(weather_df.isna().sum() / rows * 100, columns=[\"null_percentage\"])"
   ]
  },
  {
   "cell_type": "code",
   "execution_count": null,
   "id": "f6cb89ca-f83f-4f4b-b893-ec6b2b9970fb",
   "metadata": {},
   "outputs": [],
   "source": []
  }
 ],
 "metadata": {
  "kernelspec": {
   "display_name": "Python 3 (ipykernel)",
   "language": "python",
   "name": "python3"
  },
  "language_info": {
   "codemirror_mode": {
    "name": "ipython",
    "version": 3
   },
   "file_extension": ".py",
   "mimetype": "text/x-python",
   "name": "python",
   "nbconvert_exporter": "python",
   "pygments_lexer": "ipython3",
   "version": "3.8.9"
  }
 },
 "nbformat": 4,
 "nbformat_minor": 5
}
